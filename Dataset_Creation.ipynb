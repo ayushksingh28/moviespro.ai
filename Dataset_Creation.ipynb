{
  "nbformat": 4,
  "nbformat_minor": 0,
  "metadata": {
    "colab": {
      "provenance": []
    },
    "kernelspec": {
      "name": "python3",
      "display_name": "Python 3"
    },
    "language_info": {
      "name": "python"
    }
  },
  "cells": [
    {
      "cell_type": "code",
      "execution_count": null,
      "metadata": {
        "colab": {
          "base_uri": "https://localhost:8080/"
        },
        "id": "I5qNnwtz2bQE",
        "outputId": "fe4a2dd1-5275-476a-ade5-276364d0d7d0"
      },
      "outputs": [
        {
          "output_type": "stream",
          "name": "stdout",
          "text": [
            "https://en.wikipedia.org/wiki/List_of_American_films_of_2005\n",
            "https://en.wikipedia.org/wiki/List_of_American_films_of_2006\n",
            "https://en.wikipedia.org/wiki/List_of_American_films_of_2007\n",
            "https://en.wikipedia.org/wiki/List_of_American_films_of_2008\n",
            "https://en.wikipedia.org/wiki/List_of_American_films_of_2009\n",
            "https://en.wikipedia.org/wiki/List_of_American_films_of_2010\n",
            "https://en.wikipedia.org/wiki/List_of_American_films_of_2011\n",
            "https://en.wikipedia.org/wiki/List_of_American_films_of_2012\n",
            "https://en.wikipedia.org/wiki/List_of_American_films_of_2013\n",
            "https://en.wikipedia.org/wiki/List_of_American_films_of_2014\n",
            "https://en.wikipedia.org/wiki/List_of_American_films_of_2015\n",
            "https://en.wikipedia.org/wiki/List_of_American_films_of_2016\n",
            "https://en.wikipedia.org/wiki/List_of_American_films_of_2017\n",
            "https://en.wikipedia.org/wiki/List_of_American_films_of_2018\n",
            "https://en.wikipedia.org/wiki/List_of_American_films_of_2019\n",
            "https://en.wikipedia.org/wiki/List_of_American_films_of_2020\n",
            "https://en.wikipedia.org/wiki/List_of_American_films_of_2021\n"
          ]
        }
      ],
      "source": [
        "american_movie_link_base = \"https://en.wikipedia.org/wiki/List_of_American_films_of_\"\n",
        "movie_page_links = []\n",
        "\n",
        "for i in range(2005, 2022):\n",
        "    url = american_movie_link_base + str(i)\n",
        "    movie_page_links.append(url)\n",
        "    print(url)"
      ]
    },
    {
      "cell_type": "code",
      "source": [
        "import requests\n",
        "import urllib.request\n",
        "import time\n",
        "import re\n",
        "from urllib.request import urlopen\n",
        "from bs4 import BeautifulSoup\n",
        "import numpy as np\n",
        "import pandas as pd"
      ],
      "metadata": {
        "id": "CmbI5kZ03F95"
      },
      "execution_count": null,
      "outputs": []
    },
    {
      "cell_type": "code",
      "source": [
        "url = \"https://en.wikipedia.org/wiki/List_of_American_films_of_2021\"\n",
        "html = urlopen(url)\n",
        "soup = BeautifulSoup(html, \"lxml\")\n",
        "\n",
        "h1_tags = soup.find_all('h1')\n",
        "print('h1 tags')\n",
        "\n",
        "for h1_tag in h1_tags:\n",
        "  print(h1_tag)\n",
        "  print(h1_tag.text)\n"
      ],
      "metadata": {
        "colab": {
          "base_uri": "https://localhost:8080/"
        },
        "id": "pZuH476i49Qm",
        "outputId": "5638043d-d431-4c51-8c53-59874cacce7c"
      },
      "execution_count": null,
      "outputs": [
        {
          "output_type": "stream",
          "name": "stdout",
          "text": [
            "h1 tags\n",
            "<h1 class=\"firstHeading mw-first-heading\" id=\"firstHeading\"><span class=\"mw-page-title-main\">List of American films of 2021</span></h1>\n",
            "List of American films of 2021\n"
          ]
        }
      ]
    },
    {
      "cell_type": "code",
      "source": [
        "h2_tags  = soup.find_all('h2')\n",
        "print('h2_tags')\n",
        "for h2_tag in h2_tags:\n",
        "  print(h2_tag.text)"
      ],
      "metadata": {
        "colab": {
          "base_uri": "https://localhost:8080/"
        },
        "id": "V1sQ1Fac7ogt",
        "outputId": "62cc8305-f973-4a93-ac5c-99e966ca9632"
      },
      "execution_count": null,
      "outputs": [
        {
          "output_type": "stream",
          "name": "stdout",
          "text": [
            "h2_tags\n",
            "Contents\n",
            "Box office[edit]\n",
            "January–March[edit]\n",
            "April–June[edit]\n",
            "July–September[edit]\n",
            "October–December[edit]\n",
            "See also[edit]\n",
            "References[edit]\n",
            "External links[edit]\n"
          ]
        }
      ]
    },
    {
      "cell_type": "code",
      "source": [
        "tables = soup.findAll('table', class_ = \"wikitable\")\n",
        "for table in tables:\n",
        "  #print(table)\n",
        "  all_headers = [th.text.replace(\"\\n\",\"\") for th in table.find_all('th')]\n",
        "  print(all_headers)\n",
        "  #break"
      ],
      "metadata": {
        "colab": {
          "base_uri": "https://localhost:8080/"
        },
        "id": "3lM6K-JF8JjE",
        "outputId": "2f767019-b81a-4bdc-80d0-a3640b1ead31"
      },
      "execution_count": null,
      "outputs": [
        {
          "output_type": "stream",
          "name": "stdout",
          "text": [
            "['Rank', 'Title', 'Distributor', 'Domestic gross', '1', '2', '3', '4', '5', '6', '7', '8', '9', '10']\n",
            "['Opening', 'Title', 'Production company', 'Cast and crew', 'Ref.', 'JANUARY', 'FEBRUARY', 'MARCH']\n",
            "['Opening', 'Title', 'Production company', 'Cast and crew', 'Ref.', 'APRIL', 'MAY', 'JUNE']\n",
            "['Opening', 'Title', 'Production company', 'Cast and crew', 'Ref.', 'JULY', 'AUGUST', 'SEPTEMBER']\n",
            "['Opening', 'Title', 'Production company', 'Cast and crew', 'Ref.', 'OCTOBER', 'NOVEMBER', 'DECEMBER']\n"
          ]
        }
      ]
    },
    {
      "cell_type": "code",
      "source": [
        "tables = soup.findAll('table', class_ = \"wikitable\")\n",
        "for table in tables:\n",
        "  all_headers = [th.text.replace(\"\\n\",\"\") for th in table.find_all('th')]\n",
        "  if \"Title\" in all_headers and \"Production company\" in all_headers:\n",
        "    print(all_headers)\n",
        "    rows = table.tbody.find_all(\"tr\")\n",
        "    for row in rows[1:]:\n",
        "      print(row)\n",
        "      print(\"*************************\")\n",
        "    break\n"
      ],
      "metadata": {
        "colab": {
          "base_uri": "https://localhost:8080/"
        },
        "id": "WoT5WTq79Aup",
        "outputId": "66ab8e1b-55cc-49d8-fd1a-af2d6ec62d17"
      },
      "execution_count": null,
      "outputs": [
        {
          "output_type": "stream",
          "name": "stdout",
          "text": [
            "['Opening', 'Title', 'Production company', 'Cast and crew', 'Ref.', 'JANUARY', 'FEBRUARY', 'MARCH']\n",
            "<tr>\n",
            "<th rowspan=\"21\" style=\"text-align:center; background:#f7bf87; text color:#000;\">J<br/>A<br/>N<br/>U<br/>A<br/>R<br/>Y\n",
            "</th>\n",
            "<td rowspan=\"1\" style=\"text-align:center; background:#f7dfc7\"><b>1</b>\n",
            "</td>\n",
            "<td><i><a href=\"/wiki/Shadow_in_the_Cloud\" title=\"Shadow in the Cloud\">Shadow in the Cloud</a></i></td>\n",
            "<td><a class=\"mw-redirect\" href=\"/wiki/Vertical_Entertainment\" title=\"Vertical Entertainment\">Vertical Entertainment</a></td>\n",
            "<td><a href=\"/wiki/Roseanne_Liang\" title=\"Roseanne Liang\">Roseanne Liang</a> (director/screenplay); <a href=\"/wiki/Max_Landis\" title=\"Max Landis\">Max Landis</a> (screenplay); <a href=\"/wiki/Chlo%C3%AB_Grace_Moretz\" title=\"Chloë Grace Moretz\">Chloë Grace Moretz</a>, <a href=\"/wiki/Taylor_John_Smith\" title=\"Taylor John Smith\">Taylor John Smith</a>, <a href=\"/wiki/Beulah_Koale\" title=\"Beulah Koale\">Beulah Koale</a>, <a href=\"/wiki/Callan_Mulvey\" title=\"Callan Mulvey\">Callan Mulvey</a>, <a href=\"/wiki/Nick_Robinson_(American_actor)\" title=\"Nick Robinson (American actor)\">Nick Robinson</a></td>\n",
            "<td><div class=\"center\" style=\"width:auto; margin-left:auto; margin-right:auto;\"><sup class=\"reference\" id=\"cite_ref-2\"><a href=\"#cite_note-2\">[2]</a></sup></div>\n",
            "</td></tr>\n",
            "*************************\n",
            "<tr>\n",
            "<td rowspan=\"1\" style=\"text-align:center; background:#f7dfc7\"><b>5</b>\n",
            "</td>\n",
            "<td><i><a href=\"/wiki/Hacksaw_(film)\" title=\"Hacksaw (film)\">Hacksaw</a></i>\n",
            "</td>\n",
            "<td>Leone Films / Midnight Releasing\n",
            "</td>\n",
            "<td>Anthony Leone (director/screenplay); Amy Cay, <a href=\"/wiki/Brian_Patrick_Butler\" title=\"Brian Patrick Butler\">Brian Patrick Butler</a>, <a href=\"/wiki/Michael_C._Burgess_(editor)\" title=\"Michael C. Burgess (editor)\">Michael C. Burgess</a>, <a href=\"/wiki/Cortney_Palm\" title=\"Cortney Palm\">Cortney Palm</a>, George Jac, <a href=\"/wiki/Sadie_Katz\" title=\"Sadie Katz\">Sadie Katz</a>, <a class=\"mw-redirect\" href=\"/wiki/Jayce_Venditti\" title=\"Jayce Venditti\">Jayce Venditti</a>\n",
            "</td>\n",
            "<td><div class=\"center\" style=\"width:auto; margin-left:auto; margin-right:auto;\"><sup class=\"reference\" id=\"cite_ref-3\"><a href=\"#cite_note-3\">[3]</a></sup></div>\n",
            "</td></tr>\n",
            "*************************\n",
            "<tr>\n",
            "<td rowspan=\"1\" style=\"text-align:center; background:#f7dfc7\"><b>12</b>\n",
            "</td>\n",
            "<td><i><a href=\"/wiki/Dr._Bird%27s_Advice_for_Sad_Poets\" title=\"Dr. Bird's Advice for Sad Poets\">Dr. Bird's Advice for Sad Poets</a></i></td>\n",
            "<td><a href=\"/wiki/Relativity_Media\" title=\"Relativity Media\">Relativity Media</a> / <a href=\"/wiki/Ketchup_Entertainment\" title=\"Ketchup Entertainment\">Ketchup Entertainment</a></td>\n",
            "<td>Yaniv Raz (director/screenplay); <a href=\"/wiki/Lucas_Jade_Zumann\" title=\"Lucas Jade Zumann\">Lucas Jade Zumann</a>, <a href=\"/wiki/Taylor_Russell\" title=\"Taylor Russell\">Taylor Russell</a>, <a href=\"/wiki/Chase_Stokes\" title=\"Chase Stokes\">Chase Stokes</a>, <a href=\"/wiki/Lisa_Edelstein\" title=\"Lisa Edelstein\">Lisa Edelstein</a>, <a href=\"/wiki/David_Arquette\" title=\"David Arquette\">David Arquette</a>, <a href=\"/wiki/Jason_Isaacs\" title=\"Jason Isaacs\">Jason Isaacs</a></td>\n",
            "<td><div class=\"center\" style=\"width:auto; margin-left:auto; margin-right:auto;\"><sup class=\"reference\" id=\"cite_ref-4\"><a href=\"#cite_note-4\">[4]</a></sup></div>\n",
            "</td></tr>\n",
            "*************************\n",
            "<tr>\n",
            "<td rowspan=\"1\" style=\"text-align:center; background:#f7dfc7\"><b>13</b>\n",
            "</td>\n",
            "<td><i><a href=\"/wiki/The_White_Tiger_(2021_film)\" title=\"The White Tiger (2021 film)\">The White Tiger</a></i></td>\n",
            "<td><a href=\"/wiki/Netflix\" title=\"Netflix\">Netflix</a> / <a href=\"/wiki/ARRAY\" title=\"ARRAY\">ARRAY</a> / <a href=\"/wiki/Purple_Pebble_Pictures\" title=\"Purple Pebble Pictures\">Purple Pebble Pictures</a></td>\n",
            "<td><a href=\"/wiki/Ramin_Bahrani\" title=\"Ramin Bahrani\">Ramin Bahrani</a> (director/screenplay); Adarsh Gourav, <a href=\"/wiki/Rajkummar_Rao\" title=\"Rajkummar Rao\">Rajkummar Rao</a>, <a href=\"/wiki/Priyanka_Chopra\" title=\"Priyanka Chopra\">Priyanka Chopra Jonas</a></td>\n",
            "<td>\n",
            "</td></tr>\n",
            "*************************\n",
            "<tr>\n",
            "<td rowspan=\"1\" style=\"text-align:center; background:#f7dfc7\"><b>14</b>\n",
            "</td>\n",
            "<td><i><a href=\"/wiki/Locked_Down_(film)\" title=\"Locked Down (film)\">Locked Down</a></i></td>\n",
            "<td><a href=\"/wiki/Max_(streaming_service)\" title=\"Max (streaming service)\">HBO Max</a> / <a href=\"/wiki/Warner_Bros._Pictures\" title=\"Warner Bros. Pictures\">Warner Bros. Pictures</a></td>\n",
            "<td><a href=\"/wiki/Doug_Liman\" title=\"Doug Liman\">Doug Liman</a> (director); <a href=\"/wiki/Steven_Knight\" title=\"Steven Knight\">Steven Knight</a> (screenplay); <a href=\"/wiki/Anne_Hathaway\" title=\"Anne Hathaway\">Anne Hathaway</a>, <a href=\"/wiki/Chiwetel_Ejiofor\" title=\"Chiwetel Ejiofor\">Chiwetel Ejiofor</a>, <a href=\"/wiki/Stephen_Merchant\" title=\"Stephen Merchant\">Stephen Merchant</a>, <a href=\"/wiki/Mindy_Kaling\" title=\"Mindy Kaling\">Mindy Kaling</a>, <a href=\"/wiki/Lucy_Boynton\" title=\"Lucy Boynton\">Lucy Boynton</a>, <a href=\"/wiki/Dul%C3%A9_Hill\" title=\"Dulé Hill\">Dulé Hill</a>, <a href=\"/wiki/Jazmyn_Simon\" title=\"Jazmyn Simon\">Jazmyn Simon</a>, <a href=\"/wiki/Mark_Gatiss\" title=\"Mark Gatiss\">Mark Gatiss</a>, <a href=\"/wiki/Claes_Bang\" title=\"Claes Bang\">Claes Bang</a>, <a href=\"/wiki/Ben_Stiller\" title=\"Ben Stiller\">Ben Stiller</a>, <a href=\"/wiki/Ben_Kingsley\" title=\"Ben Kingsley\">Ben Kingsley</a></td>\n",
            "<td><div class=\"center\" style=\"width:auto; margin-left:auto; margin-right:auto;\"><sup class=\"reference\" id=\"cite_ref-5\"><a href=\"#cite_note-5\">[5]</a></sup></div>\n",
            "</td></tr>\n",
            "*************************\n",
            "<tr>\n",
            "<td rowspan=\"6\" style=\"text-align:center; background:#f7dfc7\"><b>15</b>\n",
            "</td>\n",
            "<td><i><a href=\"/wiki/The_Dig_(2021_film)\" title=\"The Dig (2021 film)\">The Dig</a></i></td>\n",
            "<td><a href=\"/wiki/Netflix\" title=\"Netflix\">Netflix</a> / <a href=\"/wiki/Clerkenwell_Films\" title=\"Clerkenwell Films\">Clerkenwell Films</a></td>\n",
            "<td><a href=\"/wiki/Simon_Stone\" title=\"Simon Stone\">Simon Stone</a> (director); <a href=\"/wiki/Moira_Buffini\" title=\"Moira Buffini\">Moira Buffini</a> (screenplay); <a href=\"/wiki/Carey_Mulligan\" title=\"Carey Mulligan\">Carey Mulligan</a>, <a href=\"/wiki/Ralph_Fiennes\" title=\"Ralph Fiennes\">Ralph Fiennes</a>, <a href=\"/wiki/Lily_James\" title=\"Lily James\">Lily James</a>, <a class=\"mw-redirect\" href=\"/wiki/Johnny_Flynn_(musician)\" title=\"Johnny Flynn (musician)\">Johnny Flynn</a>, <a href=\"/wiki/Ben_Chaplin\" title=\"Ben Chaplin\">Ben Chaplin</a>, <a href=\"/wiki/Ken_Stott\" title=\"Ken Stott\">Ken Stott</a>, Archie Barnes, <a href=\"/wiki/Monica_Dolan\" title=\"Monica Dolan\">Monica Dolan</a></td>\n",
            "<td><div class=\"center\" style=\"width:auto; margin-left:auto; margin-right:auto;\"><sup class=\"reference\" id=\"cite_ref-6\"><a href=\"#cite_note-6\">[6]</a></sup></div>\n",
            "</td></tr>\n",
            "*************************\n",
            "<tr>\n",
            "<td><i><a href=\"/wiki/Outside_the_Wire\" title=\"Outside the Wire\">Outside the Wire</a></i></td>\n",
            "<td><a href=\"/wiki/Netflix\" title=\"Netflix\">Netflix</a></td>\n",
            "<td><a href=\"/wiki/Mikael_H%C3%A5fstr%C3%B6m\" title=\"Mikael Håfström\">Mikael Håfström</a> (director); Rob Yescombe, Rowan Athale (screenplay); <a href=\"/wiki/Anthony_Mackie\" title=\"Anthony Mackie\">Anthony Mackie</a>, <a href=\"/wiki/Damson_Idris\" title=\"Damson Idris\">Damson Idris</a>, <a href=\"/wiki/Emily_Beecham\" title=\"Emily Beecham\">Emily Beecham</a>, <a href=\"/wiki/Michael_Kelly_(actor)\" title=\"Michael Kelly (actor)\">Michael Kelly</a>, <a href=\"/wiki/Pilou_Asb%C3%A6k\" title=\"Pilou Asbæk\">Pilou Asbæk</a></td>\n",
            "<td><div class=\"center\" style=\"width:auto; margin-left:auto; margin-right:auto;\"><sup class=\"reference\" id=\"cite_ref-7\"><a href=\"#cite_note-7\">[7]</a></sup></div>\n",
            "</td></tr>\n",
            "*************************\n",
            "<tr>\n",
            "<td><i><a href=\"/wiki/The_Marksman_(2021_film)\" title=\"The Marksman (2021 film)\">The Marksman</a></i></td>\n",
            "<td><a href=\"/wiki/Open_Road_Films\" title=\"Open Road Films\">Open Road Films</a></td>\n",
            "<td><a href=\"/wiki/Robert_Lorenz\" title=\"Robert Lorenz\">Robert Lorenz</a> (director/screenplay); Chris Charles, Danny Kravitz (screenplay); <a href=\"/wiki/Liam_Neeson\" title=\"Liam Neeson\">Liam Neeson</a>, <a href=\"/wiki/Katheryn_Winnick\" title=\"Katheryn Winnick\">Katheryn Winnick</a>, <a href=\"/wiki/Juan_Pablo_Raba\" title=\"Juan Pablo Raba\">Juan Pablo Raba</a>, <a href=\"/wiki/Teresa_Ruiz_(actress)\" title=\"Teresa Ruiz (actress)\">Teresa Ruiz</a></td>\n",
            "<td><div class=\"center\" style=\"width:auto; margin-left:auto; margin-right:auto;\"><sup class=\"reference\" id=\"cite_ref-8\"><a href=\"#cite_note-8\">[8]</a></sup></div>\n",
            "</td></tr>\n",
            "*************************\n",
            "<tr>\n",
            "<td><i><a href=\"/wiki/The_Ultimate_Playlist_of_Noise\" title=\"The Ultimate Playlist of Noise\">The Ultimate Playlist of Noise</a></i></td>\n",
            "<td><a href=\"/wiki/Hulu\" title=\"Hulu\">Hulu</a></td>\n",
            "<td>Bennett Lasseter (director); Mitchell Winkie (screenplay); <a href=\"/wiki/Keean_Johnson\" title=\"Keean Johnson\">Keean Johnson</a>, <a href=\"/wiki/Madeline_Brewer\" title=\"Madeline Brewer\">Madeline Brewer</a>, <a href=\"/wiki/Rya_Kihlstedt\" title=\"Rya Kihlstedt\">Rya Kihlstedt</a>, <a href=\"/wiki/Ian_Gomez\" title=\"Ian Gomez\">Ian Gomez</a>, <a href=\"/wiki/Bonnie_Hunt\" title=\"Bonnie Hunt\">Bonnie Hunt</a></td>\n",
            "<td><div class=\"center\" style=\"width:auto; margin-left:auto; margin-right:auto;\"><sup class=\"reference\" id=\"cite_ref-9\"><a href=\"#cite_note-9\">[9]</a></sup></div>\n",
            "</td></tr>\n",
            "*************************\n",
            "<tr>\n",
            "<td><i><a href=\"/wiki/American_Skin_(film)\" title=\"American Skin (film)\">American Skin</a></i></td>\n",
            "<td><a class=\"mw-redirect\" href=\"/wiki/Vertical_Entertainment\" title=\"Vertical Entertainment\">Vertical Entertainment</a></td>\n",
            "<td><a href=\"/wiki/Nate_Parker\" title=\"Nate Parker\">Nate Parker</a> (director/screenplay); Nate Parker, <a href=\"/wiki/Omari_Hardwick\" title=\"Omari Hardwick\">Omari Hardwick</a>, <a href=\"/wiki/Theo_Rossi\" title=\"Theo Rossi\">Theo Rossi</a>, <a href=\"/wiki/Shane_Paul_McGhie\" title=\"Shane Paul McGhie\">Shane Paul McGhie</a>, <a href=\"/wiki/Milauna_Jackson\" title=\"Milauna Jackson\">Milauna Jackson</a>, <a href=\"/wiki/Beau_Knapp\" title=\"Beau Knapp\">Beau Knapp</a></td>\n",
            "<td><div class=\"center\" style=\"width:auto; margin-left:auto; margin-right:auto;\"><sup class=\"reference\" id=\"cite_ref-10\"><a href=\"#cite_note-10\">[10]</a></sup></div>\n",
            "</td></tr>\n",
            "*************************\n",
            "<tr>\n",
            "<td><i><a href=\"/wiki/Don%27t_Tell_a_Soul_(film)\" title=\"Don't Tell a Soul (film)\">Don't Tell a Soul</a></i></td>\n",
            "<td><a href=\"/wiki/Lionsgate\" title=\"Lionsgate\">Lionsgate</a> / <a class=\"mw-redirect\" href=\"/wiki/Saban_Films\" title=\"Saban Films\">Saban Films</a></td>\n",
            "<td><a href=\"/wiki/Alex_McAulay\" title=\"Alex McAulay\">Alex McAulay</a> (director/screenplay); <a href=\"/wiki/Jack_Dylan_Grazer\" title=\"Jack Dylan Grazer\">Jack Dylan Grazer</a>, <a href=\"/wiki/Fionn_Whitehead\" title=\"Fionn Whitehead\">Fionn Whitehead</a>, <a href=\"/wiki/Rainn_Wilson\" title=\"Rainn Wilson\">Rainn Wilson</a>, <a href=\"/wiki/Mena_Suvari\" title=\"Mena Suvari\">Mena Suvari</a></td>\n",
            "<td><div class=\"center\" style=\"width:auto; margin-left:auto; margin-right:auto;\"><sup class=\"reference\" id=\"cite_ref-11\"><a href=\"#cite_note-11\">[11]</a></sup></div>\n",
            "</td></tr>\n",
            "*************************\n",
            "<tr>\n",
            "<td rowspan=\"3\" style=\"text-align:center; background:#f7ddc7\"><b>22</b>\n",
            "</td>\n",
            "<td><i><a href=\"/wiki/Our_Friend\" title=\"Our Friend\">Our Friend</a></i></td>\n",
            "<td><a href=\"/wiki/Gravitas_Ventures\" title=\"Gravitas Ventures\">Gravitas Ventures</a> / <a href=\"/wiki/Black_Bear_Pictures\" title=\"Black Bear Pictures\">Black Bear Pictures</a></td>\n",
            "<td><a href=\"/wiki/Gabriela_Cowperthwaite\" title=\"Gabriela Cowperthwaite\">Gabriela Cowperthwaite</a> (director); <a href=\"/wiki/Brad_Ingelsby\" title=\"Brad Ingelsby\">Brad Ingelsby</a> (screenplay); <a href=\"/wiki/Jason_Segel\" title=\"Jason Segel\">Jason Segel</a>, <a href=\"/wiki/Dakota_Johnson\" title=\"Dakota Johnson\">Dakota Johnson</a>, <a href=\"/wiki/Casey_Affleck\" title=\"Casey Affleck\">Casey Affleck</a>, <a href=\"/wiki/Gwendoline_Christie\" title=\"Gwendoline Christie\">Gwendoline Christie</a>, <a href=\"/wiki/Cherry_Jones\" title=\"Cherry Jones\">Cherry Jones</a></td>\n",
            "<td><div class=\"center\" style=\"width:auto; margin-left:auto; margin-right:auto;\"><sup class=\"reference\" id=\"cite_ref-12\"><a href=\"#cite_note-12\">[12]</a></sup></div>\n",
            "</td></tr>\n",
            "*************************\n",
            "<tr>\n",
            "<td><i><a class=\"mw-redirect\" href=\"/wiki/No_Man%27s_Land_(2021_film)\" title=\"No Man's Land (2021 film)\">No Man's Land</a></i></td>\n",
            "<td><a href=\"/wiki/IFC_Films\" title=\"IFC Films\">IFC Films</a></td>\n",
            "<td>Conor Allyn (director); Jake Allyn, David Barraza (screenplay); Jake Allyn, <a href=\"/wiki/Frank_Grillo\" title=\"Frank Grillo\">Frank Grillo</a>, Jorge A. Jiménez, <a href=\"/wiki/Andie_MacDowell\" title=\"Andie MacDowell\">Andie MacDowell</a>, <a href=\"/wiki/George_Lopez\" title=\"George Lopez\">George Lopez</a></td>\n",
            "<td>\n",
            "</td></tr>\n",
            "*************************\n",
            "<tr>\n",
            "<td><i><a href=\"/wiki/Born_a_Champion\" title=\"Born a Champion\">Born a Champion</a></i></td>\n",
            "<td><a href=\"/wiki/Lionsgate\" title=\"Lionsgate\">Lionsgate</a></td>\n",
            "<td><a href=\"/wiki/Alex_Ranarivelo\" title=\"Alex Ranarivelo\">Alex Ranarivelo</a> (director/screenplay); <a href=\"/wiki/Sean_Patrick_Flanery\" title=\"Sean Patrick Flanery\">Sean Patrick Flanery</a> (screenplay); Sean Patrick Flanery, <a href=\"/wiki/Dennis_Quaid\" title=\"Dennis Quaid\">Dennis Quaid</a>, <a href=\"/wiki/Katrina_Bowden\" title=\"Katrina Bowden\">Katrina Bowden</a></td>\n",
            "<td><div class=\"center\" style=\"width:auto; margin-left:auto; margin-right:auto;\"><sup class=\"reference\" id=\"cite_ref-13\"><a href=\"#cite_note-13\">[13]</a></sup></div>\n",
            "</td></tr>\n",
            "*************************\n",
            "<tr>\n",
            "<td rowspan=\"1\" style=\"text-align:center; background:#f7ddc7\"><b>26</b>\n",
            "</td>\n",
            "<td><i><a href=\"/wiki/Wrong_Turn_(2021_film)\" title=\"Wrong Turn (2021 film)\">Wrong Turn</a></i></td>\n",
            "<td><a href=\"/wiki/Saban_Capital_Group\" title=\"Saban Capital Group\">Saban Films</a> / <a href=\"/wiki/Constantin_Film\" title=\"Constantin Film\">Constantin Film</a></td>\n",
            "<td>Mike P. Nelson (director); <a href=\"/wiki/Alan_B._McElroy\" title=\"Alan B. McElroy\">Alan B. McElroy</a> (screenplay); <a href=\"/wiki/Charlotte_Vega\" title=\"Charlotte Vega\">Charlotte Vega</a>, Adain Bradley, <a href=\"/wiki/Bill_Sage\" title=\"Bill Sage\">Bill Sage</a>, <a href=\"/wiki/Emma_Dumont\" title=\"Emma Dumont\">Emma Dumont</a>, Dylan McTee, <a href=\"/wiki/Daisy_Head\" title=\"Daisy Head\">Daisy Head</a>, <a href=\"/wiki/Matthew_Modine\" title=\"Matthew Modine\">Matthew Modine</a></td>\n",
            "<td><div class=\"center\" style=\"width:auto; margin-left:auto; margin-right:auto;\"><sup class=\"reference\" id=\"cite_ref-14\"><a href=\"#cite_note-14\">[14]</a></sup></div>\n",
            "</td></tr>\n",
            "*************************\n",
            "<tr>\n",
            "<td rowspan=\"1\" style=\"text-align:center; background:#f7ddc7\"><b>27</b>\n",
            "</td>\n",
            "<td><i><a href=\"/wiki/Penguin_Bloom\" title=\"Penguin Bloom\">Penguin Bloom</a></i></td>\n",
            "<td><a href=\"/wiki/Netflix\" title=\"Netflix\">Netflix</a> / <a href=\"/wiki/Roadshow_Entertainment\" title=\"Roadshow Entertainment\">Roadshow Films</a></td>\n",
            "<td>Glenda Ivin (director); Shaun Grant, Harry Cripps (screenplay); <a href=\"/wiki/Naomi_Watts\" title=\"Naomi Watts\">Naomi Watts</a>, <a href=\"/wiki/Andrew_Lincoln\" title=\"Andrew Lincoln\">Andrew Lincoln</a>, <a href=\"/wiki/Jacki_Weaver\" title=\"Jacki Weaver\">Jacki Weaver</a>, <a href=\"/wiki/Rachel_House_(actress)\" title=\"Rachel House (actress)\">Rachel House</a></td>\n",
            "<td><div class=\"center\" style=\"width:auto; margin-left:auto; margin-right:auto;\"><sup class=\"reference\" id=\"cite_ref-15\"><a href=\"#cite_note-15\">[15]</a></sup></div>\n",
            "</td></tr>\n",
            "*************************\n",
            "<tr>\n",
            "<td rowspan=\"5\" style=\"text-align:center; background:#f7dfc7\"><b>29</b>\n",
            "</td>\n",
            "<td><i><a href=\"/wiki/The_Little_Things_(2021_film)\" title=\"The Little Things (2021 film)\">The Little Things</a></i></td>\n",
            "<td><a href=\"/wiki/Warner_Bros._Pictures\" title=\"Warner Bros. Pictures\">Warner Bros. Pictures</a> / Gran Via Productions / <a class=\"mw-redirect\" href=\"/wiki/HBO_Max\" title=\"HBO Max\">HBO Max</a></td>\n",
            "<td><a href=\"/wiki/John_Lee_Hancock\" title=\"John Lee Hancock\">John Lee Hancock</a> (director/screenplay); <a href=\"/wiki/Denzel_Washington\" title=\"Denzel Washington\">Denzel Washington</a>, <a href=\"/wiki/Rami_Malek\" title=\"Rami Malek\">Rami Malek</a>, <a href=\"/wiki/Jared_Leto\" title=\"Jared Leto\">Jared Leto</a>, <a href=\"/wiki/Chris_Bauer\" title=\"Chris Bauer\">Chris Bauer</a>, <a href=\"/wiki/Michael_Hyatt\" title=\"Michael Hyatt\">Michael Hyatt</a>, <a href=\"/wiki/Terry_Kinney\" title=\"Terry Kinney\">Terry Kinney</a>, <a href=\"/wiki/Natalie_Morales_(actress)\" title=\"Natalie Morales (actress)\">Natalie Morales</a></td>\n",
            "<td><div class=\"center\" style=\"width:auto; margin-left:auto; margin-right:auto;\"><sup class=\"reference\" id=\"cite_ref-16\"><a href=\"#cite_note-16\">[16]</a></sup></div>\n",
            "</td></tr>\n",
            "*************************\n",
            "<tr>\n",
            "<td><i><a href=\"/wiki/Finding_%CA%BBOhana\" title=\"Finding ʻOhana\">Finding ʻOhana</a></i></td>\n",
            "<td><a href=\"/wiki/Netflix\" title=\"Netflix\">Netflix</a></td>\n",
            "<td><a href=\"/wiki/Jude_Weng\" title=\"Jude Weng\">Jude Weng</a> (director); <a href=\"/wiki/Christina_Strain\" title=\"Christina Strain\">Christina Strain</a> (screenplay); Kea Peahu, <a href=\"/wiki/Alex_Aiono\" title=\"Alex Aiono\">Alex Aiono</a>, Lindsay Watson, <a href=\"/wiki/Owen_Vaccaro\" title=\"Owen Vaccaro\">Owen Vaccaro</a>, <a href=\"/wiki/Kelly_Hu\" title=\"Kelly Hu\">Kelly Hu</a>, <a href=\"/wiki/Branscombe_Richmond\" title=\"Branscombe Richmond\">Branscombe Richmond</a>, <a href=\"/wiki/Chris_Parnell\" title=\"Chris Parnell\">Chris Parnell</a>, <a href=\"/wiki/Marc_Evan_Jackson\" title=\"Marc Evan Jackson\">Marc Evan Jackson</a></td>\n",
            "<td><div class=\"center\" style=\"width:auto; margin-left:auto; margin-right:auto;\"><sup class=\"reference\" id=\"cite_ref-17\"><a href=\"#cite_note-17\">[17]</a></sup></div>\n",
            "</td></tr>\n",
            "*************************\n",
            "<tr>\n",
            "<td><i><a class=\"mw-redirect\" href=\"/wiki/Nomadland_(film)\" title=\"Nomadland (film)\">Nomadland</a></i></td>\n",
            "<td><a href=\"/wiki/Searchlight_Pictures\" title=\"Searchlight Pictures\">Searchlight Pictures</a> / <a href=\"/wiki/Hulu\" title=\"Hulu\">Hulu</a></td>\n",
            "<td><a href=\"/wiki/Chlo%C3%A9_Zhao\" title=\"Chloé Zhao\">Chloé Zhao</a> (director/screenplay); <a href=\"/wiki/Frances_McDormand\" title=\"Frances McDormand\">Frances McDormand</a>, <a href=\"/wiki/David_Strathairn\" title=\"David Strathairn\">David Strathairn</a>, Linda May, Charlene Swankie, <a href=\"/wiki/Bob_Wells_(vandweller)\" title=\"Bob Wells (vandweller)\">Bob Wells</a></td>\n",
            "<td><div class=\"center\" style=\"width:auto; margin-left:auto; margin-right:auto;\"><sup class=\"reference\" id=\"cite_ref-18\"><a href=\"#cite_note-18\">[18]</a></sup></div>\n",
            "</td></tr>\n",
            "*************************\n",
            "<tr>\n",
            "<td><i><a href=\"/wiki/Malcolm_%26_Marie\" title=\"Malcolm &amp; Marie\">Malcolm &amp; Marie</a></i></td>\n",
            "<td><a href=\"/wiki/Netflix\" title=\"Netflix\">Netflix</a></td>\n",
            "<td><a href=\"/wiki/Sam_Levinson\" title=\"Sam Levinson\">Sam Levinson</a> (director/screenplay); <a href=\"/wiki/Zendaya\" title=\"Zendaya\">Zendaya</a>, <a href=\"/wiki/John_David_Washington\" title=\"John David Washington\">John David Washington</a></td>\n",
            "<td><div class=\"center\" style=\"width:auto; margin-left:auto; margin-right:auto;\"><sup class=\"reference\" id=\"cite_ref-19\"><a href=\"#cite_note-19\">[19]</a></sup></div>\n",
            "</td></tr>\n",
            "*************************\n",
            "<tr>\n",
            "<td><i><a href=\"/wiki/Palmer_(film)\" title=\"Palmer (film)\">Palmer</a></i></td>\n",
            "<td><a href=\"/wiki/Apple_TV%2B\" title=\"Apple TV+\">Apple TV+</a></td>\n",
            "<td><a href=\"/wiki/Fisher_Stevens\" title=\"Fisher Stevens\">Fisher Stevens</a> (director) Cheryl Guerriero (screenplay); <a href=\"/wiki/Justin_Timberlake\" title=\"Justin Timberlake\">Justin Timberlake</a>, <a href=\"/wiki/Juno_Temple\" title=\"Juno Temple\">Juno Temple</a>, <a href=\"/wiki/Alisha_Wainwright\" title=\"Alisha Wainwright\">Alisha Wainwright</a>, <a href=\"/wiki/June_Squibb\" title=\"June Squibb\">June Squibb</a>, Ryder Allen</td>\n",
            "<td><div class=\"center\" style=\"width:auto; margin-left:auto; margin-right:auto;\"><sup class=\"reference\" id=\"cite_ref-20\"><a href=\"#cite_note-20\">[20]</a></sup></div>\n",
            "</td></tr>\n",
            "*************************\n",
            "<tr>\n",
            "<th rowspan=\"27\" style=\"text-align:center; background:#bf87f7; textcolor:#000;\">F<br/>E<br/>B<br/>R<br/>U<br/>A<br/>R<br/>Y\n",
            "</th>\n",
            "<td rowspan=\"5\" style=\"text-align:center; background:#dfc7f7\"><b>5</b>\n",
            "</td>\n",
            "<td><i><a href=\"/wiki/Falling_(2020_film)\" title=\"Falling (2020 film)\">Falling</a></i></td>\n",
            "<td>Quiver Distribution</td>\n",
            "<td><a href=\"/wiki/Viggo_Mortensen\" title=\"Viggo Mortensen\">Viggo Mortensen</a> (director/screenplay); Viggo Mortensen, <a href=\"/wiki/Lance_Henriksen\" title=\"Lance Henriksen\">Lance Henriksen</a>, <a href=\"/wiki/Terry_Chen\" title=\"Terry Chen\">Terry Chen</a>, <a class=\"mw-redirect\" href=\"/wiki/Sverrir_Gudnason\" title=\"Sverrir Gudnason\">Sverrir Gudnason</a>, <a href=\"/wiki/Hannah_Gross\" title=\"Hannah Gross\">Hannah Gross</a>, <a href=\"/wiki/Laura_Linney\" title=\"Laura Linney\">Laura Linney</a></td>\n",
            "<td><div class=\"center\" style=\"width:auto; margin-left:auto; margin-right:auto;\"><sup class=\"reference\" id=\"cite_ref-21\"><a href=\"#cite_note-21\">[21]</a></sup></div>\n",
            "</td></tr>\n",
            "*************************\n",
            "<tr>\n",
            "<td><i><a href=\"/wiki/Bliss_(2021_film)\" title=\"Bliss (2021 film)\">Bliss</a></i></td>\n",
            "<td><a class=\"mw-redirect\" href=\"/wiki/Amazon_Studios\" title=\"Amazon Studios\">Amazon Studios</a></td>\n",
            "<td><a class=\"mw-redirect\" href=\"/wiki/Mike_Cahill_(director)\" title=\"Mike Cahill (director)\">Mike Cahill</a> (director/screenplay); <a href=\"/wiki/Owen_Wilson\" title=\"Owen Wilson\">Owen Wilson</a>, <a href=\"/wiki/Salma_Hayek\" title=\"Salma Hayek\">Salma Hayek</a></td>\n",
            "<td>\n",
            "</td></tr>\n",
            "*************************\n",
            "<tr>\n",
            "<td><i><a href=\"/wiki/Little_Fish_(2021_film)\" title=\"Little Fish (2021 film)\">Little Fish</a></i></td>\n",
            "<td><a href=\"/wiki/IFC_Films\" title=\"IFC Films\">IFC Films</a> / <a href=\"/wiki/Black_Bear_Pictures\" title=\"Black Bear Pictures\">Black Bear Pictures</a></td>\n",
            "<td><a href=\"/wiki/Chad_Hartigan\" title=\"Chad Hartigan\">Chad Hartigan</a> (director); <a href=\"/wiki/Mattson_Tomlin\" title=\"Mattson Tomlin\">Mattson Tomlin</a> (screenplay); <a href=\"/wiki/Olivia_Cooke\" title=\"Olivia Cooke\">Olivia Cooke</a>, <a href=\"/wiki/Jack_O%27Connell_(actor)\" title=\"Jack O'Connell (actor)\">Jack O'Connell</a>, <a href=\"/wiki/Ra%C3%BAl_Castillo\" title=\"Raúl Castillo\">Raúl Castillo</a>, <a href=\"/wiki/Soko_(singer)\" title=\"Soko (singer)\">Soko</a></td>\n",
            "<td><div class=\"center\" style=\"width:auto; margin-left:auto; margin-right:auto;\"><sup class=\"reference\" id=\"cite_ref-22\"><a href=\"#cite_note-22\">[22]</a></sup></div>\n",
            "</td></tr>\n",
            "*************************\n",
            "<tr>\n",
            "<td><i><a href=\"/wiki/Son_of_the_South_(film)\" title=\"Son of the South (film)\">Son of the South</a></i></td>\n",
            "<td><a class=\"mw-redirect\" href=\"/wiki/Vertical_Entertainment\" title=\"Vertical Entertainment\">Vertical Entertainment</a></td>\n",
            "<td><a href=\"/wiki/Barry_Alexander_Brown\" title=\"Barry Alexander Brown\">Barry Alexander Brown</a> (director/screenplay); <a href=\"/wiki/Lucas_Till\" title=\"Lucas Till\">Lucas Till</a>, <a href=\"/wiki/Lucy_Hale\" title=\"Lucy Hale\">Lucy Hale</a>, <a href=\"/wiki/Cedric_the_Entertainer\" title=\"Cedric the Entertainer\">Cedric the Entertainer</a>, <a href=\"/wiki/Brian_Dennehy\" title=\"Brian Dennehy\">Brian Dennehy</a></td>\n",
            "<td>\n",
            "</td></tr>\n",
            "*************************\n",
            "<tr>\n",
            "<td><i><a href=\"/wiki/PVT_Chat\" title=\"PVT Chat\">PVT Chat</a></i></td>\n",
            "<td>Dark Star Pictures</td>\n",
            "<td><a href=\"/wiki/Ben_Hozie\" title=\"Ben Hozie\">Ben Hozie</a> (director/screenplay); <a class=\"mw-redirect\" href=\"/wiki/Julia_Fox_(actress)\" title=\"Julia Fox (actress)\">Julia Fox</a>, Nikki Belfiglio, <a href=\"/wiki/Austin_Brown\" title=\"Austin Brown\">Austin Brown</a>, <a href=\"/wiki/Peter_Vack\" title=\"Peter Vack\">Peter Vack</a></td>\n",
            "<td><div class=\"center\" style=\"width:auto; margin-left:auto; margin-right:auto;\"><sup class=\"reference\" id=\"cite_ref-23\"><a href=\"#cite_note-23\">[23]</a></sup></div>\n",
            "</td></tr>\n",
            "*************************\n",
            "<tr>\n",
            "<td style=\"text-align:center; background:#dfc7f7\"><b>9</b>\n",
            "</td>\n",
            "<td><i><a href=\"/wiki/Music_(2021_film)\" title=\"Music (2021 film)\">Music</a></i></td>\n",
            "<td><a class=\"mw-redirect\" href=\"/wiki/Vertical_Entertainment\" title=\"Vertical Entertainment\">Vertical Entertainment</a></td>\n",
            "<td><a href=\"/wiki/Sia\" title=\"Sia\">Sia</a> (director/screenplay); <a href=\"/wiki/Dallas_Clayton\" title=\"Dallas Clayton\">Dallas Clayton</a> (screenplay); <a href=\"/wiki/Kate_Hudson\" title=\"Kate Hudson\">Kate Hudson</a>, <a href=\"/wiki/Leslie_Odom_Jr.\" title=\"Leslie Odom Jr.\">Leslie Odom Jr.</a>, <a href=\"/wiki/Maddie_Ziegler\" title=\"Maddie Ziegler\">Maddie Ziegler</a></td>\n",
            "<td><div class=\"center\" style=\"width:auto; margin-left:auto; margin-right:auto;\"><sup class=\"reference\" id=\"cite_ref-24\"><a href=\"#cite_note-24\">[24]</a></sup></div>\n",
            "</td></tr>\n",
            "*************************\n",
            "<tr>\n",
            "<td rowspan=\"12\" style=\"text-align:center; background:#dfc7f7\"><b>12</b>\n",
            "</td>\n",
            "<td><i><a href=\"/wiki/Judas_and_the_Black_Messiah\" title=\"Judas and the Black Messiah\">Judas and the Black Messiah</a></i></td>\n",
            "<td><a href=\"/wiki/Warner_Bros._Pictures\" title=\"Warner Bros. Pictures\">Warner Bros. Pictures</a> / <a href=\"/wiki/Participant_(company)\" title=\"Participant (company)\">Participant</a> / <a href=\"/wiki/Bron_Studios\" title=\"Bron Studios\">Bron Creative</a> / <a class=\"mw-redirect\" href=\"/wiki/HBO_Max\" title=\"HBO Max\">HBO Max</a></td>\n",
            "<td>Shaka King (director/screenplay); Will Berson (screenplay); <a href=\"/wiki/Daniel_Kaluuya\" title=\"Daniel Kaluuya\">Daniel Kaluuya</a>, <a class=\"mw-redirect\" href=\"/wiki/Lakeith_Stanfield\" title=\"Lakeith Stanfield\">Lakeith Stanfield</a>, <a href=\"/wiki/Jesse_Plemons\" title=\"Jesse Plemons\">Jesse Plemons</a>, <a href=\"/wiki/Dominique_Fishback\" title=\"Dominique Fishback\">Dominique Fishback</a>, <a href=\"/wiki/Ashton_Sanders\" title=\"Ashton Sanders\">Ashton Sanders</a>, <a href=\"/wiki/Darrell_Britt-Gibson\" title=\"Darrell Britt-Gibson\">Darrell Britt-Gibson</a>, <a href=\"/wiki/Lil_Rel_Howery\" title=\"Lil Rel Howery\">Lil Rel Howery</a>, <a href=\"/wiki/Algee_Smith\" title=\"Algee Smith\">Algee Smith</a>, <a href=\"/wiki/Dominique_Thorne\" title=\"Dominique Thorne\">Dominique Thorne</a>, <a href=\"/wiki/Martin_Sheen\" title=\"Martin Sheen\">Martin Sheen</a></td>\n",
            "<td><div class=\"center\" style=\"width:auto; margin-left:auto; margin-right:auto;\"><sup class=\"reference\" id=\"cite_ref-25\"><a href=\"#cite_note-25\">[25]</a></sup></div>\n",
            "</td></tr>\n",
            "*************************\n",
            "<tr>\n",
            "<td><i><a href=\"/wiki/The_Mauritanian\" title=\"The Mauritanian\">The Mauritanian</a></i></td>\n",
            "<td><a class=\"mw-redirect\" href=\"/wiki/STXfilms\" title=\"STXfilms\">STXfilms</a> / <a href=\"/wiki/Topic_Studios\" title=\"Topic Studios\">Topic Studios</a> / <a href=\"/wiki/BBC_Film\" title=\"BBC Film\">BBC Film</a></td>\n",
            "<td><a href=\"/wiki/Kevin_Macdonald_(director)\" title=\"Kevin Macdonald (director)\">Kevin Macdonald</a> (director); M.B. Traven, <a class=\"mw-redirect\" href=\"/wiki/Rory_Haines\" title=\"Rory Haines\">Rory Haines</a>, <a class=\"mw-redirect\" href=\"/wiki/Sohrab_Noshirvani\" title=\"Sohrab Noshirvani\">Sohrab Noshirvani</a> (screenplay); <a href=\"/wiki/Jodie_Foster\" title=\"Jodie Foster\">Jodie Foster</a>, <a href=\"/wiki/Tahar_Rahim\" title=\"Tahar Rahim\">Tahar Rahim</a>, <a href=\"/wiki/Shailene_Woodley\" title=\"Shailene Woodley\">Shailene Woodley</a>, <a href=\"/wiki/Zachary_Levi\" title=\"Zachary Levi\">Zachary Levi</a>, <a href=\"/wiki/Benedict_Cumberbatch\" title=\"Benedict Cumberbatch\">Benedict Cumberbatch</a></td>\n",
            "<td>\n",
            "</td></tr>\n",
            "*************************\n",
            "<tr>\n",
            "<td><i><a href=\"/wiki/Breaking_News_in_Yuba_County\" title=\"Breaking News in Yuba County\">Breaking News in Yuba County</a></i></td>\n",
            "<td><a href=\"/wiki/American_International_Pictures\" title=\"American International Pictures\">American International Pictures</a> / <a href=\"/wiki/AGC_Studios\" title=\"AGC Studios\">AGC Studios</a> / <a href=\"/wiki/Nine_Stories_Productions\" title=\"Nine Stories Productions\">Nine Stories Productions</a></td>\n",
            "<td><a href=\"/wiki/Tate_Taylor\" title=\"Tate Taylor\">Tate Taylor</a> (director); Amanda Idoko (screenplay); <a href=\"/wiki/Allison_Janney\" title=\"Allison Janney\">Allison Janney</a>, <a href=\"/wiki/Mila_Kunis\" title=\"Mila Kunis\">Mila Kunis</a>, <a href=\"/wiki/Awkwafina\" title=\"Awkwafina\">Awkwafina</a>, <a href=\"/wiki/Regina_Hall\" title=\"Regina Hall\">Regina Hall</a>, <a href=\"/wiki/Wanda_Sykes\" title=\"Wanda Sykes\">Wanda Sykes</a>, <a href=\"/wiki/Juliette_Lewis\" title=\"Juliette Lewis\">Juliette Lewis</a>, <a href=\"/wiki/Samira_Wiley\" title=\"Samira Wiley\">Samira Wiley</a>, <a href=\"/wiki/Matthew_Modine\" title=\"Matthew Modine\">Matthew Modine</a>, <a href=\"/wiki/Ellen_Barkin\" title=\"Ellen Barkin\">Ellen Barkin</a></td>\n",
            "<td>\n",
            "</td></tr>\n",
            "*************************\n",
            "<tr>\n",
            "<td><i><a href=\"/wiki/Barb_and_Star_Go_to_Vista_Del_Mar\" title=\"Barb and Star Go to Vista Del Mar\">Barb and Star Go to Vista Del Mar</a></i></td>\n",
            "<td><a href=\"/wiki/Lionsgate\" title=\"Lionsgate\">Lionsgate</a> / <a href=\"/wiki/Gloria_Sanchez_Productions\" title=\"Gloria Sanchez Productions\">Gloria Sanchez Productions</a></td>\n",
            "<td><a href=\"/wiki/Josh_Greenbaum\" title=\"Josh Greenbaum\">Josh Greenbaum</a> (director); <a href=\"/wiki/Annie_Mumolo\" title=\"Annie Mumolo\">Annie Mumolo</a>, <a href=\"/wiki/Kristen_Wiig\" title=\"Kristen Wiig\">Kristen Wiig</a> (screenplay); Kristen Wiig, Annie Mumolo, <a href=\"/wiki/Jamie_Dornan\" title=\"Jamie Dornan\">Jamie Dornan</a>, <a href=\"/wiki/Damon_Wayans_Jr.\" title=\"Damon Wayans Jr.\">Damon Wayans Jr.</a></td>\n",
            "<td><div class=\"center\" style=\"width:auto; margin-left:auto; margin-right:auto;\"><sup class=\"reference\" id=\"cite_ref-26\"><a href=\"#cite_note-26\">[26]</a></sup></div>\n",
            "</td></tr>\n",
            "*************************\n",
            "<tr>\n",
            "<td><i><a href=\"/wiki/Minari_(film)\" title=\"Minari (film)\">Minari</a></i></td>\n",
            "<td><a href=\"/wiki/A24\" title=\"A24\">A24</a> / <a href=\"/wiki/Plan_B_Entertainment\" title=\"Plan B Entertainment\">Plan B Entertainment</a></td>\n",
            "<td><a href=\"/wiki/Lee_Isaac_Chung\" title=\"Lee Isaac Chung\">Lee Isaac Chung</a> (director/screenplay); <a href=\"/wiki/Steven_Yeun\" title=\"Steven Yeun\">Steven Yeun</a>, <a href=\"/wiki/Han_Ye-ri\" title=\"Han Ye-ri\">Han Ye-ri</a>, Alan Kim, Noel Kate Cho, <a href=\"/wiki/Scott_Haze\" title=\"Scott Haze\">Scott Haze</a>, <a href=\"/wiki/Youn_Yuh-jung\" title=\"Youn Yuh-jung\">Youn Yuh-jung</a>, <a href=\"/wiki/Will_Patton\" title=\"Will Patton\">Will Patton</a></td>\n",
            "<td><div class=\"center\" style=\"width:auto; margin-left:auto; margin-right:auto;\"><sup class=\"reference\" id=\"cite_ref-27\"><a href=\"#cite_note-27\">[27]</a></sup></div>\n",
            "</td></tr>\n",
            "*************************\n",
            "<tr>\n",
            "<td><i><a href=\"/wiki/To_All_the_Boys:_Always_and_Forever\" title=\"To All the Boys: Always and Forever\">To All the Boys: Always and Forever</a></i></td>\n",
            "<td><a href=\"/wiki/Netflix\" title=\"Netflix\">Netflix</a></td>\n",
            "<td><a href=\"/wiki/Michael_Fimognari\" title=\"Michael Fimognari\">Michael Fimognari</a> (director); Katie Lovejoy (screenplay); <a href=\"/wiki/Lana_Condor\" title=\"Lana Condor\">Lana Condor</a>, <a href=\"/wiki/Noah_Centineo\" title=\"Noah Centineo\">Noah Centineo</a>, <a href=\"/wiki/Jordan_Fisher\" title=\"Jordan Fisher\">Jordan Fisher</a>, <a href=\"/wiki/Holland_Taylor\" title=\"Holland Taylor\">Holland Taylor</a>, <a class=\"mw-redirect\" href=\"/wiki/Sarayu_Blue\" title=\"Sarayu Blue\">Sarayu Blue</a>, <a href=\"/wiki/John_Corbett\" title=\"John Corbett\">John Corbett</a></td>\n",
            "<td><div class=\"center\" style=\"width:auto; margin-left:auto; margin-right:auto;\"><sup class=\"reference\" id=\"cite_ref-28\"><a href=\"#cite_note-28\">[28]</a></sup></div>\n",
            "</td></tr>\n",
            "*************************\n",
            "<tr>\n",
            "<td><i><a href=\"/wiki/The_World_to_Come\" title=\"The World to Come\">The World to Come</a></i></td>\n",
            "<td><a href=\"/wiki/Bleecker_Street_(company)\" title=\"Bleecker Street (company)\">Bleecker Street</a> / <a href=\"/wiki/Ingenious_Media\" title=\"Ingenious Media\">Ingenious Media</a></td>\n",
            "<td><a href=\"/wiki/Mona_Fastvold\" title=\"Mona Fastvold\">Mona Fastvold</a> (director); <a href=\"/wiki/Ron_Hansen_(novelist)\" title=\"Ron Hansen (novelist)\">Ron Hansen</a>, <a href=\"/wiki/Jim_Shepard\" title=\"Jim Shepard\">Jim Shepard</a> (screenplay); <a href=\"/wiki/Katherine_Waterston\" title=\"Katherine Waterston\">Katherine Waterston</a>, <a href=\"/wiki/Vanessa_Kirby\" title=\"Vanessa Kirby\">Vanessa Kirby</a>, <a href=\"/wiki/Christopher_Abbott\" title=\"Christopher Abbott\">Christopher Abbott</a>, <a href=\"/wiki/Casey_Affleck\" title=\"Casey Affleck\">Casey Affleck</a></td>\n",
            "<td>\n",
            "</td></tr>\n",
            "*************************\n",
            "<tr>\n",
            "<td><i><a href=\"/wiki/French_Exit_(2020_film)\" title=\"French Exit (2020 film)\">French Exit</a></i></td>\n",
            "<td><a href=\"/wiki/Sony_Pictures_Classics\" title=\"Sony Pictures Classics\">Sony Pictures Classics</a></td>\n",
            "<td><a href=\"/wiki/Azazel_Jacobs\" title=\"Azazel Jacobs\">Azazel Jacobs</a> (director); <a href=\"/wiki/Patrick_deWitt\" title=\"Patrick deWitt\">Patrick deWitt</a> (screenplay); <a href=\"/wiki/Michelle_Pfeiffer\" title=\"Michelle Pfeiffer\">Michelle Pfeiffer</a>, <a href=\"/wiki/Lucas_Hedges\" title=\"Lucas Hedges\">Lucas Hedges</a>, <a href=\"/wiki/Tracy_Letts\" title=\"Tracy Letts\">Tracy Letts</a>, <a href=\"/wiki/Danielle_Macdonald\" title=\"Danielle Macdonald\">Danielle Macdonald</a>, <a href=\"/wiki/Imogen_Poots\" title=\"Imogen Poots\">Imogen Poots</a></td>\n",
            "<td><div class=\"center\" style=\"width:auto; margin-left:auto; margin-right:auto;\"><sup class=\"reference\" id=\"cite_ref-29\"><a href=\"#cite_note-29\">[29]</a></sup></div>\n",
            "</td></tr>\n",
            "*************************\n",
            "<tr>\n",
            "<td><i><a href=\"/wiki/Land_(2021_film)\" title=\"Land (2021 film)\">Land</a></i></td>\n",
            "<td><a href=\"/wiki/Focus_Features\" title=\"Focus Features\">Focus Features</a> / <a href=\"/wiki/Big_Beach_(company)\" title=\"Big Beach (company)\">Big Beach</a></td>\n",
            "<td><a href=\"/wiki/Robin_Wright\" title=\"Robin Wright\">Robin Wright</a> (director); Jesse Chatham, <a href=\"/wiki/Erin_Dignam\" title=\"Erin Dignam\">Erin Dignam</a> (screenplay); Robin Wright, <a href=\"/wiki/Demi%C3%A1n_Bichir\" title=\"Demián Bichir\">Demián Bichir</a>, <a href=\"/wiki/Kim_Dickens\" title=\"Kim Dickens\">Kim Dickens</a></td>\n",
            "<td><div class=\"center\" style=\"width:auto; margin-left:auto; margin-right:auto;\"><sup class=\"reference\" id=\"cite_ref-30\"><a href=\"#cite_note-30\">[30]</a></sup></div>\n",
            "</td></tr>\n",
            "*************************\n",
            "<tr>\n",
            "<td><i><a href=\"/wiki/Willy%27s_Wonderland\" title=\"Willy's Wonderland\">Willy's Wonderland</a></i></td>\n",
            "<td><a class=\"mw-redirect\" href=\"/wiki/Screen_Media_Films\" title=\"Screen Media Films\">Screen Media Films</a></td>\n",
            "<td>Kevin Lewis (director); G.O. Parsons (screenplay); <a href=\"/wiki/Nicolas_Cage\" title=\"Nicolas Cage\">Nicolas Cage</a>, <a href=\"/wiki/Emily_Tosta\" title=\"Emily Tosta\">Emily Tosta</a>, <a href=\"/wiki/Ric_Reitz\" title=\"Ric Reitz\">Ric Reitz</a>, <a href=\"/wiki/Beth_Grant\" title=\"Beth Grant\">Beth Grant</a></td>\n",
            "<td>\n",
            "</td></tr>\n",
            "*************************\n",
            "<tr>\n",
            "<td><i><a href=\"/wiki/The_Map_of_Tiny_Perfect_Things\" title=\"The Map of Tiny Perfect Things\">The Map of Tiny Perfect Things</a></i></td>\n",
            "<td><a class=\"mw-redirect\" href=\"/wiki/Amazon_Studios\" title=\"Amazon Studios\">Amazon Studios</a></td>\n",
            "<td>Ian Samuels (director); <a href=\"/wiki/Lev_Grossman\" title=\"Lev Grossman\">Lev Grossman</a> (screenplay); <a href=\"/wiki/Kathryn_Newton\" title=\"Kathryn Newton\">Kathryn Newton</a>, Kyle Allen, <a href=\"/wiki/Al_Madrigal\" title=\"Al Madrigal\">Al Madrigal</a></td>\n",
            "<td><div class=\"center\" style=\"width:auto; margin-left:auto; margin-right:auto;\"><sup class=\"reference\" id=\"cite_ref-31\"><a href=\"#cite_note-31\">[31]</a></sup></div>\n",
            "</td></tr>\n",
            "*************************\n",
            "<tr>\n",
            "<td><i><a href=\"/wiki/Fear_of_Rain\" title=\"Fear of Rain\">Fear of Rain</a></i></td>\n",
            "<td><a href=\"/wiki/Lionsgate\" title=\"Lionsgate\">Lionsgate</a></td>\n",
            "<td>Castille Landon (director/screenplay); <a href=\"/wiki/Katherine_Heigl\" title=\"Katherine Heigl\">Katherine Heigl</a>, <a href=\"/wiki/Madison_Iseman\" title=\"Madison Iseman\">Madison Iseman</a>, <a href=\"/wiki/Israel_Broussard\" title=\"Israel Broussard\">Israel Broussard</a>, <a href=\"/wiki/Harry_Connick_Jr.\" title=\"Harry Connick Jr.\">Harry Connick Jr.</a></td>\n",
            "<td>\n",
            "</td></tr>\n",
            "*************************\n",
            "<tr>\n",
            "<td rowspan=\"3\" style=\"text-align:center; background:#dfc7f7\"><b>19</b>\n",
            "</td>\n",
            "<td><i><a href=\"/wiki/I_Care_a_Lot\" title=\"I Care a Lot\">I Care a Lot</a></i></td>\n",
            "<td><a href=\"/wiki/Netflix\" title=\"Netflix\">Netflix</a> / <a class=\"mw-redirect\" href=\"/wiki/Amazon_Studios\" title=\"Amazon Studios\">Amazon Studios</a> / <a class=\"mw-redirect\" href=\"/wiki/STXfilms\" title=\"STXfilms\">STXfilms</a> / <a href=\"/wiki/Black_Bear_Pictures\" title=\"Black Bear Pictures\">Black Bear Pictures</a></td>\n",
            "<td><a href=\"/wiki/J_Blakeson\" title=\"J Blakeson\">J Blakeson</a> (director/screenplay); <a href=\"/wiki/Rosamund_Pike\" title=\"Rosamund Pike\">Rosamund Pike</a>, <a href=\"/wiki/Peter_Dinklage\" title=\"Peter Dinklage\">Peter Dinklage</a>, <a href=\"/wiki/Eiza_Gonz%C3%A1lez\" title=\"Eiza González\">Eiza González</a>, <a href=\"/wiki/Chris_Messina\" title=\"Chris Messina\">Chris Messina</a>, <a href=\"/wiki/Dianne_Wiest\" title=\"Dianne Wiest\">Dianne Wiest</a>, <a href=\"/wiki/Isiah_Whitlock_Jr.\" title=\"Isiah Whitlock Jr.\">Isiah Whitlock Jr.</a></td>\n",
            "<td><div class=\"center\" style=\"width:auto; margin-left:auto; margin-right:auto;\"><sup class=\"reference\" id=\"cite_ref-32\"><a href=\"#cite_note-32\">[32]</a></sup></div>\n",
            "</td></tr>\n",
            "*************************\n",
            "<tr>\n",
            "<td><i><a href=\"/wiki/Flora_%26_Ulysses_(film)\" title=\"Flora &amp; Ulysses (film)\">Flora &amp; Ulysses</a></i></td>\n",
            "<td><a href=\"/wiki/Disney%2B\" title=\"Disney+\">Disney+</a> / <a href=\"/wiki/Walt_Disney_Pictures\" title=\"Walt Disney Pictures\">Walt Disney Pictures</a></td>\n",
            "<td>Lena Khan (director); <a href=\"/wiki/Brad_Copeland\" title=\"Brad Copeland\">Brad Copeland</a> (screenplay); Matilda Lawler, <a href=\"/wiki/Alyson_Hannigan\" title=\"Alyson Hannigan\">Alyson Hannigan</a>, <a href=\"/wiki/Ben_Schwartz\" title=\"Ben Schwartz\">Ben Schwartz</a>, Anna Deavere Smith, <a href=\"/wiki/Danny_Pudi\" title=\"Danny Pudi\">Danny Pudi</a>, Benjamin Evan Ainsworth, <a href=\"/wiki/Janeane_Garofalo\" title=\"Janeane Garofalo\">Janeane Garofalo</a>, <a href=\"/wiki/Kate_Micucci\" title=\"Kate Micucci\">Kate Micucci</a></td>\n",
            "<td><div class=\"center\" style=\"width:auto; margin-left:auto; margin-right:auto;\"><sup class=\"reference\" id=\"cite_ref-33\"><a href=\"#cite_note-33\">[33]</a></sup></div>\n",
            "</td></tr>\n",
            "*************************\n",
            "<tr>\n",
            "<td><i><a href=\"/wiki/Silk_Road_(film)\" title=\"Silk Road (film)\">Silk Road</a></i></td>\n",
            "<td><a href=\"/wiki/Lionsgate\" title=\"Lionsgate\">Lionsgate</a></td>\n",
            "<td>Tiller Russell (director/screenplay); <a href=\"/wiki/Jason_Clarke\" title=\"Jason Clarke\">Jason Clarke</a>, <a href=\"/wiki/Nick_Robinson_(American_actor)\" title=\"Nick Robinson (American actor)\">Nick Robinson</a>, <a href=\"/wiki/Katie_Aselton\" title=\"Katie Aselton\">Katie Aselton</a>, <a href=\"/wiki/Jimmi_Simpson\" title=\"Jimmi Simpson\">Jimmi Simpson</a>, <a href=\"/wiki/Daniel_David_Stewart\" title=\"Daniel David Stewart\">Daniel David Stewart</a>, <a href=\"/wiki/Darrell_Britt-Gibson\" title=\"Darrell Britt-Gibson\">Darrell Britt-Gibson</a>, Lexi Rabe, Will Ropp, <a href=\"/wiki/Paul_Walter_Hauser\" title=\"Paul Walter Hauser\">Paul Walter Hauser</a>, <a href=\"/wiki/Alexandra_Shipp\" title=\"Alexandra Shipp\">Alexandra Shipp</a></td>\n",
            "<td><div class=\"center\" style=\"width:auto; margin-left:auto; margin-right:auto;\"><sup class=\"reference\" id=\"cite_ref-34\"><a href=\"#cite_note-34\">[34]</a></sup></div>\n",
            "</td></tr>\n",
            "*************************\n",
            "<tr>\n",
            "<td rowspan=\"6\" style=\"text-align:center; background:#dfc7f7\"><b>26</b>\n",
            "</td>\n",
            "<td><i><a href=\"/wiki/Tom_%26_Jerry_(2021_film)\" title=\"Tom &amp; Jerry (2021 film)\">Tom &amp; Jerry</a></i></td>\n",
            "<td><a href=\"/wiki/Warner_Bros._Pictures\" title=\"Warner Bros. Pictures\">Warner Bros. Pictures</a> / <a class=\"mw-redirect\" href=\"/wiki/Warner_Animation_Group\" title=\"Warner Animation Group\">Warner Animation Group</a> / <a class=\"mw-redirect\" href=\"/wiki/HBO_Max\" title=\"HBO Max\">HBO Max</a></td>\n",
            "<td><a href=\"/wiki/Tim_Story\" title=\"Tim Story\">Tim Story</a> (director); Kevin Costello (screenplay); <a href=\"/wiki/Chlo%C3%AB_Grace_Moretz\" title=\"Chloë Grace Moretz\">Chloë Grace Moretz</a>, <a href=\"/wiki/Michael_Pe%C3%B1a\" title=\"Michael Peña\">Michael Peña</a>, <a href=\"/wiki/Colin_Jost\" title=\"Colin Jost\">Colin Jost</a>, <a href=\"/wiki/Rob_Delaney\" title=\"Rob Delaney\">Rob Delaney</a>, <a href=\"/wiki/Pallavi_Sharda\" title=\"Pallavi Sharda\">Pallavi Sharda</a>, Jordan Bolger, <a href=\"/wiki/Patsy_Ferran\" title=\"Patsy Ferran\">Patsy Ferran</a>, <a href=\"/wiki/Nicky_Jam\" title=\"Nicky Jam\">Nicky Jam</a>, <a href=\"/wiki/Bobby_Cannavale\" title=\"Bobby Cannavale\">Bobby Cannavale</a>, <a href=\"/wiki/Lil_Rel_Howery\" title=\"Lil Rel Howery\">Lil Rel Howery</a>, <a href=\"/wiki/Ken_Jeong\" title=\"Ken Jeong\">Ken Jeong</a></td>\n",
            "<td><div class=\"center\" style=\"width:auto; margin-left:auto; margin-right:auto;\"><sup class=\"reference\" id=\"cite_ref-35\"><a href=\"#cite_note-35\">[35]</a></sup></div>\n",
            "</td></tr>\n",
            "*************************\n",
            "<tr>\n",
            "<td><i><a href=\"/wiki/The_United_States_vs._Billie_Holiday\" title=\"The United States vs. Billie Holiday\">The United States vs. Billie Holiday</a></i></td>\n",
            "<td><a href=\"/wiki/Hulu\" title=\"Hulu\">Hulu</a> / <a href=\"/wiki/Roth/Kirschenbaum_Films\" title=\"Roth/Kirschenbaum Films\">Roth/Kirschenbaum Films</a></td>\n",
            "<td><a href=\"/wiki/Lee_Daniels\" title=\"Lee Daniels\">Lee Daniels</a> (director); <a href=\"/wiki/Suzan-Lori_Parks\" title=\"Suzan-Lori Parks\">Suzan-Lori Parks</a> (screenplay); <a href=\"/wiki/Andra_Day\" title=\"Andra Day\">Andra Day</a>, <a href=\"/wiki/Trevante_Rhodes\" title=\"Trevante Rhodes\">Trevante Rhodes</a>, <a href=\"/wiki/Garrett_Hedlund\" title=\"Garrett Hedlund\">Garrett Hedlund</a>, <a href=\"/wiki/Leslie_Jordan\" title=\"Leslie Jordan\">Leslie Jordan</a>, <a href=\"/wiki/Miss_Lawrence\" title=\"Miss Lawrence\">Miss Lawrence</a>, <a href=\"/wiki/Adriane_Lenox\" title=\"Adriane Lenox\">Adriane Lenox</a>, <a href=\"/wiki/Natasha_Lyonne\" title=\"Natasha Lyonne\">Natasha Lyonne</a>, <a href=\"/wiki/Rob_Morgan_(actor)\" title=\"Rob Morgan (actor)\">Rob Morgan</a>, <a href=\"/wiki/Da%27Vine_Joy_Randolph\" title=\"Da'Vine Joy Randolph\">Da'Vine Joy Randolph</a>, <a href=\"/wiki/Evan_Ross\" title=\"Evan Ross\">Evan Ross</a>, <a href=\"/wiki/Tyler_James_Williams\" title=\"Tyler James Williams\">Tyler James Williams</a>, <a href=\"/wiki/Tone_Bell\" title=\"Tone Bell\">Tone Bell</a>, <a href=\"/wiki/Blake_DeLong\" title=\"Blake DeLong\">Blake DeLong</a>, <a href=\"/wiki/Randy_Davison\" title=\"Randy Davison\">Randy Davison</a>, <a href=\"/wiki/Dana_Gourrier\" title=\"Dana Gourrier\">Dana Gourrier</a>, <a href=\"/wiki/Melvin_Gregg\" title=\"Melvin Gregg\">Melvin Gregg</a>, <a href=\"/wiki/Erik_LaRay_Harvey\" title=\"Erik LaRay Harvey\">Erik LaRay Harvey</a>, <a href=\"/wiki/Ray_Shell\" title=\"Ray Shell\">Ray Shell</a></td>\n",
            "<td><div class=\"center\" style=\"width:auto; margin-left:auto; margin-right:auto;\"><sup class=\"reference\" id=\"cite_ref-36\"><a href=\"#cite_note-36\">[36]</a></sup></div>\n",
            "</td></tr>\n",
            "*************************\n",
            "<tr>\n",
            "<td><i><a href=\"/wiki/Cherry_(2021_film)\" title=\"Cherry (2021 film)\">Cherry</a></i></td>\n",
            "<td><a href=\"/wiki/Apple_TV%2B\" title=\"Apple TV+\">Apple TV+</a> / <a href=\"/wiki/AGBO\" title=\"AGBO\">AGBO</a></td>\n",
            "<td><a href=\"/wiki/Russo_brothers\" title=\"Russo brothers\">Anthony and Joe Russo</a> (directors); Angela Russo-Otstot, <a href=\"/wiki/Jessica_Goldberg\" title=\"Jessica Goldberg\">Jessica Goldberg</a> (screenplay); <a class=\"mw-redirect\" href=\"/wiki/Tom_Holland_(actor)\" title=\"Tom Holland (actor)\">Tom Holland</a>, <a href=\"/wiki/Ciara_Bravo\" title=\"Ciara Bravo\">Ciara Bravo</a>, <a href=\"/wiki/Jack_Reynor\" title=\"Jack Reynor\">Jack Reynor</a>, <a href=\"/wiki/Michael_Rispoli\" title=\"Michael Rispoli\">Michael Rispoli</a>, Jeff Wahlberg</td>\n",
            "<td><div class=\"center\" style=\"width:auto; margin-left:auto; margin-right:auto;\"><sup class=\"reference\" id=\"cite_ref-37\"><a href=\"#cite_note-37\">[37]</a></sup></div>\n",
            "</td></tr>\n",
            "*************************\n",
            "<tr>\n",
            "<td><i><a href=\"/wiki/Crisis_(2021_film)\" title=\"Crisis (2021 film)\">Crisis</a></i></td>\n",
            "<td>Quiver Distribution</td>\n",
            "<td><a href=\"/wiki/Nicholas_Jarecki\" title=\"Nicholas Jarecki\">Nicholas Jarecki</a> (director/screenplay); <a href=\"/wiki/Gary_Oldman\" title=\"Gary Oldman\">Gary Oldman</a>, <a href=\"/wiki/Armie_Hammer\" title=\"Armie Hammer\">Armie Hammer</a>, <a href=\"/wiki/Evangeline_Lilly\" title=\"Evangeline Lilly\">Evangeline Lilly</a>, <a href=\"/wiki/Greg_Kinnear\" title=\"Greg Kinnear\">Greg Kinnear</a>, <a href=\"/wiki/Michelle_Rodriguez\" title=\"Michelle Rodriguez\">Michelle Rodriguez</a>, <a href=\"/wiki/Luke_Evans\" title=\"Luke Evans\">Luke Evans</a>, <a href=\"/wiki/Lily-Rose_Depp\" title=\"Lily-Rose Depp\">Lily-Rose Depp</a>, <a class=\"mw-redirect\" href=\"/wiki/Scott_Mescudi\" title=\"Scott Mescudi\">Scott Mescudi</a>, <a href=\"/wiki/Martin_Donovan\" title=\"Martin Donovan\">Martin Donovan</a></td>\n",
            "<td><div class=\"center\" style=\"width:auto; margin-left:auto; margin-right:auto;\"><sup class=\"reference\" id=\"cite_ref-38\"><a href=\"#cite_note-38\">[38]</a></sup></div>\n",
            "</td></tr>\n",
            "*************************\n",
            "<tr>\n",
            "<td><i><a href=\"/wiki/Billie_Eilish:_The_World%27s_a_Little_Blurry\" title=\"Billie Eilish: The World's a Little Blurry\">Billie Eilish: The World's a Little Blurry</a></i></td>\n",
            "<td><a href=\"/wiki/Neon_(company)\" title=\"Neon (company)\">Neon</a> / <a href=\"/wiki/Apple_TV%2B\" title=\"Apple TV+\">Apple TV+</a></td>\n",
            "<td><a href=\"/wiki/R._J._Cutler\" title=\"R. J. Cutler\">R. J. Cutler</a> (director/screenplay); <a href=\"/wiki/Billie_Eilish\" title=\"Billie Eilish\">Billie Eilish</a>, <a href=\"/wiki/Finneas_O%27Connell\" title=\"Finneas O'Connell\">Finneas O'Connell</a>, <a href=\"/wiki/Maggie_Baird\" title=\"Maggie Baird\">Maggie Baird</a>, Patrick O'Connell</td>\n",
            "<td><div class=\"center\" style=\"width:auto; margin-left:auto; margin-right:auto;\"><sup class=\"reference\" id=\"cite_ref-39\"><a href=\"#cite_note-39\">[39]</a></sup></div>\n",
            "</td></tr>\n",
            "*************************\n",
            "<tr>\n",
            "<td><i><a href=\"/wiki/The_Vigil_(2019_film)\" title=\"The Vigil (2019 film)\">The Vigil</a></i></td>\n",
            "<td><a href=\"/wiki/IFC_Films\" title=\"IFC Films\">IFC Midnight</a> / <a href=\"/wiki/Blumhouse_Productions\" title=\"Blumhouse Productions\">Blumhouse Productions</a></td>\n",
            "<td><a href=\"/wiki/Keith_Thomas_(director)\" title=\"Keith Thomas (director)\">Keith Thomas</a> (director/screenplay); <a href=\"/wiki/Dave_Davis_(actor)\" title=\"Dave Davis (actor)\">Dave Davis</a>, Menashe Lustig, Malky Goldman, <a href=\"/wiki/Fred_Melamed\" title=\"Fred Melamed\">Fred Melamed</a>, <a href=\"/wiki/Lynn_Cohen\" title=\"Lynn Cohen\">Lynn Cohen</a></td>\n",
            "<td><div class=\"center\" style=\"width:auto; margin-left:auto; margin-right:auto;\"><sup class=\"reference\" id=\"cite_ref-40\"><a href=\"#cite_note-40\">[40]</a></sup></div>\n",
            "</td></tr>\n",
            "*************************\n",
            "<tr>\n",
            "<th rowspan=\"21\" style=\"text-align:center; background:#87f7bf; textcolor:#000;\">M<br/>A<br/>R<br/>C<br/>H\n",
            "</th>\n",
            "<td rowspan=\"1\" style=\"text-align:center; background:#c7f7df\"><b>3</b>\n",
            "</td>\n",
            "<td><i><a href=\"/wiki/Moxie_(film)\" title=\"Moxie (film)\">Moxie</a></i></td>\n",
            "<td><a href=\"/wiki/Netflix\" title=\"Netflix\">Netflix</a></td>\n",
            "<td><a href=\"/wiki/Amy_Poehler\" title=\"Amy Poehler\">Amy Poehler</a> (director); Tamara Chestna, Dylan Meyer (screenplay); <a href=\"/wiki/Hadley_Robinson\" title=\"Hadley Robinson\">Hadley Robinson</a>, <a href=\"/wiki/Lauren_Tsai\" title=\"Lauren Tsai\">Lauren Tsai</a>, <a href=\"/wiki/Patrick_Schwarzenegger\" title=\"Patrick Schwarzenegger\">Patrick Schwarzenegger</a>, Hico Hiraga, <a href=\"/wiki/Sydney_Park_(actress)\" title=\"Sydney Park (actress)\">Sydney Park</a>, <a href=\"/wiki/Josephine_Langford\" title=\"Josephine Langford\">Josephine Langford</a>, <a href=\"/wiki/Clark_Gregg\" title=\"Clark Gregg\">Clark Gregg</a>, <a href=\"/wiki/Ike_Barinholtz\" title=\"Ike Barinholtz\">Ike Barinholtz</a>, Amy Poehler, <a href=\"/wiki/Marcia_Gay_Harden\" title=\"Marcia Gay Harden\">Marcia Gay Harden</a></td>\n",
            "<td>\n",
            "</td></tr>\n",
            "*************************\n",
            "<tr>\n",
            "<td rowspan=\"2\" style=\"text-align:center; background:#c7f7df\"><b>4</b>\n",
            "</td>\n",
            "<td><i><a href=\"/wiki/Coming_2_America\" title=\"Coming 2 America\">Coming 2 America</a></i></td>\n",
            "<td><a class=\"mw-redirect\" href=\"/wiki/Amazon_Studios\" title=\"Amazon Studios\">Amazon Studios</a> / <a href=\"/wiki/Paramount_Pictures\" title=\"Paramount Pictures\">Paramount Pictures</a></td>\n",
            "<td><a href=\"/wiki/Craig_Brewer\" title=\"Craig Brewer\">Craig Brewer</a> (director); <a href=\"/wiki/Kenya_Barris\" title=\"Kenya Barris\">Kenya Barris</a>, <a href=\"/wiki/Barry_W._Blaustein\" title=\"Barry W. Blaustein\">Barry W. Blaustein</a>, <a href=\"/wiki/David_Sheffield\" title=\"David Sheffield\">David Sheffield</a> (screenplay); <a href=\"/wiki/Eddie_Murphy\" title=\"Eddie Murphy\">Eddie Murphy</a>, <a href=\"/wiki/Arsenio_Hall\" title=\"Arsenio Hall\">Arsenio Hall</a>, <a href=\"/wiki/Jermaine_Fowler\" title=\"Jermaine Fowler\">Jermaine Fowler</a>, <a href=\"/wiki/Leslie_Jones_(comedian)\" title=\"Leslie Jones (comedian)\">Leslie Jones</a>, <a href=\"/wiki/Tracy_Morgan\" title=\"Tracy Morgan\">Tracy Morgan</a>, <a href=\"/wiki/KiKi_Layne\" title=\"KiKi Layne\">KiKi Layne</a>, <a href=\"/wiki/Shari_Headley\" title=\"Shari Headley\">Shari Headley</a>, <a href=\"/wiki/Teyana_Taylor\" title=\"Teyana Taylor\">Teyana Taylor</a>, <a href=\"/wiki/Wesley_Snipes\" title=\"Wesley Snipes\">Wesley Snipes</a>, <a href=\"/wiki/James_Earl_Jones\" title=\"James Earl Jones\">James Earl Jones</a></td>\n",
            "<td><div class=\"center\" style=\"width:auto; margin-left:auto; margin-right:auto;\"><sup class=\"reference\" id=\"cite_ref-41\"><a href=\"#cite_note-41\">[41]</a></sup></div>\n",
            "</td></tr>\n",
            "*************************\n",
            "<tr>\n",
            "<td><i><a href=\"/wiki/The_SpongeBob_Movie:_Sponge_on_the_Run\" title=\"The SpongeBob Movie: Sponge on the Run\">The SpongeBob Movie: Sponge on the Run</a></i></td>\n",
            "<td><a href=\"/wiki/Paramount%2B\" title=\"Paramount+\">Paramount+</a> / <a href=\"/wiki/Paramount_Animation\" title=\"Paramount Animation\">Paramount Animation</a> / <a href=\"/wiki/Nickelodeon_Movies\" title=\"Nickelodeon Movies\">Nickelodeon Movies</a> / <a href=\"/wiki/MRC_(company)\" title=\"MRC (company)\">MRC</a></td>\n",
            "<td><a class=\"mw-redirect\" href=\"/wiki/Tim_Hill_(director)\" title=\"Tim Hill (director)\">Tim Hill</a> (director/screenplay); <a href=\"/wiki/Tom_Kenny\" title=\"Tom Kenny\">Tom Kenny</a>, <a href=\"/wiki/Awkwafina\" title=\"Awkwafina\">Awkwafina</a>, <a href=\"/wiki/Matt_Berry\" title=\"Matt Berry\">Matt Berry</a>, <a href=\"/wiki/Snoop_Dogg\" title=\"Snoop Dogg\">Snoop Dogg</a>, <a href=\"/wiki/Bill_Fagerbakke\" title=\"Bill Fagerbakke\">Bill Fagerbakke</a>, <a href=\"/wiki/Clancy_Brown\" title=\"Clancy Brown\">Clancy Brown</a>, <a href=\"/wiki/Tiffany_Haddish\" title=\"Tiffany Haddish\">Tiffany Haddish</a>, <a href=\"/wiki/Carolyn_Lawrence\" title=\"Carolyn Lawrence\">Carolyn Lawrence</a>, <a href=\"/wiki/Mr._Lawrence\" title=\"Mr. Lawrence\">Mr. Lawrence</a>, <a href=\"/wiki/Keanu_Reeves\" title=\"Keanu Reeves\">Keanu Reeves</a>, <a href=\"/wiki/Danny_Trejo\" title=\"Danny Trejo\">Danny Trejo</a>, <a href=\"/wiki/Reggie_Watts\" title=\"Reggie Watts\">Reggie Watts</a></td>\n",
            "<td><div class=\"center\" style=\"width:auto; margin-left:auto; margin-right:auto;\"><sup class=\"reference\" id=\"cite_ref-42\"><a href=\"#cite_note-42\">[42]</a></sup></div>\n",
            "</td></tr>\n",
            "*************************\n",
            "<tr>\n",
            "<td rowspan=\"4\" style=\"text-align:center; background:#c7f7df\"><b>5</b>\n",
            "</td>\n",
            "<td><i><a href=\"/wiki/Raya_and_the_Last_Dragon\" title=\"Raya and the Last Dragon\">Raya and the Last Dragon</a></i></td>\n",
            "<td><a href=\"/wiki/Walt_Disney_Pictures\" title=\"Walt Disney Pictures\">Walt Disney Pictures</a> / <a href=\"/wiki/Walt_Disney_Animation_Studios\" title=\"Walt Disney Animation Studios\">Walt Disney Animation Studios</a> / <a href=\"/wiki/Disney%2B\" title=\"Disney+\">Disney+</a></td>\n",
            "<td><a href=\"/wiki/Don_Hall_(filmmaker)\" title=\"Don Hall (filmmaker)\">Don Hall</a>, <a href=\"/wiki/Carlos_L%C3%B3pez_Estrada\" title=\"Carlos López Estrada\">Carlos López Estrada</a> (directors); <a href=\"/wiki/Qui_Nguyen\" title=\"Qui Nguyen\">Qui Nguyen</a>, <a href=\"/wiki/Adele_Lim\" title=\"Adele Lim\">Adele Lim</a> (screenplay); <a href=\"/wiki/Kelly_Marie_Tran\" title=\"Kelly Marie Tran\">Kelly Marie Tran</a>, <a href=\"/wiki/Awkwafina\" title=\"Awkwafina\">Awkwafina</a>, <a href=\"/wiki/Izaac_Wang\" title=\"Izaac Wang\">Izaac Wang</a>, <a href=\"/wiki/Gemma_Chan\" title=\"Gemma Chan\">Gemma Chan</a>, <a href=\"/wiki/Daniel_Dae_Kim\" title=\"Daniel Dae Kim\">Daniel Dae Kim</a>, <a href=\"/wiki/Benedict_Wong\" title=\"Benedict Wong\">Benedict Wong</a>, <a href=\"/wiki/Sandra_Oh\" title=\"Sandra Oh\">Sandra Oh</a>, <a href=\"/wiki/Thalia_Tran\" title=\"Thalia Tran\">Thalia Tran</a>, <a href=\"/wiki/Lucille_Soong\" title=\"Lucille Soong\">Lucille Soong</a>, <a href=\"/wiki/Alan_Tudyk\" title=\"Alan Tudyk\">Alan Tudyk</a></td>\n",
            "<td><div class=\"center\" style=\"width:auto; margin-left:auto; margin-right:auto;\"><sup class=\"reference\" id=\"cite_ref-43\"><a href=\"#cite_note-43\">[43]</a></sup></div>\n",
            "</td></tr>\n",
            "*************************\n",
            "<tr>\n",
            "<td><i><a href=\"/wiki/Chaos_Walking_(film)\" title=\"Chaos Walking (film)\">Chaos Walking</a></i></td>\n",
            "<td><a href=\"/wiki/Lionsgate\" title=\"Lionsgate\">Lionsgate</a> / <a href=\"/wiki/Bron_Studios\" title=\"Bron Studios\">Bron Creative</a> / <a href=\"/wiki/3_Arts_Entertainment\" title=\"3 Arts Entertainment\">3 Arts Entertainment</a></td>\n",
            "<td><a href=\"/wiki/Doug_Liman\" title=\"Doug Liman\">Doug Liman</a> (director); <a href=\"/wiki/Patrick_Ness\" title=\"Patrick Ness\">Patrick Ness</a>, Christopher Ford (screenplay); <a href=\"/wiki/Daisy_Ridley\" title=\"Daisy Ridley\">Daisy Ridley</a>, <a class=\"mw-redirect\" href=\"/wiki/Tom_Holland_(actor)\" title=\"Tom Holland (actor)\">Tom Holland</a>, <a href=\"/wiki/Mads_Mikkelsen\" title=\"Mads Mikkelsen\">Mads Mikkelsen</a>, <a href=\"/wiki/Demi%C3%A1n_Bichir\" title=\"Demián Bichir\">Demián Bichir</a>, <a href=\"/wiki/Cynthia_Erivo\" title=\"Cynthia Erivo\">Cynthia Erivo</a>, <a href=\"/wiki/Nick_Jonas\" title=\"Nick Jonas\">Nick Jonas</a>, <a href=\"/wiki/Ray_McKinnon_(actor)\" title=\"Ray McKinnon (actor)\">Ray McKinnon</a>, <a href=\"/wiki/Kurt_Sutter\" title=\"Kurt Sutter\">Kurt Sutter</a>, <a href=\"/wiki/David_Oyelowo\" title=\"David Oyelowo\">David Oyelowo</a></td>\n",
            "<td><div class=\"center\" style=\"width:auto; margin-left:auto; margin-right:auto;\"><sup class=\"reference\" id=\"cite_ref-DHrelease_44-0\"><a href=\"#cite_note-DHrelease-44\">[44]</a></sup></div>\n",
            "</td></tr>\n",
            "*************************\n",
            "<tr>\n",
            "<td><i><a href=\"/wiki/Boss_Level\" title=\"Boss Level\">Boss Level</a></i></td>\n",
            "<td><a href=\"/wiki/Hulu\" title=\"Hulu\">Hulu</a> / <a href=\"/wiki/Ingenious_Media\" title=\"Ingenious Media\">Ingenious Media</a></td>\n",
            "<td><a href=\"/wiki/Joe_Carnahan\" title=\"Joe Carnahan\">Joe Carnahan</a> (director/screenplay); Chris Borey, Eddie Borey (screenplay); <a href=\"/wiki/Frank_Grillo\" title=\"Frank Grillo\">Frank Grillo</a>, <a href=\"/wiki/Mel_Gibson\" title=\"Mel Gibson\">Mel Gibson</a>, <a href=\"/wiki/Naomi_Watts\" title=\"Naomi Watts\">Naomi Watts</a>, <a href=\"/wiki/Annabelle_Wallis\" title=\"Annabelle Wallis\">Annabelle Wallis</a>, <a href=\"/wiki/Ken_Jeong\" title=\"Ken Jeong\">Ken Jeong</a>, <a href=\"/wiki/Will_Sasso\" title=\"Will Sasso\">Will Sasso</a>, <a href=\"/wiki/Selina_Lo\" title=\"Selina Lo\">Selina Lo</a>, <a href=\"/wiki/Meadow_Williams\" title=\"Meadow Williams\">Meadow Williams</a>, <a href=\"/wiki/Michelle_Yeoh\" title=\"Michelle Yeoh\">Michelle Yeoh</a></td>\n",
            "<td><div class=\"center\" style=\"width:auto; margin-left:auto; margin-right:auto;\"><sup class=\"reference\" id=\"cite_ref-45\"><a href=\"#cite_note-45\">[45]</a></sup></div>\n",
            "</td></tr>\n",
            "*************************\n",
            "<tr>\n",
            "<td><i><a href=\"/wiki/Boogie_(2021_film)\" title=\"Boogie (2021 film)\">Boogie</a></i></td>\n",
            "<td><a href=\"/wiki/Focus_Features\" title=\"Focus Features\">Focus Features</a></td>\n",
            "<td><a href=\"/wiki/Eddie_Huang\" title=\"Eddie Huang\">Eddie Huang</a> (director/screenplay); Taylor Takahashi, <a href=\"/wiki/Taylour_Paige\" title=\"Taylour Paige\">Taylour Paige</a>, <a href=\"/wiki/Jorge_Lendeborg_Jr.\" title=\"Jorge Lendeborg Jr.\">Jorge Lendeborg Jr.</a>, <a href=\"/wiki/Pop_Smoke\" title=\"Pop Smoke\">Bashar \"Pop Smoke\" Jackson</a></td>\n",
            "<td><div class=\"center\" style=\"width:auto; margin-left:auto; margin-right:auto;\"><sup class=\"reference\" id=\"cite_ref-46\"><a href=\"#cite_note-46\">[46]</a></sup></div>\n",
            "</td></tr>\n",
            "*************************\n",
            "<tr>\n",
            "<td rowspan=\"4\" style=\"text-align:center; background:#c7f7df\"><b>12</b>\n",
            "</td>\n",
            "<td><i><a href=\"/wiki/Yes_Day\" title=\"Yes Day\">Yes Day</a></i></td>\n",
            "<td><a href=\"/wiki/Netflix\" title=\"Netflix\">Netflix</a></td>\n",
            "<td><a href=\"/wiki/Miguel_Arteta\" title=\"Miguel Arteta\">Miguel Arteta</a> (director); Justin Malen (screenplay); <a href=\"/wiki/Jennifer_Garner\" title=\"Jennifer Garner\">Jennifer Garner</a>, <a href=\"/wiki/%C3%89dgar_Ram%C3%ADrez\" title=\"Édgar Ramírez\">Édgar Ramírez</a>, <a href=\"/wiki/Jenna_Ortega\" title=\"Jenna Ortega\">Jenna Ortega</a></td>\n",
            "<td><div class=\"center\" style=\"width:auto; margin-left:auto; margin-right:auto;\"><sup class=\"reference\" id=\"cite_ref-47\"><a href=\"#cite_note-47\">[47]</a></sup></div>\n",
            "</td></tr>\n",
            "*************************\n",
            "<tr>\n",
            "<td><i><a href=\"/wiki/Long_Weekend_(2021_film)\" title=\"Long Weekend (2021 film)\">Long Weekend</a></i></td>\n",
            "<td><a href=\"/wiki/Stage_6_Films\" title=\"Stage 6 Films\">Stage 6 Films</a></td>\n",
            "<td>Steve Basilone (director/screenplay); <a href=\"/wiki/Finn_Wittrock\" title=\"Finn Wittrock\">Finn Wittrock</a>, <a href=\"/wiki/Zo%C3%AB_Chao\" title=\"Zoë Chao\">Zoë Chao</a>, <a href=\"/wiki/Casey_Wilson\" title=\"Casey Wilson\">Casey Wilson</a>, <a href=\"/wiki/Jim_Rash\" title=\"Jim Rash\">Jim Rash</a>, <a href=\"/wiki/Damon_Wayans_Jr.\" title=\"Damon Wayans Jr.\">Damon Wayans Jr.</a></td>\n",
            "<td><div class=\"center\" style=\"width:auto; margin-left:auto; margin-right:auto;\"><sup class=\"reference\" id=\"cite_ref-48\"><a href=\"#cite_note-48\">[48]</a></sup></div>\n",
            "</td></tr>\n",
            "*************************\n",
            "<tr>\n",
            "<td><i><a href=\"/wiki/Cosmic_Sin\" title=\"Cosmic Sin\">Cosmic Sin</a></i></td>\n",
            "<td><a class=\"mw-redirect\" href=\"/wiki/Saban_Films\" title=\"Saban Films\">Saban Films</a></td>\n",
            "<td><a href=\"/wiki/Edward_John_Drake\" title=\"Edward John Drake\">Edward Drake</a> (director/screenplay); <a class=\"mw-redirect\" href=\"/wiki/Corey_Large\" title=\"Corey Large\">Corey Large</a> (screenplay); <a href=\"/wiki/Bruce_Willis\" title=\"Bruce Willis\">Bruce Willis</a>, <a href=\"/wiki/Frank_Grillo\" title=\"Frank Grillo\">Frank Grillo</a>, Brandon Thomas Lee, <a class=\"mw-redirect\" href=\"/wiki/C.J._Perry\" title=\"C.J. Perry\">C.J. Perry</a></td>\n",
            "<td>\n",
            "</td></tr>\n",
            "*************************\n",
            "<tr>\n",
            "<td><i><a href=\"/wiki/Trust_(2021_film)\" title=\"Trust (2021 film)\">Trust</a></i></td>\n",
            "<td><a class=\"mw-redirect\" href=\"/wiki/Vertical_Entertainment\" title=\"Vertical Entertainment\">Vertical Entertainment</a></td>\n",
            "<td>Brian DeCubellis (director/screenplay); Kristen Lazarian, K.S. Bruce (screenplay); <a href=\"/wiki/Victoria_Justice\" title=\"Victoria Justice\">Victoria Justice</a>, <a href=\"/wiki/Matthew_Daddario\" title=\"Matthew Daddario\">Matthew Daddario</a>, <a href=\"/wiki/Katherine_McNamara\" title=\"Katherine McNamara\">Katherine McNamara</a>, <a href=\"/wiki/Lucien_Laviscount\" title=\"Lucien Laviscount\">Lucien Laviscount</a>, <a href=\"/wiki/Ronny_Chieng\" title=\"Ronny Chieng\">Ronny Chieng</a>, <a href=\"/wiki/Lindsey_Broad\" title=\"Lindsey Broad\">Lindsey Broad</a></td>\n",
            "<td style=\"text-align:center;\"><sup class=\"reference\" id=\"cite_ref-49\"><a href=\"#cite_note-49\">[49]</a></sup>\n",
            "</td></tr>\n",
            "*************************\n",
            "<tr>\n",
            "<td rowspan=\"1\" style=\"text-align:center; background:#c7f7df\"><b>18</b>\n",
            "</td>\n",
            "<td><i><a href=\"/wiki/Zack_Snyder%27s_Justice_League\" title=\"Zack Snyder's Justice League\">Zack Snyder's Justice League</a></i></td>\n",
            "<td><a class=\"mw-redirect\" href=\"/wiki/HBO_Max\" title=\"HBO Max\">HBO Max</a> / <a href=\"/wiki/Warner_Bros._Pictures\" title=\"Warner Bros. Pictures\">Warner Bros. Pictures</a> / <a class=\"mw-redirect\" href=\"/wiki/DC_Films\" title=\"DC Films\">DC Films</a> / <a href=\"/wiki/Atlas_Entertainment\" title=\"Atlas Entertainment\">Atlas Entertainment</a> / <a href=\"/wiki/The_Stone_Quarry\" title=\"The Stone Quarry\">The Stone Quarry</a></td>\n",
            "<td><a href=\"/wiki/Zack_Snyder\" title=\"Zack Snyder\">Zack Snyder</a> (director); <a href=\"/wiki/Chris_Terrio\" title=\"Chris Terrio\">Chris Terrio</a> (screenplay); <a href=\"/wiki/Ben_Affleck\" title=\"Ben Affleck\">Ben Affleck</a>, <a href=\"/wiki/Henry_Cavill\" title=\"Henry Cavill\">Henry Cavill</a>, <a href=\"/wiki/Amy_Adams\" title=\"Amy Adams\">Amy Adams</a>, <a href=\"/wiki/Gal_Gadot\" title=\"Gal Gadot\">Gal Gadot</a>, <a href=\"/wiki/Ray_Fisher_(actor)\" title=\"Ray Fisher (actor)\">Ray Fisher</a>, <a href=\"/wiki/Jason_Momoa\" title=\"Jason Momoa\">Jason Momoa</a>, <a href=\"/wiki/Ezra_Miller\" title=\"Ezra Miller\">Ezra Miller</a>, <a href=\"/wiki/Willem_Dafoe\" title=\"Willem Dafoe\">Willem Dafoe</a>, <a href=\"/wiki/Jesse_Eisenberg\" title=\"Jesse Eisenberg\">Jesse Eisenberg</a>, <a href=\"/wiki/Jeremy_Irons\" title=\"Jeremy Irons\">Jeremy Irons</a>, <a href=\"/wiki/Diane_Lane\" title=\"Diane Lane\">Diane Lane</a>, <a href=\"/wiki/Connie_Nielsen\" title=\"Connie Nielsen\">Connie Nielsen</a>, <a href=\"/wiki/J._K._Simmons\" title=\"J. K. Simmons\">J. K. Simmons</a>, <a href=\"/wiki/Ciar%C3%A1n_Hinds\" title=\"Ciarán Hinds\">Ciarán Hinds</a></td>\n",
            "<td><div class=\"center\" style=\"width:auto; margin-left:auto; margin-right:auto;\"><sup class=\"reference\" id=\"cite_ref-50\"><a href=\"#cite_note-50\">[50]</a></sup></div>\n",
            "</td></tr>\n",
            "*************************\n",
            "<tr>\n",
            "<td rowspan=\"3\" style=\"text-align:center; background:#c7f7df\"><b>19</b>\n",
            "</td>\n",
            "<td><i><a href=\"/wiki/The_Courier_(2020_film)\" title=\"The Courier (2020 film)\">The Courier</a></i></td>\n",
            "<td><a href=\"/wiki/Lionsgate\" title=\"Lionsgate\">Lionsgate</a> / <a href=\"/wiki/Roadside_Attractions\" title=\"Roadside Attractions\">Roadside Attractions</a> / <a href=\"/wiki/FilmNation_Entertainment\" title=\"FilmNation Entertainment\">FilmNation Entertainment</a></td>\n",
            "<td><a href=\"/wiki/Dominic_Cooke\" title=\"Dominic Cooke\">Dominic Cooke</a> (director); Tom O'Connor (screenplay); <a href=\"/wiki/Benedict_Cumberbatch\" title=\"Benedict Cumberbatch\">Benedict Cumberbatch</a>, <a href=\"/wiki/Merab_Ninidze\" title=\"Merab Ninidze\">Merab Ninidze</a>, <a href=\"/wiki/Rachel_Brosnahan\" title=\"Rachel Brosnahan\">Rachel Brosnahan</a>, <a href=\"/wiki/Jessie_Buckley\" title=\"Jessie Buckley\">Jessie Buckley</a>, <a href=\"/wiki/Angus_Wright_(actor)\" title=\"Angus Wright (actor)\">Angus Wright</a></td>\n",
            "<td><div class=\"center\" style=\"width:auto; margin-left:auto; margin-right:auto;\"><sup class=\"reference\" id=\"cite_ref-51\"><a href=\"#cite_note-51\">[51]</a></sup></div>\n",
            "</td></tr>\n",
            "*************************\n",
            "<tr>\n",
            "<td><i><a href=\"/wiki/City_of_Lies\" title=\"City of Lies\">City of Lies</a></i></td>\n",
            "<td><a class=\"mw-redirect\" href=\"/wiki/Saban_Films\" title=\"Saban Films\">Saban Films</a> / <a href=\"/wiki/Miramax\" title=\"Miramax\">Miramax</a></td>\n",
            "<td><a href=\"/wiki/Brad_Furman\" title=\"Brad Furman\">Brad Furman</a> (director); Christian Contreras (screenplay); <a href=\"/wiki/Johnny_Depp\" title=\"Johnny Depp\">Johnny Depp</a>, <a href=\"/wiki/Forest_Whitaker\" title=\"Forest Whitaker\">Forest Whitaker</a></td>\n",
            "<td style=\"text-align:center;\"><sup class=\"reference\" id=\"cite_ref-52\"><a href=\"#cite_note-52\">[52]</a></sup>\n",
            "</td></tr>\n",
            "*************************\n",
            "<tr>\n",
            "<td><i><a href=\"/wiki/Happily_(film)\" title=\"Happily (film)\">Happily</a></i></td>\n",
            "<td><a class=\"mw-redirect\" href=\"/wiki/Saban_Films\" title=\"Saban Films\">Saban Films</a></td>\n",
            "<td>BenDavid Grabinski (director/screenplay); <a href=\"/wiki/Joel_McHale\" title=\"Joel McHale\">Joel McHale</a>, <a href=\"/wiki/Kerry_Bish%C3%A9\" title=\"Kerry Bishé\">Kerry Bishé</a>, <a href=\"/wiki/Stephen_Root\" title=\"Stephen Root\">Stephen Root</a></td>\n",
            "<td><div class=\"center\" style=\"width:auto; margin-left:auto; margin-right:auto;\"><sup class=\"reference\" id=\"cite_ref-53\"><a href=\"#cite_note-53\">[53]</a></sup></div>\n",
            "</td></tr>\n",
            "*************************\n",
            "<tr>\n",
            "<td rowspan=\"5\" style=\"text-align:center; background:#c7f7df\"><b>26</b>\n",
            "</td>\n",
            "<td><i><a href=\"/wiki/Nobody_(2021_film)\" title=\"Nobody (2021 film)\">Nobody</a></i></td>\n",
            "<td><a href=\"/wiki/Universal_Pictures\" title=\"Universal Pictures\">Universal Pictures</a> / <a href=\"/wiki/Perfect_World_Pictures\" title=\"Perfect World Pictures\">Perfect World Pictures</a> / <a href=\"/wiki/87North_Productions\" title=\"87North Productions\">87North Productions</a></td>\n",
            "<td><a href=\"/wiki/Ilya_Naishuller\" title=\"Ilya Naishuller\">Ilya Naishuller</a> (director); <a href=\"/wiki/Derek_Kolstad\" title=\"Derek Kolstad\">Derek Kolstad</a> (screenplay); <a href=\"/wiki/Bob_Odenkirk\" title=\"Bob Odenkirk\">Bob Odenkirk</a>, <a href=\"/wiki/Connie_Nielsen\" title=\"Connie Nielsen\">Connie Nielsen</a>, <a href=\"/wiki/Aleksei_Serebryakov_(actor)\" title=\"Aleksei Serebryakov (actor)\">Aleksei Serebryakov</a>, <a href=\"/wiki/RZA\" title=\"RZA\">RZA</a>, <a href=\"/wiki/Michael_Ironside\" title=\"Michael Ironside\">Michael Ironside</a>, <a href=\"/wiki/Colin_Salmon\" title=\"Colin Salmon\">Colin Salmon</a>, <a href=\"/wiki/Christopher_Lloyd\" title=\"Christopher Lloyd\">Christopher Lloyd</a></td>\n",
            "<td><div class=\"center\" style=\"width:auto; margin-left:auto; margin-right:auto;\"><sup class=\"reference\" id=\"cite_ref-54\"><a href=\"#cite_note-54\">[54]</a></sup></div>\n",
            "</td></tr>\n",
            "*************************\n",
            "<tr>\n",
            "<td><i><a href=\"/wiki/Bad_Trip_(film)\" title=\"Bad Trip (film)\">Bad Trip</a></i></td>\n",
            "<td><a href=\"/wiki/Netflix\" title=\"Netflix\">Netflix</a> / <a href=\"/wiki/Orion_Pictures\" title=\"Orion Pictures\">Orion Pictures</a></td>\n",
            "<td>Kitao Sakurai (director/screenplay); Dan Curry, <a href=\"/wiki/Eric_Andr%C3%A9\" title=\"Eric André\">Eric André</a> (screenplay); Eric André, <a href=\"/wiki/Lil_Rel_Howery\" title=\"Lil Rel Howery\">Lil Rel Howery</a>, <a href=\"/wiki/Tiffany_Haddish\" title=\"Tiffany Haddish\">Tiffany Haddish</a></td>\n",
            "<td>\n",
            "</td></tr>\n",
            "*************************\n",
            "<tr>\n",
            "<td><i><a href=\"/wiki/The_Seventh_Day_(2021_film)\" title=\"The Seventh Day (2021 film)\">The Seventh Day</a></i></td>\n",
            "<td><a class=\"mw-redirect\" href=\"/wiki/Vertical_Entertainment\" title=\"Vertical Entertainment\">Vertical Entertainment</a> / <a href=\"/wiki/Voltage_Pictures\" title=\"Voltage Pictures\">Voltage Pictures</a></td>\n",
            "<td>Justin P. Lange (director/screenplay); <a href=\"/wiki/Guy_Pearce\" title=\"Guy Pearce\">Guy Pearce</a>, <a href=\"/wiki/Vadhir_Derbez\" title=\"Vadhir Derbez\">Vadhir Derbez</a>, <a href=\"/wiki/Stephen_Lang\" title=\"Stephen Lang\">Stephen Lang</a>, <a href=\"/wiki/Keith_David\" title=\"Keith David\">Keith David</a>, <a href=\"/wiki/Robin_Bartlett\" title=\"Robin Bartlett\">Robin Bartlett</a></td>\n",
            "<td><div class=\"center\" style=\"width:auto; margin-left:auto; margin-right:auto;\"><sup class=\"reference\" id=\"cite_ref-55\"><a href=\"#cite_note-55\">[55]</a></sup></div>\n",
            "</td></tr>\n",
            "*************************\n",
            "<tr>\n",
            "<td><i><a href=\"/wiki/Senior_Moment\" title=\"Senior Moment\">Senior Moment</a></i></td>\n",
            "<td><a class=\"mw-redirect\" href=\"/wiki/Screen_Media_Films\" title=\"Screen Media Films\">Screen Media Films</a></td>\n",
            "<td>Giorgio Serafini (director); Kurt Brungardt, Christopher Momenee (screenplay); <a href=\"/wiki/William_Shatner\" title=\"William Shatner\">William Shatner</a>, <a href=\"/wiki/Jean_Smart\" title=\"Jean Smart\">Jean Smart</a>, <a href=\"/wiki/Christopher_Lloyd\" title=\"Christopher Lloyd\">Christopher Lloyd</a></td>\n",
            "<td><div class=\"center\" style=\"width:auto; margin-left:auto; margin-right:auto;\"><sup class=\"reference\" id=\"cite_ref-56\"><a href=\"#cite_note-56\">[56]</a></sup></div>\n",
            "</td></tr>\n",
            "*************************\n",
            "<tr>\n",
            "<td><i><a href=\"/wiki/North_Hollywood_(film)\" title=\"North Hollywood (film)\">North Hollywood</a></i></td>\n",
            "<td><a href=\"/wiki/Illegal_Civilization\" title=\"Illegal Civilization\">Illegal Civilization</a></td>\n",
            "<td>Mikey Alfred (director); Rusty Johnson (screenplay); Ryder McLaughlin, <a href=\"/wiki/Vince_Vaughn\" title=\"Vince Vaughn\">Vince Vaughn</a>, <a href=\"/wiki/Miranda_Cosgrove\" title=\"Miranda Cosgrove\">Miranda Cosgrove</a></td>\n",
            "<td><div class=\"center\" style=\"width:auto; margin-left:auto; margin-right:auto;\"><sup class=\"reference\" id=\"cite_ref-57\"><a href=\"#cite_note-57\">[57]</a></sup></div>\n",
            "</td></tr>\n",
            "*************************\n",
            "<tr>\n",
            "<td style=\"text-align:center; background:#c7f7df\"><b>31</b>\n",
            "</td>\n",
            "<td><i><a href=\"/wiki/Godzilla_vs._Kong\" title=\"Godzilla vs. Kong\">Godzilla vs. Kong</a></i></td>\n",
            "<td><a href=\"/wiki/Warner_Bros._Pictures\" title=\"Warner Bros. Pictures\">Warner Bros. Pictures</a> / <a href=\"/wiki/Legendary_Entertainment\" title=\"Legendary Entertainment\">Legendary Entertainment</a> / <a class=\"mw-redirect\" href=\"/wiki/HBO_Max\" title=\"HBO Max\">HBO Max</a></td>\n",
            "<td><a href=\"/wiki/Adam_Wingard\" title=\"Adam Wingard\">Adam Wingard</a> (director); <a href=\"/wiki/Eric_Pearson\" title=\"Eric Pearson\">Eric Pearson</a>, <a href=\"/wiki/Max_Borenstein\" title=\"Max Borenstein\">Max Borenstein</a> (screenplay); <a href=\"/wiki/Alexander_Skarsg%C3%A5rd\" title=\"Alexander Skarsgård\">Alexander Skarsgård</a>, <a href=\"/wiki/Millie_Bobby_Brown\" title=\"Millie Bobby Brown\">Millie Bobby Brown</a>, <a href=\"/wiki/Rebecca_Hall\" title=\"Rebecca Hall\">Rebecca Hall</a>, <a href=\"/wiki/Brian_Tyree_Henry\" title=\"Brian Tyree Henry\">Brian Tyree Henry</a>, <a href=\"/wiki/Shun_Oguri\" title=\"Shun Oguri\">Shun Oguri</a>, <a href=\"/wiki/Eiza_Gonz%C3%A1lez\" title=\"Eiza González\">Eiza González</a>, <a href=\"/wiki/Julian_Dennison\" title=\"Julian Dennison\">Julian Dennison</a>, <a href=\"/wiki/Lance_Reddick\" title=\"Lance Reddick\">Lance Reddick</a>, <a href=\"/wiki/Kyle_Chandler\" title=\"Kyle Chandler\">Kyle Chandler</a>, <a href=\"/wiki/Demi%C3%A1n_Bichir\" title=\"Demián Bichir\">Demián Bichir</a></td>\n",
            "<td><div class=\"center\" style=\"width:auto; margin-left:auto; margin-right:auto;\"><sup class=\"reference\" id=\"cite_ref-:1_58-0\"><a href=\"#cite_note-:1-58\">[58]</a></sup></div>\n",
            "</td></tr>\n",
            "*************************\n"
          ]
        }
      ]
    },
    {
      "cell_type": "code",
      "source": [
        "tables = soup.findAll('table', class_ = \"wikitable\")\n",
        "for table in tables:\n",
        "  all_headers = [th.text.replace(\"\\n\",\"\") for th in table.find_all('th')]\n",
        "  if \"Title\" in all_headers and \"Production company\" in all_headers:\n",
        "    print(all_headers)\n",
        "    rows = table.tbody.find_all(\"tr\")\n",
        "    for row in rows[1:]:\n",
        "      print(row)\n",
        "      print(\"*************************\")\n",
        "      title = row.find_all(\"i\")[0].a\n",
        "      print(title)\n",
        "      print(title[\"href\"])\n",
        "      print(title[\"title\"])\n",
        "      url = \"https://en.wikipedia.org/\" + title['href']\n",
        "      print(url)\n",
        "      print(\"**************************\")\n",
        "\n",
        "    break"
      ],
      "metadata": {
        "colab": {
          "base_uri": "https://localhost:8080/"
        },
        "id": "TD-RJ5JsA01O",
        "outputId": "9750777c-818b-49d9-e7c0-a1fe1754113a"
      },
      "execution_count": null,
      "outputs": [
        {
          "output_type": "stream",
          "name": "stdout",
          "text": [
            "['Opening', 'Title', 'Production company', 'Cast and crew', 'Ref.', 'JANUARY', 'FEBRUARY', 'MARCH']\n",
            "<tr>\n",
            "<th rowspan=\"21\" style=\"text-align:center; background:#f7bf87; text color:#000;\">J<br/>A<br/>N<br/>U<br/>A<br/>R<br/>Y\n",
            "</th>\n",
            "<td rowspan=\"1\" style=\"text-align:center; background:#f7dfc7\"><b>1</b>\n",
            "</td>\n",
            "<td><i><a href=\"/wiki/Shadow_in_the_Cloud\" title=\"Shadow in the Cloud\">Shadow in the Cloud</a></i></td>\n",
            "<td><a class=\"mw-redirect\" href=\"/wiki/Vertical_Entertainment\" title=\"Vertical Entertainment\">Vertical Entertainment</a></td>\n",
            "<td><a href=\"/wiki/Roseanne_Liang\" title=\"Roseanne Liang\">Roseanne Liang</a> (director/screenplay); <a href=\"/wiki/Max_Landis\" title=\"Max Landis\">Max Landis</a> (screenplay); <a href=\"/wiki/Chlo%C3%AB_Grace_Moretz\" title=\"Chloë Grace Moretz\">Chloë Grace Moretz</a>, <a href=\"/wiki/Taylor_John_Smith\" title=\"Taylor John Smith\">Taylor John Smith</a>, <a href=\"/wiki/Beulah_Koale\" title=\"Beulah Koale\">Beulah Koale</a>, <a href=\"/wiki/Callan_Mulvey\" title=\"Callan Mulvey\">Callan Mulvey</a>, <a href=\"/wiki/Nick_Robinson_(American_actor)\" title=\"Nick Robinson (American actor)\">Nick Robinson</a></td>\n",
            "<td><div class=\"center\" style=\"width:auto; margin-left:auto; margin-right:auto;\"><sup class=\"reference\" id=\"cite_ref-2\"><a href=\"#cite_note-2\">[2]</a></sup></div>\n",
            "</td></tr>\n",
            "*************************\n",
            "<a href=\"/wiki/Shadow_in_the_Cloud\" title=\"Shadow in the Cloud\">Shadow in the Cloud</a>\n",
            "/wiki/Shadow_in_the_Cloud\n",
            "Shadow in the Cloud\n",
            "https://en.wikipedia.org//wiki/Shadow_in_the_Cloud\n",
            "**************************\n",
            "<tr>\n",
            "<td rowspan=\"1\" style=\"text-align:center; background:#f7dfc7\"><b>5</b>\n",
            "</td>\n",
            "<td><i><a href=\"/wiki/Hacksaw_(film)\" title=\"Hacksaw (film)\">Hacksaw</a></i>\n",
            "</td>\n",
            "<td>Leone Films / Midnight Releasing\n",
            "</td>\n",
            "<td>Anthony Leone (director/screenplay); Amy Cay, <a href=\"/wiki/Brian_Patrick_Butler\" title=\"Brian Patrick Butler\">Brian Patrick Butler</a>, <a href=\"/wiki/Michael_C._Burgess_(editor)\" title=\"Michael C. Burgess (editor)\">Michael C. Burgess</a>, <a href=\"/wiki/Cortney_Palm\" title=\"Cortney Palm\">Cortney Palm</a>, George Jac, <a href=\"/wiki/Sadie_Katz\" title=\"Sadie Katz\">Sadie Katz</a>, <a class=\"mw-redirect\" href=\"/wiki/Jayce_Venditti\" title=\"Jayce Venditti\">Jayce Venditti</a>\n",
            "</td>\n",
            "<td><div class=\"center\" style=\"width:auto; margin-left:auto; margin-right:auto;\"><sup class=\"reference\" id=\"cite_ref-3\"><a href=\"#cite_note-3\">[3]</a></sup></div>\n",
            "</td></tr>\n",
            "*************************\n",
            "<a href=\"/wiki/Hacksaw_(film)\" title=\"Hacksaw (film)\">Hacksaw</a>\n",
            "/wiki/Hacksaw_(film)\n",
            "Hacksaw (film)\n",
            "https://en.wikipedia.org//wiki/Hacksaw_(film)\n",
            "**************************\n",
            "<tr>\n",
            "<td rowspan=\"1\" style=\"text-align:center; background:#f7dfc7\"><b>12</b>\n",
            "</td>\n",
            "<td><i><a href=\"/wiki/Dr._Bird%27s_Advice_for_Sad_Poets\" title=\"Dr. Bird's Advice for Sad Poets\">Dr. Bird's Advice for Sad Poets</a></i></td>\n",
            "<td><a href=\"/wiki/Relativity_Media\" title=\"Relativity Media\">Relativity Media</a> / <a href=\"/wiki/Ketchup_Entertainment\" title=\"Ketchup Entertainment\">Ketchup Entertainment</a></td>\n",
            "<td>Yaniv Raz (director/screenplay); <a href=\"/wiki/Lucas_Jade_Zumann\" title=\"Lucas Jade Zumann\">Lucas Jade Zumann</a>, <a href=\"/wiki/Taylor_Russell\" title=\"Taylor Russell\">Taylor Russell</a>, <a href=\"/wiki/Chase_Stokes\" title=\"Chase Stokes\">Chase Stokes</a>, <a href=\"/wiki/Lisa_Edelstein\" title=\"Lisa Edelstein\">Lisa Edelstein</a>, <a href=\"/wiki/David_Arquette\" title=\"David Arquette\">David Arquette</a>, <a href=\"/wiki/Jason_Isaacs\" title=\"Jason Isaacs\">Jason Isaacs</a></td>\n",
            "<td><div class=\"center\" style=\"width:auto; margin-left:auto; margin-right:auto;\"><sup class=\"reference\" id=\"cite_ref-4\"><a href=\"#cite_note-4\">[4]</a></sup></div>\n",
            "</td></tr>\n",
            "*************************\n",
            "<a href=\"/wiki/Dr._Bird%27s_Advice_for_Sad_Poets\" title=\"Dr. Bird's Advice for Sad Poets\">Dr. Bird's Advice for Sad Poets</a>\n",
            "/wiki/Dr._Bird%27s_Advice_for_Sad_Poets\n",
            "Dr. Bird's Advice for Sad Poets\n",
            "https://en.wikipedia.org//wiki/Dr._Bird%27s_Advice_for_Sad_Poets\n",
            "**************************\n",
            "<tr>\n",
            "<td rowspan=\"1\" style=\"text-align:center; background:#f7dfc7\"><b>13</b>\n",
            "</td>\n",
            "<td><i><a href=\"/wiki/The_White_Tiger_(2021_film)\" title=\"The White Tiger (2021 film)\">The White Tiger</a></i></td>\n",
            "<td><a href=\"/wiki/Netflix\" title=\"Netflix\">Netflix</a> / <a href=\"/wiki/ARRAY\" title=\"ARRAY\">ARRAY</a> / <a href=\"/wiki/Purple_Pebble_Pictures\" title=\"Purple Pebble Pictures\">Purple Pebble Pictures</a></td>\n",
            "<td><a href=\"/wiki/Ramin_Bahrani\" title=\"Ramin Bahrani\">Ramin Bahrani</a> (director/screenplay); Adarsh Gourav, <a href=\"/wiki/Rajkummar_Rao\" title=\"Rajkummar Rao\">Rajkummar Rao</a>, <a href=\"/wiki/Priyanka_Chopra\" title=\"Priyanka Chopra\">Priyanka Chopra Jonas</a></td>\n",
            "<td>\n",
            "</td></tr>\n",
            "*************************\n",
            "<a href=\"/wiki/The_White_Tiger_(2021_film)\" title=\"The White Tiger (2021 film)\">The White Tiger</a>\n",
            "/wiki/The_White_Tiger_(2021_film)\n",
            "The White Tiger (2021 film)\n",
            "https://en.wikipedia.org//wiki/The_White_Tiger_(2021_film)\n",
            "**************************\n",
            "<tr>\n",
            "<td rowspan=\"1\" style=\"text-align:center; background:#f7dfc7\"><b>14</b>\n",
            "</td>\n",
            "<td><i><a href=\"/wiki/Locked_Down_(film)\" title=\"Locked Down (film)\">Locked Down</a></i></td>\n",
            "<td><a href=\"/wiki/Max_(streaming_service)\" title=\"Max (streaming service)\">HBO Max</a> / <a href=\"/wiki/Warner_Bros._Pictures\" title=\"Warner Bros. Pictures\">Warner Bros. Pictures</a></td>\n",
            "<td><a href=\"/wiki/Doug_Liman\" title=\"Doug Liman\">Doug Liman</a> (director); <a href=\"/wiki/Steven_Knight\" title=\"Steven Knight\">Steven Knight</a> (screenplay); <a href=\"/wiki/Anne_Hathaway\" title=\"Anne Hathaway\">Anne Hathaway</a>, <a href=\"/wiki/Chiwetel_Ejiofor\" title=\"Chiwetel Ejiofor\">Chiwetel Ejiofor</a>, <a href=\"/wiki/Stephen_Merchant\" title=\"Stephen Merchant\">Stephen Merchant</a>, <a href=\"/wiki/Mindy_Kaling\" title=\"Mindy Kaling\">Mindy Kaling</a>, <a href=\"/wiki/Lucy_Boynton\" title=\"Lucy Boynton\">Lucy Boynton</a>, <a href=\"/wiki/Dul%C3%A9_Hill\" title=\"Dulé Hill\">Dulé Hill</a>, <a href=\"/wiki/Jazmyn_Simon\" title=\"Jazmyn Simon\">Jazmyn Simon</a>, <a href=\"/wiki/Mark_Gatiss\" title=\"Mark Gatiss\">Mark Gatiss</a>, <a href=\"/wiki/Claes_Bang\" title=\"Claes Bang\">Claes Bang</a>, <a href=\"/wiki/Ben_Stiller\" title=\"Ben Stiller\">Ben Stiller</a>, <a href=\"/wiki/Ben_Kingsley\" title=\"Ben Kingsley\">Ben Kingsley</a></td>\n",
            "<td><div class=\"center\" style=\"width:auto; margin-left:auto; margin-right:auto;\"><sup class=\"reference\" id=\"cite_ref-5\"><a href=\"#cite_note-5\">[5]</a></sup></div>\n",
            "</td></tr>\n",
            "*************************\n",
            "<a href=\"/wiki/Locked_Down_(film)\" title=\"Locked Down (film)\">Locked Down</a>\n",
            "/wiki/Locked_Down_(film)\n",
            "Locked Down (film)\n",
            "https://en.wikipedia.org//wiki/Locked_Down_(film)\n",
            "**************************\n",
            "<tr>\n",
            "<td rowspan=\"6\" style=\"text-align:center; background:#f7dfc7\"><b>15</b>\n",
            "</td>\n",
            "<td><i><a href=\"/wiki/The_Dig_(2021_film)\" title=\"The Dig (2021 film)\">The Dig</a></i></td>\n",
            "<td><a href=\"/wiki/Netflix\" title=\"Netflix\">Netflix</a> / <a href=\"/wiki/Clerkenwell_Films\" title=\"Clerkenwell Films\">Clerkenwell Films</a></td>\n",
            "<td><a href=\"/wiki/Simon_Stone\" title=\"Simon Stone\">Simon Stone</a> (director); <a href=\"/wiki/Moira_Buffini\" title=\"Moira Buffini\">Moira Buffini</a> (screenplay); <a href=\"/wiki/Carey_Mulligan\" title=\"Carey Mulligan\">Carey Mulligan</a>, <a href=\"/wiki/Ralph_Fiennes\" title=\"Ralph Fiennes\">Ralph Fiennes</a>, <a href=\"/wiki/Lily_James\" title=\"Lily James\">Lily James</a>, <a class=\"mw-redirect\" href=\"/wiki/Johnny_Flynn_(musician)\" title=\"Johnny Flynn (musician)\">Johnny Flynn</a>, <a href=\"/wiki/Ben_Chaplin\" title=\"Ben Chaplin\">Ben Chaplin</a>, <a href=\"/wiki/Ken_Stott\" title=\"Ken Stott\">Ken Stott</a>, Archie Barnes, <a href=\"/wiki/Monica_Dolan\" title=\"Monica Dolan\">Monica Dolan</a></td>\n",
            "<td><div class=\"center\" style=\"width:auto; margin-left:auto; margin-right:auto;\"><sup class=\"reference\" id=\"cite_ref-6\"><a href=\"#cite_note-6\">[6]</a></sup></div>\n",
            "</td></tr>\n",
            "*************************\n",
            "<a href=\"/wiki/The_Dig_(2021_film)\" title=\"The Dig (2021 film)\">The Dig</a>\n",
            "/wiki/The_Dig_(2021_film)\n",
            "The Dig (2021 film)\n",
            "https://en.wikipedia.org//wiki/The_Dig_(2021_film)\n",
            "**************************\n",
            "<tr>\n",
            "<td><i><a href=\"/wiki/Outside_the_Wire\" title=\"Outside the Wire\">Outside the Wire</a></i></td>\n",
            "<td><a href=\"/wiki/Netflix\" title=\"Netflix\">Netflix</a></td>\n",
            "<td><a href=\"/wiki/Mikael_H%C3%A5fstr%C3%B6m\" title=\"Mikael Håfström\">Mikael Håfström</a> (director); Rob Yescombe, Rowan Athale (screenplay); <a href=\"/wiki/Anthony_Mackie\" title=\"Anthony Mackie\">Anthony Mackie</a>, <a href=\"/wiki/Damson_Idris\" title=\"Damson Idris\">Damson Idris</a>, <a href=\"/wiki/Emily_Beecham\" title=\"Emily Beecham\">Emily Beecham</a>, <a href=\"/wiki/Michael_Kelly_(actor)\" title=\"Michael Kelly (actor)\">Michael Kelly</a>, <a href=\"/wiki/Pilou_Asb%C3%A6k\" title=\"Pilou Asbæk\">Pilou Asbæk</a></td>\n",
            "<td><div class=\"center\" style=\"width:auto; margin-left:auto; margin-right:auto;\"><sup class=\"reference\" id=\"cite_ref-7\"><a href=\"#cite_note-7\">[7]</a></sup></div>\n",
            "</td></tr>\n",
            "*************************\n",
            "<a href=\"/wiki/Outside_the_Wire\" title=\"Outside the Wire\">Outside the Wire</a>\n",
            "/wiki/Outside_the_Wire\n",
            "Outside the Wire\n",
            "https://en.wikipedia.org//wiki/Outside_the_Wire\n",
            "**************************\n",
            "<tr>\n",
            "<td><i><a href=\"/wiki/The_Marksman_(2021_film)\" title=\"The Marksman (2021 film)\">The Marksman</a></i></td>\n",
            "<td><a href=\"/wiki/Open_Road_Films\" title=\"Open Road Films\">Open Road Films</a></td>\n",
            "<td><a href=\"/wiki/Robert_Lorenz\" title=\"Robert Lorenz\">Robert Lorenz</a> (director/screenplay); Chris Charles, Danny Kravitz (screenplay); <a href=\"/wiki/Liam_Neeson\" title=\"Liam Neeson\">Liam Neeson</a>, <a href=\"/wiki/Katheryn_Winnick\" title=\"Katheryn Winnick\">Katheryn Winnick</a>, <a href=\"/wiki/Juan_Pablo_Raba\" title=\"Juan Pablo Raba\">Juan Pablo Raba</a>, <a href=\"/wiki/Teresa_Ruiz_(actress)\" title=\"Teresa Ruiz (actress)\">Teresa Ruiz</a></td>\n",
            "<td><div class=\"center\" style=\"width:auto; margin-left:auto; margin-right:auto;\"><sup class=\"reference\" id=\"cite_ref-8\"><a href=\"#cite_note-8\">[8]</a></sup></div>\n",
            "</td></tr>\n",
            "*************************\n",
            "<a href=\"/wiki/The_Marksman_(2021_film)\" title=\"The Marksman (2021 film)\">The Marksman</a>\n",
            "/wiki/The_Marksman_(2021_film)\n",
            "The Marksman (2021 film)\n",
            "https://en.wikipedia.org//wiki/The_Marksman_(2021_film)\n",
            "**************************\n",
            "<tr>\n",
            "<td><i><a href=\"/wiki/The_Ultimate_Playlist_of_Noise\" title=\"The Ultimate Playlist of Noise\">The Ultimate Playlist of Noise</a></i></td>\n",
            "<td><a href=\"/wiki/Hulu\" title=\"Hulu\">Hulu</a></td>\n",
            "<td>Bennett Lasseter (director); Mitchell Winkie (screenplay); <a href=\"/wiki/Keean_Johnson\" title=\"Keean Johnson\">Keean Johnson</a>, <a href=\"/wiki/Madeline_Brewer\" title=\"Madeline Brewer\">Madeline Brewer</a>, <a href=\"/wiki/Rya_Kihlstedt\" title=\"Rya Kihlstedt\">Rya Kihlstedt</a>, <a href=\"/wiki/Ian_Gomez\" title=\"Ian Gomez\">Ian Gomez</a>, <a href=\"/wiki/Bonnie_Hunt\" title=\"Bonnie Hunt\">Bonnie Hunt</a></td>\n",
            "<td><div class=\"center\" style=\"width:auto; margin-left:auto; margin-right:auto;\"><sup class=\"reference\" id=\"cite_ref-9\"><a href=\"#cite_note-9\">[9]</a></sup></div>\n",
            "</td></tr>\n",
            "*************************\n",
            "<a href=\"/wiki/The_Ultimate_Playlist_of_Noise\" title=\"The Ultimate Playlist of Noise\">The Ultimate Playlist of Noise</a>\n",
            "/wiki/The_Ultimate_Playlist_of_Noise\n",
            "The Ultimate Playlist of Noise\n",
            "https://en.wikipedia.org//wiki/The_Ultimate_Playlist_of_Noise\n",
            "**************************\n",
            "<tr>\n",
            "<td><i><a href=\"/wiki/American_Skin_(film)\" title=\"American Skin (film)\">American Skin</a></i></td>\n",
            "<td><a class=\"mw-redirect\" href=\"/wiki/Vertical_Entertainment\" title=\"Vertical Entertainment\">Vertical Entertainment</a></td>\n",
            "<td><a href=\"/wiki/Nate_Parker\" title=\"Nate Parker\">Nate Parker</a> (director/screenplay); Nate Parker, <a href=\"/wiki/Omari_Hardwick\" title=\"Omari Hardwick\">Omari Hardwick</a>, <a href=\"/wiki/Theo_Rossi\" title=\"Theo Rossi\">Theo Rossi</a>, <a href=\"/wiki/Shane_Paul_McGhie\" title=\"Shane Paul McGhie\">Shane Paul McGhie</a>, <a href=\"/wiki/Milauna_Jackson\" title=\"Milauna Jackson\">Milauna Jackson</a>, <a href=\"/wiki/Beau_Knapp\" title=\"Beau Knapp\">Beau Knapp</a></td>\n",
            "<td><div class=\"center\" style=\"width:auto; margin-left:auto; margin-right:auto;\"><sup class=\"reference\" id=\"cite_ref-10\"><a href=\"#cite_note-10\">[10]</a></sup></div>\n",
            "</td></tr>\n",
            "*************************\n",
            "<a href=\"/wiki/American_Skin_(film)\" title=\"American Skin (film)\">American Skin</a>\n",
            "/wiki/American_Skin_(film)\n",
            "American Skin (film)\n",
            "https://en.wikipedia.org//wiki/American_Skin_(film)\n",
            "**************************\n",
            "<tr>\n",
            "<td><i><a href=\"/wiki/Don%27t_Tell_a_Soul_(film)\" title=\"Don't Tell a Soul (film)\">Don't Tell a Soul</a></i></td>\n",
            "<td><a href=\"/wiki/Lionsgate\" title=\"Lionsgate\">Lionsgate</a> / <a class=\"mw-redirect\" href=\"/wiki/Saban_Films\" title=\"Saban Films\">Saban Films</a></td>\n",
            "<td><a href=\"/wiki/Alex_McAulay\" title=\"Alex McAulay\">Alex McAulay</a> (director/screenplay); <a href=\"/wiki/Jack_Dylan_Grazer\" title=\"Jack Dylan Grazer\">Jack Dylan Grazer</a>, <a href=\"/wiki/Fionn_Whitehead\" title=\"Fionn Whitehead\">Fionn Whitehead</a>, <a href=\"/wiki/Rainn_Wilson\" title=\"Rainn Wilson\">Rainn Wilson</a>, <a href=\"/wiki/Mena_Suvari\" title=\"Mena Suvari\">Mena Suvari</a></td>\n",
            "<td><div class=\"center\" style=\"width:auto; margin-left:auto; margin-right:auto;\"><sup class=\"reference\" id=\"cite_ref-11\"><a href=\"#cite_note-11\">[11]</a></sup></div>\n",
            "</td></tr>\n",
            "*************************\n",
            "<a href=\"/wiki/Don%27t_Tell_a_Soul_(film)\" title=\"Don't Tell a Soul (film)\">Don't Tell a Soul</a>\n",
            "/wiki/Don%27t_Tell_a_Soul_(film)\n",
            "Don't Tell a Soul (film)\n",
            "https://en.wikipedia.org//wiki/Don%27t_Tell_a_Soul_(film)\n",
            "**************************\n",
            "<tr>\n",
            "<td rowspan=\"3\" style=\"text-align:center; background:#f7ddc7\"><b>22</b>\n",
            "</td>\n",
            "<td><i><a href=\"/wiki/Our_Friend\" title=\"Our Friend\">Our Friend</a></i></td>\n",
            "<td><a href=\"/wiki/Gravitas_Ventures\" title=\"Gravitas Ventures\">Gravitas Ventures</a> / <a href=\"/wiki/Black_Bear_Pictures\" title=\"Black Bear Pictures\">Black Bear Pictures</a></td>\n",
            "<td><a href=\"/wiki/Gabriela_Cowperthwaite\" title=\"Gabriela Cowperthwaite\">Gabriela Cowperthwaite</a> (director); <a href=\"/wiki/Brad_Ingelsby\" title=\"Brad Ingelsby\">Brad Ingelsby</a> (screenplay); <a href=\"/wiki/Jason_Segel\" title=\"Jason Segel\">Jason Segel</a>, <a href=\"/wiki/Dakota_Johnson\" title=\"Dakota Johnson\">Dakota Johnson</a>, <a href=\"/wiki/Casey_Affleck\" title=\"Casey Affleck\">Casey Affleck</a>, <a href=\"/wiki/Gwendoline_Christie\" title=\"Gwendoline Christie\">Gwendoline Christie</a>, <a href=\"/wiki/Cherry_Jones\" title=\"Cherry Jones\">Cherry Jones</a></td>\n",
            "<td><div class=\"center\" style=\"width:auto; margin-left:auto; margin-right:auto;\"><sup class=\"reference\" id=\"cite_ref-12\"><a href=\"#cite_note-12\">[12]</a></sup></div>\n",
            "</td></tr>\n",
            "*************************\n",
            "<a href=\"/wiki/Our_Friend\" title=\"Our Friend\">Our Friend</a>\n",
            "/wiki/Our_Friend\n",
            "Our Friend\n",
            "https://en.wikipedia.org//wiki/Our_Friend\n",
            "**************************\n",
            "<tr>\n",
            "<td><i><a class=\"mw-redirect\" href=\"/wiki/No_Man%27s_Land_(2021_film)\" title=\"No Man's Land (2021 film)\">No Man's Land</a></i></td>\n",
            "<td><a href=\"/wiki/IFC_Films\" title=\"IFC Films\">IFC Films</a></td>\n",
            "<td>Conor Allyn (director); Jake Allyn, David Barraza (screenplay); Jake Allyn, <a href=\"/wiki/Frank_Grillo\" title=\"Frank Grillo\">Frank Grillo</a>, Jorge A. Jiménez, <a href=\"/wiki/Andie_MacDowell\" title=\"Andie MacDowell\">Andie MacDowell</a>, <a href=\"/wiki/George_Lopez\" title=\"George Lopez\">George Lopez</a></td>\n",
            "<td>\n",
            "</td></tr>\n",
            "*************************\n",
            "<a class=\"mw-redirect\" href=\"/wiki/No_Man%27s_Land_(2021_film)\" title=\"No Man's Land (2021 film)\">No Man's Land</a>\n",
            "/wiki/No_Man%27s_Land_(2021_film)\n",
            "No Man's Land (2021 film)\n",
            "https://en.wikipedia.org//wiki/No_Man%27s_Land_(2021_film)\n",
            "**************************\n",
            "<tr>\n",
            "<td><i><a href=\"/wiki/Born_a_Champion\" title=\"Born a Champion\">Born a Champion</a></i></td>\n",
            "<td><a href=\"/wiki/Lionsgate\" title=\"Lionsgate\">Lionsgate</a></td>\n",
            "<td><a href=\"/wiki/Alex_Ranarivelo\" title=\"Alex Ranarivelo\">Alex Ranarivelo</a> (director/screenplay); <a href=\"/wiki/Sean_Patrick_Flanery\" title=\"Sean Patrick Flanery\">Sean Patrick Flanery</a> (screenplay); Sean Patrick Flanery, <a href=\"/wiki/Dennis_Quaid\" title=\"Dennis Quaid\">Dennis Quaid</a>, <a href=\"/wiki/Katrina_Bowden\" title=\"Katrina Bowden\">Katrina Bowden</a></td>\n",
            "<td><div class=\"center\" style=\"width:auto; margin-left:auto; margin-right:auto;\"><sup class=\"reference\" id=\"cite_ref-13\"><a href=\"#cite_note-13\">[13]</a></sup></div>\n",
            "</td></tr>\n",
            "*************************\n",
            "<a href=\"/wiki/Born_a_Champion\" title=\"Born a Champion\">Born a Champion</a>\n",
            "/wiki/Born_a_Champion\n",
            "Born a Champion\n",
            "https://en.wikipedia.org//wiki/Born_a_Champion\n",
            "**************************\n",
            "<tr>\n",
            "<td rowspan=\"1\" style=\"text-align:center; background:#f7ddc7\"><b>26</b>\n",
            "</td>\n",
            "<td><i><a href=\"/wiki/Wrong_Turn_(2021_film)\" title=\"Wrong Turn (2021 film)\">Wrong Turn</a></i></td>\n",
            "<td><a href=\"/wiki/Saban_Capital_Group\" title=\"Saban Capital Group\">Saban Films</a> / <a href=\"/wiki/Constantin_Film\" title=\"Constantin Film\">Constantin Film</a></td>\n",
            "<td>Mike P. Nelson (director); <a href=\"/wiki/Alan_B._McElroy\" title=\"Alan B. McElroy\">Alan B. McElroy</a> (screenplay); <a href=\"/wiki/Charlotte_Vega\" title=\"Charlotte Vega\">Charlotte Vega</a>, Adain Bradley, <a href=\"/wiki/Bill_Sage\" title=\"Bill Sage\">Bill Sage</a>, <a href=\"/wiki/Emma_Dumont\" title=\"Emma Dumont\">Emma Dumont</a>, Dylan McTee, <a href=\"/wiki/Daisy_Head\" title=\"Daisy Head\">Daisy Head</a>, <a href=\"/wiki/Matthew_Modine\" title=\"Matthew Modine\">Matthew Modine</a></td>\n",
            "<td><div class=\"center\" style=\"width:auto; margin-left:auto; margin-right:auto;\"><sup class=\"reference\" id=\"cite_ref-14\"><a href=\"#cite_note-14\">[14]</a></sup></div>\n",
            "</td></tr>\n",
            "*************************\n",
            "<a href=\"/wiki/Wrong_Turn_(2021_film)\" title=\"Wrong Turn (2021 film)\">Wrong Turn</a>\n",
            "/wiki/Wrong_Turn_(2021_film)\n",
            "Wrong Turn (2021 film)\n",
            "https://en.wikipedia.org//wiki/Wrong_Turn_(2021_film)\n",
            "**************************\n",
            "<tr>\n",
            "<td rowspan=\"1\" style=\"text-align:center; background:#f7ddc7\"><b>27</b>\n",
            "</td>\n",
            "<td><i><a href=\"/wiki/Penguin_Bloom\" title=\"Penguin Bloom\">Penguin Bloom</a></i></td>\n",
            "<td><a href=\"/wiki/Netflix\" title=\"Netflix\">Netflix</a> / <a href=\"/wiki/Roadshow_Entertainment\" title=\"Roadshow Entertainment\">Roadshow Films</a></td>\n",
            "<td>Glenda Ivin (director); Shaun Grant, Harry Cripps (screenplay); <a href=\"/wiki/Naomi_Watts\" title=\"Naomi Watts\">Naomi Watts</a>, <a href=\"/wiki/Andrew_Lincoln\" title=\"Andrew Lincoln\">Andrew Lincoln</a>, <a href=\"/wiki/Jacki_Weaver\" title=\"Jacki Weaver\">Jacki Weaver</a>, <a href=\"/wiki/Rachel_House_(actress)\" title=\"Rachel House (actress)\">Rachel House</a></td>\n",
            "<td><div class=\"center\" style=\"width:auto; margin-left:auto; margin-right:auto;\"><sup class=\"reference\" id=\"cite_ref-15\"><a href=\"#cite_note-15\">[15]</a></sup></div>\n",
            "</td></tr>\n",
            "*************************\n",
            "<a href=\"/wiki/Penguin_Bloom\" title=\"Penguin Bloom\">Penguin Bloom</a>\n",
            "/wiki/Penguin_Bloom\n",
            "Penguin Bloom\n",
            "https://en.wikipedia.org//wiki/Penguin_Bloom\n",
            "**************************\n",
            "<tr>\n",
            "<td rowspan=\"5\" style=\"text-align:center; background:#f7dfc7\"><b>29</b>\n",
            "</td>\n",
            "<td><i><a href=\"/wiki/The_Little_Things_(2021_film)\" title=\"The Little Things (2021 film)\">The Little Things</a></i></td>\n",
            "<td><a href=\"/wiki/Warner_Bros._Pictures\" title=\"Warner Bros. Pictures\">Warner Bros. Pictures</a> / Gran Via Productions / <a class=\"mw-redirect\" href=\"/wiki/HBO_Max\" title=\"HBO Max\">HBO Max</a></td>\n",
            "<td><a href=\"/wiki/John_Lee_Hancock\" title=\"John Lee Hancock\">John Lee Hancock</a> (director/screenplay); <a href=\"/wiki/Denzel_Washington\" title=\"Denzel Washington\">Denzel Washington</a>, <a href=\"/wiki/Rami_Malek\" title=\"Rami Malek\">Rami Malek</a>, <a href=\"/wiki/Jared_Leto\" title=\"Jared Leto\">Jared Leto</a>, <a href=\"/wiki/Chris_Bauer\" title=\"Chris Bauer\">Chris Bauer</a>, <a href=\"/wiki/Michael_Hyatt\" title=\"Michael Hyatt\">Michael Hyatt</a>, <a href=\"/wiki/Terry_Kinney\" title=\"Terry Kinney\">Terry Kinney</a>, <a href=\"/wiki/Natalie_Morales_(actress)\" title=\"Natalie Morales (actress)\">Natalie Morales</a></td>\n",
            "<td><div class=\"center\" style=\"width:auto; margin-left:auto; margin-right:auto;\"><sup class=\"reference\" id=\"cite_ref-16\"><a href=\"#cite_note-16\">[16]</a></sup></div>\n",
            "</td></tr>\n",
            "*************************\n",
            "<a href=\"/wiki/The_Little_Things_(2021_film)\" title=\"The Little Things (2021 film)\">The Little Things</a>\n",
            "/wiki/The_Little_Things_(2021_film)\n",
            "The Little Things (2021 film)\n",
            "https://en.wikipedia.org//wiki/The_Little_Things_(2021_film)\n",
            "**************************\n",
            "<tr>\n",
            "<td><i><a href=\"/wiki/Finding_%CA%BBOhana\" title=\"Finding ʻOhana\">Finding ʻOhana</a></i></td>\n",
            "<td><a href=\"/wiki/Netflix\" title=\"Netflix\">Netflix</a></td>\n",
            "<td><a href=\"/wiki/Jude_Weng\" title=\"Jude Weng\">Jude Weng</a> (director); <a href=\"/wiki/Christina_Strain\" title=\"Christina Strain\">Christina Strain</a> (screenplay); Kea Peahu, <a href=\"/wiki/Alex_Aiono\" title=\"Alex Aiono\">Alex Aiono</a>, Lindsay Watson, <a href=\"/wiki/Owen_Vaccaro\" title=\"Owen Vaccaro\">Owen Vaccaro</a>, <a href=\"/wiki/Kelly_Hu\" title=\"Kelly Hu\">Kelly Hu</a>, <a href=\"/wiki/Branscombe_Richmond\" title=\"Branscombe Richmond\">Branscombe Richmond</a>, <a href=\"/wiki/Chris_Parnell\" title=\"Chris Parnell\">Chris Parnell</a>, <a href=\"/wiki/Marc_Evan_Jackson\" title=\"Marc Evan Jackson\">Marc Evan Jackson</a></td>\n",
            "<td><div class=\"center\" style=\"width:auto; margin-left:auto; margin-right:auto;\"><sup class=\"reference\" id=\"cite_ref-17\"><a href=\"#cite_note-17\">[17]</a></sup></div>\n",
            "</td></tr>\n",
            "*************************\n",
            "<a href=\"/wiki/Finding_%CA%BBOhana\" title=\"Finding ʻOhana\">Finding ʻOhana</a>\n",
            "/wiki/Finding_%CA%BBOhana\n",
            "Finding ʻOhana\n",
            "https://en.wikipedia.org//wiki/Finding_%CA%BBOhana\n",
            "**************************\n",
            "<tr>\n",
            "<td><i><a class=\"mw-redirect\" href=\"/wiki/Nomadland_(film)\" title=\"Nomadland (film)\">Nomadland</a></i></td>\n",
            "<td><a href=\"/wiki/Searchlight_Pictures\" title=\"Searchlight Pictures\">Searchlight Pictures</a> / <a href=\"/wiki/Hulu\" title=\"Hulu\">Hulu</a></td>\n",
            "<td><a href=\"/wiki/Chlo%C3%A9_Zhao\" title=\"Chloé Zhao\">Chloé Zhao</a> (director/screenplay); <a href=\"/wiki/Frances_McDormand\" title=\"Frances McDormand\">Frances McDormand</a>, <a href=\"/wiki/David_Strathairn\" title=\"David Strathairn\">David Strathairn</a>, Linda May, Charlene Swankie, <a href=\"/wiki/Bob_Wells_(vandweller)\" title=\"Bob Wells (vandweller)\">Bob Wells</a></td>\n",
            "<td><div class=\"center\" style=\"width:auto; margin-left:auto; margin-right:auto;\"><sup class=\"reference\" id=\"cite_ref-18\"><a href=\"#cite_note-18\">[18]</a></sup></div>\n",
            "</td></tr>\n",
            "*************************\n",
            "<a class=\"mw-redirect\" href=\"/wiki/Nomadland_(film)\" title=\"Nomadland (film)\">Nomadland</a>\n",
            "/wiki/Nomadland_(film)\n",
            "Nomadland (film)\n",
            "https://en.wikipedia.org//wiki/Nomadland_(film)\n",
            "**************************\n",
            "<tr>\n",
            "<td><i><a href=\"/wiki/Malcolm_%26_Marie\" title=\"Malcolm &amp; Marie\">Malcolm &amp; Marie</a></i></td>\n",
            "<td><a href=\"/wiki/Netflix\" title=\"Netflix\">Netflix</a></td>\n",
            "<td><a href=\"/wiki/Sam_Levinson\" title=\"Sam Levinson\">Sam Levinson</a> (director/screenplay); <a href=\"/wiki/Zendaya\" title=\"Zendaya\">Zendaya</a>, <a href=\"/wiki/John_David_Washington\" title=\"John David Washington\">John David Washington</a></td>\n",
            "<td><div class=\"center\" style=\"width:auto; margin-left:auto; margin-right:auto;\"><sup class=\"reference\" id=\"cite_ref-19\"><a href=\"#cite_note-19\">[19]</a></sup></div>\n",
            "</td></tr>\n",
            "*************************\n",
            "<a href=\"/wiki/Malcolm_%26_Marie\" title=\"Malcolm &amp; Marie\">Malcolm &amp; Marie</a>\n",
            "/wiki/Malcolm_%26_Marie\n",
            "Malcolm & Marie\n",
            "https://en.wikipedia.org//wiki/Malcolm_%26_Marie\n",
            "**************************\n",
            "<tr>\n",
            "<td><i><a href=\"/wiki/Palmer_(film)\" title=\"Palmer (film)\">Palmer</a></i></td>\n",
            "<td><a href=\"/wiki/Apple_TV%2B\" title=\"Apple TV+\">Apple TV+</a></td>\n",
            "<td><a href=\"/wiki/Fisher_Stevens\" title=\"Fisher Stevens\">Fisher Stevens</a> (director) Cheryl Guerriero (screenplay); <a href=\"/wiki/Justin_Timberlake\" title=\"Justin Timberlake\">Justin Timberlake</a>, <a href=\"/wiki/Juno_Temple\" title=\"Juno Temple\">Juno Temple</a>, <a href=\"/wiki/Alisha_Wainwright\" title=\"Alisha Wainwright\">Alisha Wainwright</a>, <a href=\"/wiki/June_Squibb\" title=\"June Squibb\">June Squibb</a>, Ryder Allen</td>\n",
            "<td><div class=\"center\" style=\"width:auto; margin-left:auto; margin-right:auto;\"><sup class=\"reference\" id=\"cite_ref-20\"><a href=\"#cite_note-20\">[20]</a></sup></div>\n",
            "</td></tr>\n",
            "*************************\n",
            "<a href=\"/wiki/Palmer_(film)\" title=\"Palmer (film)\">Palmer</a>\n",
            "/wiki/Palmer_(film)\n",
            "Palmer (film)\n",
            "https://en.wikipedia.org//wiki/Palmer_(film)\n",
            "**************************\n",
            "<tr>\n",
            "<th rowspan=\"27\" style=\"text-align:center; background:#bf87f7; textcolor:#000;\">F<br/>E<br/>B<br/>R<br/>U<br/>A<br/>R<br/>Y\n",
            "</th>\n",
            "<td rowspan=\"5\" style=\"text-align:center; background:#dfc7f7\"><b>5</b>\n",
            "</td>\n",
            "<td><i><a href=\"/wiki/Falling_(2020_film)\" title=\"Falling (2020 film)\">Falling</a></i></td>\n",
            "<td>Quiver Distribution</td>\n",
            "<td><a href=\"/wiki/Viggo_Mortensen\" title=\"Viggo Mortensen\">Viggo Mortensen</a> (director/screenplay); Viggo Mortensen, <a href=\"/wiki/Lance_Henriksen\" title=\"Lance Henriksen\">Lance Henriksen</a>, <a href=\"/wiki/Terry_Chen\" title=\"Terry Chen\">Terry Chen</a>, <a class=\"mw-redirect\" href=\"/wiki/Sverrir_Gudnason\" title=\"Sverrir Gudnason\">Sverrir Gudnason</a>, <a href=\"/wiki/Hannah_Gross\" title=\"Hannah Gross\">Hannah Gross</a>, <a href=\"/wiki/Laura_Linney\" title=\"Laura Linney\">Laura Linney</a></td>\n",
            "<td><div class=\"center\" style=\"width:auto; margin-left:auto; margin-right:auto;\"><sup class=\"reference\" id=\"cite_ref-21\"><a href=\"#cite_note-21\">[21]</a></sup></div>\n",
            "</td></tr>\n",
            "*************************\n",
            "<a href=\"/wiki/Falling_(2020_film)\" title=\"Falling (2020 film)\">Falling</a>\n",
            "/wiki/Falling_(2020_film)\n",
            "Falling (2020 film)\n",
            "https://en.wikipedia.org//wiki/Falling_(2020_film)\n",
            "**************************\n",
            "<tr>\n",
            "<td><i><a href=\"/wiki/Bliss_(2021_film)\" title=\"Bliss (2021 film)\">Bliss</a></i></td>\n",
            "<td><a class=\"mw-redirect\" href=\"/wiki/Amazon_Studios\" title=\"Amazon Studios\">Amazon Studios</a></td>\n",
            "<td><a class=\"mw-redirect\" href=\"/wiki/Mike_Cahill_(director)\" title=\"Mike Cahill (director)\">Mike Cahill</a> (director/screenplay); <a href=\"/wiki/Owen_Wilson\" title=\"Owen Wilson\">Owen Wilson</a>, <a href=\"/wiki/Salma_Hayek\" title=\"Salma Hayek\">Salma Hayek</a></td>\n",
            "<td>\n",
            "</td></tr>\n",
            "*************************\n",
            "<a href=\"/wiki/Bliss_(2021_film)\" title=\"Bliss (2021 film)\">Bliss</a>\n",
            "/wiki/Bliss_(2021_film)\n",
            "Bliss (2021 film)\n",
            "https://en.wikipedia.org//wiki/Bliss_(2021_film)\n",
            "**************************\n",
            "<tr>\n",
            "<td><i><a href=\"/wiki/Little_Fish_(2021_film)\" title=\"Little Fish (2021 film)\">Little Fish</a></i></td>\n",
            "<td><a href=\"/wiki/IFC_Films\" title=\"IFC Films\">IFC Films</a> / <a href=\"/wiki/Black_Bear_Pictures\" title=\"Black Bear Pictures\">Black Bear Pictures</a></td>\n",
            "<td><a href=\"/wiki/Chad_Hartigan\" title=\"Chad Hartigan\">Chad Hartigan</a> (director); <a href=\"/wiki/Mattson_Tomlin\" title=\"Mattson Tomlin\">Mattson Tomlin</a> (screenplay); <a href=\"/wiki/Olivia_Cooke\" title=\"Olivia Cooke\">Olivia Cooke</a>, <a href=\"/wiki/Jack_O%27Connell_(actor)\" title=\"Jack O'Connell (actor)\">Jack O'Connell</a>, <a href=\"/wiki/Ra%C3%BAl_Castillo\" title=\"Raúl Castillo\">Raúl Castillo</a>, <a href=\"/wiki/Soko_(singer)\" title=\"Soko (singer)\">Soko</a></td>\n",
            "<td><div class=\"center\" style=\"width:auto; margin-left:auto; margin-right:auto;\"><sup class=\"reference\" id=\"cite_ref-22\"><a href=\"#cite_note-22\">[22]</a></sup></div>\n",
            "</td></tr>\n",
            "*************************\n",
            "<a href=\"/wiki/Little_Fish_(2021_film)\" title=\"Little Fish (2021 film)\">Little Fish</a>\n",
            "/wiki/Little_Fish_(2021_film)\n",
            "Little Fish (2021 film)\n",
            "https://en.wikipedia.org//wiki/Little_Fish_(2021_film)\n",
            "**************************\n",
            "<tr>\n",
            "<td><i><a href=\"/wiki/Son_of_the_South_(film)\" title=\"Son of the South (film)\">Son of the South</a></i></td>\n",
            "<td><a class=\"mw-redirect\" href=\"/wiki/Vertical_Entertainment\" title=\"Vertical Entertainment\">Vertical Entertainment</a></td>\n",
            "<td><a href=\"/wiki/Barry_Alexander_Brown\" title=\"Barry Alexander Brown\">Barry Alexander Brown</a> (director/screenplay); <a href=\"/wiki/Lucas_Till\" title=\"Lucas Till\">Lucas Till</a>, <a href=\"/wiki/Lucy_Hale\" title=\"Lucy Hale\">Lucy Hale</a>, <a href=\"/wiki/Cedric_the_Entertainer\" title=\"Cedric the Entertainer\">Cedric the Entertainer</a>, <a href=\"/wiki/Brian_Dennehy\" title=\"Brian Dennehy\">Brian Dennehy</a></td>\n",
            "<td>\n",
            "</td></tr>\n",
            "*************************\n",
            "<a href=\"/wiki/Son_of_the_South_(film)\" title=\"Son of the South (film)\">Son of the South</a>\n",
            "/wiki/Son_of_the_South_(film)\n",
            "Son of the South (film)\n",
            "https://en.wikipedia.org//wiki/Son_of_the_South_(film)\n",
            "**************************\n",
            "<tr>\n",
            "<td><i><a href=\"/wiki/PVT_Chat\" title=\"PVT Chat\">PVT Chat</a></i></td>\n",
            "<td>Dark Star Pictures</td>\n",
            "<td><a href=\"/wiki/Ben_Hozie\" title=\"Ben Hozie\">Ben Hozie</a> (director/screenplay); <a class=\"mw-redirect\" href=\"/wiki/Julia_Fox_(actress)\" title=\"Julia Fox (actress)\">Julia Fox</a>, Nikki Belfiglio, <a href=\"/wiki/Austin_Brown\" title=\"Austin Brown\">Austin Brown</a>, <a href=\"/wiki/Peter_Vack\" title=\"Peter Vack\">Peter Vack</a></td>\n",
            "<td><div class=\"center\" style=\"width:auto; margin-left:auto; margin-right:auto;\"><sup class=\"reference\" id=\"cite_ref-23\"><a href=\"#cite_note-23\">[23]</a></sup></div>\n",
            "</td></tr>\n",
            "*************************\n",
            "<a href=\"/wiki/PVT_Chat\" title=\"PVT Chat\">PVT Chat</a>\n",
            "/wiki/PVT_Chat\n",
            "PVT Chat\n",
            "https://en.wikipedia.org//wiki/PVT_Chat\n",
            "**************************\n",
            "<tr>\n",
            "<td style=\"text-align:center; background:#dfc7f7\"><b>9</b>\n",
            "</td>\n",
            "<td><i><a href=\"/wiki/Music_(2021_film)\" title=\"Music (2021 film)\">Music</a></i></td>\n",
            "<td><a class=\"mw-redirect\" href=\"/wiki/Vertical_Entertainment\" title=\"Vertical Entertainment\">Vertical Entertainment</a></td>\n",
            "<td><a href=\"/wiki/Sia\" title=\"Sia\">Sia</a> (director/screenplay); <a href=\"/wiki/Dallas_Clayton\" title=\"Dallas Clayton\">Dallas Clayton</a> (screenplay); <a href=\"/wiki/Kate_Hudson\" title=\"Kate Hudson\">Kate Hudson</a>, <a href=\"/wiki/Leslie_Odom_Jr.\" title=\"Leslie Odom Jr.\">Leslie Odom Jr.</a>, <a href=\"/wiki/Maddie_Ziegler\" title=\"Maddie Ziegler\">Maddie Ziegler</a></td>\n",
            "<td><div class=\"center\" style=\"width:auto; margin-left:auto; margin-right:auto;\"><sup class=\"reference\" id=\"cite_ref-24\"><a href=\"#cite_note-24\">[24]</a></sup></div>\n",
            "</td></tr>\n",
            "*************************\n",
            "<a href=\"/wiki/Music_(2021_film)\" title=\"Music (2021 film)\">Music</a>\n",
            "/wiki/Music_(2021_film)\n",
            "Music (2021 film)\n",
            "https://en.wikipedia.org//wiki/Music_(2021_film)\n",
            "**************************\n",
            "<tr>\n",
            "<td rowspan=\"12\" style=\"text-align:center; background:#dfc7f7\"><b>12</b>\n",
            "</td>\n",
            "<td><i><a href=\"/wiki/Judas_and_the_Black_Messiah\" title=\"Judas and the Black Messiah\">Judas and the Black Messiah</a></i></td>\n",
            "<td><a href=\"/wiki/Warner_Bros._Pictures\" title=\"Warner Bros. Pictures\">Warner Bros. Pictures</a> / <a href=\"/wiki/Participant_(company)\" title=\"Participant (company)\">Participant</a> / <a href=\"/wiki/Bron_Studios\" title=\"Bron Studios\">Bron Creative</a> / <a class=\"mw-redirect\" href=\"/wiki/HBO_Max\" title=\"HBO Max\">HBO Max</a></td>\n",
            "<td>Shaka King (director/screenplay); Will Berson (screenplay); <a href=\"/wiki/Daniel_Kaluuya\" title=\"Daniel Kaluuya\">Daniel Kaluuya</a>, <a class=\"mw-redirect\" href=\"/wiki/Lakeith_Stanfield\" title=\"Lakeith Stanfield\">Lakeith Stanfield</a>, <a href=\"/wiki/Jesse_Plemons\" title=\"Jesse Plemons\">Jesse Plemons</a>, <a href=\"/wiki/Dominique_Fishback\" title=\"Dominique Fishback\">Dominique Fishback</a>, <a href=\"/wiki/Ashton_Sanders\" title=\"Ashton Sanders\">Ashton Sanders</a>, <a href=\"/wiki/Darrell_Britt-Gibson\" title=\"Darrell Britt-Gibson\">Darrell Britt-Gibson</a>, <a href=\"/wiki/Lil_Rel_Howery\" title=\"Lil Rel Howery\">Lil Rel Howery</a>, <a href=\"/wiki/Algee_Smith\" title=\"Algee Smith\">Algee Smith</a>, <a href=\"/wiki/Dominique_Thorne\" title=\"Dominique Thorne\">Dominique Thorne</a>, <a href=\"/wiki/Martin_Sheen\" title=\"Martin Sheen\">Martin Sheen</a></td>\n",
            "<td><div class=\"center\" style=\"width:auto; margin-left:auto; margin-right:auto;\"><sup class=\"reference\" id=\"cite_ref-25\"><a href=\"#cite_note-25\">[25]</a></sup></div>\n",
            "</td></tr>\n",
            "*************************\n",
            "<a href=\"/wiki/Judas_and_the_Black_Messiah\" title=\"Judas and the Black Messiah\">Judas and the Black Messiah</a>\n",
            "/wiki/Judas_and_the_Black_Messiah\n",
            "Judas and the Black Messiah\n",
            "https://en.wikipedia.org//wiki/Judas_and_the_Black_Messiah\n",
            "**************************\n",
            "<tr>\n",
            "<td><i><a href=\"/wiki/The_Mauritanian\" title=\"The Mauritanian\">The Mauritanian</a></i></td>\n",
            "<td><a class=\"mw-redirect\" href=\"/wiki/STXfilms\" title=\"STXfilms\">STXfilms</a> / <a href=\"/wiki/Topic_Studios\" title=\"Topic Studios\">Topic Studios</a> / <a href=\"/wiki/BBC_Film\" title=\"BBC Film\">BBC Film</a></td>\n",
            "<td><a href=\"/wiki/Kevin_Macdonald_(director)\" title=\"Kevin Macdonald (director)\">Kevin Macdonald</a> (director); M.B. Traven, <a class=\"mw-redirect\" href=\"/wiki/Rory_Haines\" title=\"Rory Haines\">Rory Haines</a>, <a class=\"mw-redirect\" href=\"/wiki/Sohrab_Noshirvani\" title=\"Sohrab Noshirvani\">Sohrab Noshirvani</a> (screenplay); <a href=\"/wiki/Jodie_Foster\" title=\"Jodie Foster\">Jodie Foster</a>, <a href=\"/wiki/Tahar_Rahim\" title=\"Tahar Rahim\">Tahar Rahim</a>, <a href=\"/wiki/Shailene_Woodley\" title=\"Shailene Woodley\">Shailene Woodley</a>, <a href=\"/wiki/Zachary_Levi\" title=\"Zachary Levi\">Zachary Levi</a>, <a href=\"/wiki/Benedict_Cumberbatch\" title=\"Benedict Cumberbatch\">Benedict Cumberbatch</a></td>\n",
            "<td>\n",
            "</td></tr>\n",
            "*************************\n",
            "<a href=\"/wiki/The_Mauritanian\" title=\"The Mauritanian\">The Mauritanian</a>\n",
            "/wiki/The_Mauritanian\n",
            "The Mauritanian\n",
            "https://en.wikipedia.org//wiki/The_Mauritanian\n",
            "**************************\n",
            "<tr>\n",
            "<td><i><a href=\"/wiki/Breaking_News_in_Yuba_County\" title=\"Breaking News in Yuba County\">Breaking News in Yuba County</a></i></td>\n",
            "<td><a href=\"/wiki/American_International_Pictures\" title=\"American International Pictures\">American International Pictures</a> / <a href=\"/wiki/AGC_Studios\" title=\"AGC Studios\">AGC Studios</a> / <a href=\"/wiki/Nine_Stories_Productions\" title=\"Nine Stories Productions\">Nine Stories Productions</a></td>\n",
            "<td><a href=\"/wiki/Tate_Taylor\" title=\"Tate Taylor\">Tate Taylor</a> (director); Amanda Idoko (screenplay); <a href=\"/wiki/Allison_Janney\" title=\"Allison Janney\">Allison Janney</a>, <a href=\"/wiki/Mila_Kunis\" title=\"Mila Kunis\">Mila Kunis</a>, <a href=\"/wiki/Awkwafina\" title=\"Awkwafina\">Awkwafina</a>, <a href=\"/wiki/Regina_Hall\" title=\"Regina Hall\">Regina Hall</a>, <a href=\"/wiki/Wanda_Sykes\" title=\"Wanda Sykes\">Wanda Sykes</a>, <a href=\"/wiki/Juliette_Lewis\" title=\"Juliette Lewis\">Juliette Lewis</a>, <a href=\"/wiki/Samira_Wiley\" title=\"Samira Wiley\">Samira Wiley</a>, <a href=\"/wiki/Matthew_Modine\" title=\"Matthew Modine\">Matthew Modine</a>, <a href=\"/wiki/Ellen_Barkin\" title=\"Ellen Barkin\">Ellen Barkin</a></td>\n",
            "<td>\n",
            "</td></tr>\n",
            "*************************\n",
            "<a href=\"/wiki/Breaking_News_in_Yuba_County\" title=\"Breaking News in Yuba County\">Breaking News in Yuba County</a>\n",
            "/wiki/Breaking_News_in_Yuba_County\n",
            "Breaking News in Yuba County\n",
            "https://en.wikipedia.org//wiki/Breaking_News_in_Yuba_County\n",
            "**************************\n",
            "<tr>\n",
            "<td><i><a href=\"/wiki/Barb_and_Star_Go_to_Vista_Del_Mar\" title=\"Barb and Star Go to Vista Del Mar\">Barb and Star Go to Vista Del Mar</a></i></td>\n",
            "<td><a href=\"/wiki/Lionsgate\" title=\"Lionsgate\">Lionsgate</a> / <a href=\"/wiki/Gloria_Sanchez_Productions\" title=\"Gloria Sanchez Productions\">Gloria Sanchez Productions</a></td>\n",
            "<td><a href=\"/wiki/Josh_Greenbaum\" title=\"Josh Greenbaum\">Josh Greenbaum</a> (director); <a href=\"/wiki/Annie_Mumolo\" title=\"Annie Mumolo\">Annie Mumolo</a>, <a href=\"/wiki/Kristen_Wiig\" title=\"Kristen Wiig\">Kristen Wiig</a> (screenplay); Kristen Wiig, Annie Mumolo, <a href=\"/wiki/Jamie_Dornan\" title=\"Jamie Dornan\">Jamie Dornan</a>, <a href=\"/wiki/Damon_Wayans_Jr.\" title=\"Damon Wayans Jr.\">Damon Wayans Jr.</a></td>\n",
            "<td><div class=\"center\" style=\"width:auto; margin-left:auto; margin-right:auto;\"><sup class=\"reference\" id=\"cite_ref-26\"><a href=\"#cite_note-26\">[26]</a></sup></div>\n",
            "</td></tr>\n",
            "*************************\n",
            "<a href=\"/wiki/Barb_and_Star_Go_to_Vista_Del_Mar\" title=\"Barb and Star Go to Vista Del Mar\">Barb and Star Go to Vista Del Mar</a>\n",
            "/wiki/Barb_and_Star_Go_to_Vista_Del_Mar\n",
            "Barb and Star Go to Vista Del Mar\n",
            "https://en.wikipedia.org//wiki/Barb_and_Star_Go_to_Vista_Del_Mar\n",
            "**************************\n",
            "<tr>\n",
            "<td><i><a href=\"/wiki/Minari_(film)\" title=\"Minari (film)\">Minari</a></i></td>\n",
            "<td><a href=\"/wiki/A24\" title=\"A24\">A24</a> / <a href=\"/wiki/Plan_B_Entertainment\" title=\"Plan B Entertainment\">Plan B Entertainment</a></td>\n",
            "<td><a href=\"/wiki/Lee_Isaac_Chung\" title=\"Lee Isaac Chung\">Lee Isaac Chung</a> (director/screenplay); <a href=\"/wiki/Steven_Yeun\" title=\"Steven Yeun\">Steven Yeun</a>, <a href=\"/wiki/Han_Ye-ri\" title=\"Han Ye-ri\">Han Ye-ri</a>, Alan Kim, Noel Kate Cho, <a href=\"/wiki/Scott_Haze\" title=\"Scott Haze\">Scott Haze</a>, <a href=\"/wiki/Youn_Yuh-jung\" title=\"Youn Yuh-jung\">Youn Yuh-jung</a>, <a href=\"/wiki/Will_Patton\" title=\"Will Patton\">Will Patton</a></td>\n",
            "<td><div class=\"center\" style=\"width:auto; margin-left:auto; margin-right:auto;\"><sup class=\"reference\" id=\"cite_ref-27\"><a href=\"#cite_note-27\">[27]</a></sup></div>\n",
            "</td></tr>\n",
            "*************************\n",
            "<a href=\"/wiki/Minari_(film)\" title=\"Minari (film)\">Minari</a>\n",
            "/wiki/Minari_(film)\n",
            "Minari (film)\n",
            "https://en.wikipedia.org//wiki/Minari_(film)\n",
            "**************************\n",
            "<tr>\n",
            "<td><i><a href=\"/wiki/To_All_the_Boys:_Always_and_Forever\" title=\"To All the Boys: Always and Forever\">To All the Boys: Always and Forever</a></i></td>\n",
            "<td><a href=\"/wiki/Netflix\" title=\"Netflix\">Netflix</a></td>\n",
            "<td><a href=\"/wiki/Michael_Fimognari\" title=\"Michael Fimognari\">Michael Fimognari</a> (director); Katie Lovejoy (screenplay); <a href=\"/wiki/Lana_Condor\" title=\"Lana Condor\">Lana Condor</a>, <a href=\"/wiki/Noah_Centineo\" title=\"Noah Centineo\">Noah Centineo</a>, <a href=\"/wiki/Jordan_Fisher\" title=\"Jordan Fisher\">Jordan Fisher</a>, <a href=\"/wiki/Holland_Taylor\" title=\"Holland Taylor\">Holland Taylor</a>, <a class=\"mw-redirect\" href=\"/wiki/Sarayu_Blue\" title=\"Sarayu Blue\">Sarayu Blue</a>, <a href=\"/wiki/John_Corbett\" title=\"John Corbett\">John Corbett</a></td>\n",
            "<td><div class=\"center\" style=\"width:auto; margin-left:auto; margin-right:auto;\"><sup class=\"reference\" id=\"cite_ref-28\"><a href=\"#cite_note-28\">[28]</a></sup></div>\n",
            "</td></tr>\n",
            "*************************\n",
            "<a href=\"/wiki/To_All_the_Boys:_Always_and_Forever\" title=\"To All the Boys: Always and Forever\">To All the Boys: Always and Forever</a>\n",
            "/wiki/To_All_the_Boys:_Always_and_Forever\n",
            "To All the Boys: Always and Forever\n",
            "https://en.wikipedia.org//wiki/To_All_the_Boys:_Always_and_Forever\n",
            "**************************\n",
            "<tr>\n",
            "<td><i><a href=\"/wiki/The_World_to_Come\" title=\"The World to Come\">The World to Come</a></i></td>\n",
            "<td><a href=\"/wiki/Bleecker_Street_(company)\" title=\"Bleecker Street (company)\">Bleecker Street</a> / <a href=\"/wiki/Ingenious_Media\" title=\"Ingenious Media\">Ingenious Media</a></td>\n",
            "<td><a href=\"/wiki/Mona_Fastvold\" title=\"Mona Fastvold\">Mona Fastvold</a> (director); <a href=\"/wiki/Ron_Hansen_(novelist)\" title=\"Ron Hansen (novelist)\">Ron Hansen</a>, <a href=\"/wiki/Jim_Shepard\" title=\"Jim Shepard\">Jim Shepard</a> (screenplay); <a href=\"/wiki/Katherine_Waterston\" title=\"Katherine Waterston\">Katherine Waterston</a>, <a href=\"/wiki/Vanessa_Kirby\" title=\"Vanessa Kirby\">Vanessa Kirby</a>, <a href=\"/wiki/Christopher_Abbott\" title=\"Christopher Abbott\">Christopher Abbott</a>, <a href=\"/wiki/Casey_Affleck\" title=\"Casey Affleck\">Casey Affleck</a></td>\n",
            "<td>\n",
            "</td></tr>\n",
            "*************************\n",
            "<a href=\"/wiki/The_World_to_Come\" title=\"The World to Come\">The World to Come</a>\n",
            "/wiki/The_World_to_Come\n",
            "The World to Come\n",
            "https://en.wikipedia.org//wiki/The_World_to_Come\n",
            "**************************\n",
            "<tr>\n",
            "<td><i><a href=\"/wiki/French_Exit_(2020_film)\" title=\"French Exit (2020 film)\">French Exit</a></i></td>\n",
            "<td><a href=\"/wiki/Sony_Pictures_Classics\" title=\"Sony Pictures Classics\">Sony Pictures Classics</a></td>\n",
            "<td><a href=\"/wiki/Azazel_Jacobs\" title=\"Azazel Jacobs\">Azazel Jacobs</a> (director); <a href=\"/wiki/Patrick_deWitt\" title=\"Patrick deWitt\">Patrick deWitt</a> (screenplay); <a href=\"/wiki/Michelle_Pfeiffer\" title=\"Michelle Pfeiffer\">Michelle Pfeiffer</a>, <a href=\"/wiki/Lucas_Hedges\" title=\"Lucas Hedges\">Lucas Hedges</a>, <a href=\"/wiki/Tracy_Letts\" title=\"Tracy Letts\">Tracy Letts</a>, <a href=\"/wiki/Danielle_Macdonald\" title=\"Danielle Macdonald\">Danielle Macdonald</a>, <a href=\"/wiki/Imogen_Poots\" title=\"Imogen Poots\">Imogen Poots</a></td>\n",
            "<td><div class=\"center\" style=\"width:auto; margin-left:auto; margin-right:auto;\"><sup class=\"reference\" id=\"cite_ref-29\"><a href=\"#cite_note-29\">[29]</a></sup></div>\n",
            "</td></tr>\n",
            "*************************\n",
            "<a href=\"/wiki/French_Exit_(2020_film)\" title=\"French Exit (2020 film)\">French Exit</a>\n",
            "/wiki/French_Exit_(2020_film)\n",
            "French Exit (2020 film)\n",
            "https://en.wikipedia.org//wiki/French_Exit_(2020_film)\n",
            "**************************\n",
            "<tr>\n",
            "<td><i><a href=\"/wiki/Land_(2021_film)\" title=\"Land (2021 film)\">Land</a></i></td>\n",
            "<td><a href=\"/wiki/Focus_Features\" title=\"Focus Features\">Focus Features</a> / <a href=\"/wiki/Big_Beach_(company)\" title=\"Big Beach (company)\">Big Beach</a></td>\n",
            "<td><a href=\"/wiki/Robin_Wright\" title=\"Robin Wright\">Robin Wright</a> (director); Jesse Chatham, <a href=\"/wiki/Erin_Dignam\" title=\"Erin Dignam\">Erin Dignam</a> (screenplay); Robin Wright, <a href=\"/wiki/Demi%C3%A1n_Bichir\" title=\"Demián Bichir\">Demián Bichir</a>, <a href=\"/wiki/Kim_Dickens\" title=\"Kim Dickens\">Kim Dickens</a></td>\n",
            "<td><div class=\"center\" style=\"width:auto; margin-left:auto; margin-right:auto;\"><sup class=\"reference\" id=\"cite_ref-30\"><a href=\"#cite_note-30\">[30]</a></sup></div>\n",
            "</td></tr>\n",
            "*************************\n",
            "<a href=\"/wiki/Land_(2021_film)\" title=\"Land (2021 film)\">Land</a>\n",
            "/wiki/Land_(2021_film)\n",
            "Land (2021 film)\n",
            "https://en.wikipedia.org//wiki/Land_(2021_film)\n",
            "**************************\n",
            "<tr>\n",
            "<td><i><a href=\"/wiki/Willy%27s_Wonderland\" title=\"Willy's Wonderland\">Willy's Wonderland</a></i></td>\n",
            "<td><a class=\"mw-redirect\" href=\"/wiki/Screen_Media_Films\" title=\"Screen Media Films\">Screen Media Films</a></td>\n",
            "<td>Kevin Lewis (director); G.O. Parsons (screenplay); <a href=\"/wiki/Nicolas_Cage\" title=\"Nicolas Cage\">Nicolas Cage</a>, <a href=\"/wiki/Emily_Tosta\" title=\"Emily Tosta\">Emily Tosta</a>, <a href=\"/wiki/Ric_Reitz\" title=\"Ric Reitz\">Ric Reitz</a>, <a href=\"/wiki/Beth_Grant\" title=\"Beth Grant\">Beth Grant</a></td>\n",
            "<td>\n",
            "</td></tr>\n",
            "*************************\n",
            "<a href=\"/wiki/Willy%27s_Wonderland\" title=\"Willy's Wonderland\">Willy's Wonderland</a>\n",
            "/wiki/Willy%27s_Wonderland\n",
            "Willy's Wonderland\n",
            "https://en.wikipedia.org//wiki/Willy%27s_Wonderland\n",
            "**************************\n",
            "<tr>\n",
            "<td><i><a href=\"/wiki/The_Map_of_Tiny_Perfect_Things\" title=\"The Map of Tiny Perfect Things\">The Map of Tiny Perfect Things</a></i></td>\n",
            "<td><a class=\"mw-redirect\" href=\"/wiki/Amazon_Studios\" title=\"Amazon Studios\">Amazon Studios</a></td>\n",
            "<td>Ian Samuels (director); <a href=\"/wiki/Lev_Grossman\" title=\"Lev Grossman\">Lev Grossman</a> (screenplay); <a href=\"/wiki/Kathryn_Newton\" title=\"Kathryn Newton\">Kathryn Newton</a>, Kyle Allen, <a href=\"/wiki/Al_Madrigal\" title=\"Al Madrigal\">Al Madrigal</a></td>\n",
            "<td><div class=\"center\" style=\"width:auto; margin-left:auto; margin-right:auto;\"><sup class=\"reference\" id=\"cite_ref-31\"><a href=\"#cite_note-31\">[31]</a></sup></div>\n",
            "</td></tr>\n",
            "*************************\n",
            "<a href=\"/wiki/The_Map_of_Tiny_Perfect_Things\" title=\"The Map of Tiny Perfect Things\">The Map of Tiny Perfect Things</a>\n",
            "/wiki/The_Map_of_Tiny_Perfect_Things\n",
            "The Map of Tiny Perfect Things\n",
            "https://en.wikipedia.org//wiki/The_Map_of_Tiny_Perfect_Things\n",
            "**************************\n",
            "<tr>\n",
            "<td><i><a href=\"/wiki/Fear_of_Rain\" title=\"Fear of Rain\">Fear of Rain</a></i></td>\n",
            "<td><a href=\"/wiki/Lionsgate\" title=\"Lionsgate\">Lionsgate</a></td>\n",
            "<td>Castille Landon (director/screenplay); <a href=\"/wiki/Katherine_Heigl\" title=\"Katherine Heigl\">Katherine Heigl</a>, <a href=\"/wiki/Madison_Iseman\" title=\"Madison Iseman\">Madison Iseman</a>, <a href=\"/wiki/Israel_Broussard\" title=\"Israel Broussard\">Israel Broussard</a>, <a href=\"/wiki/Harry_Connick_Jr.\" title=\"Harry Connick Jr.\">Harry Connick Jr.</a></td>\n",
            "<td>\n",
            "</td></tr>\n",
            "*************************\n",
            "<a href=\"/wiki/Fear_of_Rain\" title=\"Fear of Rain\">Fear of Rain</a>\n",
            "/wiki/Fear_of_Rain\n",
            "Fear of Rain\n",
            "https://en.wikipedia.org//wiki/Fear_of_Rain\n",
            "**************************\n",
            "<tr>\n",
            "<td rowspan=\"3\" style=\"text-align:center; background:#dfc7f7\"><b>19</b>\n",
            "</td>\n",
            "<td><i><a href=\"/wiki/I_Care_a_Lot\" title=\"I Care a Lot\">I Care a Lot</a></i></td>\n",
            "<td><a href=\"/wiki/Netflix\" title=\"Netflix\">Netflix</a> / <a class=\"mw-redirect\" href=\"/wiki/Amazon_Studios\" title=\"Amazon Studios\">Amazon Studios</a> / <a class=\"mw-redirect\" href=\"/wiki/STXfilms\" title=\"STXfilms\">STXfilms</a> / <a href=\"/wiki/Black_Bear_Pictures\" title=\"Black Bear Pictures\">Black Bear Pictures</a></td>\n",
            "<td><a href=\"/wiki/J_Blakeson\" title=\"J Blakeson\">J Blakeson</a> (director/screenplay); <a href=\"/wiki/Rosamund_Pike\" title=\"Rosamund Pike\">Rosamund Pike</a>, <a href=\"/wiki/Peter_Dinklage\" title=\"Peter Dinklage\">Peter Dinklage</a>, <a href=\"/wiki/Eiza_Gonz%C3%A1lez\" title=\"Eiza González\">Eiza González</a>, <a href=\"/wiki/Chris_Messina\" title=\"Chris Messina\">Chris Messina</a>, <a href=\"/wiki/Dianne_Wiest\" title=\"Dianne Wiest\">Dianne Wiest</a>, <a href=\"/wiki/Isiah_Whitlock_Jr.\" title=\"Isiah Whitlock Jr.\">Isiah Whitlock Jr.</a></td>\n",
            "<td><div class=\"center\" style=\"width:auto; margin-left:auto; margin-right:auto;\"><sup class=\"reference\" id=\"cite_ref-32\"><a href=\"#cite_note-32\">[32]</a></sup></div>\n",
            "</td></tr>\n",
            "*************************\n",
            "<a href=\"/wiki/I_Care_a_Lot\" title=\"I Care a Lot\">I Care a Lot</a>\n",
            "/wiki/I_Care_a_Lot\n",
            "I Care a Lot\n",
            "https://en.wikipedia.org//wiki/I_Care_a_Lot\n",
            "**************************\n",
            "<tr>\n",
            "<td><i><a href=\"/wiki/Flora_%26_Ulysses_(film)\" title=\"Flora &amp; Ulysses (film)\">Flora &amp; Ulysses</a></i></td>\n",
            "<td><a href=\"/wiki/Disney%2B\" title=\"Disney+\">Disney+</a> / <a href=\"/wiki/Walt_Disney_Pictures\" title=\"Walt Disney Pictures\">Walt Disney Pictures</a></td>\n",
            "<td>Lena Khan (director); <a href=\"/wiki/Brad_Copeland\" title=\"Brad Copeland\">Brad Copeland</a> (screenplay); Matilda Lawler, <a href=\"/wiki/Alyson_Hannigan\" title=\"Alyson Hannigan\">Alyson Hannigan</a>, <a href=\"/wiki/Ben_Schwartz\" title=\"Ben Schwartz\">Ben Schwartz</a>, Anna Deavere Smith, <a href=\"/wiki/Danny_Pudi\" title=\"Danny Pudi\">Danny Pudi</a>, Benjamin Evan Ainsworth, <a href=\"/wiki/Janeane_Garofalo\" title=\"Janeane Garofalo\">Janeane Garofalo</a>, <a href=\"/wiki/Kate_Micucci\" title=\"Kate Micucci\">Kate Micucci</a></td>\n",
            "<td><div class=\"center\" style=\"width:auto; margin-left:auto; margin-right:auto;\"><sup class=\"reference\" id=\"cite_ref-33\"><a href=\"#cite_note-33\">[33]</a></sup></div>\n",
            "</td></tr>\n",
            "*************************\n",
            "<a href=\"/wiki/Flora_%26_Ulysses_(film)\" title=\"Flora &amp; Ulysses (film)\">Flora &amp; Ulysses</a>\n",
            "/wiki/Flora_%26_Ulysses_(film)\n",
            "Flora & Ulysses (film)\n",
            "https://en.wikipedia.org//wiki/Flora_%26_Ulysses_(film)\n",
            "**************************\n",
            "<tr>\n",
            "<td><i><a href=\"/wiki/Silk_Road_(film)\" title=\"Silk Road (film)\">Silk Road</a></i></td>\n",
            "<td><a href=\"/wiki/Lionsgate\" title=\"Lionsgate\">Lionsgate</a></td>\n",
            "<td>Tiller Russell (director/screenplay); <a href=\"/wiki/Jason_Clarke\" title=\"Jason Clarke\">Jason Clarke</a>, <a href=\"/wiki/Nick_Robinson_(American_actor)\" title=\"Nick Robinson (American actor)\">Nick Robinson</a>, <a href=\"/wiki/Katie_Aselton\" title=\"Katie Aselton\">Katie Aselton</a>, <a href=\"/wiki/Jimmi_Simpson\" title=\"Jimmi Simpson\">Jimmi Simpson</a>, <a href=\"/wiki/Daniel_David_Stewart\" title=\"Daniel David Stewart\">Daniel David Stewart</a>, <a href=\"/wiki/Darrell_Britt-Gibson\" title=\"Darrell Britt-Gibson\">Darrell Britt-Gibson</a>, Lexi Rabe, Will Ropp, <a href=\"/wiki/Paul_Walter_Hauser\" title=\"Paul Walter Hauser\">Paul Walter Hauser</a>, <a href=\"/wiki/Alexandra_Shipp\" title=\"Alexandra Shipp\">Alexandra Shipp</a></td>\n",
            "<td><div class=\"center\" style=\"width:auto; margin-left:auto; margin-right:auto;\"><sup class=\"reference\" id=\"cite_ref-34\"><a href=\"#cite_note-34\">[34]</a></sup></div>\n",
            "</td></tr>\n",
            "*************************\n",
            "<a href=\"/wiki/Silk_Road_(film)\" title=\"Silk Road (film)\">Silk Road</a>\n",
            "/wiki/Silk_Road_(film)\n",
            "Silk Road (film)\n",
            "https://en.wikipedia.org//wiki/Silk_Road_(film)\n",
            "**************************\n",
            "<tr>\n",
            "<td rowspan=\"6\" style=\"text-align:center; background:#dfc7f7\"><b>26</b>\n",
            "</td>\n",
            "<td><i><a href=\"/wiki/Tom_%26_Jerry_(2021_film)\" title=\"Tom &amp; Jerry (2021 film)\">Tom &amp; Jerry</a></i></td>\n",
            "<td><a href=\"/wiki/Warner_Bros._Pictures\" title=\"Warner Bros. Pictures\">Warner Bros. Pictures</a> / <a class=\"mw-redirect\" href=\"/wiki/Warner_Animation_Group\" title=\"Warner Animation Group\">Warner Animation Group</a> / <a class=\"mw-redirect\" href=\"/wiki/HBO_Max\" title=\"HBO Max\">HBO Max</a></td>\n",
            "<td><a href=\"/wiki/Tim_Story\" title=\"Tim Story\">Tim Story</a> (director); Kevin Costello (screenplay); <a href=\"/wiki/Chlo%C3%AB_Grace_Moretz\" title=\"Chloë Grace Moretz\">Chloë Grace Moretz</a>, <a href=\"/wiki/Michael_Pe%C3%B1a\" title=\"Michael Peña\">Michael Peña</a>, <a href=\"/wiki/Colin_Jost\" title=\"Colin Jost\">Colin Jost</a>, <a href=\"/wiki/Rob_Delaney\" title=\"Rob Delaney\">Rob Delaney</a>, <a href=\"/wiki/Pallavi_Sharda\" title=\"Pallavi Sharda\">Pallavi Sharda</a>, Jordan Bolger, <a href=\"/wiki/Patsy_Ferran\" title=\"Patsy Ferran\">Patsy Ferran</a>, <a href=\"/wiki/Nicky_Jam\" title=\"Nicky Jam\">Nicky Jam</a>, <a href=\"/wiki/Bobby_Cannavale\" title=\"Bobby Cannavale\">Bobby Cannavale</a>, <a href=\"/wiki/Lil_Rel_Howery\" title=\"Lil Rel Howery\">Lil Rel Howery</a>, <a href=\"/wiki/Ken_Jeong\" title=\"Ken Jeong\">Ken Jeong</a></td>\n",
            "<td><div class=\"center\" style=\"width:auto; margin-left:auto; margin-right:auto;\"><sup class=\"reference\" id=\"cite_ref-35\"><a href=\"#cite_note-35\">[35]</a></sup></div>\n",
            "</td></tr>\n",
            "*************************\n",
            "<a href=\"/wiki/Tom_%26_Jerry_(2021_film)\" title=\"Tom &amp; Jerry (2021 film)\">Tom &amp; Jerry</a>\n",
            "/wiki/Tom_%26_Jerry_(2021_film)\n",
            "Tom & Jerry (2021 film)\n",
            "https://en.wikipedia.org//wiki/Tom_%26_Jerry_(2021_film)\n",
            "**************************\n",
            "<tr>\n",
            "<td><i><a href=\"/wiki/The_United_States_vs._Billie_Holiday\" title=\"The United States vs. Billie Holiday\">The United States vs. Billie Holiday</a></i></td>\n",
            "<td><a href=\"/wiki/Hulu\" title=\"Hulu\">Hulu</a> / <a href=\"/wiki/Roth/Kirschenbaum_Films\" title=\"Roth/Kirschenbaum Films\">Roth/Kirschenbaum Films</a></td>\n",
            "<td><a href=\"/wiki/Lee_Daniels\" title=\"Lee Daniels\">Lee Daniels</a> (director); <a href=\"/wiki/Suzan-Lori_Parks\" title=\"Suzan-Lori Parks\">Suzan-Lori Parks</a> (screenplay); <a href=\"/wiki/Andra_Day\" title=\"Andra Day\">Andra Day</a>, <a href=\"/wiki/Trevante_Rhodes\" title=\"Trevante Rhodes\">Trevante Rhodes</a>, <a href=\"/wiki/Garrett_Hedlund\" title=\"Garrett Hedlund\">Garrett Hedlund</a>, <a href=\"/wiki/Leslie_Jordan\" title=\"Leslie Jordan\">Leslie Jordan</a>, <a href=\"/wiki/Miss_Lawrence\" title=\"Miss Lawrence\">Miss Lawrence</a>, <a href=\"/wiki/Adriane_Lenox\" title=\"Adriane Lenox\">Adriane Lenox</a>, <a href=\"/wiki/Natasha_Lyonne\" title=\"Natasha Lyonne\">Natasha Lyonne</a>, <a href=\"/wiki/Rob_Morgan_(actor)\" title=\"Rob Morgan (actor)\">Rob Morgan</a>, <a href=\"/wiki/Da%27Vine_Joy_Randolph\" title=\"Da'Vine Joy Randolph\">Da'Vine Joy Randolph</a>, <a href=\"/wiki/Evan_Ross\" title=\"Evan Ross\">Evan Ross</a>, <a href=\"/wiki/Tyler_James_Williams\" title=\"Tyler James Williams\">Tyler James Williams</a>, <a href=\"/wiki/Tone_Bell\" title=\"Tone Bell\">Tone Bell</a>, <a href=\"/wiki/Blake_DeLong\" title=\"Blake DeLong\">Blake DeLong</a>, <a href=\"/wiki/Randy_Davison\" title=\"Randy Davison\">Randy Davison</a>, <a href=\"/wiki/Dana_Gourrier\" title=\"Dana Gourrier\">Dana Gourrier</a>, <a href=\"/wiki/Melvin_Gregg\" title=\"Melvin Gregg\">Melvin Gregg</a>, <a href=\"/wiki/Erik_LaRay_Harvey\" title=\"Erik LaRay Harvey\">Erik LaRay Harvey</a>, <a href=\"/wiki/Ray_Shell\" title=\"Ray Shell\">Ray Shell</a></td>\n",
            "<td><div class=\"center\" style=\"width:auto; margin-left:auto; margin-right:auto;\"><sup class=\"reference\" id=\"cite_ref-36\"><a href=\"#cite_note-36\">[36]</a></sup></div>\n",
            "</td></tr>\n",
            "*************************\n",
            "<a href=\"/wiki/The_United_States_vs._Billie_Holiday\" title=\"The United States vs. Billie Holiday\">The United States vs. Billie Holiday</a>\n",
            "/wiki/The_United_States_vs._Billie_Holiday\n",
            "The United States vs. Billie Holiday\n",
            "https://en.wikipedia.org//wiki/The_United_States_vs._Billie_Holiday\n",
            "**************************\n",
            "<tr>\n",
            "<td><i><a href=\"/wiki/Cherry_(2021_film)\" title=\"Cherry (2021 film)\">Cherry</a></i></td>\n",
            "<td><a href=\"/wiki/Apple_TV%2B\" title=\"Apple TV+\">Apple TV+</a> / <a href=\"/wiki/AGBO\" title=\"AGBO\">AGBO</a></td>\n",
            "<td><a href=\"/wiki/Russo_brothers\" title=\"Russo brothers\">Anthony and Joe Russo</a> (directors); Angela Russo-Otstot, <a href=\"/wiki/Jessica_Goldberg\" title=\"Jessica Goldberg\">Jessica Goldberg</a> (screenplay); <a class=\"mw-redirect\" href=\"/wiki/Tom_Holland_(actor)\" title=\"Tom Holland (actor)\">Tom Holland</a>, <a href=\"/wiki/Ciara_Bravo\" title=\"Ciara Bravo\">Ciara Bravo</a>, <a href=\"/wiki/Jack_Reynor\" title=\"Jack Reynor\">Jack Reynor</a>, <a href=\"/wiki/Michael_Rispoli\" title=\"Michael Rispoli\">Michael Rispoli</a>, Jeff Wahlberg</td>\n",
            "<td><div class=\"center\" style=\"width:auto; margin-left:auto; margin-right:auto;\"><sup class=\"reference\" id=\"cite_ref-37\"><a href=\"#cite_note-37\">[37]</a></sup></div>\n",
            "</td></tr>\n",
            "*************************\n",
            "<a href=\"/wiki/Cherry_(2021_film)\" title=\"Cherry (2021 film)\">Cherry</a>\n",
            "/wiki/Cherry_(2021_film)\n",
            "Cherry (2021 film)\n",
            "https://en.wikipedia.org//wiki/Cherry_(2021_film)\n",
            "**************************\n",
            "<tr>\n",
            "<td><i><a href=\"/wiki/Crisis_(2021_film)\" title=\"Crisis (2021 film)\">Crisis</a></i></td>\n",
            "<td>Quiver Distribution</td>\n",
            "<td><a href=\"/wiki/Nicholas_Jarecki\" title=\"Nicholas Jarecki\">Nicholas Jarecki</a> (director/screenplay); <a href=\"/wiki/Gary_Oldman\" title=\"Gary Oldman\">Gary Oldman</a>, <a href=\"/wiki/Armie_Hammer\" title=\"Armie Hammer\">Armie Hammer</a>, <a href=\"/wiki/Evangeline_Lilly\" title=\"Evangeline Lilly\">Evangeline Lilly</a>, <a href=\"/wiki/Greg_Kinnear\" title=\"Greg Kinnear\">Greg Kinnear</a>, <a href=\"/wiki/Michelle_Rodriguez\" title=\"Michelle Rodriguez\">Michelle Rodriguez</a>, <a href=\"/wiki/Luke_Evans\" title=\"Luke Evans\">Luke Evans</a>, <a href=\"/wiki/Lily-Rose_Depp\" title=\"Lily-Rose Depp\">Lily-Rose Depp</a>, <a class=\"mw-redirect\" href=\"/wiki/Scott_Mescudi\" title=\"Scott Mescudi\">Scott Mescudi</a>, <a href=\"/wiki/Martin_Donovan\" title=\"Martin Donovan\">Martin Donovan</a></td>\n",
            "<td><div class=\"center\" style=\"width:auto; margin-left:auto; margin-right:auto;\"><sup class=\"reference\" id=\"cite_ref-38\"><a href=\"#cite_note-38\">[38]</a></sup></div>\n",
            "</td></tr>\n",
            "*************************\n",
            "<a href=\"/wiki/Crisis_(2021_film)\" title=\"Crisis (2021 film)\">Crisis</a>\n",
            "/wiki/Crisis_(2021_film)\n",
            "Crisis (2021 film)\n",
            "https://en.wikipedia.org//wiki/Crisis_(2021_film)\n",
            "**************************\n",
            "<tr>\n",
            "<td><i><a href=\"/wiki/Billie_Eilish:_The_World%27s_a_Little_Blurry\" title=\"Billie Eilish: The World's a Little Blurry\">Billie Eilish: The World's a Little Blurry</a></i></td>\n",
            "<td><a href=\"/wiki/Neon_(company)\" title=\"Neon (company)\">Neon</a> / <a href=\"/wiki/Apple_TV%2B\" title=\"Apple TV+\">Apple TV+</a></td>\n",
            "<td><a href=\"/wiki/R._J._Cutler\" title=\"R. J. Cutler\">R. J. Cutler</a> (director/screenplay); <a href=\"/wiki/Billie_Eilish\" title=\"Billie Eilish\">Billie Eilish</a>, <a href=\"/wiki/Finneas_O%27Connell\" title=\"Finneas O'Connell\">Finneas O'Connell</a>, <a href=\"/wiki/Maggie_Baird\" title=\"Maggie Baird\">Maggie Baird</a>, Patrick O'Connell</td>\n",
            "<td><div class=\"center\" style=\"width:auto; margin-left:auto; margin-right:auto;\"><sup class=\"reference\" id=\"cite_ref-39\"><a href=\"#cite_note-39\">[39]</a></sup></div>\n",
            "</td></tr>\n",
            "*************************\n",
            "<a href=\"/wiki/Billie_Eilish:_The_World%27s_a_Little_Blurry\" title=\"Billie Eilish: The World's a Little Blurry\">Billie Eilish: The World's a Little Blurry</a>\n",
            "/wiki/Billie_Eilish:_The_World%27s_a_Little_Blurry\n",
            "Billie Eilish: The World's a Little Blurry\n",
            "https://en.wikipedia.org//wiki/Billie_Eilish:_The_World%27s_a_Little_Blurry\n",
            "**************************\n",
            "<tr>\n",
            "<td><i><a href=\"/wiki/The_Vigil_(2019_film)\" title=\"The Vigil (2019 film)\">The Vigil</a></i></td>\n",
            "<td><a href=\"/wiki/IFC_Films\" title=\"IFC Films\">IFC Midnight</a> / <a href=\"/wiki/Blumhouse_Productions\" title=\"Blumhouse Productions\">Blumhouse Productions</a></td>\n",
            "<td><a href=\"/wiki/Keith_Thomas_(director)\" title=\"Keith Thomas (director)\">Keith Thomas</a> (director/screenplay); <a href=\"/wiki/Dave_Davis_(actor)\" title=\"Dave Davis (actor)\">Dave Davis</a>, Menashe Lustig, Malky Goldman, <a href=\"/wiki/Fred_Melamed\" title=\"Fred Melamed\">Fred Melamed</a>, <a href=\"/wiki/Lynn_Cohen\" title=\"Lynn Cohen\">Lynn Cohen</a></td>\n",
            "<td><div class=\"center\" style=\"width:auto; margin-left:auto; margin-right:auto;\"><sup class=\"reference\" id=\"cite_ref-40\"><a href=\"#cite_note-40\">[40]</a></sup></div>\n",
            "</td></tr>\n",
            "*************************\n",
            "<a href=\"/wiki/The_Vigil_(2019_film)\" title=\"The Vigil (2019 film)\">The Vigil</a>\n",
            "/wiki/The_Vigil_(2019_film)\n",
            "The Vigil (2019 film)\n",
            "https://en.wikipedia.org//wiki/The_Vigil_(2019_film)\n",
            "**************************\n",
            "<tr>\n",
            "<th rowspan=\"21\" style=\"text-align:center; background:#87f7bf; textcolor:#000;\">M<br/>A<br/>R<br/>C<br/>H\n",
            "</th>\n",
            "<td rowspan=\"1\" style=\"text-align:center; background:#c7f7df\"><b>3</b>\n",
            "</td>\n",
            "<td><i><a href=\"/wiki/Moxie_(film)\" title=\"Moxie (film)\">Moxie</a></i></td>\n",
            "<td><a href=\"/wiki/Netflix\" title=\"Netflix\">Netflix</a></td>\n",
            "<td><a href=\"/wiki/Amy_Poehler\" title=\"Amy Poehler\">Amy Poehler</a> (director); Tamara Chestna, Dylan Meyer (screenplay); <a href=\"/wiki/Hadley_Robinson\" title=\"Hadley Robinson\">Hadley Robinson</a>, <a href=\"/wiki/Lauren_Tsai\" title=\"Lauren Tsai\">Lauren Tsai</a>, <a href=\"/wiki/Patrick_Schwarzenegger\" title=\"Patrick Schwarzenegger\">Patrick Schwarzenegger</a>, Hico Hiraga, <a href=\"/wiki/Sydney_Park_(actress)\" title=\"Sydney Park (actress)\">Sydney Park</a>, <a href=\"/wiki/Josephine_Langford\" title=\"Josephine Langford\">Josephine Langford</a>, <a href=\"/wiki/Clark_Gregg\" title=\"Clark Gregg\">Clark Gregg</a>, <a href=\"/wiki/Ike_Barinholtz\" title=\"Ike Barinholtz\">Ike Barinholtz</a>, Amy Poehler, <a href=\"/wiki/Marcia_Gay_Harden\" title=\"Marcia Gay Harden\">Marcia Gay Harden</a></td>\n",
            "<td>\n",
            "</td></tr>\n",
            "*************************\n",
            "<a href=\"/wiki/Moxie_(film)\" title=\"Moxie (film)\">Moxie</a>\n",
            "/wiki/Moxie_(film)\n",
            "Moxie (film)\n",
            "https://en.wikipedia.org//wiki/Moxie_(film)\n",
            "**************************\n",
            "<tr>\n",
            "<td rowspan=\"2\" style=\"text-align:center; background:#c7f7df\"><b>4</b>\n",
            "</td>\n",
            "<td><i><a href=\"/wiki/Coming_2_America\" title=\"Coming 2 America\">Coming 2 America</a></i></td>\n",
            "<td><a class=\"mw-redirect\" href=\"/wiki/Amazon_Studios\" title=\"Amazon Studios\">Amazon Studios</a> / <a href=\"/wiki/Paramount_Pictures\" title=\"Paramount Pictures\">Paramount Pictures</a></td>\n",
            "<td><a href=\"/wiki/Craig_Brewer\" title=\"Craig Brewer\">Craig Brewer</a> (director); <a href=\"/wiki/Kenya_Barris\" title=\"Kenya Barris\">Kenya Barris</a>, <a href=\"/wiki/Barry_W._Blaustein\" title=\"Barry W. Blaustein\">Barry W. Blaustein</a>, <a href=\"/wiki/David_Sheffield\" title=\"David Sheffield\">David Sheffield</a> (screenplay); <a href=\"/wiki/Eddie_Murphy\" title=\"Eddie Murphy\">Eddie Murphy</a>, <a href=\"/wiki/Arsenio_Hall\" title=\"Arsenio Hall\">Arsenio Hall</a>, <a href=\"/wiki/Jermaine_Fowler\" title=\"Jermaine Fowler\">Jermaine Fowler</a>, <a href=\"/wiki/Leslie_Jones_(comedian)\" title=\"Leslie Jones (comedian)\">Leslie Jones</a>, <a href=\"/wiki/Tracy_Morgan\" title=\"Tracy Morgan\">Tracy Morgan</a>, <a href=\"/wiki/KiKi_Layne\" title=\"KiKi Layne\">KiKi Layne</a>, <a href=\"/wiki/Shari_Headley\" title=\"Shari Headley\">Shari Headley</a>, <a href=\"/wiki/Teyana_Taylor\" title=\"Teyana Taylor\">Teyana Taylor</a>, <a href=\"/wiki/Wesley_Snipes\" title=\"Wesley Snipes\">Wesley Snipes</a>, <a href=\"/wiki/James_Earl_Jones\" title=\"James Earl Jones\">James Earl Jones</a></td>\n",
            "<td><div class=\"center\" style=\"width:auto; margin-left:auto; margin-right:auto;\"><sup class=\"reference\" id=\"cite_ref-41\"><a href=\"#cite_note-41\">[41]</a></sup></div>\n",
            "</td></tr>\n",
            "*************************\n",
            "<a href=\"/wiki/Coming_2_America\" title=\"Coming 2 America\">Coming 2 America</a>\n",
            "/wiki/Coming_2_America\n",
            "Coming 2 America\n",
            "https://en.wikipedia.org//wiki/Coming_2_America\n",
            "**************************\n",
            "<tr>\n",
            "<td><i><a href=\"/wiki/The_SpongeBob_Movie:_Sponge_on_the_Run\" title=\"The SpongeBob Movie: Sponge on the Run\">The SpongeBob Movie: Sponge on the Run</a></i></td>\n",
            "<td><a href=\"/wiki/Paramount%2B\" title=\"Paramount+\">Paramount+</a> / <a href=\"/wiki/Paramount_Animation\" title=\"Paramount Animation\">Paramount Animation</a> / <a href=\"/wiki/Nickelodeon_Movies\" title=\"Nickelodeon Movies\">Nickelodeon Movies</a> / <a href=\"/wiki/MRC_(company)\" title=\"MRC (company)\">MRC</a></td>\n",
            "<td><a class=\"mw-redirect\" href=\"/wiki/Tim_Hill_(director)\" title=\"Tim Hill (director)\">Tim Hill</a> (director/screenplay); <a href=\"/wiki/Tom_Kenny\" title=\"Tom Kenny\">Tom Kenny</a>, <a href=\"/wiki/Awkwafina\" title=\"Awkwafina\">Awkwafina</a>, <a href=\"/wiki/Matt_Berry\" title=\"Matt Berry\">Matt Berry</a>, <a href=\"/wiki/Snoop_Dogg\" title=\"Snoop Dogg\">Snoop Dogg</a>, <a href=\"/wiki/Bill_Fagerbakke\" title=\"Bill Fagerbakke\">Bill Fagerbakke</a>, <a href=\"/wiki/Clancy_Brown\" title=\"Clancy Brown\">Clancy Brown</a>, <a href=\"/wiki/Tiffany_Haddish\" title=\"Tiffany Haddish\">Tiffany Haddish</a>, <a href=\"/wiki/Carolyn_Lawrence\" title=\"Carolyn Lawrence\">Carolyn Lawrence</a>, <a href=\"/wiki/Mr._Lawrence\" title=\"Mr. Lawrence\">Mr. Lawrence</a>, <a href=\"/wiki/Keanu_Reeves\" title=\"Keanu Reeves\">Keanu Reeves</a>, <a href=\"/wiki/Danny_Trejo\" title=\"Danny Trejo\">Danny Trejo</a>, <a href=\"/wiki/Reggie_Watts\" title=\"Reggie Watts\">Reggie Watts</a></td>\n",
            "<td><div class=\"center\" style=\"width:auto; margin-left:auto; margin-right:auto;\"><sup class=\"reference\" id=\"cite_ref-42\"><a href=\"#cite_note-42\">[42]</a></sup></div>\n",
            "</td></tr>\n",
            "*************************\n",
            "<a href=\"/wiki/The_SpongeBob_Movie:_Sponge_on_the_Run\" title=\"The SpongeBob Movie: Sponge on the Run\">The SpongeBob Movie: Sponge on the Run</a>\n",
            "/wiki/The_SpongeBob_Movie:_Sponge_on_the_Run\n",
            "The SpongeBob Movie: Sponge on the Run\n",
            "https://en.wikipedia.org//wiki/The_SpongeBob_Movie:_Sponge_on_the_Run\n",
            "**************************\n",
            "<tr>\n",
            "<td rowspan=\"4\" style=\"text-align:center; background:#c7f7df\"><b>5</b>\n",
            "</td>\n",
            "<td><i><a href=\"/wiki/Raya_and_the_Last_Dragon\" title=\"Raya and the Last Dragon\">Raya and the Last Dragon</a></i></td>\n",
            "<td><a href=\"/wiki/Walt_Disney_Pictures\" title=\"Walt Disney Pictures\">Walt Disney Pictures</a> / <a href=\"/wiki/Walt_Disney_Animation_Studios\" title=\"Walt Disney Animation Studios\">Walt Disney Animation Studios</a> / <a href=\"/wiki/Disney%2B\" title=\"Disney+\">Disney+</a></td>\n",
            "<td><a href=\"/wiki/Don_Hall_(filmmaker)\" title=\"Don Hall (filmmaker)\">Don Hall</a>, <a href=\"/wiki/Carlos_L%C3%B3pez_Estrada\" title=\"Carlos López Estrada\">Carlos López Estrada</a> (directors); <a href=\"/wiki/Qui_Nguyen\" title=\"Qui Nguyen\">Qui Nguyen</a>, <a href=\"/wiki/Adele_Lim\" title=\"Adele Lim\">Adele Lim</a> (screenplay); <a href=\"/wiki/Kelly_Marie_Tran\" title=\"Kelly Marie Tran\">Kelly Marie Tran</a>, <a href=\"/wiki/Awkwafina\" title=\"Awkwafina\">Awkwafina</a>, <a href=\"/wiki/Izaac_Wang\" title=\"Izaac Wang\">Izaac Wang</a>, <a href=\"/wiki/Gemma_Chan\" title=\"Gemma Chan\">Gemma Chan</a>, <a href=\"/wiki/Daniel_Dae_Kim\" title=\"Daniel Dae Kim\">Daniel Dae Kim</a>, <a href=\"/wiki/Benedict_Wong\" title=\"Benedict Wong\">Benedict Wong</a>, <a href=\"/wiki/Sandra_Oh\" title=\"Sandra Oh\">Sandra Oh</a>, <a href=\"/wiki/Thalia_Tran\" title=\"Thalia Tran\">Thalia Tran</a>, <a href=\"/wiki/Lucille_Soong\" title=\"Lucille Soong\">Lucille Soong</a>, <a href=\"/wiki/Alan_Tudyk\" title=\"Alan Tudyk\">Alan Tudyk</a></td>\n",
            "<td><div class=\"center\" style=\"width:auto; margin-left:auto; margin-right:auto;\"><sup class=\"reference\" id=\"cite_ref-43\"><a href=\"#cite_note-43\">[43]</a></sup></div>\n",
            "</td></tr>\n",
            "*************************\n",
            "<a href=\"/wiki/Raya_and_the_Last_Dragon\" title=\"Raya and the Last Dragon\">Raya and the Last Dragon</a>\n",
            "/wiki/Raya_and_the_Last_Dragon\n",
            "Raya and the Last Dragon\n",
            "https://en.wikipedia.org//wiki/Raya_and_the_Last_Dragon\n",
            "**************************\n",
            "<tr>\n",
            "<td><i><a href=\"/wiki/Chaos_Walking_(film)\" title=\"Chaos Walking (film)\">Chaos Walking</a></i></td>\n",
            "<td><a href=\"/wiki/Lionsgate\" title=\"Lionsgate\">Lionsgate</a> / <a href=\"/wiki/Bron_Studios\" title=\"Bron Studios\">Bron Creative</a> / <a href=\"/wiki/3_Arts_Entertainment\" title=\"3 Arts Entertainment\">3 Arts Entertainment</a></td>\n",
            "<td><a href=\"/wiki/Doug_Liman\" title=\"Doug Liman\">Doug Liman</a> (director); <a href=\"/wiki/Patrick_Ness\" title=\"Patrick Ness\">Patrick Ness</a>, Christopher Ford (screenplay); <a href=\"/wiki/Daisy_Ridley\" title=\"Daisy Ridley\">Daisy Ridley</a>, <a class=\"mw-redirect\" href=\"/wiki/Tom_Holland_(actor)\" title=\"Tom Holland (actor)\">Tom Holland</a>, <a href=\"/wiki/Mads_Mikkelsen\" title=\"Mads Mikkelsen\">Mads Mikkelsen</a>, <a href=\"/wiki/Demi%C3%A1n_Bichir\" title=\"Demián Bichir\">Demián Bichir</a>, <a href=\"/wiki/Cynthia_Erivo\" title=\"Cynthia Erivo\">Cynthia Erivo</a>, <a href=\"/wiki/Nick_Jonas\" title=\"Nick Jonas\">Nick Jonas</a>, <a href=\"/wiki/Ray_McKinnon_(actor)\" title=\"Ray McKinnon (actor)\">Ray McKinnon</a>, <a href=\"/wiki/Kurt_Sutter\" title=\"Kurt Sutter\">Kurt Sutter</a>, <a href=\"/wiki/David_Oyelowo\" title=\"David Oyelowo\">David Oyelowo</a></td>\n",
            "<td><div class=\"center\" style=\"width:auto; margin-left:auto; margin-right:auto;\"><sup class=\"reference\" id=\"cite_ref-DHrelease_44-0\"><a href=\"#cite_note-DHrelease-44\">[44]</a></sup></div>\n",
            "</td></tr>\n",
            "*************************\n",
            "<a href=\"/wiki/Chaos_Walking_(film)\" title=\"Chaos Walking (film)\">Chaos Walking</a>\n",
            "/wiki/Chaos_Walking_(film)\n",
            "Chaos Walking (film)\n",
            "https://en.wikipedia.org//wiki/Chaos_Walking_(film)\n",
            "**************************\n",
            "<tr>\n",
            "<td><i><a href=\"/wiki/Boss_Level\" title=\"Boss Level\">Boss Level</a></i></td>\n",
            "<td><a href=\"/wiki/Hulu\" title=\"Hulu\">Hulu</a> / <a href=\"/wiki/Ingenious_Media\" title=\"Ingenious Media\">Ingenious Media</a></td>\n",
            "<td><a href=\"/wiki/Joe_Carnahan\" title=\"Joe Carnahan\">Joe Carnahan</a> (director/screenplay); Chris Borey, Eddie Borey (screenplay); <a href=\"/wiki/Frank_Grillo\" title=\"Frank Grillo\">Frank Grillo</a>, <a href=\"/wiki/Mel_Gibson\" title=\"Mel Gibson\">Mel Gibson</a>, <a href=\"/wiki/Naomi_Watts\" title=\"Naomi Watts\">Naomi Watts</a>, <a href=\"/wiki/Annabelle_Wallis\" title=\"Annabelle Wallis\">Annabelle Wallis</a>, <a href=\"/wiki/Ken_Jeong\" title=\"Ken Jeong\">Ken Jeong</a>, <a href=\"/wiki/Will_Sasso\" title=\"Will Sasso\">Will Sasso</a>, <a href=\"/wiki/Selina_Lo\" title=\"Selina Lo\">Selina Lo</a>, <a href=\"/wiki/Meadow_Williams\" title=\"Meadow Williams\">Meadow Williams</a>, <a href=\"/wiki/Michelle_Yeoh\" title=\"Michelle Yeoh\">Michelle Yeoh</a></td>\n",
            "<td><div class=\"center\" style=\"width:auto; margin-left:auto; margin-right:auto;\"><sup class=\"reference\" id=\"cite_ref-45\"><a href=\"#cite_note-45\">[45]</a></sup></div>\n",
            "</td></tr>\n",
            "*************************\n",
            "<a href=\"/wiki/Boss_Level\" title=\"Boss Level\">Boss Level</a>\n",
            "/wiki/Boss_Level\n",
            "Boss Level\n",
            "https://en.wikipedia.org//wiki/Boss_Level\n",
            "**************************\n",
            "<tr>\n",
            "<td><i><a href=\"/wiki/Boogie_(2021_film)\" title=\"Boogie (2021 film)\">Boogie</a></i></td>\n",
            "<td><a href=\"/wiki/Focus_Features\" title=\"Focus Features\">Focus Features</a></td>\n",
            "<td><a href=\"/wiki/Eddie_Huang\" title=\"Eddie Huang\">Eddie Huang</a> (director/screenplay); Taylor Takahashi, <a href=\"/wiki/Taylour_Paige\" title=\"Taylour Paige\">Taylour Paige</a>, <a href=\"/wiki/Jorge_Lendeborg_Jr.\" title=\"Jorge Lendeborg Jr.\">Jorge Lendeborg Jr.</a>, <a href=\"/wiki/Pop_Smoke\" title=\"Pop Smoke\">Bashar \"Pop Smoke\" Jackson</a></td>\n",
            "<td><div class=\"center\" style=\"width:auto; margin-left:auto; margin-right:auto;\"><sup class=\"reference\" id=\"cite_ref-46\"><a href=\"#cite_note-46\">[46]</a></sup></div>\n",
            "</td></tr>\n",
            "*************************\n",
            "<a href=\"/wiki/Boogie_(2021_film)\" title=\"Boogie (2021 film)\">Boogie</a>\n",
            "/wiki/Boogie_(2021_film)\n",
            "Boogie (2021 film)\n",
            "https://en.wikipedia.org//wiki/Boogie_(2021_film)\n",
            "**************************\n",
            "<tr>\n",
            "<td rowspan=\"4\" style=\"text-align:center; background:#c7f7df\"><b>12</b>\n",
            "</td>\n",
            "<td><i><a href=\"/wiki/Yes_Day\" title=\"Yes Day\">Yes Day</a></i></td>\n",
            "<td><a href=\"/wiki/Netflix\" title=\"Netflix\">Netflix</a></td>\n",
            "<td><a href=\"/wiki/Miguel_Arteta\" title=\"Miguel Arteta\">Miguel Arteta</a> (director); Justin Malen (screenplay); <a href=\"/wiki/Jennifer_Garner\" title=\"Jennifer Garner\">Jennifer Garner</a>, <a href=\"/wiki/%C3%89dgar_Ram%C3%ADrez\" title=\"Édgar Ramírez\">Édgar Ramírez</a>, <a href=\"/wiki/Jenna_Ortega\" title=\"Jenna Ortega\">Jenna Ortega</a></td>\n",
            "<td><div class=\"center\" style=\"width:auto; margin-left:auto; margin-right:auto;\"><sup class=\"reference\" id=\"cite_ref-47\"><a href=\"#cite_note-47\">[47]</a></sup></div>\n",
            "</td></tr>\n",
            "*************************\n",
            "<a href=\"/wiki/Yes_Day\" title=\"Yes Day\">Yes Day</a>\n",
            "/wiki/Yes_Day\n",
            "Yes Day\n",
            "https://en.wikipedia.org//wiki/Yes_Day\n",
            "**************************\n",
            "<tr>\n",
            "<td><i><a href=\"/wiki/Long_Weekend_(2021_film)\" title=\"Long Weekend (2021 film)\">Long Weekend</a></i></td>\n",
            "<td><a href=\"/wiki/Stage_6_Films\" title=\"Stage 6 Films\">Stage 6 Films</a></td>\n",
            "<td>Steve Basilone (director/screenplay); <a href=\"/wiki/Finn_Wittrock\" title=\"Finn Wittrock\">Finn Wittrock</a>, <a href=\"/wiki/Zo%C3%AB_Chao\" title=\"Zoë Chao\">Zoë Chao</a>, <a href=\"/wiki/Casey_Wilson\" title=\"Casey Wilson\">Casey Wilson</a>, <a href=\"/wiki/Jim_Rash\" title=\"Jim Rash\">Jim Rash</a>, <a href=\"/wiki/Damon_Wayans_Jr.\" title=\"Damon Wayans Jr.\">Damon Wayans Jr.</a></td>\n",
            "<td><div class=\"center\" style=\"width:auto; margin-left:auto; margin-right:auto;\"><sup class=\"reference\" id=\"cite_ref-48\"><a href=\"#cite_note-48\">[48]</a></sup></div>\n",
            "</td></tr>\n",
            "*************************\n",
            "<a href=\"/wiki/Long_Weekend_(2021_film)\" title=\"Long Weekend (2021 film)\">Long Weekend</a>\n",
            "/wiki/Long_Weekend_(2021_film)\n",
            "Long Weekend (2021 film)\n",
            "https://en.wikipedia.org//wiki/Long_Weekend_(2021_film)\n",
            "**************************\n",
            "<tr>\n",
            "<td><i><a href=\"/wiki/Cosmic_Sin\" title=\"Cosmic Sin\">Cosmic Sin</a></i></td>\n",
            "<td><a class=\"mw-redirect\" href=\"/wiki/Saban_Films\" title=\"Saban Films\">Saban Films</a></td>\n",
            "<td><a href=\"/wiki/Edward_John_Drake\" title=\"Edward John Drake\">Edward Drake</a> (director/screenplay); <a class=\"mw-redirect\" href=\"/wiki/Corey_Large\" title=\"Corey Large\">Corey Large</a> (screenplay); <a href=\"/wiki/Bruce_Willis\" title=\"Bruce Willis\">Bruce Willis</a>, <a href=\"/wiki/Frank_Grillo\" title=\"Frank Grillo\">Frank Grillo</a>, Brandon Thomas Lee, <a class=\"mw-redirect\" href=\"/wiki/C.J._Perry\" title=\"C.J. Perry\">C.J. Perry</a></td>\n",
            "<td>\n",
            "</td></tr>\n",
            "*************************\n",
            "<a href=\"/wiki/Cosmic_Sin\" title=\"Cosmic Sin\">Cosmic Sin</a>\n",
            "/wiki/Cosmic_Sin\n",
            "Cosmic Sin\n",
            "https://en.wikipedia.org//wiki/Cosmic_Sin\n",
            "**************************\n",
            "<tr>\n",
            "<td><i><a href=\"/wiki/Trust_(2021_film)\" title=\"Trust (2021 film)\">Trust</a></i></td>\n",
            "<td><a class=\"mw-redirect\" href=\"/wiki/Vertical_Entertainment\" title=\"Vertical Entertainment\">Vertical Entertainment</a></td>\n",
            "<td>Brian DeCubellis (director/screenplay); Kristen Lazarian, K.S. Bruce (screenplay); <a href=\"/wiki/Victoria_Justice\" title=\"Victoria Justice\">Victoria Justice</a>, <a href=\"/wiki/Matthew_Daddario\" title=\"Matthew Daddario\">Matthew Daddario</a>, <a href=\"/wiki/Katherine_McNamara\" title=\"Katherine McNamara\">Katherine McNamara</a>, <a href=\"/wiki/Lucien_Laviscount\" title=\"Lucien Laviscount\">Lucien Laviscount</a>, <a href=\"/wiki/Ronny_Chieng\" title=\"Ronny Chieng\">Ronny Chieng</a>, <a href=\"/wiki/Lindsey_Broad\" title=\"Lindsey Broad\">Lindsey Broad</a></td>\n",
            "<td style=\"text-align:center;\"><sup class=\"reference\" id=\"cite_ref-49\"><a href=\"#cite_note-49\">[49]</a></sup>\n",
            "</td></tr>\n",
            "*************************\n",
            "<a href=\"/wiki/Trust_(2021_film)\" title=\"Trust (2021 film)\">Trust</a>\n",
            "/wiki/Trust_(2021_film)\n",
            "Trust (2021 film)\n",
            "https://en.wikipedia.org//wiki/Trust_(2021_film)\n",
            "**************************\n",
            "<tr>\n",
            "<td rowspan=\"1\" style=\"text-align:center; background:#c7f7df\"><b>18</b>\n",
            "</td>\n",
            "<td><i><a href=\"/wiki/Zack_Snyder%27s_Justice_League\" title=\"Zack Snyder's Justice League\">Zack Snyder's Justice League</a></i></td>\n",
            "<td><a class=\"mw-redirect\" href=\"/wiki/HBO_Max\" title=\"HBO Max\">HBO Max</a> / <a href=\"/wiki/Warner_Bros._Pictures\" title=\"Warner Bros. Pictures\">Warner Bros. Pictures</a> / <a class=\"mw-redirect\" href=\"/wiki/DC_Films\" title=\"DC Films\">DC Films</a> / <a href=\"/wiki/Atlas_Entertainment\" title=\"Atlas Entertainment\">Atlas Entertainment</a> / <a href=\"/wiki/The_Stone_Quarry\" title=\"The Stone Quarry\">The Stone Quarry</a></td>\n",
            "<td><a href=\"/wiki/Zack_Snyder\" title=\"Zack Snyder\">Zack Snyder</a> (director); <a href=\"/wiki/Chris_Terrio\" title=\"Chris Terrio\">Chris Terrio</a> (screenplay); <a href=\"/wiki/Ben_Affleck\" title=\"Ben Affleck\">Ben Affleck</a>, <a href=\"/wiki/Henry_Cavill\" title=\"Henry Cavill\">Henry Cavill</a>, <a href=\"/wiki/Amy_Adams\" title=\"Amy Adams\">Amy Adams</a>, <a href=\"/wiki/Gal_Gadot\" title=\"Gal Gadot\">Gal Gadot</a>, <a href=\"/wiki/Ray_Fisher_(actor)\" title=\"Ray Fisher (actor)\">Ray Fisher</a>, <a href=\"/wiki/Jason_Momoa\" title=\"Jason Momoa\">Jason Momoa</a>, <a href=\"/wiki/Ezra_Miller\" title=\"Ezra Miller\">Ezra Miller</a>, <a href=\"/wiki/Willem_Dafoe\" title=\"Willem Dafoe\">Willem Dafoe</a>, <a href=\"/wiki/Jesse_Eisenberg\" title=\"Jesse Eisenberg\">Jesse Eisenberg</a>, <a href=\"/wiki/Jeremy_Irons\" title=\"Jeremy Irons\">Jeremy Irons</a>, <a href=\"/wiki/Diane_Lane\" title=\"Diane Lane\">Diane Lane</a>, <a href=\"/wiki/Connie_Nielsen\" title=\"Connie Nielsen\">Connie Nielsen</a>, <a href=\"/wiki/J._K._Simmons\" title=\"J. K. Simmons\">J. K. Simmons</a>, <a href=\"/wiki/Ciar%C3%A1n_Hinds\" title=\"Ciarán Hinds\">Ciarán Hinds</a></td>\n",
            "<td><div class=\"center\" style=\"width:auto; margin-left:auto; margin-right:auto;\"><sup class=\"reference\" id=\"cite_ref-50\"><a href=\"#cite_note-50\">[50]</a></sup></div>\n",
            "</td></tr>\n",
            "*************************\n",
            "<a href=\"/wiki/Zack_Snyder%27s_Justice_League\" title=\"Zack Snyder's Justice League\">Zack Snyder's Justice League</a>\n",
            "/wiki/Zack_Snyder%27s_Justice_League\n",
            "Zack Snyder's Justice League\n",
            "https://en.wikipedia.org//wiki/Zack_Snyder%27s_Justice_League\n",
            "**************************\n",
            "<tr>\n",
            "<td rowspan=\"3\" style=\"text-align:center; background:#c7f7df\"><b>19</b>\n",
            "</td>\n",
            "<td><i><a href=\"/wiki/The_Courier_(2020_film)\" title=\"The Courier (2020 film)\">The Courier</a></i></td>\n",
            "<td><a href=\"/wiki/Lionsgate\" title=\"Lionsgate\">Lionsgate</a> / <a href=\"/wiki/Roadside_Attractions\" title=\"Roadside Attractions\">Roadside Attractions</a> / <a href=\"/wiki/FilmNation_Entertainment\" title=\"FilmNation Entertainment\">FilmNation Entertainment</a></td>\n",
            "<td><a href=\"/wiki/Dominic_Cooke\" title=\"Dominic Cooke\">Dominic Cooke</a> (director); Tom O'Connor (screenplay); <a href=\"/wiki/Benedict_Cumberbatch\" title=\"Benedict Cumberbatch\">Benedict Cumberbatch</a>, <a href=\"/wiki/Merab_Ninidze\" title=\"Merab Ninidze\">Merab Ninidze</a>, <a href=\"/wiki/Rachel_Brosnahan\" title=\"Rachel Brosnahan\">Rachel Brosnahan</a>, <a href=\"/wiki/Jessie_Buckley\" title=\"Jessie Buckley\">Jessie Buckley</a>, <a href=\"/wiki/Angus_Wright_(actor)\" title=\"Angus Wright (actor)\">Angus Wright</a></td>\n",
            "<td><div class=\"center\" style=\"width:auto; margin-left:auto; margin-right:auto;\"><sup class=\"reference\" id=\"cite_ref-51\"><a href=\"#cite_note-51\">[51]</a></sup></div>\n",
            "</td></tr>\n",
            "*************************\n",
            "<a href=\"/wiki/The_Courier_(2020_film)\" title=\"The Courier (2020 film)\">The Courier</a>\n",
            "/wiki/The_Courier_(2020_film)\n",
            "The Courier (2020 film)\n",
            "https://en.wikipedia.org//wiki/The_Courier_(2020_film)\n",
            "**************************\n",
            "<tr>\n",
            "<td><i><a href=\"/wiki/City_of_Lies\" title=\"City of Lies\">City of Lies</a></i></td>\n",
            "<td><a class=\"mw-redirect\" href=\"/wiki/Saban_Films\" title=\"Saban Films\">Saban Films</a> / <a href=\"/wiki/Miramax\" title=\"Miramax\">Miramax</a></td>\n",
            "<td><a href=\"/wiki/Brad_Furman\" title=\"Brad Furman\">Brad Furman</a> (director); Christian Contreras (screenplay); <a href=\"/wiki/Johnny_Depp\" title=\"Johnny Depp\">Johnny Depp</a>, <a href=\"/wiki/Forest_Whitaker\" title=\"Forest Whitaker\">Forest Whitaker</a></td>\n",
            "<td style=\"text-align:center;\"><sup class=\"reference\" id=\"cite_ref-52\"><a href=\"#cite_note-52\">[52]</a></sup>\n",
            "</td></tr>\n",
            "*************************\n",
            "<a href=\"/wiki/City_of_Lies\" title=\"City of Lies\">City of Lies</a>\n",
            "/wiki/City_of_Lies\n",
            "City of Lies\n",
            "https://en.wikipedia.org//wiki/City_of_Lies\n",
            "**************************\n",
            "<tr>\n",
            "<td><i><a href=\"/wiki/Happily_(film)\" title=\"Happily (film)\">Happily</a></i></td>\n",
            "<td><a class=\"mw-redirect\" href=\"/wiki/Saban_Films\" title=\"Saban Films\">Saban Films</a></td>\n",
            "<td>BenDavid Grabinski (director/screenplay); <a href=\"/wiki/Joel_McHale\" title=\"Joel McHale\">Joel McHale</a>, <a href=\"/wiki/Kerry_Bish%C3%A9\" title=\"Kerry Bishé\">Kerry Bishé</a>, <a href=\"/wiki/Stephen_Root\" title=\"Stephen Root\">Stephen Root</a></td>\n",
            "<td><div class=\"center\" style=\"width:auto; margin-left:auto; margin-right:auto;\"><sup class=\"reference\" id=\"cite_ref-53\"><a href=\"#cite_note-53\">[53]</a></sup></div>\n",
            "</td></tr>\n",
            "*************************\n",
            "<a href=\"/wiki/Happily_(film)\" title=\"Happily (film)\">Happily</a>\n",
            "/wiki/Happily_(film)\n",
            "Happily (film)\n",
            "https://en.wikipedia.org//wiki/Happily_(film)\n",
            "**************************\n",
            "<tr>\n",
            "<td rowspan=\"5\" style=\"text-align:center; background:#c7f7df\"><b>26</b>\n",
            "</td>\n",
            "<td><i><a href=\"/wiki/Nobody_(2021_film)\" title=\"Nobody (2021 film)\">Nobody</a></i></td>\n",
            "<td><a href=\"/wiki/Universal_Pictures\" title=\"Universal Pictures\">Universal Pictures</a> / <a href=\"/wiki/Perfect_World_Pictures\" title=\"Perfect World Pictures\">Perfect World Pictures</a> / <a href=\"/wiki/87North_Productions\" title=\"87North Productions\">87North Productions</a></td>\n",
            "<td><a href=\"/wiki/Ilya_Naishuller\" title=\"Ilya Naishuller\">Ilya Naishuller</a> (director); <a href=\"/wiki/Derek_Kolstad\" title=\"Derek Kolstad\">Derek Kolstad</a> (screenplay); <a href=\"/wiki/Bob_Odenkirk\" title=\"Bob Odenkirk\">Bob Odenkirk</a>, <a href=\"/wiki/Connie_Nielsen\" title=\"Connie Nielsen\">Connie Nielsen</a>, <a href=\"/wiki/Aleksei_Serebryakov_(actor)\" title=\"Aleksei Serebryakov (actor)\">Aleksei Serebryakov</a>, <a href=\"/wiki/RZA\" title=\"RZA\">RZA</a>, <a href=\"/wiki/Michael_Ironside\" title=\"Michael Ironside\">Michael Ironside</a>, <a href=\"/wiki/Colin_Salmon\" title=\"Colin Salmon\">Colin Salmon</a>, <a href=\"/wiki/Christopher_Lloyd\" title=\"Christopher Lloyd\">Christopher Lloyd</a></td>\n",
            "<td><div class=\"center\" style=\"width:auto; margin-left:auto; margin-right:auto;\"><sup class=\"reference\" id=\"cite_ref-54\"><a href=\"#cite_note-54\">[54]</a></sup></div>\n",
            "</td></tr>\n",
            "*************************\n",
            "<a href=\"/wiki/Nobody_(2021_film)\" title=\"Nobody (2021 film)\">Nobody</a>\n",
            "/wiki/Nobody_(2021_film)\n",
            "Nobody (2021 film)\n",
            "https://en.wikipedia.org//wiki/Nobody_(2021_film)\n",
            "**************************\n",
            "<tr>\n",
            "<td><i><a href=\"/wiki/Bad_Trip_(film)\" title=\"Bad Trip (film)\">Bad Trip</a></i></td>\n",
            "<td><a href=\"/wiki/Netflix\" title=\"Netflix\">Netflix</a> / <a href=\"/wiki/Orion_Pictures\" title=\"Orion Pictures\">Orion Pictures</a></td>\n",
            "<td>Kitao Sakurai (director/screenplay); Dan Curry, <a href=\"/wiki/Eric_Andr%C3%A9\" title=\"Eric André\">Eric André</a> (screenplay); Eric André, <a href=\"/wiki/Lil_Rel_Howery\" title=\"Lil Rel Howery\">Lil Rel Howery</a>, <a href=\"/wiki/Tiffany_Haddish\" title=\"Tiffany Haddish\">Tiffany Haddish</a></td>\n",
            "<td>\n",
            "</td></tr>\n",
            "*************************\n",
            "<a href=\"/wiki/Bad_Trip_(film)\" title=\"Bad Trip (film)\">Bad Trip</a>\n",
            "/wiki/Bad_Trip_(film)\n",
            "Bad Trip (film)\n",
            "https://en.wikipedia.org//wiki/Bad_Trip_(film)\n",
            "**************************\n",
            "<tr>\n",
            "<td><i><a href=\"/wiki/The_Seventh_Day_(2021_film)\" title=\"The Seventh Day (2021 film)\">The Seventh Day</a></i></td>\n",
            "<td><a class=\"mw-redirect\" href=\"/wiki/Vertical_Entertainment\" title=\"Vertical Entertainment\">Vertical Entertainment</a> / <a href=\"/wiki/Voltage_Pictures\" title=\"Voltage Pictures\">Voltage Pictures</a></td>\n",
            "<td>Justin P. Lange (director/screenplay); <a href=\"/wiki/Guy_Pearce\" title=\"Guy Pearce\">Guy Pearce</a>, <a href=\"/wiki/Vadhir_Derbez\" title=\"Vadhir Derbez\">Vadhir Derbez</a>, <a href=\"/wiki/Stephen_Lang\" title=\"Stephen Lang\">Stephen Lang</a>, <a href=\"/wiki/Keith_David\" title=\"Keith David\">Keith David</a>, <a href=\"/wiki/Robin_Bartlett\" title=\"Robin Bartlett\">Robin Bartlett</a></td>\n",
            "<td><div class=\"center\" style=\"width:auto; margin-left:auto; margin-right:auto;\"><sup class=\"reference\" id=\"cite_ref-55\"><a href=\"#cite_note-55\">[55]</a></sup></div>\n",
            "</td></tr>\n",
            "*************************\n",
            "<a href=\"/wiki/The_Seventh_Day_(2021_film)\" title=\"The Seventh Day (2021 film)\">The Seventh Day</a>\n",
            "/wiki/The_Seventh_Day_(2021_film)\n",
            "The Seventh Day (2021 film)\n",
            "https://en.wikipedia.org//wiki/The_Seventh_Day_(2021_film)\n",
            "**************************\n",
            "<tr>\n",
            "<td><i><a href=\"/wiki/Senior_Moment\" title=\"Senior Moment\">Senior Moment</a></i></td>\n",
            "<td><a class=\"mw-redirect\" href=\"/wiki/Screen_Media_Films\" title=\"Screen Media Films\">Screen Media Films</a></td>\n",
            "<td>Giorgio Serafini (director); Kurt Brungardt, Christopher Momenee (screenplay); <a href=\"/wiki/William_Shatner\" title=\"William Shatner\">William Shatner</a>, <a href=\"/wiki/Jean_Smart\" title=\"Jean Smart\">Jean Smart</a>, <a href=\"/wiki/Christopher_Lloyd\" title=\"Christopher Lloyd\">Christopher Lloyd</a></td>\n",
            "<td><div class=\"center\" style=\"width:auto; margin-left:auto; margin-right:auto;\"><sup class=\"reference\" id=\"cite_ref-56\"><a href=\"#cite_note-56\">[56]</a></sup></div>\n",
            "</td></tr>\n",
            "*************************\n",
            "<a href=\"/wiki/Senior_Moment\" title=\"Senior Moment\">Senior Moment</a>\n",
            "/wiki/Senior_Moment\n",
            "Senior Moment\n",
            "https://en.wikipedia.org//wiki/Senior_Moment\n",
            "**************************\n",
            "<tr>\n",
            "<td><i><a href=\"/wiki/North_Hollywood_(film)\" title=\"North Hollywood (film)\">North Hollywood</a></i></td>\n",
            "<td><a href=\"/wiki/Illegal_Civilization\" title=\"Illegal Civilization\">Illegal Civilization</a></td>\n",
            "<td>Mikey Alfred (director); Rusty Johnson (screenplay); Ryder McLaughlin, <a href=\"/wiki/Vince_Vaughn\" title=\"Vince Vaughn\">Vince Vaughn</a>, <a href=\"/wiki/Miranda_Cosgrove\" title=\"Miranda Cosgrove\">Miranda Cosgrove</a></td>\n",
            "<td><div class=\"center\" style=\"width:auto; margin-left:auto; margin-right:auto;\"><sup class=\"reference\" id=\"cite_ref-57\"><a href=\"#cite_note-57\">[57]</a></sup></div>\n",
            "</td></tr>\n",
            "*************************\n",
            "<a href=\"/wiki/North_Hollywood_(film)\" title=\"North Hollywood (film)\">North Hollywood</a>\n",
            "/wiki/North_Hollywood_(film)\n",
            "North Hollywood (film)\n",
            "https://en.wikipedia.org//wiki/North_Hollywood_(film)\n",
            "**************************\n",
            "<tr>\n",
            "<td style=\"text-align:center; background:#c7f7df\"><b>31</b>\n",
            "</td>\n",
            "<td><i><a href=\"/wiki/Godzilla_vs._Kong\" title=\"Godzilla vs. Kong\">Godzilla vs. Kong</a></i></td>\n",
            "<td><a href=\"/wiki/Warner_Bros._Pictures\" title=\"Warner Bros. Pictures\">Warner Bros. Pictures</a> / <a href=\"/wiki/Legendary_Entertainment\" title=\"Legendary Entertainment\">Legendary Entertainment</a> / <a class=\"mw-redirect\" href=\"/wiki/HBO_Max\" title=\"HBO Max\">HBO Max</a></td>\n",
            "<td><a href=\"/wiki/Adam_Wingard\" title=\"Adam Wingard\">Adam Wingard</a> (director); <a href=\"/wiki/Eric_Pearson\" title=\"Eric Pearson\">Eric Pearson</a>, <a href=\"/wiki/Max_Borenstein\" title=\"Max Borenstein\">Max Borenstein</a> (screenplay); <a href=\"/wiki/Alexander_Skarsg%C3%A5rd\" title=\"Alexander Skarsgård\">Alexander Skarsgård</a>, <a href=\"/wiki/Millie_Bobby_Brown\" title=\"Millie Bobby Brown\">Millie Bobby Brown</a>, <a href=\"/wiki/Rebecca_Hall\" title=\"Rebecca Hall\">Rebecca Hall</a>, <a href=\"/wiki/Brian_Tyree_Henry\" title=\"Brian Tyree Henry\">Brian Tyree Henry</a>, <a href=\"/wiki/Shun_Oguri\" title=\"Shun Oguri\">Shun Oguri</a>, <a href=\"/wiki/Eiza_Gonz%C3%A1lez\" title=\"Eiza González\">Eiza González</a>, <a href=\"/wiki/Julian_Dennison\" title=\"Julian Dennison\">Julian Dennison</a>, <a href=\"/wiki/Lance_Reddick\" title=\"Lance Reddick\">Lance Reddick</a>, <a href=\"/wiki/Kyle_Chandler\" title=\"Kyle Chandler\">Kyle Chandler</a>, <a href=\"/wiki/Demi%C3%A1n_Bichir\" title=\"Demián Bichir\">Demián Bichir</a></td>\n",
            "<td><div class=\"center\" style=\"width:auto; margin-left:auto; margin-right:auto;\"><sup class=\"reference\" id=\"cite_ref-:1_58-0\"><a href=\"#cite_note-:1-58\">[58]</a></sup></div>\n",
            "</td></tr>\n",
            "*************************\n",
            "<a href=\"/wiki/Godzilla_vs._Kong\" title=\"Godzilla vs. Kong\">Godzilla vs. Kong</a>\n",
            "/wiki/Godzilla_vs._Kong\n",
            "Godzilla vs. Kong\n",
            "https://en.wikipedia.org//wiki/Godzilla_vs._Kong\n",
            "**************************\n"
          ]
        }
      ]
    },
    {
      "cell_type": "markdown",
      "source": [
        "## collecting all movie urls"
      ],
      "metadata": {
        "id": "gj1Q_o_DPFNK"
      }
    },
    {
      "cell_type": "code",
      "source": [
        "tables = soup.findAll('table', class_ = \"wikitable\")\n",
        "all_movie_urls = []\n",
        "failed_count = 0\n",
        "for table in tables:\n",
        "  all_headers = [th.text.replace(\"\\n\",\"\") for th in table.find_all('th')]\n",
        "  if \"Title\" in all_headers and \"Production company\" in all_headers:\n",
        "    print(all_headers)\n",
        "    rows = table.tbody.find_all(\"tr\")\n",
        "    for row in rows[1:]:\n",
        "      try:\n",
        "        title = row.find_all('i')[0].a\n",
        "        url = \"https://en.wikipedia.org/\" + title['href']\n",
        "        print(url)\n",
        "        all_movie_urls.append(url)\n",
        "      except:\n",
        "        failed_count = failed_count + 1\n",
        "\n",
        "      pass\n",
        "\n",
        "for movie_urls in all_movie_urls:\n",
        "  print(movie_urls)\n",
        "\n",
        "print(\"Failed count:\", failed_count)"
      ],
      "metadata": {
        "colab": {
          "base_uri": "https://localhost:8080/"
        },
        "id": "OI6scRAHCa7c",
        "outputId": "eadb1757-f4c1-4b81-b982-c8eeea838625"
      },
      "execution_count": null,
      "outputs": [
        {
          "output_type": "stream",
          "name": "stdout",
          "text": [
            "['Opening', 'Title', 'Production company', 'Cast and crew', 'Ref.', 'JANUARY', 'FEBRUARY', 'MARCH']\n",
            "https://en.wikipedia.org//wiki/Shadow_in_the_Cloud\n",
            "https://en.wikipedia.org//wiki/Hacksaw_(film)\n",
            "https://en.wikipedia.org//wiki/Dr._Bird%27s_Advice_for_Sad_Poets\n",
            "https://en.wikipedia.org//wiki/The_White_Tiger_(2021_film)\n",
            "https://en.wikipedia.org//wiki/Locked_Down_(film)\n",
            "https://en.wikipedia.org//wiki/The_Dig_(2021_film)\n",
            "https://en.wikipedia.org//wiki/Outside_the_Wire\n",
            "https://en.wikipedia.org//wiki/The_Marksman_(2021_film)\n",
            "https://en.wikipedia.org//wiki/The_Ultimate_Playlist_of_Noise\n",
            "https://en.wikipedia.org//wiki/American_Skin_(film)\n",
            "https://en.wikipedia.org//wiki/Don%27t_Tell_a_Soul_(film)\n",
            "https://en.wikipedia.org//wiki/Our_Friend\n",
            "https://en.wikipedia.org//wiki/No_Man%27s_Land_(2021_film)\n",
            "https://en.wikipedia.org//wiki/Born_a_Champion\n",
            "https://en.wikipedia.org//wiki/Wrong_Turn_(2021_film)\n",
            "https://en.wikipedia.org//wiki/Penguin_Bloom\n",
            "https://en.wikipedia.org//wiki/The_Little_Things_(2021_film)\n",
            "https://en.wikipedia.org//wiki/Finding_%CA%BBOhana\n",
            "https://en.wikipedia.org//wiki/Nomadland_(film)\n",
            "https://en.wikipedia.org//wiki/Malcolm_%26_Marie\n",
            "https://en.wikipedia.org//wiki/Palmer_(film)\n",
            "https://en.wikipedia.org//wiki/Falling_(2020_film)\n",
            "https://en.wikipedia.org//wiki/Bliss_(2021_film)\n",
            "https://en.wikipedia.org//wiki/Little_Fish_(2021_film)\n",
            "https://en.wikipedia.org//wiki/Son_of_the_South_(film)\n",
            "https://en.wikipedia.org//wiki/PVT_Chat\n",
            "https://en.wikipedia.org//wiki/Music_(2021_film)\n",
            "https://en.wikipedia.org//wiki/Judas_and_the_Black_Messiah\n",
            "https://en.wikipedia.org//wiki/The_Mauritanian\n",
            "https://en.wikipedia.org//wiki/Breaking_News_in_Yuba_County\n",
            "https://en.wikipedia.org//wiki/Barb_and_Star_Go_to_Vista_Del_Mar\n",
            "https://en.wikipedia.org//wiki/Minari_(film)\n",
            "https://en.wikipedia.org//wiki/To_All_the_Boys:_Always_and_Forever\n",
            "https://en.wikipedia.org//wiki/The_World_to_Come\n",
            "https://en.wikipedia.org//wiki/French_Exit_(2020_film)\n",
            "https://en.wikipedia.org//wiki/Land_(2021_film)\n",
            "https://en.wikipedia.org//wiki/Willy%27s_Wonderland\n",
            "https://en.wikipedia.org//wiki/The_Map_of_Tiny_Perfect_Things\n",
            "https://en.wikipedia.org//wiki/Fear_of_Rain\n",
            "https://en.wikipedia.org//wiki/I_Care_a_Lot\n",
            "https://en.wikipedia.org//wiki/Flora_%26_Ulysses_(film)\n",
            "https://en.wikipedia.org//wiki/Silk_Road_(film)\n",
            "https://en.wikipedia.org//wiki/Tom_%26_Jerry_(2021_film)\n",
            "https://en.wikipedia.org//wiki/The_United_States_vs._Billie_Holiday\n",
            "https://en.wikipedia.org//wiki/Cherry_(2021_film)\n",
            "https://en.wikipedia.org//wiki/Crisis_(2021_film)\n",
            "https://en.wikipedia.org//wiki/Billie_Eilish:_The_World%27s_a_Little_Blurry\n",
            "https://en.wikipedia.org//wiki/The_Vigil_(2019_film)\n",
            "https://en.wikipedia.org//wiki/Moxie_(film)\n",
            "https://en.wikipedia.org//wiki/Coming_2_America\n",
            "https://en.wikipedia.org//wiki/The_SpongeBob_Movie:_Sponge_on_the_Run\n",
            "https://en.wikipedia.org//wiki/Raya_and_the_Last_Dragon\n",
            "https://en.wikipedia.org//wiki/Chaos_Walking_(film)\n",
            "https://en.wikipedia.org//wiki/Boss_Level\n",
            "https://en.wikipedia.org//wiki/Boogie_(2021_film)\n",
            "https://en.wikipedia.org//wiki/Yes_Day\n",
            "https://en.wikipedia.org//wiki/Long_Weekend_(2021_film)\n",
            "https://en.wikipedia.org//wiki/Cosmic_Sin\n",
            "https://en.wikipedia.org//wiki/Trust_(2021_film)\n",
            "https://en.wikipedia.org//wiki/Zack_Snyder%27s_Justice_League\n",
            "https://en.wikipedia.org//wiki/The_Courier_(2020_film)\n",
            "https://en.wikipedia.org//wiki/City_of_Lies\n",
            "https://en.wikipedia.org//wiki/Happily_(film)\n",
            "https://en.wikipedia.org//wiki/Nobody_(2021_film)\n",
            "https://en.wikipedia.org//wiki/Bad_Trip_(film)\n",
            "https://en.wikipedia.org//wiki/The_Seventh_Day_(2021_film)\n",
            "https://en.wikipedia.org//wiki/Senior_Moment\n",
            "https://en.wikipedia.org//wiki/North_Hollywood_(film)\n",
            "https://en.wikipedia.org//wiki/Godzilla_vs._Kong\n",
            "['Opening', 'Title', 'Production company', 'Cast and crew', 'Ref.', 'APRIL', 'MAY', 'JUNE']\n",
            "https://en.wikipedia.org//wiki/Concrete_Cowboy\n",
            "https://en.wikipedia.org//wiki/The_Unholy_(2021_film)\n",
            "https://en.wikipedia.org//wiki/Every_Breath_You_Take_(film)\n",
            "https://en.wikipedia.org//wiki/Shiva_Baby\n",
            "https://en.wikipedia.org//wiki/The_Girl_Who_Believes_in_Miracles\n",
            "https://en.wikipedia.org//wiki/The_Believer_(2021_film)\n",
            "https://en.wikipedia.org//wiki/Dawn_of_the_Beast\n",
            "https://en.wikipedia.org//wiki/Voyagers_(film)\n",
            "https://en.wikipedia.org//wiki/Thunder_Force_(film)\n",
            "https://en.wikipedia.org//wiki/Arlo_the_Alligator_Boy\n",
            "https://en.wikipedia.org//wiki/Monday_(2020_film)\n",
            "https://en.wikipedia.org//wiki/In_the_Earth\n",
            "https://en.wikipedia.org//wiki/Stowaway_(2021_film)\n",
            "https://en.wikipedia.org//wiki/Mortal_Kombat_(2021_film)\n",
            "https://en.wikipedia.org//wiki/Vanquish_(film)\n",
            "https://en.wikipedia.org//wiki/Together_Together\n",
            "https://en.wikipedia.org//wiki/We_Broke_Up_(film)\n",
            "https://en.wikipedia.org//wiki/The_Deep_Ones\n",
            "https://en.wikipedia.org//wiki/Things_Heard_%26_Seen\n",
            "https://en.wikipedia.org//wiki/The_Mitchells_vs._the_Machines\n",
            "https://en.wikipedia.org//wiki/Without_Remorse_(film)\n",
            "https://en.wikipedia.org//wiki/The_Virtuoso_(film)\n",
            "https://en.wikipedia.org//wiki/Four_Good_Days\n",
            "https://en.wikipedia.org//wiki/Separation_(2021_film)\n",
            "https://en.wikipedia.org//wiki/The_Resort_(film)\n",
            "https://en.wikipedia.org//wiki/Wrath_of_Man\n",
            "https://en.wikipedia.org//wiki/Monster_(2018_film)\n",
            "https://en.wikipedia.org//wiki/The_Paper_Tigers\n",
            "https://en.wikipedia.org//wiki/Mainstream_(film)\n",
            "https://en.wikipedia.org//wiki/The_Water_Man_(film)\n",
            "https://en.wikipedia.org//wiki/Here_Today_(film)\n",
            "https://en.wikipedia.org//wiki/Above_Suspicion_(2019_film)\n",
            "https://en.wikipedia.org//wiki/Reboot_Camp\n",
            "https://en.wikipedia.org//wiki/Benny_Loves_You\n",
            "https://en.wikipedia.org//wiki/Oxygen_(2021_film)\n",
            "https://en.wikipedia.org//wiki/Army_of_the_Dead\n",
            "https://en.wikipedia.org//wiki/Those_Who_Wish_Me_Dead\n",
            "https://en.wikipedia.org//wiki/The_Woman_in_the_Window_(2021_film)\n",
            "https://en.wikipedia.org//wiki/Spiral_(2021_film)\n",
            "https://en.wikipedia.org//wiki/Georgetown_(film)\n",
            "https://en.wikipedia.org//wiki/Finding_You_(film)\n",
            "https://en.wikipedia.org//wiki/The_Killing_of_Two_Lovers\n",
            "https://en.wikipedia.org//wiki/616_Wilford_Lane\n",
            "https://en.wikipedia.org//wiki/Dream_Horse\n",
            "https://en.wikipedia.org//wiki/Aquarium_of_the_Dead\n",
            "https://en.wikipedia.org//wiki/Blast_Beat_(film)\n",
            "https://en.wikipedia.org//wiki/A_Quiet_Place_Part_II\n",
            "https://en.wikipedia.org//wiki/Cruella_(film)\n",
            "https://en.wikipedia.org//wiki/Plan_B_(2021_film)\n",
            "https://en.wikipedia.org//wiki/Spirit_Untamed\n",
            "https://en.wikipedia.org//wiki/The_Conjuring:_The_Devil_Made_Me_Do_It\n",
            "https://en.wikipedia.org//wiki/Gully_(film)\n",
            "https://en.wikipedia.org//wiki/Flashback_(2020_film)\n",
            "https://en.wikipedia.org//wiki/Under_the_Stadium_Lights\n",
            "https://en.wikipedia.org//wiki/Awake_(2021_film)\n",
            "https://en.wikipedia.org//wiki/Infinite_(film)\n",
            "https://en.wikipedia.org//wiki/Peter_Rabbit_2:_The_Runaway\n",
            "https://en.wikipedia.org//wiki/In_the_Heights_(film)\n",
            "https://en.wikipedia.org//wiki/Wish_Dragon\n",
            "https://en.wikipedia.org//wiki/The_Misfits_(2021_film)\n",
            "https://en.wikipedia.org//wiki/12_Mighty_Orphans\n",
            "https://en.wikipedia.org//wiki/The_House_Next_Door:_Meet_the_Blacks_2\n",
            "https://en.wikipedia.org//wiki/Queen_Bees_(film)\n",
            "https://en.wikipedia.org//wiki/Hitman%27s_Wife%27s_Bodyguard\n",
            "https://en.wikipedia.org//wiki/Luca_(2021_film)\n",
            "https://en.wikipedia.org//wiki/Fatherhood_(film)\n",
            "https://en.wikipedia.org//wiki/The_Birthday_Cake_(film)\n",
            "https://en.wikipedia.org//wiki/Rita_Moreno:_Just_a_Girl_Who_Decided_to_Go_for_It\n",
            "https://en.wikipedia.org//wiki/The_Sparks_Brothers\n",
            "https://en.wikipedia.org//wiki/Love_Spreads_(film)\n",
            "https://en.wikipedia.org//wiki/A_Crime_on_the_Bayou\n",
            "https://en.wikipedia.org//wiki/Good_on_Paper\n",
            "https://en.wikipedia.org//wiki/F9_(film)\n",
            "https://en.wikipedia.org//wiki/The_Ice_Road\n",
            "https://en.wikipedia.org//wiki/Werewolves_Within_(film)\n",
            "https://en.wikipedia.org//wiki/False_Positive_(film)\n",
            "https://en.wikipedia.org//wiki/Lansky_(2021_film)\n",
            "https://en.wikipedia.org//wiki/I_Carry_You_with_Me\n",
            "https://en.wikipedia.org//wiki/Mary_J._Blige%27s_My_Life\n",
            "https://en.wikipedia.org//wiki/Fathom_(2021_film)\n",
            "https://en.wikipedia.org//wiki/America:_The_Motion_Picture\n",
            "https://en.wikipedia.org//wiki/Zola_(film)\n",
            "['Opening', 'Title', 'Production company', 'Cast and crew', 'Ref.', 'JULY', 'AUGUST', 'SEPTEMBER']\n",
            "https://en.wikipedia.org//wiki/No_Sudden_Move\n",
            "https://en.wikipedia.org//wiki/The_Tomorrow_War\n",
            "https://en.wikipedia.org//wiki/The_Boss_Baby:_Family_Business\n",
            "https://en.wikipedia.org//wiki/The_Forever_Purge\n",
            "https://en.wikipedia.org//wiki/Fear_Street_Part_One:_1994\n",
            "https://en.wikipedia.org//wiki/Summer_of_Soul\n",
            "https://en.wikipedia.org//wiki/Till_Death_(2021_film)\n",
            "https://en.wikipedia.org//wiki/Let_Us_In\n",
            "https://en.wikipedia.org//wiki/Black_Widow_(2021_film)\n",
            "https://en.wikipedia.org//wiki/Fear_Street_Part_Two:_1978\n",
            "https://en.wikipedia.org//wiki/Summertime_(2020_film)\n",
            "https://en.wikipedia.org//wiki/Gunpowder_Milkshake\n",
            "https://en.wikipedia.org//wiki/Space_Jam:_A_New_Legacy\n",
            "https://en.wikipedia.org//wiki/Escape_Room:_Tournament_of_Champions\n",
            "https://en.wikipedia.org//wiki/Fear_Street_Part_Three:_1666\n",
            "https://en.wikipedia.org//wiki/Die_in_a_Gunfight\n",
            "https://en.wikipedia.org//wiki/Pig_(2021_film)\n",
            "https://en.wikipedia.org//wiki/Out_of_Death\n",
            "https://en.wikipedia.org//wiki/Roadrunner:_A_Film_About_Anthony_Bourdain\n",
            "https://en.wikipedia.org//wiki/How_It_Ends_(2021_film)\n",
            "https://en.wikipedia.org//wiki/Trollhunters:_Rise_of_the_Titans\n",
            "https://en.wikipedia.org//wiki/Snake_Eyes_(2021_film)\n",
            "https://en.wikipedia.org//wiki/Old_(film)\n",
            "https://en.wikipedia.org//wiki/Joe_Bell_(film)\n",
            "https://en.wikipedia.org//wiki/Jolt_(film)\n",
            "https://en.wikipedia.org//wiki/Midnight_in_the_Switchgrass\n",
            "https://en.wikipedia.org//wiki/Broken_Diamonds\n",
            "https://en.wikipedia.org//wiki/Val_(film)\n",
            "https://en.wikipedia.org//wiki/Ailey_(film)\n",
            "https://en.wikipedia.org//wiki/Jungle_Cruise_(film)\n",
            "https://en.wikipedia.org//wiki/Stillwater_(film)\n",
            "https://en.wikipedia.org//wiki/The_Green_Knight_(film)\n",
            "https://en.wikipedia.org//wiki/Nine_Days_(film)\n",
            "https://en.wikipedia.org//wiki/Ride_the_Eagle\n",
            "https://en.wikipedia.org//wiki/The_Evening_Hour_(film)\n",
            "https://en.wikipedia.org//wiki/Lorelei_(film)\n",
            "https://en.wikipedia.org//wiki/Enemies_of_the_State\n",
            "https://en.wikipedia.org//wiki/The_Suicide_Squad_(film)\n",
            "https://en.wikipedia.org//wiki/Naked_Singularity_(film)\n",
            "https://en.wikipedia.org//wiki/John_and_the_Hole\n",
            "https://en.wikipedia.org//wiki/Vivo_(film)\n",
            "https://en.wikipedia.org//wiki/Playing_God_(2021_film)\n",
            "https://en.wikipedia.org//wiki/Swan_Song_(Todd_Stephens_film)\n",
            "https://en.wikipedia.org//wiki/The_Kissing_Booth_3\n",
            "https://en.wikipedia.org//wiki/Homeroom_(2021_film)\n",
            "https://en.wikipedia.org//wiki/Free_Guy\n",
            "https://en.wikipedia.org//wiki/Respect_(2021_American_film)\n",
            "https://en.wikipedia.org//wiki/Beckett_(film)\n",
            "https://en.wikipedia.org//wiki/Don%27t_Breathe_2\n",
            "https://en.wikipedia.org//wiki/CODA_(2021_film)\n",
            "https://en.wikipedia.org//wiki/Not_Going_Quietly\n",
            "https://en.wikipedia.org//wiki/Reminiscence_(2021_film)\n",
            "https://en.wikipedia.org//wiki/The_Prot%C3%A9g%C3%A9\n",
            "https://en.wikipedia.org//wiki/Sweet_Girl_(film)\n",
            "https://en.wikipedia.org//wiki/The_Loud_House_Movie\n",
            "https://en.wikipedia.org//wiki/The_Night_House\n",
            "https://en.wikipedia.org//wiki/Flag_Day_(film)\n",
            "https://en.wikipedia.org//wiki/Cryptozoo\n",
            "https://en.wikipedia.org//wiki/Habit_(2021_film)\n",
            "https://en.wikipedia.org//wiki/Demonic_(2021_film)\n",
            "https://en.wikipedia.org//wiki/Annette_(film)\n",
            "https://en.wikipedia.org//wiki/The_Witcher:_Nightmare_of_the_Wolf\n",
            "https://en.wikipedia.org//wiki/Really_Love_(film)\n",
            "https://en.wikipedia.org//wiki/Candyman_(2021_film)\n",
            "https://en.wikipedia.org//wiki/Vacation_Friends\n",
            "https://en.wikipedia.org//wiki/He%27s_All_That\n",
            "https://en.wikipedia.org//wiki/No_Man_of_God\n",
            "https://en.wikipedia.org//wiki/Rushed\n",
            "https://en.wikipedia.org//wiki/Afterlife_of_the_Party\n",
            "https://en.wikipedia.org//wiki/Shang-Chi_and_the_Legend_of_the_Ten_Rings\n",
            "https://en.wikipedia.org//wiki/Cinderella_(2021_American_film)\n",
            "https://en.wikipedia.org//wiki/Worth_(film)\n",
            "https://en.wikipedia.org//wiki/The_Gateway_(2021_film)\n",
            "https://en.wikipedia.org//wiki/Wild_Indian\n",
            "https://en.wikipedia.org//wiki/We_Need_to_Do_Something\n",
            "https://en.wikipedia.org//wiki/Kate_(film)\n",
            "https://en.wikipedia.org//wiki/Everybody%27s_Talking_About_Jamie_(film)\n",
            "https://en.wikipedia.org//wiki/Malignant_(2021_film)\n",
            "https://en.wikipedia.org//wiki/Queenpins\n",
            "https://en.wikipedia.org//wiki/The_Card_Counter\n",
            "https://en.wikipedia.org//wiki/Come_from_Away_(film)\n",
            "https://en.wikipedia.org//wiki/The_Voyeurs\n",
            "https://en.wikipedia.org//wiki/Small_Engine_Repair_(film)\n",
            "https://en.wikipedia.org//wiki/Language_Lessons\n",
            "https://en.wikipedia.org//wiki/Show_Me_the_Father\n",
            "https://en.wikipedia.org//wiki/Dating_and_New_York\n",
            "https://en.wikipedia.org//wiki/Bad_Candy\n",
            "https://en.wikipedia.org//wiki/My_Son_(2021_Christian_Carion_film)\n",
            "https://en.wikipedia.org//wiki/Nightbooks\n",
            "https://en.wikipedia.org//wiki/The_Starling\n",
            "https://en.wikipedia.org//wiki/The_Eyes_of_Tammy_Faye_(2021_film)\n",
            "https://en.wikipedia.org//wiki/Cry_Macho_(film)\n",
            "https://en.wikipedia.org//wiki/Copshop\n",
            "https://en.wikipedia.org//wiki/Blue_Bayou_(film)\n",
            "https://en.wikipedia.org//wiki/Prisoners_of_the_Ghostland\n",
            "https://en.wikipedia.org//wiki/Best_Sellers_(film)\n",
            "https://en.wikipedia.org//wiki/Lady_of_the_Manor_(film)\n",
            "https://en.wikipedia.org//wiki/The_Nowhere_Inn\n",
            "https://en.wikipedia.org//wiki/My_Name_is_Pauli_Murray\n",
            "https://en.wikipedia.org//wiki/The_Killing_of_Kenneth_Chamberlain\n",
            "https://en.wikipedia.org//wiki/Intrusion_(film)\n",
            "https://en.wikipedia.org//wiki/My_Little_Pony:_A_New_Generation\n",
            "https://en.wikipedia.org//wiki/Dear_Evan_Hansen_(film)\n",
            "https://en.wikipedia.org//wiki/The_Guilty_(2021_film)\n",
            "https://en.wikipedia.org//wiki/Birds_of_Paradise_(2021_film)\n",
            "https://en.wikipedia.org//wiki/After_We_Fell\n",
            "['Opening', 'Title', 'Production company', 'Cast and crew', 'Ref.', 'OCTOBER', 'NOVEMBER', 'DECEMBER']\n",
            "https://en.wikipedia.org//wiki/Venom:_Let_There_Be_Carnage\n",
            "https://en.wikipedia.org//wiki/The_Many_Saints_of_Newark\n",
            "https://en.wikipedia.org//wiki/The_Addams_Family_2\n",
            "https://en.wikipedia.org//wiki/Bingo_Hell\n",
            "https://en.wikipedia.org//wiki/Black_as_Night\n",
            "https://en.wikipedia.org//wiki/Old_Henry_(film)\n",
            "https://en.wikipedia.org//wiki/The_Jesus_Music\n",
            "https://en.wikipedia.org//wiki/Mayday_(2021_film)\n",
            "https://en.wikipedia.org//wiki/God%27s_Not_Dead:_We_the_People\n",
            "https://en.wikipedia.org//wiki/There%27s_Someone_Inside_Your_House_(film)\n",
            "https://en.wikipedia.org//wiki/No_Time_to_Die\n",
            "https://en.wikipedia.org//wiki/Mass_(2021_film)\n",
            "https://en.wikipedia.org//wiki/South_of_Heaven_(film)\n",
            "https://en.wikipedia.org//wiki/The_Manor_(film)\n",
            "https://en.wikipedia.org//wiki/Madres\n",
            "https://en.wikipedia.org//wiki/Justin_Bieber:_Our_World\n",
            "https://en.wikipedia.org//wiki/Survive_the_Game\n",
            "https://en.wikipedia.org//wiki/Halloween_Kills\n",
            "https://en.wikipedia.org//wiki/The_Last_Duel_(2021_film)\n",
            "https://en.wikipedia.org//wiki/Needle_in_a_Timestack\n",
            "https://en.wikipedia.org//wiki/Hard_Luck_Love_Song\n",
            "https://en.wikipedia.org//wiki/Introducing,_Selma_Blair\n",
            "https://en.wikipedia.org//wiki/The_Velvet_Underground_(film)\n",
            "https://en.wikipedia.org//wiki/Night_Teeth\n",
            "https://en.wikipedia.org//wiki/Dune_(2021_film)\n",
            "https://en.wikipedia.org//wiki/Ron%27s_Gone_Wrong\n",
            "https://en.wikipedia.org//wiki/The_French_Dispatch\n",
            "https://en.wikipedia.org//wiki/The_Harder_They_Fall_(2021_film)\n",
            "https://en.wikipedia.org//wiki/The_Electrical_Life_of_Louis_Wain\n",
            "https://en.wikipedia.org//wiki/Warning_(2021_film)\n",
            "https://en.wikipedia.org//wiki/Passing_(film)\n",
            "https://en.wikipedia.org//wiki/Hypnotic_(2021_film)\n",
            "https://en.wikipedia.org//wiki/Antlers_(2021_film)\n",
            "https://en.wikipedia.org//wiki/Army_of_Thieves\n",
            "https://en.wikipedia.org//wiki/A_Mouthful_of_Air_(film)\n",
            "https://en.wikipedia.org//wiki/The_Souvenir_Part_II\n",
            "https://en.wikipedia.org//wiki/Paranormal_Activity:_Next_of_Kin\n",
            "https://en.wikipedia.org//wiki/The_Spine_of_Night\n",
            "https://en.wikipedia.org//wiki/Violet_(2021_film)\n",
            "https://en.wikipedia.org//wiki/Heart_of_Champions\n",
            "https://en.wikipedia.org//wiki/Eternals_(film)\n",
            "https://en.wikipedia.org//wiki/Red_Notice_(film)\n",
            "https://en.wikipedia.org//wiki/Finch_(film)\n",
            "https://en.wikipedia.org//wiki/Spencer_(film)\n",
            "https://en.wikipedia.org//wiki/Dangerous_(2021_film)\n",
            "https://en.wikipedia.org//wiki/Love_Hard\n",
            "https://en.wikipedia.org//wiki/The_Beta_Test\n",
            "https://en.wikipedia.org//wiki/Clifford_the_Big_Red_Dog_(film)\n",
            "https://en.wikipedia.org//wiki/Tick,_Tick..._Boom!_(film)\n",
            "https://en.wikipedia.org//wiki/Home_Sweet_Home_Alone\n",
            "https://en.wikipedia.org//wiki/Apex_(2021_film)\n",
            "https://en.wikipedia.org//wiki/The_Power_of_the_Dog_(film)\n",
            "https://en.wikipedia.org//wiki/Bruised_(film)\n",
            "https://en.wikipedia.org//wiki/The_Princess_Switch_3:_Romancing_the_Star\n",
            "https://en.wikipedia.org//wiki/Ghostbusters:_Afterlife\n",
            "https://en.wikipedia.org//wiki/King_Richard_(film)\n",
            "https://en.wikipedia.org//wiki/Extinct_(film)\n",
            "https://en.wikipedia.org//wiki/C%27mon_C%27mon_(film)\n",
            "https://en.wikipedia.org//wiki/Black_Friday_(2021_film)\n",
            "https://en.wikipedia.org//wiki/Zeros_and_Ones\n",
            "https://en.wikipedia.org//wiki/Friend_of_the_World\n",
            "https://en.wikipedia.org//wiki/Encanto\n",
            "https://en.wikipedia.org//wiki/House_of_Gucci\n",
            "https://en.wikipedia.org//wiki/The_Unforgivable\n",
            "https://en.wikipedia.org//wiki/Resident_Evil:_Welcome_to_Raccoon_City\n",
            "https://en.wikipedia.org//wiki/8-Bit_Christmas\n",
            "https://en.wikipedia.org//wiki/The_Humans_(film)\n",
            "https://en.wikipedia.org//wiki/South_Park:_Post_Covid\n",
            "https://en.wikipedia.org//wiki/Licorice_Pizza\n",
            "https://en.wikipedia.org//wiki/Single_All_the_Way\n",
            "https://en.wikipedia.org//wiki/Back_to_the_Outback\n",
            "https://en.wikipedia.org//wiki/Diary_of_a_Wimpy_Kid_(2021_film)\n",
            "https://en.wikipedia.org//wiki/Encounter_(2021_film)\n",
            "https://en.wikipedia.org//wiki/Mixtape_(film)\n",
            "https://en.wikipedia.org//wiki/Deadlock_(2021_film)\n",
            "https://en.wikipedia.org//wiki/West_Side_Story_(2021_film)\n",
            "https://en.wikipedia.org//wiki/Don%27t_Look_Up\n",
            "https://en.wikipedia.org//wiki/National_Champions_(film)\n",
            "https://en.wikipedia.org//wiki/Being_the_Ricardos\n",
            "https://en.wikipedia.org//wiki/Red_Rocket_(film)\n",
            "https://en.wikipedia.org//wiki/The_Hating_Game\n",
            "https://en.wikipedia.org//wiki/Rumble_(2021_film)\n",
            "https://en.wikipedia.org//wiki/South_Park:_Post_Covid:_The_Return_of_Covid\n",
            "https://en.wikipedia.org//wiki/Spider-Man:_No_Way_Home\n",
            "https://en.wikipedia.org//wiki/Nightmare_Alley_(2021_film)\n",
            "https://en.wikipedia.org//wiki/The_Lost_Daughter_(film)\n",
            "https://en.wikipedia.org//wiki/Swan_Song_(2021_Benjamin_Cleary_film)\n",
            "https://en.wikipedia.org//wiki/The_Tender_Bar_(film)\n",
            "https://en.wikipedia.org//wiki/Mother/Android\n",
            "https://en.wikipedia.org//wiki/Fortress_(2021_film)\n",
            "https://en.wikipedia.org//wiki/Sing_2\n",
            "https://en.wikipedia.org//wiki/The_Matrix_Resurrections\n",
            "https://en.wikipedia.org//wiki/The_King%27s_Man\n",
            "https://en.wikipedia.org//wiki/The_Tragedy_of_Macbeth_(2021_film)\n",
            "https://en.wikipedia.org//wiki/A_Journal_for_Jordan\n",
            "https://en.wikipedia.org//wiki/American_Underdog_(film)\n",
            "https://en.wikipedia.org//wiki/Memoria_(2021_film)\n",
            "https://en.wikipedia.org//wiki/Shadow_in_the_Cloud\n",
            "https://en.wikipedia.org//wiki/Hacksaw_(film)\n",
            "https://en.wikipedia.org//wiki/Dr._Bird%27s_Advice_for_Sad_Poets\n",
            "https://en.wikipedia.org//wiki/The_White_Tiger_(2021_film)\n",
            "https://en.wikipedia.org//wiki/Locked_Down_(film)\n",
            "https://en.wikipedia.org//wiki/The_Dig_(2021_film)\n",
            "https://en.wikipedia.org//wiki/Outside_the_Wire\n",
            "https://en.wikipedia.org//wiki/The_Marksman_(2021_film)\n",
            "https://en.wikipedia.org//wiki/The_Ultimate_Playlist_of_Noise\n",
            "https://en.wikipedia.org//wiki/American_Skin_(film)\n",
            "https://en.wikipedia.org//wiki/Don%27t_Tell_a_Soul_(film)\n",
            "https://en.wikipedia.org//wiki/Our_Friend\n",
            "https://en.wikipedia.org//wiki/No_Man%27s_Land_(2021_film)\n",
            "https://en.wikipedia.org//wiki/Born_a_Champion\n",
            "https://en.wikipedia.org//wiki/Wrong_Turn_(2021_film)\n",
            "https://en.wikipedia.org//wiki/Penguin_Bloom\n",
            "https://en.wikipedia.org//wiki/The_Little_Things_(2021_film)\n",
            "https://en.wikipedia.org//wiki/Finding_%CA%BBOhana\n",
            "https://en.wikipedia.org//wiki/Nomadland_(film)\n",
            "https://en.wikipedia.org//wiki/Malcolm_%26_Marie\n",
            "https://en.wikipedia.org//wiki/Palmer_(film)\n",
            "https://en.wikipedia.org//wiki/Falling_(2020_film)\n",
            "https://en.wikipedia.org//wiki/Bliss_(2021_film)\n",
            "https://en.wikipedia.org//wiki/Little_Fish_(2021_film)\n",
            "https://en.wikipedia.org//wiki/Son_of_the_South_(film)\n",
            "https://en.wikipedia.org//wiki/PVT_Chat\n",
            "https://en.wikipedia.org//wiki/Music_(2021_film)\n",
            "https://en.wikipedia.org//wiki/Judas_and_the_Black_Messiah\n",
            "https://en.wikipedia.org//wiki/The_Mauritanian\n",
            "https://en.wikipedia.org//wiki/Breaking_News_in_Yuba_County\n",
            "https://en.wikipedia.org//wiki/Barb_and_Star_Go_to_Vista_Del_Mar\n",
            "https://en.wikipedia.org//wiki/Minari_(film)\n",
            "https://en.wikipedia.org//wiki/To_All_the_Boys:_Always_and_Forever\n",
            "https://en.wikipedia.org//wiki/The_World_to_Come\n",
            "https://en.wikipedia.org//wiki/French_Exit_(2020_film)\n",
            "https://en.wikipedia.org//wiki/Land_(2021_film)\n",
            "https://en.wikipedia.org//wiki/Willy%27s_Wonderland\n",
            "https://en.wikipedia.org//wiki/The_Map_of_Tiny_Perfect_Things\n",
            "https://en.wikipedia.org//wiki/Fear_of_Rain\n",
            "https://en.wikipedia.org//wiki/I_Care_a_Lot\n",
            "https://en.wikipedia.org//wiki/Flora_%26_Ulysses_(film)\n",
            "https://en.wikipedia.org//wiki/Silk_Road_(film)\n",
            "https://en.wikipedia.org//wiki/Tom_%26_Jerry_(2021_film)\n",
            "https://en.wikipedia.org//wiki/The_United_States_vs._Billie_Holiday\n",
            "https://en.wikipedia.org//wiki/Cherry_(2021_film)\n",
            "https://en.wikipedia.org//wiki/Crisis_(2021_film)\n",
            "https://en.wikipedia.org//wiki/Billie_Eilish:_The_World%27s_a_Little_Blurry\n",
            "https://en.wikipedia.org//wiki/The_Vigil_(2019_film)\n",
            "https://en.wikipedia.org//wiki/Moxie_(film)\n",
            "https://en.wikipedia.org//wiki/Coming_2_America\n",
            "https://en.wikipedia.org//wiki/The_SpongeBob_Movie:_Sponge_on_the_Run\n",
            "https://en.wikipedia.org//wiki/Raya_and_the_Last_Dragon\n",
            "https://en.wikipedia.org//wiki/Chaos_Walking_(film)\n",
            "https://en.wikipedia.org//wiki/Boss_Level\n",
            "https://en.wikipedia.org//wiki/Boogie_(2021_film)\n",
            "https://en.wikipedia.org//wiki/Yes_Day\n",
            "https://en.wikipedia.org//wiki/Long_Weekend_(2021_film)\n",
            "https://en.wikipedia.org//wiki/Cosmic_Sin\n",
            "https://en.wikipedia.org//wiki/Trust_(2021_film)\n",
            "https://en.wikipedia.org//wiki/Zack_Snyder%27s_Justice_League\n",
            "https://en.wikipedia.org//wiki/The_Courier_(2020_film)\n",
            "https://en.wikipedia.org//wiki/City_of_Lies\n",
            "https://en.wikipedia.org//wiki/Happily_(film)\n",
            "https://en.wikipedia.org//wiki/Nobody_(2021_film)\n",
            "https://en.wikipedia.org//wiki/Bad_Trip_(film)\n",
            "https://en.wikipedia.org//wiki/The_Seventh_Day_(2021_film)\n",
            "https://en.wikipedia.org//wiki/Senior_Moment\n",
            "https://en.wikipedia.org//wiki/North_Hollywood_(film)\n",
            "https://en.wikipedia.org//wiki/Godzilla_vs._Kong\n",
            "https://en.wikipedia.org//wiki/Concrete_Cowboy\n",
            "https://en.wikipedia.org//wiki/The_Unholy_(2021_film)\n",
            "https://en.wikipedia.org//wiki/Every_Breath_You_Take_(film)\n",
            "https://en.wikipedia.org//wiki/Shiva_Baby\n",
            "https://en.wikipedia.org//wiki/The_Girl_Who_Believes_in_Miracles\n",
            "https://en.wikipedia.org//wiki/The_Believer_(2021_film)\n",
            "https://en.wikipedia.org//wiki/Dawn_of_the_Beast\n",
            "https://en.wikipedia.org//wiki/Voyagers_(film)\n",
            "https://en.wikipedia.org//wiki/Thunder_Force_(film)\n",
            "https://en.wikipedia.org//wiki/Arlo_the_Alligator_Boy\n",
            "https://en.wikipedia.org//wiki/Monday_(2020_film)\n",
            "https://en.wikipedia.org//wiki/In_the_Earth\n",
            "https://en.wikipedia.org//wiki/Stowaway_(2021_film)\n",
            "https://en.wikipedia.org//wiki/Mortal_Kombat_(2021_film)\n",
            "https://en.wikipedia.org//wiki/Vanquish_(film)\n",
            "https://en.wikipedia.org//wiki/Together_Together\n",
            "https://en.wikipedia.org//wiki/We_Broke_Up_(film)\n",
            "https://en.wikipedia.org//wiki/The_Deep_Ones\n",
            "https://en.wikipedia.org//wiki/Things_Heard_%26_Seen\n",
            "https://en.wikipedia.org//wiki/The_Mitchells_vs._the_Machines\n",
            "https://en.wikipedia.org//wiki/Without_Remorse_(film)\n",
            "https://en.wikipedia.org//wiki/The_Virtuoso_(film)\n",
            "https://en.wikipedia.org//wiki/Four_Good_Days\n",
            "https://en.wikipedia.org//wiki/Separation_(2021_film)\n",
            "https://en.wikipedia.org//wiki/The_Resort_(film)\n",
            "https://en.wikipedia.org//wiki/Wrath_of_Man\n",
            "https://en.wikipedia.org//wiki/Monster_(2018_film)\n",
            "https://en.wikipedia.org//wiki/The_Paper_Tigers\n",
            "https://en.wikipedia.org//wiki/Mainstream_(film)\n",
            "https://en.wikipedia.org//wiki/The_Water_Man_(film)\n",
            "https://en.wikipedia.org//wiki/Here_Today_(film)\n",
            "https://en.wikipedia.org//wiki/Above_Suspicion_(2019_film)\n",
            "https://en.wikipedia.org//wiki/Reboot_Camp\n",
            "https://en.wikipedia.org//wiki/Benny_Loves_You\n",
            "https://en.wikipedia.org//wiki/Oxygen_(2021_film)\n",
            "https://en.wikipedia.org//wiki/Army_of_the_Dead\n",
            "https://en.wikipedia.org//wiki/Those_Who_Wish_Me_Dead\n",
            "https://en.wikipedia.org//wiki/The_Woman_in_the_Window_(2021_film)\n",
            "https://en.wikipedia.org//wiki/Spiral_(2021_film)\n",
            "https://en.wikipedia.org//wiki/Georgetown_(film)\n",
            "https://en.wikipedia.org//wiki/Finding_You_(film)\n",
            "https://en.wikipedia.org//wiki/The_Killing_of_Two_Lovers\n",
            "https://en.wikipedia.org//wiki/616_Wilford_Lane\n",
            "https://en.wikipedia.org//wiki/Dream_Horse\n",
            "https://en.wikipedia.org//wiki/Aquarium_of_the_Dead\n",
            "https://en.wikipedia.org//wiki/Blast_Beat_(film)\n",
            "https://en.wikipedia.org//wiki/A_Quiet_Place_Part_II\n",
            "https://en.wikipedia.org//wiki/Cruella_(film)\n",
            "https://en.wikipedia.org//wiki/Plan_B_(2021_film)\n",
            "https://en.wikipedia.org//wiki/Spirit_Untamed\n",
            "https://en.wikipedia.org//wiki/The_Conjuring:_The_Devil_Made_Me_Do_It\n",
            "https://en.wikipedia.org//wiki/Gully_(film)\n",
            "https://en.wikipedia.org//wiki/Flashback_(2020_film)\n",
            "https://en.wikipedia.org//wiki/Under_the_Stadium_Lights\n",
            "https://en.wikipedia.org//wiki/Awake_(2021_film)\n",
            "https://en.wikipedia.org//wiki/Infinite_(film)\n",
            "https://en.wikipedia.org//wiki/Peter_Rabbit_2:_The_Runaway\n",
            "https://en.wikipedia.org//wiki/In_the_Heights_(film)\n",
            "https://en.wikipedia.org//wiki/Wish_Dragon\n",
            "https://en.wikipedia.org//wiki/The_Misfits_(2021_film)\n",
            "https://en.wikipedia.org//wiki/12_Mighty_Orphans\n",
            "https://en.wikipedia.org//wiki/The_House_Next_Door:_Meet_the_Blacks_2\n",
            "https://en.wikipedia.org//wiki/Queen_Bees_(film)\n",
            "https://en.wikipedia.org//wiki/Hitman%27s_Wife%27s_Bodyguard\n",
            "https://en.wikipedia.org//wiki/Luca_(2021_film)\n",
            "https://en.wikipedia.org//wiki/Fatherhood_(film)\n",
            "https://en.wikipedia.org//wiki/The_Birthday_Cake_(film)\n",
            "https://en.wikipedia.org//wiki/Rita_Moreno:_Just_a_Girl_Who_Decided_to_Go_for_It\n",
            "https://en.wikipedia.org//wiki/The_Sparks_Brothers\n",
            "https://en.wikipedia.org//wiki/Love_Spreads_(film)\n",
            "https://en.wikipedia.org//wiki/A_Crime_on_the_Bayou\n",
            "https://en.wikipedia.org//wiki/Good_on_Paper\n",
            "https://en.wikipedia.org//wiki/F9_(film)\n",
            "https://en.wikipedia.org//wiki/The_Ice_Road\n",
            "https://en.wikipedia.org//wiki/Werewolves_Within_(film)\n",
            "https://en.wikipedia.org//wiki/False_Positive_(film)\n",
            "https://en.wikipedia.org//wiki/Lansky_(2021_film)\n",
            "https://en.wikipedia.org//wiki/I_Carry_You_with_Me\n",
            "https://en.wikipedia.org//wiki/Mary_J._Blige%27s_My_Life\n",
            "https://en.wikipedia.org//wiki/Fathom_(2021_film)\n",
            "https://en.wikipedia.org//wiki/America:_The_Motion_Picture\n",
            "https://en.wikipedia.org//wiki/Zola_(film)\n",
            "https://en.wikipedia.org//wiki/No_Sudden_Move\n",
            "https://en.wikipedia.org//wiki/The_Tomorrow_War\n",
            "https://en.wikipedia.org//wiki/The_Boss_Baby:_Family_Business\n",
            "https://en.wikipedia.org//wiki/The_Forever_Purge\n",
            "https://en.wikipedia.org//wiki/Fear_Street_Part_One:_1994\n",
            "https://en.wikipedia.org//wiki/Summer_of_Soul\n",
            "https://en.wikipedia.org//wiki/Till_Death_(2021_film)\n",
            "https://en.wikipedia.org//wiki/Let_Us_In\n",
            "https://en.wikipedia.org//wiki/Black_Widow_(2021_film)\n",
            "https://en.wikipedia.org//wiki/Fear_Street_Part_Two:_1978\n",
            "https://en.wikipedia.org//wiki/Summertime_(2020_film)\n",
            "https://en.wikipedia.org//wiki/Gunpowder_Milkshake\n",
            "https://en.wikipedia.org//wiki/Space_Jam:_A_New_Legacy\n",
            "https://en.wikipedia.org//wiki/Escape_Room:_Tournament_of_Champions\n",
            "https://en.wikipedia.org//wiki/Fear_Street_Part_Three:_1666\n",
            "https://en.wikipedia.org//wiki/Die_in_a_Gunfight\n",
            "https://en.wikipedia.org//wiki/Pig_(2021_film)\n",
            "https://en.wikipedia.org//wiki/Out_of_Death\n",
            "https://en.wikipedia.org//wiki/Roadrunner:_A_Film_About_Anthony_Bourdain\n",
            "https://en.wikipedia.org//wiki/How_It_Ends_(2021_film)\n",
            "https://en.wikipedia.org//wiki/Trollhunters:_Rise_of_the_Titans\n",
            "https://en.wikipedia.org//wiki/Snake_Eyes_(2021_film)\n",
            "https://en.wikipedia.org//wiki/Old_(film)\n",
            "https://en.wikipedia.org//wiki/Joe_Bell_(film)\n",
            "https://en.wikipedia.org//wiki/Jolt_(film)\n",
            "https://en.wikipedia.org//wiki/Midnight_in_the_Switchgrass\n",
            "https://en.wikipedia.org//wiki/Broken_Diamonds\n",
            "https://en.wikipedia.org//wiki/Val_(film)\n",
            "https://en.wikipedia.org//wiki/Ailey_(film)\n",
            "https://en.wikipedia.org//wiki/Jungle_Cruise_(film)\n",
            "https://en.wikipedia.org//wiki/Stillwater_(film)\n",
            "https://en.wikipedia.org//wiki/The_Green_Knight_(film)\n",
            "https://en.wikipedia.org//wiki/Nine_Days_(film)\n",
            "https://en.wikipedia.org//wiki/Ride_the_Eagle\n",
            "https://en.wikipedia.org//wiki/The_Evening_Hour_(film)\n",
            "https://en.wikipedia.org//wiki/Lorelei_(film)\n",
            "https://en.wikipedia.org//wiki/Enemies_of_the_State\n",
            "https://en.wikipedia.org//wiki/The_Suicide_Squad_(film)\n",
            "https://en.wikipedia.org//wiki/Naked_Singularity_(film)\n",
            "https://en.wikipedia.org//wiki/John_and_the_Hole\n",
            "https://en.wikipedia.org//wiki/Vivo_(film)\n",
            "https://en.wikipedia.org//wiki/Playing_God_(2021_film)\n",
            "https://en.wikipedia.org//wiki/Swan_Song_(Todd_Stephens_film)\n",
            "https://en.wikipedia.org//wiki/The_Kissing_Booth_3\n",
            "https://en.wikipedia.org//wiki/Homeroom_(2021_film)\n",
            "https://en.wikipedia.org//wiki/Free_Guy\n",
            "https://en.wikipedia.org//wiki/Respect_(2021_American_film)\n",
            "https://en.wikipedia.org//wiki/Beckett_(film)\n",
            "https://en.wikipedia.org//wiki/Don%27t_Breathe_2\n",
            "https://en.wikipedia.org//wiki/CODA_(2021_film)\n",
            "https://en.wikipedia.org//wiki/Not_Going_Quietly\n",
            "https://en.wikipedia.org//wiki/Reminiscence_(2021_film)\n",
            "https://en.wikipedia.org//wiki/The_Prot%C3%A9g%C3%A9\n",
            "https://en.wikipedia.org//wiki/Sweet_Girl_(film)\n",
            "https://en.wikipedia.org//wiki/The_Loud_House_Movie\n",
            "https://en.wikipedia.org//wiki/The_Night_House\n",
            "https://en.wikipedia.org//wiki/Flag_Day_(film)\n",
            "https://en.wikipedia.org//wiki/Cryptozoo\n",
            "https://en.wikipedia.org//wiki/Habit_(2021_film)\n",
            "https://en.wikipedia.org//wiki/Demonic_(2021_film)\n",
            "https://en.wikipedia.org//wiki/Annette_(film)\n",
            "https://en.wikipedia.org//wiki/The_Witcher:_Nightmare_of_the_Wolf\n",
            "https://en.wikipedia.org//wiki/Really_Love_(film)\n",
            "https://en.wikipedia.org//wiki/Candyman_(2021_film)\n",
            "https://en.wikipedia.org//wiki/Vacation_Friends\n",
            "https://en.wikipedia.org//wiki/He%27s_All_That\n",
            "https://en.wikipedia.org//wiki/No_Man_of_God\n",
            "https://en.wikipedia.org//wiki/Rushed\n",
            "https://en.wikipedia.org//wiki/Afterlife_of_the_Party\n",
            "https://en.wikipedia.org//wiki/Shang-Chi_and_the_Legend_of_the_Ten_Rings\n",
            "https://en.wikipedia.org//wiki/Cinderella_(2021_American_film)\n",
            "https://en.wikipedia.org//wiki/Worth_(film)\n",
            "https://en.wikipedia.org//wiki/The_Gateway_(2021_film)\n",
            "https://en.wikipedia.org//wiki/Wild_Indian\n",
            "https://en.wikipedia.org//wiki/We_Need_to_Do_Something\n",
            "https://en.wikipedia.org//wiki/Kate_(film)\n",
            "https://en.wikipedia.org//wiki/Everybody%27s_Talking_About_Jamie_(film)\n",
            "https://en.wikipedia.org//wiki/Malignant_(2021_film)\n",
            "https://en.wikipedia.org//wiki/Queenpins\n",
            "https://en.wikipedia.org//wiki/The_Card_Counter\n",
            "https://en.wikipedia.org//wiki/Come_from_Away_(film)\n",
            "https://en.wikipedia.org//wiki/The_Voyeurs\n",
            "https://en.wikipedia.org//wiki/Small_Engine_Repair_(film)\n",
            "https://en.wikipedia.org//wiki/Language_Lessons\n",
            "https://en.wikipedia.org//wiki/Show_Me_the_Father\n",
            "https://en.wikipedia.org//wiki/Dating_and_New_York\n",
            "https://en.wikipedia.org//wiki/Bad_Candy\n",
            "https://en.wikipedia.org//wiki/My_Son_(2021_Christian_Carion_film)\n",
            "https://en.wikipedia.org//wiki/Nightbooks\n",
            "https://en.wikipedia.org//wiki/The_Starling\n",
            "https://en.wikipedia.org//wiki/The_Eyes_of_Tammy_Faye_(2021_film)\n",
            "https://en.wikipedia.org//wiki/Cry_Macho_(film)\n",
            "https://en.wikipedia.org//wiki/Copshop\n",
            "https://en.wikipedia.org//wiki/Blue_Bayou_(film)\n",
            "https://en.wikipedia.org//wiki/Prisoners_of_the_Ghostland\n",
            "https://en.wikipedia.org//wiki/Best_Sellers_(film)\n",
            "https://en.wikipedia.org//wiki/Lady_of_the_Manor_(film)\n",
            "https://en.wikipedia.org//wiki/The_Nowhere_Inn\n",
            "https://en.wikipedia.org//wiki/My_Name_is_Pauli_Murray\n",
            "https://en.wikipedia.org//wiki/The_Killing_of_Kenneth_Chamberlain\n",
            "https://en.wikipedia.org//wiki/Intrusion_(film)\n",
            "https://en.wikipedia.org//wiki/My_Little_Pony:_A_New_Generation\n",
            "https://en.wikipedia.org//wiki/Dear_Evan_Hansen_(film)\n",
            "https://en.wikipedia.org//wiki/The_Guilty_(2021_film)\n",
            "https://en.wikipedia.org//wiki/Birds_of_Paradise_(2021_film)\n",
            "https://en.wikipedia.org//wiki/After_We_Fell\n",
            "https://en.wikipedia.org//wiki/Venom:_Let_There_Be_Carnage\n",
            "https://en.wikipedia.org//wiki/The_Many_Saints_of_Newark\n",
            "https://en.wikipedia.org//wiki/The_Addams_Family_2\n",
            "https://en.wikipedia.org//wiki/Bingo_Hell\n",
            "https://en.wikipedia.org//wiki/Black_as_Night\n",
            "https://en.wikipedia.org//wiki/Old_Henry_(film)\n",
            "https://en.wikipedia.org//wiki/The_Jesus_Music\n",
            "https://en.wikipedia.org//wiki/Mayday_(2021_film)\n",
            "https://en.wikipedia.org//wiki/God%27s_Not_Dead:_We_the_People\n",
            "https://en.wikipedia.org//wiki/There%27s_Someone_Inside_Your_House_(film)\n",
            "https://en.wikipedia.org//wiki/No_Time_to_Die\n",
            "https://en.wikipedia.org//wiki/Mass_(2021_film)\n",
            "https://en.wikipedia.org//wiki/South_of_Heaven_(film)\n",
            "https://en.wikipedia.org//wiki/The_Manor_(film)\n",
            "https://en.wikipedia.org//wiki/Madres\n",
            "https://en.wikipedia.org//wiki/Justin_Bieber:_Our_World\n",
            "https://en.wikipedia.org//wiki/Survive_the_Game\n",
            "https://en.wikipedia.org//wiki/Halloween_Kills\n",
            "https://en.wikipedia.org//wiki/The_Last_Duel_(2021_film)\n",
            "https://en.wikipedia.org//wiki/Needle_in_a_Timestack\n",
            "https://en.wikipedia.org//wiki/Hard_Luck_Love_Song\n",
            "https://en.wikipedia.org//wiki/Introducing,_Selma_Blair\n",
            "https://en.wikipedia.org//wiki/The_Velvet_Underground_(film)\n",
            "https://en.wikipedia.org//wiki/Night_Teeth\n",
            "https://en.wikipedia.org//wiki/Dune_(2021_film)\n",
            "https://en.wikipedia.org//wiki/Ron%27s_Gone_Wrong\n",
            "https://en.wikipedia.org//wiki/The_French_Dispatch\n",
            "https://en.wikipedia.org//wiki/The_Harder_They_Fall_(2021_film)\n",
            "https://en.wikipedia.org//wiki/The_Electrical_Life_of_Louis_Wain\n",
            "https://en.wikipedia.org//wiki/Warning_(2021_film)\n",
            "https://en.wikipedia.org//wiki/Passing_(film)\n",
            "https://en.wikipedia.org//wiki/Hypnotic_(2021_film)\n",
            "https://en.wikipedia.org//wiki/Antlers_(2021_film)\n",
            "https://en.wikipedia.org//wiki/Army_of_Thieves\n",
            "https://en.wikipedia.org//wiki/A_Mouthful_of_Air_(film)\n",
            "https://en.wikipedia.org//wiki/The_Souvenir_Part_II\n",
            "https://en.wikipedia.org//wiki/Paranormal_Activity:_Next_of_Kin\n",
            "https://en.wikipedia.org//wiki/The_Spine_of_Night\n",
            "https://en.wikipedia.org//wiki/Violet_(2021_film)\n",
            "https://en.wikipedia.org//wiki/Heart_of_Champions\n",
            "https://en.wikipedia.org//wiki/Eternals_(film)\n",
            "https://en.wikipedia.org//wiki/Red_Notice_(film)\n",
            "https://en.wikipedia.org//wiki/Finch_(film)\n",
            "https://en.wikipedia.org//wiki/Spencer_(film)\n",
            "https://en.wikipedia.org//wiki/Dangerous_(2021_film)\n",
            "https://en.wikipedia.org//wiki/Love_Hard\n",
            "https://en.wikipedia.org//wiki/The_Beta_Test\n",
            "https://en.wikipedia.org//wiki/Clifford_the_Big_Red_Dog_(film)\n",
            "https://en.wikipedia.org//wiki/Tick,_Tick..._Boom!_(film)\n",
            "https://en.wikipedia.org//wiki/Home_Sweet_Home_Alone\n",
            "https://en.wikipedia.org//wiki/Apex_(2021_film)\n",
            "https://en.wikipedia.org//wiki/The_Power_of_the_Dog_(film)\n",
            "https://en.wikipedia.org//wiki/Bruised_(film)\n",
            "https://en.wikipedia.org//wiki/The_Princess_Switch_3:_Romancing_the_Star\n",
            "https://en.wikipedia.org//wiki/Ghostbusters:_Afterlife\n",
            "https://en.wikipedia.org//wiki/King_Richard_(film)\n",
            "https://en.wikipedia.org//wiki/Extinct_(film)\n",
            "https://en.wikipedia.org//wiki/C%27mon_C%27mon_(film)\n",
            "https://en.wikipedia.org//wiki/Black_Friday_(2021_film)\n",
            "https://en.wikipedia.org//wiki/Zeros_and_Ones\n",
            "https://en.wikipedia.org//wiki/Friend_of_the_World\n",
            "https://en.wikipedia.org//wiki/Encanto\n",
            "https://en.wikipedia.org//wiki/House_of_Gucci\n",
            "https://en.wikipedia.org//wiki/The_Unforgivable\n",
            "https://en.wikipedia.org//wiki/Resident_Evil:_Welcome_to_Raccoon_City\n",
            "https://en.wikipedia.org//wiki/8-Bit_Christmas\n",
            "https://en.wikipedia.org//wiki/The_Humans_(film)\n",
            "https://en.wikipedia.org//wiki/South_Park:_Post_Covid\n",
            "https://en.wikipedia.org//wiki/Licorice_Pizza\n",
            "https://en.wikipedia.org//wiki/Single_All_the_Way\n",
            "https://en.wikipedia.org//wiki/Back_to_the_Outback\n",
            "https://en.wikipedia.org//wiki/Diary_of_a_Wimpy_Kid_(2021_film)\n",
            "https://en.wikipedia.org//wiki/Encounter_(2021_film)\n",
            "https://en.wikipedia.org//wiki/Mixtape_(film)\n",
            "https://en.wikipedia.org//wiki/Deadlock_(2021_film)\n",
            "https://en.wikipedia.org//wiki/West_Side_Story_(2021_film)\n",
            "https://en.wikipedia.org//wiki/Don%27t_Look_Up\n",
            "https://en.wikipedia.org//wiki/National_Champions_(film)\n",
            "https://en.wikipedia.org//wiki/Being_the_Ricardos\n",
            "https://en.wikipedia.org//wiki/Red_Rocket_(film)\n",
            "https://en.wikipedia.org//wiki/The_Hating_Game\n",
            "https://en.wikipedia.org//wiki/Rumble_(2021_film)\n",
            "https://en.wikipedia.org//wiki/South_Park:_Post_Covid:_The_Return_of_Covid\n",
            "https://en.wikipedia.org//wiki/Spider-Man:_No_Way_Home\n",
            "https://en.wikipedia.org//wiki/Nightmare_Alley_(2021_film)\n",
            "https://en.wikipedia.org//wiki/The_Lost_Daughter_(film)\n",
            "https://en.wikipedia.org//wiki/Swan_Song_(2021_Benjamin_Cleary_film)\n",
            "https://en.wikipedia.org//wiki/The_Tender_Bar_(film)\n",
            "https://en.wikipedia.org//wiki/Mother/Android\n",
            "https://en.wikipedia.org//wiki/Fortress_(2021_film)\n",
            "https://en.wikipedia.org//wiki/Sing_2\n",
            "https://en.wikipedia.org//wiki/The_Matrix_Resurrections\n",
            "https://en.wikipedia.org//wiki/The_King%27s_Man\n",
            "https://en.wikipedia.org//wiki/The_Tragedy_of_Macbeth_(2021_film)\n",
            "https://en.wikipedia.org//wiki/A_Journal_for_Jordan\n",
            "https://en.wikipedia.org//wiki/American_Underdog_(film)\n",
            "https://en.wikipedia.org//wiki/Memoria_(2021_film)\n",
            "Failed count: 10\n"
          ]
        }
      ]
    },
    {
      "cell_type": "markdown",
      "source": [
        "### extract movie plot given the movie url"
      ],
      "metadata": {
        "id": "-gJTH0DZQ-iH"
      }
    },
    {
      "cell_type": "code",
      "source": [
        "movie_url = \"https://en.wikipedia.org//wiki/Shadow_in_the_Cloud\"\n",
        "\n",
        "movie = urlopen(movie_url)\n",
        "soup_movie = BeautifulSoup(movie, 'lxml')\n",
        "h2 = soup_movie.find(id = \"Plot\").find_parent('h2')\n",
        "print(h2)"
      ],
      "metadata": {
        "colab": {
          "base_uri": "https://localhost:8080/"
        },
        "id": "qKrWrWIKQPn5",
        "outputId": "d5759f99-6e14-45c5-c808-cf547ab0f181"
      },
      "execution_count": null,
      "outputs": [
        {
          "output_type": "stream",
          "name": "stdout",
          "text": [
            "<h2><span class=\"mw-headline\" id=\"Plot\">Plot</span><span class=\"mw-editsection\"><span class=\"mw-editsection-bracket\">[</span><a href=\"/w/index.php?title=Shadow_in_the_Cloud&amp;action=edit&amp;section=1\" title=\"Edit section: Plot\"><span>edit</span></a><span class=\"mw-editsection-bracket\">]</span></span></h2>\n"
          ]
        }
      ]
    },
    {
      "cell_type": "code",
      "source": [
        "para  = h2.find_next_sibling()\n",
        "\n",
        "plot = \"\"\n",
        "while para.name == \"p\":\n",
        "  plot = plot + para.text\n",
        "  para = para.find_next_sibling()\n",
        "\n",
        "print(plot)"
      ],
      "metadata": {
        "colab": {
          "base_uri": "https://localhost:8080/"
        },
        "id": "FT6-U7dtRlac",
        "outputId": "58d5a587-31b3-4e47-95f9-b6b6d5c5c5be"
      },
      "execution_count": null,
      "outputs": [
        {
          "output_type": "stream",
          "name": "stdout",
          "text": [
            "In August 1943, RAF Pilot Officer Maude Garrett is assigned to travel with a top secret package from Auckland, New Zealand, to Samoa. When she arrives at the airbase at night, she wanders the tarmac before suddenly finding herself standing right in front of her transport, an American B-17 bomber named The Fool's Errand. The mixed-nationality Allied crew gives her a mostly derisive welcome, and she is quartered in the empty Sperry ball turret for the takeoff. With no room left for her document valise, she reluctantly allows the only friendly crew member, USAAF dorsal gunner Walter Quaid, to store it. During takeoff, Maude sees another aircraft in the clouds, confirmed by navigator Finch. Pilot Reeves and RNZAF co-pilot Williams question her ability to identify aircraft.\n",
            "Still riding in the ball turret, Maude sees some sort of winged creature clinging to the underside of the bomber's wing. She reports it, but most of the crew, except tail gunner Beckell, who also sees it, derides her claim. When she is allowed to leave the turret, the hatch malfunctions, trapping her inside. When she reacts indignantly to the crew's comments about her situation, they abandon their attempt to open the stuck hatch and switch off her intercom. After seeing a Japanese aircraft appearing and disappearing in the clouds close to the bomber, she is abruptly attacked by the creature, a gremlin. She fights it off but ends up being injured. When the crew contacts her again to ask what happened, RAF Scottish radio operator Taggart cuts in telling them that \"Maude Garrett\" does not exist and is not registered for their flight. When they begin to remove her for questioning, Maude deliberately jams the turret's gears and prepares to defend herself. Suddenly, the Japanese aircraft reappears and opens fire. In the excitement, Maude switches to an American accent as she takes control of the gun turret, shooting down the fighter and winning the crew's grudging respect.\n",
            "Maude confirms that she truly is a WASP, but admits she is actually married and boarded the B-17 under her maiden name. She refuses to reveal her mission, citing its secrecy. She again sees the gremlin continuing to sabotage the bomber. Eventually, waist gunner Dorn sights it too, but the others disregard his observation. Suspecting Maude's assignment is the cause of their misfortunes, Reeves gives the order to open the bag, which contains an infant, Maude's and Sgt. Quaid's extramarital child. Forced to confess, Maude explains that she was severely mistreated by her husband. She had an affair with Quaid and became pregnant. Deciding not to inform Quaid, Maude faked her assignment to the bomber in order to escape her husband, who is following her and will kill her in his rage over the affair.\n",
            "Just as Captain Reeves turns back to the airbase, three Mitsubishi A6M Zero fighters attack and the gremlin boards the bomber, injures Quaid, and kidnaps the infant. When the gremlin appears outside the turret with her baby in the bag, Maude exits the turret and fires her handgun at it, driving it off. The bag is now hanging precariously from the closest engine nacelle. Risking a perilous climb under the wing, Maude is able to retrieve her child and reboard the bomber through the now shot away ball turret opening. The gremlin attacks again, throwing Taggart out of the bomber before Maude can eject it. When Reeves, Finch, and Dorn are killed by additional Japanese machine gun fire, Maude takes command and brings down the heavily damaged bomber roughly but safely in a controlled crash landing on land. The gremlin reappears on the ground and tries to snatch the baby once again, but Maude is finally able to kill the creature, ending the threat. She and the remaining survivors watch as The Fool's Errand burns and explodes.\n",
            "\n"
          ]
        }
      ]
    },
    {
      "cell_type": "markdown",
      "source": [
        "### combine everything from 2005 to 2021"
      ],
      "metadata": {
        "id": "WFgF6vvVbcsh"
      }
    },
    {
      "cell_type": "code",
      "source": [
        "def get_movie_urls(url):\n",
        "  html = urlopen(url)\n",
        "  soup = BeautifulSoup(html, 'lxml')\n",
        "  movie_urls_each_year= []\n",
        "  titles = []\n",
        "  tables = soup.findAll('table', class_ = \"wikitable\")\n",
        "  all_movie_urls = []\n",
        "  failed_count = 0\n",
        "  for table in tables:\n",
        "    all_headers = [th.text.replace(\"\\n\",\"\") for th in table.find_all('th')]\n",
        "    if \"Title\" in all_headers and \"Production company\" in all_headers:\n",
        "      rows = table.tbody.find_all(\"tr\")\n",
        "      for row in rows[1:]:\n",
        "        try:\n",
        "          title = row.find_all('i')[0].a\n",
        "          link = \"https://en.wikipedia.org/\" + title['href']\n",
        "          movie_title = title.text\n",
        "          movie_urls_each_year.append(link)\n",
        "          titles.append(movie_title)\n",
        "        except:\n",
        "          pass\n",
        "  return movie_urls_each_year, titles"
      ],
      "metadata": {
        "id": "HWYqojOWbcdD"
      },
      "execution_count": null,
      "outputs": []
    },
    {
      "cell_type": "code",
      "source": [
        "url = \"https://en.wikipedia.org/wiki/List_of_American_films_of_2021\"\n",
        "get_movie_urls(url)"
      ],
      "metadata": {
        "colab": {
          "base_uri": "https://localhost:8080/"
        },
        "id": "qSUBNvdvSJuO",
        "outputId": "b8bae830-f41f-448e-ce73-838997467836"
      },
      "execution_count": null,
      "outputs": [
        {
          "output_type": "execute_result",
          "data": {
            "text/plain": [
              "(['https://en.wikipedia.org//wiki/Shadow_in_the_Cloud',\n",
              "  'https://en.wikipedia.org//wiki/Hacksaw_(film)',\n",
              "  'https://en.wikipedia.org//wiki/Dr._Bird%27s_Advice_for_Sad_Poets',\n",
              "  'https://en.wikipedia.org//wiki/The_White_Tiger_(2021_film)',\n",
              "  'https://en.wikipedia.org//wiki/Locked_Down_(film)',\n",
              "  'https://en.wikipedia.org//wiki/The_Dig_(2021_film)',\n",
              "  'https://en.wikipedia.org//wiki/Outside_the_Wire',\n",
              "  'https://en.wikipedia.org//wiki/The_Marksman_(2021_film)',\n",
              "  'https://en.wikipedia.org//wiki/The_Ultimate_Playlist_of_Noise',\n",
              "  'https://en.wikipedia.org//wiki/American_Skin_(film)',\n",
              "  'https://en.wikipedia.org//wiki/Don%27t_Tell_a_Soul_(film)',\n",
              "  'https://en.wikipedia.org//wiki/Our_Friend',\n",
              "  'https://en.wikipedia.org//wiki/No_Man%27s_Land_(2021_film)',\n",
              "  'https://en.wikipedia.org//wiki/Born_a_Champion',\n",
              "  'https://en.wikipedia.org//wiki/Wrong_Turn_(2021_film)',\n",
              "  'https://en.wikipedia.org//wiki/Penguin_Bloom',\n",
              "  'https://en.wikipedia.org//wiki/The_Little_Things_(2021_film)',\n",
              "  'https://en.wikipedia.org//wiki/Finding_%CA%BBOhana',\n",
              "  'https://en.wikipedia.org//wiki/Nomadland_(film)',\n",
              "  'https://en.wikipedia.org//wiki/Malcolm_%26_Marie',\n",
              "  'https://en.wikipedia.org//wiki/Palmer_(film)',\n",
              "  'https://en.wikipedia.org//wiki/Falling_(2020_film)',\n",
              "  'https://en.wikipedia.org//wiki/Bliss_(2021_film)',\n",
              "  'https://en.wikipedia.org//wiki/Little_Fish_(2021_film)',\n",
              "  'https://en.wikipedia.org//wiki/Son_of_the_South_(film)',\n",
              "  'https://en.wikipedia.org//wiki/PVT_Chat',\n",
              "  'https://en.wikipedia.org//wiki/Music_(2021_film)',\n",
              "  'https://en.wikipedia.org//wiki/Judas_and_the_Black_Messiah',\n",
              "  'https://en.wikipedia.org//wiki/The_Mauritanian',\n",
              "  'https://en.wikipedia.org//wiki/Breaking_News_in_Yuba_County',\n",
              "  'https://en.wikipedia.org//wiki/Barb_and_Star_Go_to_Vista_Del_Mar',\n",
              "  'https://en.wikipedia.org//wiki/Minari_(film)',\n",
              "  'https://en.wikipedia.org//wiki/To_All_the_Boys:_Always_and_Forever',\n",
              "  'https://en.wikipedia.org//wiki/The_World_to_Come',\n",
              "  'https://en.wikipedia.org//wiki/French_Exit_(2020_film)',\n",
              "  'https://en.wikipedia.org//wiki/Land_(2021_film)',\n",
              "  'https://en.wikipedia.org//wiki/Willy%27s_Wonderland',\n",
              "  'https://en.wikipedia.org//wiki/The_Map_of_Tiny_Perfect_Things',\n",
              "  'https://en.wikipedia.org//wiki/Fear_of_Rain',\n",
              "  'https://en.wikipedia.org//wiki/I_Care_a_Lot',\n",
              "  'https://en.wikipedia.org//wiki/Flora_%26_Ulysses_(film)',\n",
              "  'https://en.wikipedia.org//wiki/Silk_Road_(film)',\n",
              "  'https://en.wikipedia.org//wiki/Tom_%26_Jerry_(2021_film)',\n",
              "  'https://en.wikipedia.org//wiki/The_United_States_vs._Billie_Holiday',\n",
              "  'https://en.wikipedia.org//wiki/Cherry_(2021_film)',\n",
              "  'https://en.wikipedia.org//wiki/Crisis_(2021_film)',\n",
              "  'https://en.wikipedia.org//wiki/Billie_Eilish:_The_World%27s_a_Little_Blurry',\n",
              "  'https://en.wikipedia.org//wiki/The_Vigil_(2019_film)',\n",
              "  'https://en.wikipedia.org//wiki/Moxie_(film)',\n",
              "  'https://en.wikipedia.org//wiki/Coming_2_America',\n",
              "  'https://en.wikipedia.org//wiki/The_SpongeBob_Movie:_Sponge_on_the_Run',\n",
              "  'https://en.wikipedia.org//wiki/Raya_and_the_Last_Dragon',\n",
              "  'https://en.wikipedia.org//wiki/Chaos_Walking_(film)',\n",
              "  'https://en.wikipedia.org//wiki/Boss_Level',\n",
              "  'https://en.wikipedia.org//wiki/Boogie_(2021_film)',\n",
              "  'https://en.wikipedia.org//wiki/Yes_Day',\n",
              "  'https://en.wikipedia.org//wiki/Long_Weekend_(2021_film)',\n",
              "  'https://en.wikipedia.org//wiki/Cosmic_Sin',\n",
              "  'https://en.wikipedia.org//wiki/Trust_(2021_film)',\n",
              "  'https://en.wikipedia.org//wiki/Zack_Snyder%27s_Justice_League',\n",
              "  'https://en.wikipedia.org//wiki/The_Courier_(2020_film)',\n",
              "  'https://en.wikipedia.org//wiki/City_of_Lies',\n",
              "  'https://en.wikipedia.org//wiki/Happily_(film)',\n",
              "  'https://en.wikipedia.org//wiki/Nobody_(2021_film)',\n",
              "  'https://en.wikipedia.org//wiki/Bad_Trip_(film)',\n",
              "  'https://en.wikipedia.org//wiki/The_Seventh_Day_(2021_film)',\n",
              "  'https://en.wikipedia.org//wiki/Senior_Moment',\n",
              "  'https://en.wikipedia.org//wiki/North_Hollywood_(film)',\n",
              "  'https://en.wikipedia.org//wiki/Godzilla_vs._Kong',\n",
              "  'https://en.wikipedia.org//wiki/Concrete_Cowboy',\n",
              "  'https://en.wikipedia.org//wiki/The_Unholy_(2021_film)',\n",
              "  'https://en.wikipedia.org//wiki/Every_Breath_You_Take_(film)',\n",
              "  'https://en.wikipedia.org//wiki/Shiva_Baby',\n",
              "  'https://en.wikipedia.org//wiki/The_Girl_Who_Believes_in_Miracles',\n",
              "  'https://en.wikipedia.org//wiki/The_Believer_(2021_film)',\n",
              "  'https://en.wikipedia.org//wiki/Dawn_of_the_Beast',\n",
              "  'https://en.wikipedia.org//wiki/Voyagers_(film)',\n",
              "  'https://en.wikipedia.org//wiki/Thunder_Force_(film)',\n",
              "  'https://en.wikipedia.org//wiki/Arlo_the_Alligator_Boy',\n",
              "  'https://en.wikipedia.org//wiki/Monday_(2020_film)',\n",
              "  'https://en.wikipedia.org//wiki/In_the_Earth',\n",
              "  'https://en.wikipedia.org//wiki/Stowaway_(2021_film)',\n",
              "  'https://en.wikipedia.org//wiki/Mortal_Kombat_(2021_film)',\n",
              "  'https://en.wikipedia.org//wiki/Vanquish_(film)',\n",
              "  'https://en.wikipedia.org//wiki/Together_Together',\n",
              "  'https://en.wikipedia.org//wiki/We_Broke_Up_(film)',\n",
              "  'https://en.wikipedia.org//wiki/The_Deep_Ones',\n",
              "  'https://en.wikipedia.org//wiki/Things_Heard_%26_Seen',\n",
              "  'https://en.wikipedia.org//wiki/The_Mitchells_vs._the_Machines',\n",
              "  'https://en.wikipedia.org//wiki/Without_Remorse_(film)',\n",
              "  'https://en.wikipedia.org//wiki/The_Virtuoso_(film)',\n",
              "  'https://en.wikipedia.org//wiki/Four_Good_Days',\n",
              "  'https://en.wikipedia.org//wiki/Separation_(2021_film)',\n",
              "  'https://en.wikipedia.org//wiki/The_Resort_(film)',\n",
              "  'https://en.wikipedia.org//wiki/Wrath_of_Man',\n",
              "  'https://en.wikipedia.org//wiki/Monster_(2018_film)',\n",
              "  'https://en.wikipedia.org//wiki/The_Paper_Tigers',\n",
              "  'https://en.wikipedia.org//wiki/Mainstream_(film)',\n",
              "  'https://en.wikipedia.org//wiki/The_Water_Man_(film)',\n",
              "  'https://en.wikipedia.org//wiki/Here_Today_(film)',\n",
              "  'https://en.wikipedia.org//wiki/Above_Suspicion_(2019_film)',\n",
              "  'https://en.wikipedia.org//wiki/Reboot_Camp',\n",
              "  'https://en.wikipedia.org//wiki/Benny_Loves_You',\n",
              "  'https://en.wikipedia.org//wiki/Oxygen_(2021_film)',\n",
              "  'https://en.wikipedia.org//wiki/Army_of_the_Dead',\n",
              "  'https://en.wikipedia.org//wiki/Those_Who_Wish_Me_Dead',\n",
              "  'https://en.wikipedia.org//wiki/The_Woman_in_the_Window_(2021_film)',\n",
              "  'https://en.wikipedia.org//wiki/Spiral_(2021_film)',\n",
              "  'https://en.wikipedia.org//wiki/Georgetown_(film)',\n",
              "  'https://en.wikipedia.org//wiki/Finding_You_(film)',\n",
              "  'https://en.wikipedia.org//wiki/The_Killing_of_Two_Lovers',\n",
              "  'https://en.wikipedia.org//wiki/616_Wilford_Lane',\n",
              "  'https://en.wikipedia.org//wiki/Dream_Horse',\n",
              "  'https://en.wikipedia.org//wiki/Aquarium_of_the_Dead',\n",
              "  'https://en.wikipedia.org//wiki/Blast_Beat_(film)',\n",
              "  'https://en.wikipedia.org//wiki/A_Quiet_Place_Part_II',\n",
              "  'https://en.wikipedia.org//wiki/Cruella_(film)',\n",
              "  'https://en.wikipedia.org//wiki/Plan_B_(2021_film)',\n",
              "  'https://en.wikipedia.org//wiki/Spirit_Untamed',\n",
              "  'https://en.wikipedia.org//wiki/The_Conjuring:_The_Devil_Made_Me_Do_It',\n",
              "  'https://en.wikipedia.org//wiki/Gully_(film)',\n",
              "  'https://en.wikipedia.org//wiki/Flashback_(2020_film)',\n",
              "  'https://en.wikipedia.org//wiki/Under_the_Stadium_Lights',\n",
              "  'https://en.wikipedia.org//wiki/Awake_(2021_film)',\n",
              "  'https://en.wikipedia.org//wiki/Infinite_(film)',\n",
              "  'https://en.wikipedia.org//wiki/Peter_Rabbit_2:_The_Runaway',\n",
              "  'https://en.wikipedia.org//wiki/In_the_Heights_(film)',\n",
              "  'https://en.wikipedia.org//wiki/Wish_Dragon',\n",
              "  'https://en.wikipedia.org//wiki/The_Misfits_(2021_film)',\n",
              "  'https://en.wikipedia.org//wiki/12_Mighty_Orphans',\n",
              "  'https://en.wikipedia.org//wiki/The_House_Next_Door:_Meet_the_Blacks_2',\n",
              "  'https://en.wikipedia.org//wiki/Queen_Bees_(film)',\n",
              "  'https://en.wikipedia.org//wiki/Hitman%27s_Wife%27s_Bodyguard',\n",
              "  'https://en.wikipedia.org//wiki/Luca_(2021_film)',\n",
              "  'https://en.wikipedia.org//wiki/Fatherhood_(film)',\n",
              "  'https://en.wikipedia.org//wiki/The_Birthday_Cake_(film)',\n",
              "  'https://en.wikipedia.org//wiki/Rita_Moreno:_Just_a_Girl_Who_Decided_to_Go_for_It',\n",
              "  'https://en.wikipedia.org//wiki/The_Sparks_Brothers',\n",
              "  'https://en.wikipedia.org//wiki/Love_Spreads_(film)',\n",
              "  'https://en.wikipedia.org//wiki/A_Crime_on_the_Bayou',\n",
              "  'https://en.wikipedia.org//wiki/Good_on_Paper',\n",
              "  'https://en.wikipedia.org//wiki/F9_(film)',\n",
              "  'https://en.wikipedia.org//wiki/The_Ice_Road',\n",
              "  'https://en.wikipedia.org//wiki/Werewolves_Within_(film)',\n",
              "  'https://en.wikipedia.org//wiki/False_Positive_(film)',\n",
              "  'https://en.wikipedia.org//wiki/Lansky_(2021_film)',\n",
              "  'https://en.wikipedia.org//wiki/I_Carry_You_with_Me',\n",
              "  'https://en.wikipedia.org//wiki/Mary_J._Blige%27s_My_Life',\n",
              "  'https://en.wikipedia.org//wiki/Fathom_(2021_film)',\n",
              "  'https://en.wikipedia.org//wiki/America:_The_Motion_Picture',\n",
              "  'https://en.wikipedia.org//wiki/Zola_(film)',\n",
              "  'https://en.wikipedia.org//wiki/No_Sudden_Move',\n",
              "  'https://en.wikipedia.org//wiki/The_Tomorrow_War',\n",
              "  'https://en.wikipedia.org//wiki/The_Boss_Baby:_Family_Business',\n",
              "  'https://en.wikipedia.org//wiki/The_Forever_Purge',\n",
              "  'https://en.wikipedia.org//wiki/Fear_Street_Part_One:_1994',\n",
              "  'https://en.wikipedia.org//wiki/Summer_of_Soul',\n",
              "  'https://en.wikipedia.org//wiki/Till_Death_(2021_film)',\n",
              "  'https://en.wikipedia.org//wiki/Let_Us_In',\n",
              "  'https://en.wikipedia.org//wiki/Black_Widow_(2021_film)',\n",
              "  'https://en.wikipedia.org//wiki/Fear_Street_Part_Two:_1978',\n",
              "  'https://en.wikipedia.org//wiki/Summertime_(2020_film)',\n",
              "  'https://en.wikipedia.org//wiki/Gunpowder_Milkshake',\n",
              "  'https://en.wikipedia.org//wiki/Space_Jam:_A_New_Legacy',\n",
              "  'https://en.wikipedia.org//wiki/Escape_Room:_Tournament_of_Champions',\n",
              "  'https://en.wikipedia.org//wiki/Fear_Street_Part_Three:_1666',\n",
              "  'https://en.wikipedia.org//wiki/Die_in_a_Gunfight',\n",
              "  'https://en.wikipedia.org//wiki/Pig_(2021_film)',\n",
              "  'https://en.wikipedia.org//wiki/Out_of_Death',\n",
              "  'https://en.wikipedia.org//wiki/Roadrunner:_A_Film_About_Anthony_Bourdain',\n",
              "  'https://en.wikipedia.org//wiki/How_It_Ends_(2021_film)',\n",
              "  'https://en.wikipedia.org//wiki/Trollhunters:_Rise_of_the_Titans',\n",
              "  'https://en.wikipedia.org//wiki/Snake_Eyes_(2021_film)',\n",
              "  'https://en.wikipedia.org//wiki/Old_(film)',\n",
              "  'https://en.wikipedia.org//wiki/Joe_Bell_(film)',\n",
              "  'https://en.wikipedia.org//wiki/Jolt_(film)',\n",
              "  'https://en.wikipedia.org//wiki/Midnight_in_the_Switchgrass',\n",
              "  'https://en.wikipedia.org//wiki/Broken_Diamonds',\n",
              "  'https://en.wikipedia.org//wiki/Val_(film)',\n",
              "  'https://en.wikipedia.org//wiki/Ailey_(film)',\n",
              "  'https://en.wikipedia.org//wiki/Jungle_Cruise_(film)',\n",
              "  'https://en.wikipedia.org//wiki/Stillwater_(film)',\n",
              "  'https://en.wikipedia.org//wiki/The_Green_Knight_(film)',\n",
              "  'https://en.wikipedia.org//wiki/Nine_Days_(film)',\n",
              "  'https://en.wikipedia.org//wiki/Ride_the_Eagle',\n",
              "  'https://en.wikipedia.org//wiki/The_Evening_Hour_(film)',\n",
              "  'https://en.wikipedia.org//wiki/Lorelei_(film)',\n",
              "  'https://en.wikipedia.org//wiki/Enemies_of_the_State',\n",
              "  'https://en.wikipedia.org//wiki/The_Suicide_Squad_(film)',\n",
              "  'https://en.wikipedia.org//wiki/Naked_Singularity_(film)',\n",
              "  'https://en.wikipedia.org//wiki/John_and_the_Hole',\n",
              "  'https://en.wikipedia.org//wiki/Vivo_(film)',\n",
              "  'https://en.wikipedia.org//wiki/Playing_God_(2021_film)',\n",
              "  'https://en.wikipedia.org//wiki/Swan_Song_(Todd_Stephens_film)',\n",
              "  'https://en.wikipedia.org//wiki/The_Kissing_Booth_3',\n",
              "  'https://en.wikipedia.org//wiki/Homeroom_(2021_film)',\n",
              "  'https://en.wikipedia.org//wiki/Free_Guy',\n",
              "  'https://en.wikipedia.org//wiki/Respect_(2021_American_film)',\n",
              "  'https://en.wikipedia.org//wiki/Beckett_(film)',\n",
              "  'https://en.wikipedia.org//wiki/Don%27t_Breathe_2',\n",
              "  'https://en.wikipedia.org//wiki/CODA_(2021_film)',\n",
              "  'https://en.wikipedia.org//wiki/Not_Going_Quietly',\n",
              "  'https://en.wikipedia.org//wiki/Reminiscence_(2021_film)',\n",
              "  'https://en.wikipedia.org//wiki/The_Prot%C3%A9g%C3%A9',\n",
              "  'https://en.wikipedia.org//wiki/Sweet_Girl_(film)',\n",
              "  'https://en.wikipedia.org//wiki/The_Loud_House_Movie',\n",
              "  'https://en.wikipedia.org//wiki/The_Night_House',\n",
              "  'https://en.wikipedia.org//wiki/Flag_Day_(film)',\n",
              "  'https://en.wikipedia.org//wiki/Cryptozoo',\n",
              "  'https://en.wikipedia.org//wiki/Habit_(2021_film)',\n",
              "  'https://en.wikipedia.org//wiki/Demonic_(2021_film)',\n",
              "  'https://en.wikipedia.org//wiki/Annette_(film)',\n",
              "  'https://en.wikipedia.org//wiki/The_Witcher:_Nightmare_of_the_Wolf',\n",
              "  'https://en.wikipedia.org//wiki/Really_Love_(film)',\n",
              "  'https://en.wikipedia.org//wiki/Candyman_(2021_film)',\n",
              "  'https://en.wikipedia.org//wiki/Vacation_Friends',\n",
              "  'https://en.wikipedia.org//wiki/He%27s_All_That',\n",
              "  'https://en.wikipedia.org//wiki/No_Man_of_God',\n",
              "  'https://en.wikipedia.org//wiki/Rushed',\n",
              "  'https://en.wikipedia.org//wiki/Afterlife_of_the_Party',\n",
              "  'https://en.wikipedia.org//wiki/Shang-Chi_and_the_Legend_of_the_Ten_Rings',\n",
              "  'https://en.wikipedia.org//wiki/Cinderella_(2021_American_film)',\n",
              "  'https://en.wikipedia.org//wiki/Worth_(film)',\n",
              "  'https://en.wikipedia.org//wiki/The_Gateway_(2021_film)',\n",
              "  'https://en.wikipedia.org//wiki/Wild_Indian',\n",
              "  'https://en.wikipedia.org//wiki/We_Need_to_Do_Something',\n",
              "  'https://en.wikipedia.org//wiki/Kate_(film)',\n",
              "  'https://en.wikipedia.org//wiki/Everybody%27s_Talking_About_Jamie_(film)',\n",
              "  'https://en.wikipedia.org//wiki/Malignant_(2021_film)',\n",
              "  'https://en.wikipedia.org//wiki/Queenpins',\n",
              "  'https://en.wikipedia.org//wiki/The_Card_Counter',\n",
              "  'https://en.wikipedia.org//wiki/Come_from_Away_(film)',\n",
              "  'https://en.wikipedia.org//wiki/The_Voyeurs',\n",
              "  'https://en.wikipedia.org//wiki/Small_Engine_Repair_(film)',\n",
              "  'https://en.wikipedia.org//wiki/Language_Lessons',\n",
              "  'https://en.wikipedia.org//wiki/Show_Me_the_Father',\n",
              "  'https://en.wikipedia.org//wiki/Dating_and_New_York',\n",
              "  'https://en.wikipedia.org//wiki/Bad_Candy',\n",
              "  'https://en.wikipedia.org//wiki/My_Son_(2021_Christian_Carion_film)',\n",
              "  'https://en.wikipedia.org//wiki/Nightbooks',\n",
              "  'https://en.wikipedia.org//wiki/The_Starling',\n",
              "  'https://en.wikipedia.org//wiki/The_Eyes_of_Tammy_Faye_(2021_film)',\n",
              "  'https://en.wikipedia.org//wiki/Cry_Macho_(film)',\n",
              "  'https://en.wikipedia.org//wiki/Copshop',\n",
              "  'https://en.wikipedia.org//wiki/Blue_Bayou_(film)',\n",
              "  'https://en.wikipedia.org//wiki/Prisoners_of_the_Ghostland',\n",
              "  'https://en.wikipedia.org//wiki/Best_Sellers_(film)',\n",
              "  'https://en.wikipedia.org//wiki/Lady_of_the_Manor_(film)',\n",
              "  'https://en.wikipedia.org//wiki/The_Nowhere_Inn',\n",
              "  'https://en.wikipedia.org//wiki/My_Name_is_Pauli_Murray',\n",
              "  'https://en.wikipedia.org//wiki/The_Killing_of_Kenneth_Chamberlain',\n",
              "  'https://en.wikipedia.org//wiki/Intrusion_(film)',\n",
              "  'https://en.wikipedia.org//wiki/My_Little_Pony:_A_New_Generation',\n",
              "  'https://en.wikipedia.org//wiki/Dear_Evan_Hansen_(film)',\n",
              "  'https://en.wikipedia.org//wiki/The_Guilty_(2021_film)',\n",
              "  'https://en.wikipedia.org//wiki/Birds_of_Paradise_(2021_film)',\n",
              "  'https://en.wikipedia.org//wiki/After_We_Fell',\n",
              "  'https://en.wikipedia.org//wiki/Venom:_Let_There_Be_Carnage',\n",
              "  'https://en.wikipedia.org//wiki/The_Many_Saints_of_Newark',\n",
              "  'https://en.wikipedia.org//wiki/The_Addams_Family_2',\n",
              "  'https://en.wikipedia.org//wiki/Bingo_Hell',\n",
              "  'https://en.wikipedia.org//wiki/Black_as_Night',\n",
              "  'https://en.wikipedia.org//wiki/Old_Henry_(film)',\n",
              "  'https://en.wikipedia.org//wiki/The_Jesus_Music',\n",
              "  'https://en.wikipedia.org//wiki/Mayday_(2021_film)',\n",
              "  'https://en.wikipedia.org//wiki/God%27s_Not_Dead:_We_the_People',\n",
              "  'https://en.wikipedia.org//wiki/There%27s_Someone_Inside_Your_House_(film)',\n",
              "  'https://en.wikipedia.org//wiki/No_Time_to_Die',\n",
              "  'https://en.wikipedia.org//wiki/Mass_(2021_film)',\n",
              "  'https://en.wikipedia.org//wiki/South_of_Heaven_(film)',\n",
              "  'https://en.wikipedia.org//wiki/The_Manor_(film)',\n",
              "  'https://en.wikipedia.org//wiki/Madres',\n",
              "  'https://en.wikipedia.org//wiki/Justin_Bieber:_Our_World',\n",
              "  'https://en.wikipedia.org//wiki/Survive_the_Game',\n",
              "  'https://en.wikipedia.org//wiki/Halloween_Kills',\n",
              "  'https://en.wikipedia.org//wiki/The_Last_Duel_(2021_film)',\n",
              "  'https://en.wikipedia.org//wiki/Needle_in_a_Timestack',\n",
              "  'https://en.wikipedia.org//wiki/Hard_Luck_Love_Song',\n",
              "  'https://en.wikipedia.org//wiki/Introducing,_Selma_Blair',\n",
              "  'https://en.wikipedia.org//wiki/The_Velvet_Underground_(film)',\n",
              "  'https://en.wikipedia.org//wiki/Night_Teeth',\n",
              "  'https://en.wikipedia.org//wiki/Dune_(2021_film)',\n",
              "  'https://en.wikipedia.org//wiki/Ron%27s_Gone_Wrong',\n",
              "  'https://en.wikipedia.org//wiki/The_French_Dispatch',\n",
              "  'https://en.wikipedia.org//wiki/The_Harder_They_Fall_(2021_film)',\n",
              "  'https://en.wikipedia.org//wiki/The_Electrical_Life_of_Louis_Wain',\n",
              "  'https://en.wikipedia.org//wiki/Warning_(2021_film)',\n",
              "  'https://en.wikipedia.org//wiki/Passing_(film)',\n",
              "  'https://en.wikipedia.org//wiki/Hypnotic_(2021_film)',\n",
              "  'https://en.wikipedia.org//wiki/Antlers_(2021_film)',\n",
              "  'https://en.wikipedia.org//wiki/Army_of_Thieves',\n",
              "  'https://en.wikipedia.org//wiki/A_Mouthful_of_Air_(film)',\n",
              "  'https://en.wikipedia.org//wiki/The_Souvenir_Part_II',\n",
              "  'https://en.wikipedia.org//wiki/Paranormal_Activity:_Next_of_Kin',\n",
              "  'https://en.wikipedia.org//wiki/The_Spine_of_Night',\n",
              "  'https://en.wikipedia.org//wiki/Violet_(2021_film)',\n",
              "  'https://en.wikipedia.org//wiki/Heart_of_Champions',\n",
              "  'https://en.wikipedia.org//wiki/Eternals_(film)',\n",
              "  'https://en.wikipedia.org//wiki/Red_Notice_(film)',\n",
              "  'https://en.wikipedia.org//wiki/Finch_(film)',\n",
              "  'https://en.wikipedia.org//wiki/Spencer_(film)',\n",
              "  'https://en.wikipedia.org//wiki/Dangerous_(2021_film)',\n",
              "  'https://en.wikipedia.org//wiki/Love_Hard',\n",
              "  'https://en.wikipedia.org//wiki/The_Beta_Test',\n",
              "  'https://en.wikipedia.org//wiki/Clifford_the_Big_Red_Dog_(film)',\n",
              "  'https://en.wikipedia.org//wiki/Tick,_Tick..._Boom!_(film)',\n",
              "  'https://en.wikipedia.org//wiki/Home_Sweet_Home_Alone',\n",
              "  'https://en.wikipedia.org//wiki/Apex_(2021_film)',\n",
              "  'https://en.wikipedia.org//wiki/The_Power_of_the_Dog_(film)',\n",
              "  'https://en.wikipedia.org//wiki/Bruised_(film)',\n",
              "  'https://en.wikipedia.org//wiki/The_Princess_Switch_3:_Romancing_the_Star',\n",
              "  'https://en.wikipedia.org//wiki/Ghostbusters:_Afterlife',\n",
              "  'https://en.wikipedia.org//wiki/King_Richard_(film)',\n",
              "  'https://en.wikipedia.org//wiki/Extinct_(film)',\n",
              "  'https://en.wikipedia.org//wiki/C%27mon_C%27mon_(film)',\n",
              "  'https://en.wikipedia.org//wiki/Black_Friday_(2021_film)',\n",
              "  'https://en.wikipedia.org//wiki/Zeros_and_Ones',\n",
              "  'https://en.wikipedia.org//wiki/Friend_of_the_World',\n",
              "  'https://en.wikipedia.org//wiki/Encanto',\n",
              "  'https://en.wikipedia.org//wiki/House_of_Gucci',\n",
              "  'https://en.wikipedia.org//wiki/The_Unforgivable',\n",
              "  'https://en.wikipedia.org//wiki/Resident_Evil:_Welcome_to_Raccoon_City',\n",
              "  'https://en.wikipedia.org//wiki/8-Bit_Christmas',\n",
              "  'https://en.wikipedia.org//wiki/The_Humans_(film)',\n",
              "  'https://en.wikipedia.org//wiki/South_Park:_Post_Covid',\n",
              "  'https://en.wikipedia.org//wiki/Licorice_Pizza',\n",
              "  'https://en.wikipedia.org//wiki/Single_All_the_Way',\n",
              "  'https://en.wikipedia.org//wiki/Back_to_the_Outback',\n",
              "  'https://en.wikipedia.org//wiki/Diary_of_a_Wimpy_Kid_(2021_film)',\n",
              "  'https://en.wikipedia.org//wiki/Encounter_(2021_film)',\n",
              "  'https://en.wikipedia.org//wiki/Mixtape_(film)',\n",
              "  'https://en.wikipedia.org//wiki/Deadlock_(2021_film)',\n",
              "  'https://en.wikipedia.org//wiki/West_Side_Story_(2021_film)',\n",
              "  'https://en.wikipedia.org//wiki/Don%27t_Look_Up',\n",
              "  'https://en.wikipedia.org//wiki/National_Champions_(film)',\n",
              "  'https://en.wikipedia.org//wiki/Being_the_Ricardos',\n",
              "  'https://en.wikipedia.org//wiki/Red_Rocket_(film)',\n",
              "  'https://en.wikipedia.org//wiki/The_Hating_Game',\n",
              "  'https://en.wikipedia.org//wiki/Rumble_(2021_film)',\n",
              "  'https://en.wikipedia.org//wiki/South_Park:_Post_Covid:_The_Return_of_Covid',\n",
              "  'https://en.wikipedia.org//wiki/Spider-Man:_No_Way_Home',\n",
              "  'https://en.wikipedia.org//wiki/Nightmare_Alley_(2021_film)',\n",
              "  'https://en.wikipedia.org//wiki/The_Lost_Daughter_(film)',\n",
              "  'https://en.wikipedia.org//wiki/Swan_Song_(2021_Benjamin_Cleary_film)',\n",
              "  'https://en.wikipedia.org//wiki/The_Tender_Bar_(film)',\n",
              "  'https://en.wikipedia.org//wiki/Mother/Android',\n",
              "  'https://en.wikipedia.org//wiki/Fortress_(2021_film)',\n",
              "  'https://en.wikipedia.org//wiki/Sing_2',\n",
              "  'https://en.wikipedia.org//wiki/The_Matrix_Resurrections',\n",
              "  'https://en.wikipedia.org//wiki/The_King%27s_Man',\n",
              "  'https://en.wikipedia.org//wiki/The_Tragedy_of_Macbeth_(2021_film)',\n",
              "  'https://en.wikipedia.org//wiki/A_Journal_for_Jordan',\n",
              "  'https://en.wikipedia.org//wiki/American_Underdog_(film)',\n",
              "  'https://en.wikipedia.org//wiki/Memoria_(2021_film)'],\n",
              " ['Shadow in the Cloud',\n",
              "  'Hacksaw',\n",
              "  \"Dr. Bird's Advice for Sad Poets\",\n",
              "  'The White Tiger',\n",
              "  'Locked Down',\n",
              "  'The Dig',\n",
              "  'Outside the Wire',\n",
              "  'The Marksman',\n",
              "  'The Ultimate Playlist of Noise',\n",
              "  'American Skin',\n",
              "  \"Don't Tell a Soul\",\n",
              "  'Our Friend',\n",
              "  \"No Man's Land\",\n",
              "  'Born a Champion',\n",
              "  'Wrong Turn',\n",
              "  'Penguin Bloom',\n",
              "  'The Little Things',\n",
              "  'Finding ʻOhana',\n",
              "  'Nomadland',\n",
              "  'Malcolm & Marie',\n",
              "  'Palmer',\n",
              "  'Falling',\n",
              "  'Bliss',\n",
              "  'Little Fish',\n",
              "  'Son of the South',\n",
              "  'PVT Chat',\n",
              "  'Music',\n",
              "  'Judas and the Black Messiah',\n",
              "  'The Mauritanian',\n",
              "  'Breaking News in Yuba County',\n",
              "  'Barb and Star Go to Vista Del Mar',\n",
              "  'Minari',\n",
              "  'To All the Boys: Always and Forever',\n",
              "  'The World to Come',\n",
              "  'French Exit',\n",
              "  'Land',\n",
              "  \"Willy's Wonderland\",\n",
              "  'The Map of Tiny Perfect Things',\n",
              "  'Fear of Rain',\n",
              "  'I Care a Lot',\n",
              "  'Flora & Ulysses',\n",
              "  'Silk Road',\n",
              "  'Tom & Jerry',\n",
              "  'The United States vs. Billie Holiday',\n",
              "  'Cherry',\n",
              "  'Crisis',\n",
              "  \"Billie Eilish: The World's a Little Blurry\",\n",
              "  'The Vigil',\n",
              "  'Moxie',\n",
              "  'Coming 2 America',\n",
              "  'The SpongeBob Movie: Sponge on the Run',\n",
              "  'Raya and the Last Dragon',\n",
              "  'Chaos Walking',\n",
              "  'Boss Level',\n",
              "  'Boogie',\n",
              "  'Yes Day',\n",
              "  'Long Weekend',\n",
              "  'Cosmic Sin',\n",
              "  'Trust',\n",
              "  \"Zack Snyder's Justice League\",\n",
              "  'The Courier',\n",
              "  'City of Lies',\n",
              "  'Happily',\n",
              "  'Nobody',\n",
              "  'Bad Trip',\n",
              "  'The Seventh Day',\n",
              "  'Senior Moment',\n",
              "  'North Hollywood',\n",
              "  'Godzilla vs. Kong',\n",
              "  'Concrete Cowboy',\n",
              "  'The Unholy',\n",
              "  'Every Breath You Take',\n",
              "  'Shiva Baby',\n",
              "  'The Girl Who Believes in Miracles',\n",
              "  'The Believer',\n",
              "  'Dawn of the Beast',\n",
              "  'Voyagers',\n",
              "  'Thunder Force',\n",
              "  'Arlo the Alligator Boy',\n",
              "  'Monday',\n",
              "  'In the Earth',\n",
              "  'Stowaway',\n",
              "  'Mortal Kombat',\n",
              "  'Vanquish',\n",
              "  'Together Together',\n",
              "  'We Broke Up',\n",
              "  'The Deep Ones',\n",
              "  'Things Heard & Seen',\n",
              "  'The Mitchells vs. the Machines',\n",
              "  'Without Remorse',\n",
              "  'The Virtuoso',\n",
              "  'Four Good Days',\n",
              "  'Separation',\n",
              "  'The Resort',\n",
              "  'Wrath of Man',\n",
              "  'Monster',\n",
              "  'The Paper Tigers',\n",
              "  'Mainstream',\n",
              "  'The Water Man',\n",
              "  'Here Today',\n",
              "  'Above Suspicion',\n",
              "  'Reboot Camp',\n",
              "  'Benny Loves You',\n",
              "  'Oxygen',\n",
              "  'Army of the Dead',\n",
              "  'Those Who Wish Me Dead',\n",
              "  'The Woman in the Window',\n",
              "  'Spiral',\n",
              "  'Georgetown',\n",
              "  'Finding You',\n",
              "  'The Killing of Two Lovers',\n",
              "  '616 Wilford Lane',\n",
              "  'Dream Horse',\n",
              "  'Aquarium of the Dead',\n",
              "  'Blast Beat',\n",
              "  'A Quiet Place Part II',\n",
              "  'Cruella',\n",
              "  'Plan B',\n",
              "  'Spirit Untamed',\n",
              "  'The Conjuring: The Devil Made Me Do It',\n",
              "  'Gully',\n",
              "  'Flashback',\n",
              "  'Under the Stadium Lights',\n",
              "  'Awake',\n",
              "  'Infinite',\n",
              "  'Peter Rabbit 2: The Runaway',\n",
              "  'In the Heights',\n",
              "  'Wish Dragon',\n",
              "  'The Misfits',\n",
              "  '12 Mighty Orphans',\n",
              "  'The House Next Door: Meet the Blacks 2',\n",
              "  'Queen Bees',\n",
              "  \"Hitman's Wife's Bodyguard\",\n",
              "  'Luca',\n",
              "  'Fatherhood',\n",
              "  'The Birthday Cake',\n",
              "  'Rita Moreno: Just a Girl Who Decided to Go for It',\n",
              "  'The Sparks Brothers',\n",
              "  'Love Spreads',\n",
              "  'A Crime on the Bayou',\n",
              "  'Good on Paper',\n",
              "  'F9',\n",
              "  'The Ice Road',\n",
              "  'Werewolves Within',\n",
              "  'False Positive',\n",
              "  'Lansky',\n",
              "  'I Carry You with Me',\n",
              "  \"Mary J. Blige's My Life\",\n",
              "  'Fathom',\n",
              "  'America: The Motion Picture',\n",
              "  'Zola',\n",
              "  'No Sudden Move',\n",
              "  'The Tomorrow War',\n",
              "  'The Boss Baby: Family Business',\n",
              "  'The Forever Purge',\n",
              "  'Fear Street Part One: 1994',\n",
              "  'Summer of Soul',\n",
              "  'Till Death',\n",
              "  'Let Us In',\n",
              "  'Black Widow',\n",
              "  'Fear Street Part Two: 1978',\n",
              "  'Summertime',\n",
              "  'Gunpowder Milkshake',\n",
              "  'Space Jam: A New Legacy',\n",
              "  'Escape Room: Tournament of Champions',\n",
              "  'Fear Street Part Three: 1666',\n",
              "  'Die in a Gunfight',\n",
              "  'Pig',\n",
              "  'Out of Death',\n",
              "  'Roadrunner: A Film About Anthony Bourdain',\n",
              "  'How It Ends',\n",
              "  'Trollhunters: Rise of the Titans',\n",
              "  'Snake Eyes',\n",
              "  'Old',\n",
              "  'Joe Bell',\n",
              "  'Jolt',\n",
              "  'Midnight in the Switchgrass',\n",
              "  'Broken Diamonds',\n",
              "  'Val',\n",
              "  'Ailey',\n",
              "  'Jungle Cruise',\n",
              "  'Stillwater',\n",
              "  'The Green Knight',\n",
              "  'Nine Days',\n",
              "  'Ride the Eagle',\n",
              "  'The Evening Hour',\n",
              "  'Lorelei',\n",
              "  'Enemies of the State',\n",
              "  'The Suicide Squad',\n",
              "  'Naked Singularity',\n",
              "  'John and the Hole',\n",
              "  'Vivo',\n",
              "  'Playing God',\n",
              "  'Swan Song',\n",
              "  'The Kissing Booth 3',\n",
              "  'Homeroom',\n",
              "  'Free Guy',\n",
              "  'Respect',\n",
              "  'Beckett',\n",
              "  \"Don't Breathe 2\",\n",
              "  'CODA',\n",
              "  'Not Going Quietly',\n",
              "  'Reminiscence',\n",
              "  'The Protégé',\n",
              "  'Sweet Girl',\n",
              "  'The Loud House Movie',\n",
              "  'The Night House',\n",
              "  'Flag Day',\n",
              "  'Cryptozoo',\n",
              "  'Habit',\n",
              "  'Demonic',\n",
              "  'Annette',\n",
              "  'The Witcher: Nightmare of the Wolf',\n",
              "  'Really Love',\n",
              "  'Candyman',\n",
              "  'Vacation Friends',\n",
              "  \"He's All That\",\n",
              "  'No Man of God',\n",
              "  'Rushed',\n",
              "  'Afterlife of the Party',\n",
              "  'Shang-Chi and the Legend of the Ten Rings',\n",
              "  'Cinderella',\n",
              "  'Worth',\n",
              "  'The Gateway',\n",
              "  'Wild Indian',\n",
              "  'We Need to Do Something',\n",
              "  'Kate',\n",
              "  \"Everybody's Talking About Jamie\",\n",
              "  'Malignant',\n",
              "  'Queenpins',\n",
              "  'The Card Counter',\n",
              "  'Come from Away',\n",
              "  'The Voyeurs',\n",
              "  'Small Engine Repair',\n",
              "  'Language Lessons',\n",
              "  'Show Me the Father',\n",
              "  'Dating and New York',\n",
              "  'Bad Candy',\n",
              "  'My Son',\n",
              "  'Nightbooks',\n",
              "  'The Starling',\n",
              "  'The Eyes of Tammy Faye',\n",
              "  'Cry Macho',\n",
              "  'Copshop',\n",
              "  'Blue Bayou',\n",
              "  'Prisoners of the Ghostland',\n",
              "  'Best Sellers',\n",
              "  'Lady of the Manor',\n",
              "  'The Nowhere Inn',\n",
              "  'My Name is Pauli Murray',\n",
              "  'The Killing of Kenneth Chamberlain',\n",
              "  'Intrusion',\n",
              "  'My Little Pony: A New Generation',\n",
              "  'Dear Evan Hansen',\n",
              "  'The Guilty',\n",
              "  'Birds of Paradise',\n",
              "  'After We Fell',\n",
              "  'Venom: Let There Be Carnage',\n",
              "  'The Many Saints of Newark',\n",
              "  'The Addams Family 2',\n",
              "  'Bingo Hell',\n",
              "  'Black as Night',\n",
              "  'Old Henry',\n",
              "  'The Jesus Music',\n",
              "  'Mayday',\n",
              "  \"God's Not Dead: We the People\",\n",
              "  \"There's Someone Inside Your House\",\n",
              "  'No Time to Die',\n",
              "  'Mass',\n",
              "  'South of Heaven',\n",
              "  'The Manor',\n",
              "  'Madres',\n",
              "  'Justin Bieber: Our World',\n",
              "  'Survive the Game',\n",
              "  'Halloween Kills',\n",
              "  'The Last Duel',\n",
              "  'Needle in a Timestack',\n",
              "  'Hard Luck Love Song',\n",
              "  'Introducing, Selma Blair',\n",
              "  'The Velvet Underground',\n",
              "  'Night Teeth',\n",
              "  'Dune',\n",
              "  \"Ron's Gone Wrong\",\n",
              "  'The French Dispatch',\n",
              "  'The Harder They Fall',\n",
              "  'The Electrical Life of Louis Wain',\n",
              "  'Warning',\n",
              "  'Passing',\n",
              "  'Hypnotic',\n",
              "  'Antlers',\n",
              "  'Army of Thieves',\n",
              "  'A Mouthful of Air',\n",
              "  'The Souvenir Part II',\n",
              "  'Paranormal Activity: Next of Kin',\n",
              "  'The Spine of Night',\n",
              "  'Violet',\n",
              "  'Heart of Champions',\n",
              "  'Eternals',\n",
              "  'Red Notice',\n",
              "  'Finch',\n",
              "  'Spencer',\n",
              "  'Dangerous',\n",
              "  'Love Hard',\n",
              "  'The Beta Test',\n",
              "  'Clifford the Big Red Dog',\n",
              "  'Tick, Tick... Boom!',\n",
              "  'Home Sweet Home Alone',\n",
              "  'Apex',\n",
              "  'The Power of the Dog',\n",
              "  'Bruised',\n",
              "  'The Princess Switch 3: Romancing the Star',\n",
              "  'Ghostbusters: Afterlife',\n",
              "  'King Richard',\n",
              "  'Extinct',\n",
              "  \"C'mon C'mon\",\n",
              "  'Black Friday',\n",
              "  'Zeros and Ones',\n",
              "  'Friend of the World',\n",
              "  'Encanto',\n",
              "  'House of Gucci',\n",
              "  'The Unforgivable',\n",
              "  'Resident Evil: Welcome to Raccoon City',\n",
              "  '8-Bit Christmas',\n",
              "  'The Humans',\n",
              "  'South Park: Post Covid',\n",
              "  'Licorice Pizza',\n",
              "  'Single All the Way',\n",
              "  'Back to the Outback',\n",
              "  'Diary of a Wimpy Kid',\n",
              "  'Encounter',\n",
              "  'Mixtape',\n",
              "  'Deadlock',\n",
              "  'West Side Story',\n",
              "  \"Don't Look Up\",\n",
              "  'National Champions',\n",
              "  'Being the Ricardos',\n",
              "  'Red Rocket',\n",
              "  'The Hating Game',\n",
              "  'Rumble',\n",
              "  'South Park: Post Covid: The Return of Covid',\n",
              "  'Spider-Man: No Way Home',\n",
              "  'Nightmare Alley',\n",
              "  'The Lost Daughter',\n",
              "  'Swan Song',\n",
              "  'The Tender Bar',\n",
              "  'Mother/Android',\n",
              "  'Fortress',\n",
              "  'Sing 2',\n",
              "  'The Matrix Resurrections',\n",
              "  \"The King's Man\",\n",
              "  'The Tragedy of Macbeth',\n",
              "  'A Journal for Jordan',\n",
              "  'American Underdog',\n",
              "  'Memoria'])"
            ]
          },
          "metadata": {},
          "execution_count": 47
        }
      ]
    },
    {
      "cell_type": "code",
      "source": [
        "from tqdm import tqdm\n",
        "all_movie_links = []\n",
        "all_movie_titles = []\n",
        "for url in tqdm(movie_page_links):\n",
        "  movie_links_by_year, all_titles = get_movie_urls(url)\n",
        "  all_movie_links.extend(movie_links_by_year)\n",
        "  all_movie_titles.extend(all_titles)\n",
        "\n",
        "print(\"\\n Total number of movie links\", len(all_movie_links))\n",
        "print(\"\\n Total number of movie titles\", len(all_movie_titles))"
      ],
      "metadata": {
        "colab": {
          "base_uri": "https://localhost:8080/"
        },
        "id": "HVEjR_22d9h2",
        "outputId": "9488c5db-ac13-41c3-a50f-dd698ee2f1af"
      },
      "execution_count": null,
      "outputs": [
        {
          "output_type": "stream",
          "name": "stderr",
          "text": [
            "100%|██████████| 17/17 [00:12<00:00,  1.36it/s]"
          ]
        },
        {
          "output_type": "stream",
          "name": "stdout",
          "text": [
            "\n",
            " Total number of movie links 4037\n",
            "\n",
            " Total number of movie titles 4037\n"
          ]
        },
        {
          "output_type": "stream",
          "name": "stderr",
          "text": [
            "\n"
          ]
        }
      ]
    },
    {
      "cell_type": "code",
      "source": [
        "def getdata(movie_url):\n",
        "  try:\n",
        "    html_movie = urlopen(movie_url)\n",
        "    soup_movie = BeautifulSoup(movie, 'lxml')\n",
        "    h2 = soup_movie.find(id = \"Plot\").find_parent('h2')\n",
        "    para  = h2.find_next_sibling()\n",
        "\n",
        "    plot = \"\"\n",
        "    while para.name == \"p\":\n",
        "      plot = plot + para.text + \"\\n\"\n",
        "      para = para.find_next_sibling()\n",
        "\n",
        "    if plot!=\"\":\n",
        "      return plot\n",
        "    else:\n",
        "      None\n",
        "  except:\n",
        "    return None\n",
        "\n",
        "final_data = []\n",
        "for movieurl, moviename in tqdm(zip(all_movie_links,all_movie_titles)):\n",
        "  plot = getdata(movieurl)\n",
        "  if plot is not None:\n",
        "    final_data.append([moviename, movieurl, plot])\n",
        "\n",
        "print(len(final_data))"
      ],
      "metadata": {
        "colab": {
          "base_uri": "https://localhost:8080/"
        },
        "id": "EH_VCJuLfN7x",
        "outputId": "ef96efb5-b61c-4487-a509-820e99459235"
      },
      "execution_count": null,
      "outputs": [
        {
          "output_type": "stream",
          "name": "stderr",
          "text": [
            "4037it [06:42, 10.03it/s]"
          ]
        },
        {
          "output_type": "stream",
          "name": "stdout",
          "text": [
            "0\n"
          ]
        },
        {
          "output_type": "stream",
          "name": "stderr",
          "text": [
            "\n"
          ]
        }
      ]
    },
    {
      "cell_type": "code",
      "source": [
        "print(final_data[0])"
      ],
      "metadata": {
        "colab": {
          "base_uri": "https://localhost:8080/",
          "height": 144
        },
        "id": "7jC391utsw6I",
        "outputId": "c09dd30a-26ac-4b9b-ae2b-dab7ae86c040"
      },
      "execution_count": null,
      "outputs": [
        {
          "output_type": "error",
          "ename": "IndexError",
          "evalue": "list index out of range",
          "traceback": [
            "\u001b[0;31m---------------------------------------------------------------------------\u001b[0m",
            "\u001b[0;31mIndexError\u001b[0m                                Traceback (most recent call last)",
            "\u001b[0;32m<ipython-input-50-a14b6a1bf84e>\u001b[0m in \u001b[0;36m<cell line: 1>\u001b[0;34m()\u001b[0m\n\u001b[0;32m----> 1\u001b[0;31m \u001b[0mprint\u001b[0m\u001b[0;34m(\u001b[0m\u001b[0mfinal_data\u001b[0m\u001b[0;34m[\u001b[0m\u001b[0;36m0\u001b[0m\u001b[0;34m]\u001b[0m\u001b[0;34m)\u001b[0m\u001b[0;34m\u001b[0m\u001b[0;34m\u001b[0m\u001b[0m\n\u001b[0m",
            "\u001b[0;31mIndexError\u001b[0m: list index out of range"
          ]
        }
      ]
    },
    {
      "cell_type": "code",
      "source": [
        "from bs4 import BeautifulSoup\n",
        "from urllib.request import urlopen\n",
        "from tqdm import tqdm\n",
        "\n",
        "def getdata(movie_url):\n",
        "    try:\n",
        "        html_movie = urlopen(movie_url)\n",
        "        soup_movie = BeautifulSoup(html_movie, 'lxml')\n",
        "        h2 = soup_movie.find(id=\"Plot\").find_parent('h2')\n",
        "        para = h2.find_next_sibling()\n",
        "\n",
        "        plot = \"\"\n",
        "        while para and para.name == \"p\":\n",
        "            plot += para.text + \"\\n\"\n",
        "            para = para.find_next_sibling()\n",
        "\n",
        "        return plot if plot else None\n",
        "    except Exception as e:\n",
        "        print(f\"Error processing {movie_url}: {e}\")\n",
        "        return None\n",
        "\n",
        "def get_movie_urls(url):\n",
        "    try:\n",
        "        html = urlopen(url)\n",
        "        soup = BeautifulSoup(html, 'lxml')\n",
        "        movie_urls_each_year = []\n",
        "        titles = []\n",
        "        tables = soup.findAll('table', class_=\"wikitable\")\n",
        "\n",
        "        for table in tables:\n",
        "            all_headers = [th.text.replace(\"\\n\", \"\") for th in table.find_all('th')]\n",
        "            if \"Title\" in all_headers and \"Production company\" in all_headers:\n",
        "                rows = table.tbody.find_all(\"tr\")\n",
        "                for row in rows[1:]:\n",
        "                    try:\n",
        "                        title = row.find_all('i')[0].a\n",
        "                        link = \"https://en.wikipedia.org\" + title['href']\n",
        "                        movie_title = title.text\n",
        "                        movie_urls_each_year.append(link)\n",
        "                        titles.append(movie_title)\n",
        "                    except Exception as e:\n",
        "                        print(f\"Error processing row in table: {e}\")\n",
        "                        pass\n",
        "\n",
        "        return movie_urls_each_year, titles\n",
        "    except Exception as e:\n",
        "        print(f\"Error processing {url}: {e}\")\n",
        "        return [], []\n",
        "\n",
        "all_movie_links = []\n",
        "all_movie_titles = []\n",
        "\n",
        "for url in tqdm(movie_page_links):\n",
        "    movie_links_by_year, all_titles = get_movie_urls(url)\n",
        "    all_movie_links.extend(movie_links_by_year)\n",
        "    all_movie_titles.extend(all_titles)\n",
        "\n",
        "print(\"\\nTotal number of movie links:\", len(all_movie_links))\n",
        "print(\"\\nTotal number of movie titles:\", len(all_movie_titles))\n",
        "\n",
        "final_data = []\n",
        "for movieurl, moviename in tqdm(zip(all_movie_links, all_movie_titles)):\n",
        "    plot = getdata(movieurl)\n",
        "    if plot is not None:\n",
        "        final_data.append([moviename, movieurl, plot])\n",
        "\n",
        "print(len(final_data))"
      ],
      "metadata": {
        "colab": {
          "base_uri": "https://localhost:8080/"
        },
        "id": "0ne25pAdv94I",
        "outputId": "55f62469-74e7-44d3-d8e4-0a7549092f79"
      },
      "execution_count": null,
      "outputs": [
        {
          "metadata": {
            "tags": null
          },
          "name": "stderr",
          "output_type": "stream",
          "text": [
            " 18%|█▊        | 3/17 [00:01<00:08,  1.60it/s]"
          ]
        },
        {
          "metadata": {
            "tags": null
          },
          "name": "stdout",
          "output_type": "stream",
          "text": [
            "Error processing row in table: 'NoneType' object is not subscriptable\n"
          ]
        },
        {
          "metadata": {
            "tags": null
          },
          "name": "stderr",
          "output_type": "stream",
          "text": [
            "\r 24%|██▎       | 4/17 [00:02<00:08,  1.47it/s]"
          ]
        },
        {
          "metadata": {
            "tags": null
          },
          "name": "stdout",
          "output_type": "stream",
          "text": [
            "Error processing row in table: 'NoneType' object is not subscriptable\n",
            "Error processing row in table: 'NoneType' object is not subscriptable\n"
          ]
        },
        {
          "metadata": {
            "tags": null
          },
          "name": "stderr",
          "output_type": "stream",
          "text": [
            "\r 29%|██▉       | 5/17 [00:03<00:08,  1.41it/s]"
          ]
        },
        {
          "metadata": {
            "tags": null
          },
          "name": "stdout",
          "output_type": "stream",
          "text": [
            "Error processing row in table: 'NoneType' object is not subscriptable\n",
            "Error processing row in table: 'NoneType' object is not subscriptable\n",
            "Error processing row in table: 'NoneType' object is not subscriptable\n",
            "Error processing row in table: 'NoneType' object is not subscriptable\n",
            "Error processing row in table: 'NoneType' object is not subscriptable\n",
            "Error processing row in table: 'NoneType' object is not subscriptable\n",
            "Error processing row in table: list index out of range\n",
            "Error processing row in table: 'NoneType' object is not subscriptable\n",
            "Error processing row in table: 'NoneType' object is not subscriptable\n",
            "Error processing row in table: 'NoneType' object is not subscriptable\n",
            "Error processing row in table: 'NoneType' object is not subscriptable\n"
          ]
        },
        {
          "metadata": {
            "tags": null
          },
          "name": "stderr",
          "output_type": "stream",
          "text": [
            "\r 35%|███▌      | 6/17 [00:03<00:07,  1.54it/s]"
          ]
        },
        {
          "metadata": {
            "tags": null
          },
          "name": "stdout",
          "output_type": "stream",
          "text": [
            "Error processing row in table: 'NoneType' object is not subscriptable\n",
            "Error processing row in table: 'NoneType' object is not subscriptable\n"
          ]
        },
        {
          "metadata": {
            "tags": null
          },
          "name": "stderr",
          "output_type": "stream",
          "text": [
            " 59%|█████▉    | 10/17 [00:07<00:04,  1.40it/s]"
          ]
        },
        {
          "metadata": {
            "tags": null
          },
          "name": "stdout",
          "output_type": "stream",
          "text": [
            "Error processing row in table: 'NoneType' object is not subscriptable\n",
            "Error processing row in table: 'NoneType' object is not subscriptable\n",
            "Error processing row in table: 'NoneType' object is not subscriptable\n",
            "Error processing row in table: 'NoneType' object is not subscriptable\n"
          ]
        },
        {
          "metadata": {
            "tags": null
          },
          "name": "stderr",
          "output_type": "stream",
          "text": [
            "\r 65%|██████▍   | 11/17 [00:07<00:04,  1.39it/s]"
          ]
        },
        {
          "metadata": {
            "tags": null
          },
          "name": "stdout",
          "output_type": "stream",
          "text": [
            "Error processing row in table: 'NoneType' object is not subscriptable\n",
            "Error processing row in table: 'NoneType' object is not subscriptable\n",
            "Error processing row in table: 'NoneType' object is not subscriptable\n",
            "Error processing row in table: 'NoneType' object is not subscriptable\n",
            "Error processing row in table: 'NoneType' object is not subscriptable\n",
            "Error processing row in table: 'NoneType' object is not subscriptable\n",
            "Error processing row in table: 'NoneType' object is not subscriptable\n",
            "Error processing row in table: 'NoneType' object is not subscriptable\n"
          ]
        },
        {
          "metadata": {
            "tags": null
          },
          "name": "stderr",
          "output_type": "stream",
          "text": [
            "\r 71%|███████   | 12/17 [00:08<00:03,  1.56it/s]"
          ]
        },
        {
          "metadata": {
            "tags": null
          },
          "name": "stdout",
          "output_type": "stream",
          "text": [
            "Error processing row in table: 'NoneType' object is not subscriptable\n",
            "Error processing row in table: 'NoneType' object is not subscriptable\n",
            "Error processing row in table: 'NoneType' object is not subscriptable\n"
          ]
        },
        {
          "metadata": {
            "tags": null
          },
          "name": "stderr",
          "output_type": "stream",
          "text": [
            "100%|██████████| 17/17 [00:12<00:00,  1.32it/s]\n"
          ]
        },
        {
          "metadata": {
            "tags": null
          },
          "name": "stdout",
          "output_type": "stream",
          "text": [
            "Error processing row in table: 'NoneType' object is not subscriptable\n",
            "Error processing row in table: 'NoneType' object is not subscriptable\n",
            "Error processing row in table: 'NoneType' object is not subscriptable\n",
            "Error processing row in table: 'NoneType' object is not subscriptable\n",
            "Error processing row in table: 'NoneType' object is not subscriptable\n",
            "Error processing row in table: 'NoneType' object is not subscriptable\n",
            "Error processing row in table: 'NoneType' object is not subscriptable\n",
            "Error processing row in table: 'NoneType' object is not subscriptable\n",
            "Error processing row in table: 'NoneType' object is not subscriptable\n",
            "Error processing row in table: 'NoneType' object is not subscriptable\n",
            "\n",
            "Total number of movie links: 4037\n",
            "\n",
            "Total number of movie titles: 4037\n"
          ]
        },
        {
          "metadata": {
            "tags": null
          },
          "name": "stderr",
          "output_type": "stream",
          "text": [
            "17it [00:04,  3.85it/s]"
          ]
        },
        {
          "metadata": {
            "tags": null
          },
          "name": "stdout",
          "output_type": "stream",
          "text": [
            "Error processing https://en.wikipedia.org/wiki/Lackawanna_Blues_(film): 'NoneType' object has no attribute 'find_parent'\n"
          ]
        },
        {
          "metadata": {
            "tags": null
          },
          "name": "stderr",
          "output_type": "stream",
          "text": [
            "40it [00:10,  3.68it/s]"
          ]
        },
        {
          "metadata": {
            "tags": null
          },
          "name": "stdout",
          "output_type": "stream",
          "text": [
            "Error processing https://en.wikipedia.org/wiki/State_Property_2: 'NoneType' object has no attribute 'find_parent'\n"
          ]
        },
        {
          "metadata": {
            "tags": null
          },
          "name": "stderr",
          "output_type": "stream",
          "text": [
            "55it [00:14,  3.79it/s]"
          ]
        },
        {
          "metadata": {
            "tags": null
          },
          "name": "stdout",
          "output_type": "stream",
          "text": [
            "Error processing https://en.wikipedia.org/wiki/Mad_Hot_Ballroom: 'NoneType' object has no attribute 'find_parent'\n"
          ]
        },
        {
          "metadata": {
            "tags": null
          },
          "name": "stderr",
          "output_type": "stream",
          "text": [
            "87it [00:24,  3.04it/s]"
          ]
        },
        {
          "metadata": {
            "tags": null
          },
          "name": "stdout",
          "output_type": "stream",
          "text": [
            "Error processing https://en.wikipedia.org/wiki/March_of_the_Penguins: 'NoneType' object has no attribute 'find_parent'\n"
          ]
        },
        {
          "metadata": {
            "tags": null
          },
          "name": "stderr",
          "output_type": "stream",
          "text": [
            "99it [00:27,  3.65it/s]"
          ]
        },
        {
          "metadata": {
            "tags": null
          },
          "name": "stdout",
          "output_type": "stream",
          "text": [
            "Error processing https://en.wikipedia.org/wiki/Supercross_(film): 'NoneType' object has no attribute 'find_parent'\n"
          ]
        },
        {
          "metadata": {
            "tags": null
          },
          "name": "stderr",
          "output_type": "stream",
          "text": [
            "155it [00:43,  3.22it/s]"
          ]
        },
        {
          "metadata": {
            "tags": null
          },
          "name": "stdout",
          "output_type": "stream",
          "text": [
            "Error processing https://en.wikipedia.org/wiki/Fuck_(2005_film): 'NoneType' object has no attribute 'find_parent'\n"
          ]
        },
        {
          "metadata": {
            "tags": null
          },
          "name": "stderr",
          "output_type": "stream",
          "text": [
            "231it [01:05,  3.53it/s]"
          ]
        },
        {
          "metadata": {
            "tags": null
          },
          "name": "stdout",
          "output_type": "stream",
          "text": [
            "Error processing https://en.wikipedia.org/wiki/The_Secret_(2006_film): 'NoneType' object has no attribute 'find_parent'\n"
          ]
        },
        {
          "metadata": {
            "tags": null
          },
          "name": "stderr",
          "output_type": "stream",
          "text": [
            "233it [01:06,  3.38it/s]"
          ]
        },
        {
          "metadata": {
            "tags": null
          },
          "name": "stdout",
          "output_type": "stream",
          "text": [
            "Error processing https://en.wikipedia.org/wiki/Unidentified_(2006_film): 'NoneType' object has no attribute 'find_parent'\n"
          ]
        },
        {
          "metadata": {
            "tags": null
          },
          "name": "stderr",
          "output_type": "stream",
          "text": [
            "309it [01:28,  4.28it/s]"
          ]
        },
        {
          "metadata": {
            "tags": null
          },
          "name": "stdout",
          "output_type": "stream",
          "text": [
            "Error processing https://en.wikipedia.org/wiki/Idlewild_(film): 'NoneType' object has no attribute 'find_parent'\n"
          ]
        },
        {
          "metadata": {
            "tags": null
          },
          "name": "stderr",
          "output_type": "stream",
          "text": [
            "326it [01:33,  3.87it/s]"
          ]
        },
        {
          "metadata": {
            "tags": null
          },
          "name": "stdout",
          "output_type": "stream",
          "text": [
            "Error processing https://en.wikipedia.org/wiki/Jackass_Number_Two: 'NoneType' object has no attribute 'find_parent'\n"
          ]
        },
        {
          "metadata": {
            "tags": null
          },
          "name": "stderr",
          "output_type": "stream",
          "text": [
            "351it [01:39,  4.02it/s]"
          ]
        },
        {
          "metadata": {
            "tags": null
          },
          "name": "stdout",
          "output_type": "stream",
          "text": [
            "Error processing https://en.wikipedia.org/wiki/Dirty_Sanchez_(TV_series)#Dirty_Sanchez:_The_Movie: 'NoneType' object has no attribute 'find_parent'\n"
          ]
        },
        {
          "metadata": {
            "tags": null
          },
          "name": "stderr",
          "output_type": "stream",
          "text": [
            "\r352it [01:40,  3.24it/s]"
          ]
        },
        {
          "metadata": {
            "tags": null
          },
          "name": "stdout",
          "output_type": "stream",
          "text": [
            "Error processing https://en.wikipedia.org/wiki/Dixie_Chicks:_Shut_Up_and_Sing: 'NoneType' object has no attribute 'find_parent'\n"
          ]
        },
        {
          "metadata": {
            "tags": null
          },
          "name": "stderr",
          "output_type": "stream",
          "text": [
            "362it [01:43,  3.57it/s]"
          ]
        },
        {
          "metadata": {
            "tags": null
          },
          "name": "stdout",
          "output_type": "stream",
          "text": [
            "Error processing https://en.wikipedia.org/wiki/Come_Early_Morning: 'NoneType' object has no attribute 'find_parent'\n"
          ]
        },
        {
          "metadata": {
            "tags": null
          },
          "name": "stderr",
          "output_type": "stream",
          "text": [
            "367it [01:44,  4.08it/s]"
          ]
        },
        {
          "metadata": {
            "tags": null
          },
          "name": "stdout",
          "output_type": "stream",
          "text": [
            "Error processing https://en.wikipedia.org/wiki/Bobby_(2006_film): 'NoneType' object has no attribute 'find_parent'\n"
          ]
        },
        {
          "metadata": {
            "tags": null
          },
          "name": "stderr",
          "output_type": "stream",
          "text": [
            "427it [02:01,  4.19it/s]"
          ]
        },
        {
          "metadata": {
            "tags": null
          },
          "name": "stdout",
          "output_type": "stream",
          "text": [
            "Error processing https://en.wikipedia.org/wiki/The_Situation_(film): 'NoneType' object has no attribute 'find_parent'\n"
          ]
        },
        {
          "metadata": {
            "tags": null
          },
          "name": "stderr",
          "output_type": "stream",
          "text": [
            "449it [02:07,  3.97it/s]"
          ]
        },
        {
          "metadata": {
            "tags": null
          },
          "name": "stdout",
          "output_type": "stream",
          "text": [
            "Error processing https://en.wikipedia.org/wiki/1_More_Hit: 'NoneType' object has no attribute 'find_parent'\n"
          ]
        },
        {
          "metadata": {
            "tags": null
          },
          "name": "stderr",
          "output_type": "stream",
          "text": [
            "466it [02:12,  3.19it/s]"
          ]
        },
        {
          "metadata": {
            "tags": null
          },
          "name": "stdout",
          "output_type": "stream",
          "text": [
            "Error processing https://en.wikipedia.org/wiki/Grindhouse_(film): 'NoneType' object has no attribute 'find_parent'\n"
          ]
        },
        {
          "metadata": {
            "tags": null
          },
          "name": "stderr",
          "output_type": "stream",
          "text": [
            "468it [02:12,  3.95it/s]"
          ]
        },
        {
          "metadata": {
            "tags": null
          },
          "name": "stdout",
          "output_type": "stream",
          "text": [
            "Error processing https://en.wikipedia.org/wiki/The_TV_Set: 'NoneType' object has no attribute 'find_parent'\n"
          ]
        },
        {
          "metadata": {
            "tags": null
          },
          "name": "stderr",
          "output_type": "stream",
          "text": [
            "498it [02:19,  4.31it/s]"
          ]
        },
        {
          "metadata": {
            "tags": null
          },
          "name": "stdout",
          "output_type": "stream",
          "text": [
            "Error processing https://en.wikipedia.org/wiki/ShowBusiness:_The_Road_to_Broadway: 'NoneType' object has no attribute 'find_parent'\n"
          ]
        },
        {
          "metadata": {
            "tags": null
          },
          "name": "stderr",
          "output_type": "stream",
          "text": [
            "512it [02:24,  3.92it/s]"
          ]
        },
        {
          "metadata": {
            "tags": null
          },
          "name": "stdout",
          "output_type": "stream",
          "text": [
            "Error processing https://en.wikipedia.org/wiki/Pierrepoint_(film): 'NoneType' object has no attribute 'find_parent'\n"
          ]
        },
        {
          "metadata": {
            "tags": null
          },
          "name": "stderr",
          "output_type": "stream",
          "text": [
            "529it [02:29,  2.89it/s]"
          ]
        },
        {
          "metadata": {
            "tags": null
          },
          "name": "stdout",
          "output_type": "stream",
          "text": [
            "Error processing https://en.wikipedia.org/wiki/Sicko: 'NoneType' object has no attribute 'find_parent'\n"
          ]
        },
        {
          "metadata": {
            "tags": null
          },
          "name": "stderr",
          "output_type": "stream",
          "text": [
            "545it [02:33,  3.67it/s]"
          ]
        },
        {
          "metadata": {
            "tags": null
          },
          "name": "stdout",
          "output_type": "stream",
          "text": [
            "Error processing https://en.wikipedia.org/wiki/Arctic_Tale: 'NoneType' object has no attribute 'find_parent'\n"
          ]
        },
        {
          "metadata": {
            "tags": null
          },
          "name": "stderr",
          "output_type": "stream",
          "text": [
            "563it [02:39,  4.12it/s]"
          ]
        },
        {
          "metadata": {
            "tags": null
          },
          "name": "stdout",
          "output_type": "stream",
          "text": [
            "Error processing https://en.wikipedia.org/wiki/The_11th_Hour_(2007_film): 'NoneType' object has no attribute 'find_parent'\n"
          ]
        },
        {
          "metadata": {
            "tags": null
          },
          "name": "stderr",
          "output_type": "stream",
          "text": [
            "570it [02:40,  4.66it/s]"
          ]
        },
        {
          "metadata": {
            "tags": null
          },
          "name": "stdout",
          "output_type": "stream",
          "text": [
            "Error processing https://en.wikipedia.org/wiki/The_Hottest_State: 'NoneType' object has no attribute 'find_parent'\n"
          ]
        },
        {
          "metadata": {
            "tags": null
          },
          "name": "stderr",
          "output_type": "stream",
          "text": [
            "594it [02:47,  3.84it/s]"
          ]
        },
        {
          "metadata": {
            "tags": null
          },
          "name": "stdout",
          "output_type": "stream",
          "text": [
            "Error processing https://en.wikipedia.org/wiki/Sambar_Salsa: 'NoneType' object has no attribute 'find_parent'\n"
          ]
        },
        {
          "metadata": {
            "tags": null
          },
          "name": "stderr",
          "output_type": "stream",
          "text": [
            "632it [02:57,  3.22it/s]"
          ]
        },
        {
          "metadata": {
            "tags": null
          },
          "name": "stdout",
          "output_type": "stream",
          "text": [
            "Error processing https://en.wikipedia.org/wiki/Southland_Tales: 'NoneType' object has no attribute 'find_parent'\n"
          ]
        },
        {
          "metadata": {
            "tags": null
          },
          "name": "stderr",
          "output_type": "stream",
          "text": [
            "646it [03:01,  3.53it/s]"
          ]
        },
        {
          "metadata": {
            "tags": null
          },
          "name": "stdout",
          "output_type": "stream",
          "text": [
            "Error processing https://en.wikipedia.org/wiki/Tony_n%27_Tina%27s_Wedding#Film_adaptation: 'NoneType' object has no attribute 'find_parent'\n"
          ]
        },
        {
          "metadata": {
            "tags": null
          },
          "name": "stderr",
          "output_type": "stream",
          "text": [
            "671it [03:09,  3.22it/s]"
          ]
        },
        {
          "metadata": {
            "tags": null
          },
          "name": "stdout",
          "output_type": "stream",
          "text": [
            "Error processing https://en.wikipedia.org/wiki/The_Killing_of_John_Lennon: 'NoneType' object has no attribute 'find_parent'\n"
          ]
        },
        {
          "metadata": {
            "tags": null
          },
          "name": "stderr",
          "output_type": "stream",
          "text": [
            "675it [03:10,  4.49it/s]"
          ]
        },
        {
          "metadata": {
            "tags": null
          },
          "name": "stdout",
          "output_type": "stream",
          "text": [
            "Error processing https://en.wikipedia.org/wiki/The_Business_of_Being_Born: 'NoneType' object has no attribute 'find_parent'\n"
          ]
        },
        {
          "metadata": {
            "tags": null
          },
          "name": "stderr",
          "output_type": "stream",
          "text": [
            "689it [03:14,  3.06it/s]"
          ]
        },
        {
          "metadata": {
            "tags": null
          },
          "name": "stdout",
          "output_type": "stream",
          "text": [
            "Error processing https://en.wikipedia.org/wiki/Hannah_Montana_and_Miley_Cyrus:_Best_of_Both_Worlds_Concert: 'NoneType' object has no attribute 'find_parent'\n"
          ]
        },
        {
          "metadata": {
            "tags": null
          },
          "name": "stderr",
          "output_type": "stream",
          "text": [
            "697it [03:16,  4.35it/s]"
          ]
        },
        {
          "metadata": {
            "tags": null
          },
          "name": "stdout",
          "output_type": "stream",
          "text": [
            "Error processing https://en.wikipedia.org/wiki/Wild_West_Comedy_Show:_30_Days_and_30_Nights_%E2%80%93_Hollywood_to_the_Heartland: 'NoneType' object has no attribute 'find_parent'\n"
          ]
        },
        {
          "metadata": {
            "tags": null
          },
          "name": "stderr",
          "output_type": "stream",
          "text": [
            "707it [03:18,  3.11it/s]"
          ]
        },
        {
          "metadata": {
            "tags": null
          },
          "name": "stdout",
          "output_type": "stream",
          "text": [
            "Error processing https://en.wikipedia.org/wiki/U2_3D: 'NoneType' object has no attribute 'find_parent'\n"
          ]
        },
        {
          "metadata": {
            "tags": null
          },
          "name": "stderr",
          "output_type": "stream",
          "text": [
            "745it [03:28,  3.76it/s]"
          ]
        },
        {
          "metadata": {
            "tags": null
          },
          "name": "stdout",
          "output_type": "stream",
          "text": [
            "Error processing https://en.wikipedia.org/wiki/Shine_a_Light_(film): 'NoneType' object has no attribute 'find_parent'\n"
          ]
        },
        {
          "metadata": {
            "tags": null
          },
          "name": "stderr",
          "output_type": "stream",
          "text": [
            "752it [03:30,  3.58it/s]"
          ]
        },
        {
          "metadata": {
            "tags": null
          },
          "name": "stdout",
          "output_type": "stream",
          "text": [
            "Error processing https://en.wikipedia.org/wiki/Expelled:_No_Intelligence_Allowed: 'NoneType' object has no attribute 'find_parent'\n"
          ]
        },
        {
          "metadata": {
            "tags": null
          },
          "name": "stderr",
          "output_type": "stream",
          "text": [
            "757it [03:31,  4.08it/s]"
          ]
        },
        {
          "metadata": {
            "tags": null
          },
          "name": "stdout",
          "output_type": "stream",
          "text": [
            "Error processing https://en.wikipedia.org/wiki/Where_in_the_World_Is_Osama_bin_Laden%3F: 'NoneType' object has no attribute 'find_parent'\n",
            "Error processing https://en.wikipedia.org/wiki/Young@Heart_(film): 'NoneType' object has no attribute 'find_parent'\n"
          ]
        },
        {
          "metadata": {
            "tags": null
          },
          "name": "stderr",
          "output_type": "stream",
          "text": [
            "765it [03:33,  4.46it/s]"
          ]
        },
        {
          "metadata": {
            "tags": null
          },
          "name": "stdout",
          "output_type": "stream",
          "text": [
            "Error processing https://en.wikipedia.org/wiki/Standard_Operating_Procedure_(film): 'NoneType' object has no attribute 'find_parent'\n"
          ]
        },
        {
          "metadata": {
            "tags": null
          },
          "name": "stderr",
          "output_type": "stream",
          "text": [
            "778it [03:36,  4.13it/s]"
          ]
        },
        {
          "metadata": {
            "tags": null
          },
          "name": "stdout",
          "output_type": "stream",
          "text": [
            "Error processing https://en.wikipedia.org/wiki/How_the_Garcia_Girls_Spent_Their_Summer: 'NoneType' object has no attribute 'find_parent'\n",
            "Error processing https://en.wikipedia.org/wiki/The_Flock_(film): 'NoneType' object has no attribute 'find_parent'\n"
          ]
        },
        {
          "metadata": {
            "tags": null
          },
          "name": "stderr",
          "output_type": "stream",
          "text": [
            "791it [03:41,  3.42it/s]"
          ]
        },
        {
          "metadata": {
            "tags": null
          },
          "name": "stdout",
          "output_type": "stream",
          "text": [
            "Error processing https://en.wikipedia.org/wiki/Encounters_at_the_End_of_the_World: 'NoneType' object has no attribute 'find_parent'\n"
          ]
        },
        {
          "metadata": {
            "tags": null
          },
          "name": "stderr",
          "output_type": "stream",
          "text": [
            "\r792it [03:41,  2.79it/s]"
          ]
        },
        {
          "metadata": {
            "tags": null
          },
          "name": "stdout",
          "output_type": "stream",
          "text": [
            "Error processing https://en.wikipedia.org/wiki/The_Children_of_Huang_Shi: 'NoneType' object has no attribute 'find_parent'\n"
          ]
        },
        {
          "metadata": {
            "tags": null
          },
          "name": "stderr",
          "output_type": "stream",
          "text": [
            "806it [03:45,  3.73it/s]"
          ]
        },
        {
          "metadata": {
            "tags": null
          },
          "name": "stdout",
          "output_type": "stream",
          "text": [
            "Error processing https://en.wikipedia.org/wiki/Garden_Party_(2008_film): 'NoneType' object has no attribute 'find_parent'\n"
          ]
        },
        {
          "metadata": {
            "tags": null
          },
          "name": "stderr",
          "output_type": "stream",
          "text": [
            "811it [03:47,  3.87it/s]"
          ]
        },
        {
          "metadata": {
            "tags": null
          },
          "name": "stdout",
          "output_type": "stream",
          "text": [
            "Error processing https://en.wikipedia.org/wiki/Roman_Polanski:_Wanted_and_Desired: 'NoneType' object has no attribute 'find_parent'\n"
          ]
        },
        {
          "metadata": {
            "tags": null
          },
          "name": "stderr",
          "output_type": "stream",
          "text": [
            "841it [03:56,  3.92it/s]"
          ]
        },
        {
          "metadata": {
            "tags": null
          },
          "name": "stdout",
          "output_type": "stream",
          "text": [
            "Error processing https://en.wikipedia.org/wiki/Trouble_the_Water: 'NoneType' object has no attribute 'find_parent'\n"
          ]
        },
        {
          "metadata": {
            "tags": null
          },
          "name": "stderr",
          "output_type": "stream",
          "text": [
            "850it [03:58,  3.64it/s]"
          ]
        },
        {
          "metadata": {
            "tags": null
          },
          "name": "stdout",
          "output_type": "stream",
          "text": [
            "Error processing https://en.wikipedia.org/wiki/Surfer,_Dude: 'NoneType' object has no attribute 'find_parent'\n"
          ]
        },
        {
          "metadata": {
            "tags": null
          },
          "name": "stderr",
          "output_type": "stream",
          "text": [
            "854it [03:59,  4.45it/s]"
          ]
        },
        {
          "metadata": {
            "tags": null
          },
          "name": "stdout",
          "output_type": "stream",
          "text": [
            "Error processing https://en.wikipedia.org/wiki/Proud_American: 'NoneType' object has no attribute 'find_parent'\n"
          ]
        },
        {
          "metadata": {
            "tags": null
          },
          "name": "stderr",
          "output_type": "stream",
          "text": [
            "856it [03:59,  4.43it/s]"
          ]
        },
        {
          "metadata": {
            "tags": null
          },
          "name": "stdout",
          "output_type": "stream",
          "text": [
            "Error processing https://en.wikipedia.org/wiki/Battle_in_Seattle: 'NoneType' object has no attribute 'find_parent'\n"
          ]
        },
        {
          "metadata": {
            "tags": null
          },
          "name": "stderr",
          "output_type": "stream",
          "text": [
            "884it [04:07,  3.94it/s]"
          ]
        },
        {
          "metadata": {
            "tags": null
          },
          "name": "stdout",
          "output_type": "stream",
          "text": [
            "Error processing https://en.wikipedia.org/wiki/The_Elephant_King: 'NoneType' object has no attribute 'find_parent'\n"
          ]
        },
        {
          "metadata": {
            "tags": null
          },
          "name": "stderr",
          "output_type": "stream",
          "text": [
            "982it [04:35,  3.71it/s]"
          ]
        },
        {
          "metadata": {
            "tags": null
          },
          "name": "stdout",
          "output_type": "stream",
          "text": [
            "Error processing https://en.wikipedia.org/wiki/Anvil!_The_Story_of_Anvil: 'NoneType' object has no attribute 'find_parent'\n"
          ]
        },
        {
          "metadata": {
            "tags": null
          },
          "name": "stderr",
          "output_type": "stream",
          "text": [
            "987it [04:36,  4.78it/s]"
          ]
        },
        {
          "metadata": {
            "tags": null
          },
          "name": "stdout",
          "output_type": "stream",
          "text": [
            "Error processing https://en.wikipedia.org/wiki/Examined_Life: 'NoneType' object has no attribute 'find_parent'\n"
          ]
        },
        {
          "metadata": {
            "tags": null
          },
          "name": "stderr",
          "output_type": "stream",
          "text": [
            "992it [04:37,  4.21it/s]"
          ]
        },
        {
          "metadata": {
            "tags": null
          },
          "name": "stdout",
          "output_type": "stream",
          "text": [
            "Error processing https://en.wikipedia.org/wiki/Play_the_Game_(2009_film): 'NoneType' object has no attribute 'find_parent'\n"
          ]
        },
        {
          "metadata": {
            "tags": null
          },
          "name": "stderr",
          "output_type": "stream",
          "text": [
            "999it [04:39,  3.64it/s]"
          ]
        },
        {
          "metadata": {
            "tags": null
          },
          "name": "stdout",
          "output_type": "stream",
          "text": [
            "Error processing https://en.wikipedia.org/wiki/Brothers_at_War: 'NoneType' object has no attribute 'find_parent'\n"
          ]
        },
        {
          "metadata": {
            "tags": null
          },
          "name": "stderr",
          "output_type": "stream",
          "text": [
            "1007it [04:41,  4.81it/s]"
          ]
        },
        {
          "metadata": {
            "tags": null
          },
          "name": "stdout",
          "output_type": "stream",
          "text": [
            "Error processing https://en.wikipedia.org/wiki/Valentino:_The_Last_Emperor: 'NoneType' object has no attribute 'find_parent'\n"
          ]
        },
        {
          "metadata": {
            "tags": null
          },
          "name": "stderr",
          "output_type": "stream",
          "text": [
            "1009it [04:41,  4.84it/s]"
          ]
        },
        {
          "metadata": {
            "tags": null
          },
          "name": "stdout",
          "output_type": "stream",
          "text": [
            "Error processing https://en.wikipedia.org/wiki/The_Great_Buck_Howard: 'NoneType' object has no attribute 'find_parent'\n"
          ]
        },
        {
          "metadata": {
            "tags": null
          },
          "name": "stderr",
          "output_type": "stream",
          "text": [
            "1012it [04:42,  3.87it/s]"
          ]
        },
        {
          "metadata": {
            "tags": null
          },
          "name": "stdout",
          "output_type": "stream",
          "text": [
            "Error processing https://en.wikipedia.org/wiki/M%C3%A1ncora_(film): 'NoneType' object has no attribute 'find_parent'\n"
          ]
        },
        {
          "metadata": {
            "tags": null
          },
          "name": "stderr",
          "output_type": "stream",
          "text": [
            "1014it [04:42,  4.33it/s]"
          ]
        },
        {
          "metadata": {
            "tags": null
          },
          "name": "stdout",
          "output_type": "stream",
          "text": [
            "Error processing https://en.wikipedia.org/wiki/Super_Capers: 'NoneType' object has no attribute 'find_parent'\n"
          ]
        },
        {
          "metadata": {
            "tags": null
          },
          "name": "stderr",
          "output_type": "stream",
          "text": [
            "1016it [04:43,  4.59it/s]"
          ]
        },
        {
          "metadata": {
            "tags": null
          },
          "name": "stdout",
          "output_type": "stream",
          "text": [
            "Error processing https://en.wikipedia.org/wiki/The_Cross_(2009_film): 'NoneType' object has no attribute 'find_parent'\n"
          ]
        },
        {
          "metadata": {
            "tags": null
          },
          "name": "stderr",
          "output_type": "stream",
          "text": [
            "1020it [04:44,  4.55it/s]"
          ]
        },
        {
          "metadata": {
            "tags": null
          },
          "name": "stdout",
          "output_type": "stream",
          "text": [
            "Error processing https://en.wikipedia.org/wiki/Spinning_into_Butter_(film): 'NoneType' object has no attribute 'find_parent'\n"
          ]
        },
        {
          "metadata": {
            "tags": null
          },
          "name": "stderr",
          "output_type": "stream",
          "text": [
            "1027it [04:46,  3.80it/s]"
          ]
        },
        {
          "metadata": {
            "tags": null
          },
          "name": "stdout",
          "output_type": "stream",
          "text": [
            "Error processing https://en.wikipedia.org/wiki/Gigantic_(film): 'NoneType' object has no attribute 'find_parent'\n"
          ]
        },
        {
          "metadata": {
            "tags": null
          },
          "name": "stderr",
          "output_type": "stream",
          "text": [
            "1032it [04:47,  4.18it/s]"
          ]
        },
        {
          "metadata": {
            "tags": null
          },
          "name": "stdout",
          "output_type": "stream",
          "text": [
            "Error processing https://en.wikipedia.org/wiki/Anvil!_The_Story_of_Anvil: 'NoneType' object has no attribute 'find_parent'\n"
          ]
        },
        {
          "metadata": {
            "tags": null
          },
          "name": "stderr",
          "output_type": "stream",
          "text": [
            "1035it [04:48,  3.73it/s]"
          ]
        },
        {
          "metadata": {
            "tags": null
          },
          "name": "stdout",
          "output_type": "stream",
          "text": [
            "Error processing https://en.wikipedia.org/wiki/In_a_Dream_(film): 'NoneType' object has no attribute 'find_parent'\n"
          ]
        },
        {
          "metadata": {
            "tags": null
          },
          "name": "stderr",
          "output_type": "stream",
          "text": [
            "\r1036it [04:48,  4.01it/s]"
          ]
        },
        {
          "metadata": {
            "tags": null
          },
          "name": "stdout",
          "output_type": "stream",
          "text": [
            "Error processing https://en.wikipedia.org/wiki/The_Mysteries_of_Pittsburgh_(film): 'NoneType' object has no attribute 'find_parent'\n"
          ]
        },
        {
          "metadata": {
            "tags": null
          },
          "name": "stderr",
          "output_type": "stream",
          "text": [
            "1041it [04:49,  4.56it/s]"
          ]
        },
        {
          "metadata": {
            "tags": null
          },
          "name": "stdout",
          "output_type": "stream",
          "text": [
            "Error processing https://en.wikipedia.org/wiki/Every_Little_Step_(film): 'NoneType' object has no attribute 'find_parent'\n"
          ]
        },
        {
          "metadata": {
            "tags": null
          },
          "name": "stderr",
          "output_type": "stream",
          "text": [
            "1056it [04:53,  4.20it/s]"
          ]
        },
        {
          "metadata": {
            "tags": null
          },
          "name": "stdout",
          "output_type": "stream",
          "text": [
            "Error processing https://en.wikipedia.org/wiki/Tyson_(2008_film): 'NoneType' object has no attribute 'find_parent'\n"
          ]
        },
        {
          "metadata": {
            "tags": null
          },
          "name": "stderr",
          "output_type": "stream",
          "text": [
            "1066it [04:55,  4.27it/s]"
          ]
        },
        {
          "metadata": {
            "tags": null
          },
          "name": "stdout",
          "output_type": "stream",
          "text": [
            "Error processing https://en.wikipedia.org/wiki/The_Garden_(2008_film): 'NoneType' object has no attribute 'find_parent'\n"
          ]
        },
        {
          "metadata": {
            "tags": null
          },
          "name": "stderr",
          "output_type": "stream",
          "text": [
            "1071it [04:56,  4.64it/s]"
          ]
        },
        {
          "metadata": {
            "tags": null
          },
          "name": "stdout",
          "output_type": "stream",
          "text": [
            "Error processing https://en.wikipedia.org/wiki/Outrage_(2009_film): 'NoneType' object has no attribute 'find_parent'\n"
          ]
        },
        {
          "metadata": {
            "tags": null
          },
          "name": "stderr",
          "output_type": "stream",
          "text": [
            "\r1072it [04:56,  4.86it/s]"
          ]
        },
        {
          "metadata": {
            "tags": null
          },
          "name": "stdout",
          "output_type": "stream",
          "text": [
            "Error processing https://en.wikipedia.org/wiki/Rudo_y_Cursi: 'NoneType' object has no attribute 'find_parent'\n"
          ]
        },
        {
          "metadata": {
            "tags": null
          },
          "name": "stderr",
          "output_type": "stream",
          "text": [
            "\r1073it [04:57,  2.85it/s]"
          ]
        },
        {
          "metadata": {
            "tags": null
          },
          "name": "stdout",
          "output_type": "stream",
          "text": [
            "Error processing https://en.wikipedia.org/wiki/Star_Trek_(film): 'NoneType' object has no attribute 'find_parent'\n"
          ]
        },
        {
          "metadata": {
            "tags": null
          },
          "name": "stderr",
          "output_type": "stream",
          "text": [
            "1076it [04:58,  3.31it/s]"
          ]
        },
        {
          "metadata": {
            "tags": null
          },
          "name": "stdout",
          "output_type": "stream",
          "text": [
            "Error processing https://en.wikipedia.org/wiki/Jerichow_(film): 'NoneType' object has no attribute 'find_parent'\n"
          ]
        },
        {
          "metadata": {
            "tags": null
          },
          "name": "stderr",
          "output_type": "stream",
          "text": [
            "1080it [04:59,  4.04it/s]"
          ]
        },
        {
          "metadata": {
            "tags": null
          },
          "name": "stdout",
          "output_type": "stream",
          "text": [
            "Error processing https://en.wikipedia.org/wiki/Make_the_Yuletide_Gay: 'NoneType' object has no attribute 'find_parent'\n"
          ]
        },
        {
          "metadata": {
            "tags": null
          },
          "name": "stderr",
          "output_type": "stream",
          "text": [
            "1086it [05:01,  3.83it/s]"
          ]
        },
        {
          "metadata": {
            "tags": null
          },
          "name": "stdout",
          "output_type": "stream",
          "text": [
            "Error processing https://en.wikipedia.org/wiki/The_Girlfriend_Experience: 'NoneType' object has no attribute 'find_parent'\n"
          ]
        },
        {
          "metadata": {
            "tags": null
          },
          "name": "stderr",
          "output_type": "stream",
          "text": [
            "1089it [05:02,  3.85it/s]"
          ]
        },
        {
          "metadata": {
            "tags": null
          },
          "name": "stdout",
          "output_type": "stream",
          "text": [
            "Error processing https://en.wikipedia.org/wiki/Pressure_Cooker_(2008_film): 'NoneType' object has no attribute 'find_parent'\n"
          ]
        },
        {
          "metadata": {
            "tags": null
          },
          "name": "stderr",
          "output_type": "stream",
          "text": [
            "1096it [05:04,  3.71it/s]"
          ]
        },
        {
          "metadata": {
            "tags": null
          },
          "name": "stdout",
          "output_type": "stream",
          "text": [
            "Error processing https://en.wikipedia.org/wiki/Into_the_Storm_(2009_film): 'NoneType' object has no attribute 'find_parent'\n"
          ]
        },
        {
          "metadata": {
            "tags": null
          },
          "name": "stderr",
          "output_type": "stream",
          "text": [
            "1098it [05:04,  4.34it/s]"
          ]
        },
        {
          "metadata": {
            "tags": null
          },
          "name": "stdout",
          "output_type": "stream",
          "text": [
            "Error processing https://en.wikipedia.org/wiki/After_Last_Season: 'NoneType' object has no attribute 'find_parent'\n"
          ]
        },
        {
          "metadata": {
            "tags": null
          },
          "name": "stderr",
          "output_type": "stream",
          "text": [
            "1104it [05:06,  4.17it/s]"
          ]
        },
        {
          "metadata": {
            "tags": null
          },
          "name": "stdout",
          "output_type": "stream",
          "text": [
            "Error processing https://en.wikipedia.org/wiki/Food,_Inc.: 'NoneType' object has no attribute 'find_parent'\n"
          ]
        },
        {
          "metadata": {
            "tags": null
          },
          "name": "stderr",
          "output_type": "stream",
          "text": [
            "1107it [05:07,  4.36it/s]"
          ]
        },
        {
          "metadata": {
            "tags": null
          },
          "name": "stdout",
          "output_type": "stream",
          "text": [
            "Error processing https://en.wikipedia.org/wiki/Sex_Positive: 'NoneType' object has no attribute 'find_parent'\n"
          ]
        },
        {
          "metadata": {
            "tags": null
          },
          "name": "stderr",
          "output_type": "stream",
          "text": [
            "1129it [05:13,  4.00it/s]"
          ]
        },
        {
          "metadata": {
            "tags": null
          },
          "name": "stdout",
          "output_type": "stream",
          "text": [
            "Error processing https://en.wikipedia.org/wiki/Soul_Power_(film): 'NoneType' object has no attribute 'find_parent'\n"
          ]
        },
        {
          "metadata": {
            "tags": null
          },
          "name": "stderr",
          "output_type": "stream",
          "text": [
            "1144it [05:17,  2.96it/s]"
          ]
        },
        {
          "metadata": {
            "tags": null
          },
          "name": "stdout",
          "output_type": "stream",
          "text": [
            "Error processing https://en.wikipedia.org/wiki/The_Cove_(film): 'NoneType' object has no attribute 'find_parent'\n"
          ]
        },
        {
          "metadata": {
            "tags": null
          },
          "name": "stderr",
          "output_type": "stream",
          "text": [
            "1155it [05:20,  3.30it/s]"
          ]
        },
        {
          "metadata": {
            "tags": null
          },
          "name": "stdout",
          "output_type": "stream",
          "text": [
            "Error processing https://en.wikipedia.org/wiki/Earth_Days: 'NoneType' object has no attribute 'find_parent'\n"
          ]
        },
        {
          "metadata": {
            "tags": null
          },
          "name": "stderr",
          "output_type": "stream",
          "text": [
            "1158it [05:21,  3.71it/s]"
          ]
        },
        {
          "metadata": {
            "tags": null
          },
          "name": "stdout",
          "output_type": "stream",
          "text": [
            "Error processing https://en.wikipedia.org/wiki/It_Might_Get_Loud: 'NoneType' object has no attribute 'find_parent'\n"
          ]
        },
        {
          "metadata": {
            "tags": null
          },
          "name": "stderr",
          "output_type": "stream",
          "text": [
            "1163it [05:22,  4.43it/s]"
          ]
        },
        {
          "metadata": {
            "tags": null
          },
          "name": "stdout",
          "output_type": "stream",
          "text": [
            "Error processing https://en.wikipedia.org/wiki/Art_%26_Copy: 'NoneType' object has no attribute 'find_parent'\n"
          ]
        },
        {
          "metadata": {
            "tags": null
          },
          "name": "stderr",
          "output_type": "stream",
          "text": [
            "1171it [05:25,  4.10it/s]"
          ]
        },
        {
          "metadata": {
            "tags": null
          },
          "name": "stdout",
          "output_type": "stream",
          "text": [
            "Error processing https://en.wikipedia.org/wiki/X_Games_3D:_The_Movie: 'NoneType' object has no attribute 'find_parent'\n"
          ]
        },
        {
          "metadata": {
            "tags": null
          },
          "name": "stderr",
          "output_type": "stream",
          "text": [
            "1177it [05:26,  3.98it/s]"
          ]
        },
        {
          "metadata": {
            "tags": null
          },
          "name": "stdout",
          "output_type": "stream",
          "text": [
            "Error processing https://en.wikipedia.org/wiki/The_September_Issue: 'NoneType' object has no attribute 'find_parent'\n"
          ]
        },
        {
          "metadata": {
            "tags": null
          },
          "name": "stderr",
          "output_type": "stream",
          "text": [
            "1179it [05:27,  4.32it/s]"
          ]
        },
        {
          "metadata": {
            "tags": null
          },
          "name": "stdout",
          "output_type": "stream",
          "text": [
            "Error processing https://en.wikipedia.org/wiki/We_Live_in_Public: 'NoneType' object has no attribute 'find_parent'\n"
          ]
        },
        {
          "metadata": {
            "tags": null
          },
          "name": "stderr",
          "output_type": "stream",
          "text": [
            "1181it [05:27,  4.61it/s]"
          ]
        },
        {
          "metadata": {
            "tags": null
          },
          "name": "stdout",
          "output_type": "stream",
          "text": [
            "Error processing https://en.wikipedia.org/wiki/American_Casino_(film): 'NoneType' object has no attribute 'find_parent'\n"
          ]
        },
        {
          "metadata": {
            "tags": null
          },
          "name": "stderr",
          "output_type": "stream",
          "text": [
            "1187it [05:29,  3.91it/s]"
          ]
        },
        {
          "metadata": {
            "tags": null
          },
          "name": "stdout",
          "output_type": "stream",
          "text": [
            "Error processing https://en.wikipedia.org/wiki/Walt_%26_El_Grupo: 'NoneType' object has no attribute 'find_parent'\n"
          ]
        },
        {
          "metadata": {
            "tags": null
          },
          "name": "stderr",
          "output_type": "stream",
          "text": [
            "1189it [05:29,  4.10it/s]"
          ]
        },
        {
          "metadata": {
            "tags": null
          },
          "name": "stdout",
          "output_type": "stream",
          "text": [
            "Error processing https://en.wikipedia.org/wiki/Crude_(2009_film): 'NoneType' object has no attribute 'find_parent'\n"
          ]
        },
        {
          "metadata": {
            "tags": null
          },
          "name": "stderr",
          "output_type": "stream",
          "text": [
            "\r1190it [05:29,  4.25it/s]"
          ]
        },
        {
          "metadata": {
            "tags": null
          },
          "name": "stdout",
          "output_type": "stream",
          "text": [
            "Error processing https://en.wikipedia.org/wiki/Disgrace_(2008_film): 'NoneType' object has no attribute 'find_parent'\n"
          ]
        },
        {
          "metadata": {
            "tags": null
          },
          "name": "stderr",
          "output_type": "stream",
          "text": [
            "1192it [05:30,  4.63it/s]"
          ]
        },
        {
          "metadata": {
            "tags": null
          },
          "name": "stdout",
          "output_type": "stream",
          "text": [
            "Error processing https://en.wikipedia.org/wiki/No_Impact_Man: 'NoneType' object has no attribute 'find_parent'\n"
          ]
        },
        {
          "metadata": {
            "tags": null
          },
          "name": "stderr",
          "output_type": "stream",
          "text": [
            "1203it [05:32,  4.22it/s]"
          ]
        },
        {
          "metadata": {
            "tags": null
          },
          "name": "stdout",
          "output_type": "stream",
          "text": [
            "Error processing https://en.wikipedia.org/wiki/Fuel_(film): 'NoneType' object has no attribute 'find_parent'\n"
          ]
        },
        {
          "metadata": {
            "tags": null
          },
          "name": "stderr",
          "output_type": "stream",
          "text": [
            "1211it [05:34,  4.72it/s]"
          ]
        },
        {
          "metadata": {
            "tags": null
          },
          "name": "stdout",
          "output_type": "stream",
          "text": [
            "Error processing https://en.wikipedia.org/wiki/Blind_Date_(2007_film): 'NoneType' object has no attribute 'find_parent'\n"
          ]
        },
        {
          "metadata": {
            "tags": null
          },
          "name": "stderr",
          "output_type": "stream",
          "text": [
            "1217it [05:36,  4.23it/s]"
          ]
        },
        {
          "metadata": {
            "tags": null
          },
          "name": "stdout",
          "output_type": "stream",
          "text": [
            "Error processing https://en.wikipedia.org/wiki/I_Hope_They_Serve_Beer_in_Hell_(film): 'NoneType' object has no attribute 'find_parent'\n"
          ]
        },
        {
          "metadata": {
            "tags": null
          },
          "name": "stderr",
          "output_type": "stream",
          "text": [
            "1223it [05:38,  2.87it/s]"
          ]
        },
        {
          "metadata": {
            "tags": null
          },
          "name": "stdout",
          "output_type": "stream",
          "text": [
            "Error processing https://en.wikipedia.org/wiki/Capitalism:_A_Love_Story: 'NoneType' object has no attribute 'find_parent'\n"
          ]
        },
        {
          "metadata": {
            "tags": null
          },
          "name": "stderr",
          "output_type": "stream",
          "text": [
            "1237it [05:41,  4.48it/s]"
          ]
        },
        {
          "metadata": {
            "tags": null
          },
          "name": "stdout",
          "output_type": "stream",
          "text": [
            "Error processing https://en.wikipedia.org/wiki/Good_Hair: 'NoneType' object has no attribute 'find_parent'\n"
          ]
        },
        {
          "metadata": {
            "tags": null
          },
          "name": "stderr",
          "output_type": "stream",
          "text": [
            "1240it [05:42,  4.82it/s]"
          ]
        },
        {
          "metadata": {
            "tags": null
          },
          "name": "stdout",
          "output_type": "stream",
          "text": [
            "Error processing https://en.wikipedia.org/wiki/Virginia_Creepers: 'NoneType' object has no attribute 'find_parent'\n"
          ]
        },
        {
          "metadata": {
            "tags": null
          },
          "name": "stderr",
          "output_type": "stream",
          "text": [
            "1245it [05:43,  4.36it/s]"
          ]
        },
        {
          "metadata": {
            "tags": null
          },
          "name": "stdout",
          "output_type": "stream",
          "text": [
            "Error processing https://en.wikipedia.org/wiki/Love_the_Beast: 'NoneType' object has no attribute 'find_parent'\n"
          ]
        },
        {
          "metadata": {
            "tags": null
          },
          "name": "stderr",
          "output_type": "stream",
          "text": [
            "1247it [05:44,  4.72it/s]"
          ]
        },
        {
          "metadata": {
            "tags": null
          },
          "name": "stdout",
          "output_type": "stream",
          "text": [
            "Error processing https://en.wikipedia.org/wiki/The_Maid_(2009_film): 'NoneType' object has no attribute 'find_parent'\n"
          ]
        },
        {
          "metadata": {
            "tags": null
          },
          "name": "stderr",
          "output_type": "stream",
          "text": [
            "\r1248it [05:44,  4.50it/s]"
          ]
        },
        {
          "metadata": {
            "tags": null
          },
          "name": "stdout",
          "output_type": "stream",
          "text": [
            "Error processing https://en.wikipedia.org/wiki/New_York,_I_Love_You: 'NoneType' object has no attribute 'find_parent'\n"
          ]
        },
        {
          "metadata": {
            "tags": null
          },
          "name": "stderr",
          "output_type": "stream",
          "text": [
            "1263it [05:48,  4.36it/s]"
          ]
        },
        {
          "metadata": {
            "tags": null
          },
          "name": "stdout",
          "output_type": "stream",
          "text": [
            "Error processing https://en.wikipedia.org/wiki/The_Yes_Men_Fix_the_World: 'NoneType' object has no attribute 'find_parent'\n"
          ]
        },
        {
          "metadata": {
            "tags": null
          },
          "name": "stderr",
          "output_type": "stream",
          "text": [
            "1266it [05:49,  3.62it/s]"
          ]
        },
        {
          "metadata": {
            "tags": null
          },
          "name": "stdout",
          "output_type": "stream",
          "text": [
            "Error processing https://en.wikipedia.org/wiki/Michael_Jackson%27s_This_Is_It: 'NoneType' object has no attribute 'find_parent'\n"
          ]
        },
        {
          "metadata": {
            "tags": null
          },
          "name": "stderr",
          "output_type": "stream",
          "text": [
            "1280it [05:53,  3.80it/s]"
          ]
        },
        {
          "metadata": {
            "tags": null
          },
          "name": "stdout",
          "output_type": "stream",
          "text": [
            "Error processing https://en.wikipedia.org/wiki/Dare_(film): 'NoneType' object has no attribute 'find_parent'\n"
          ]
        },
        {
          "metadata": {
            "tags": null
          },
          "name": "stderr",
          "output_type": "stream",
          "text": [
            "1289it [05:55,  3.85it/s]"
          ]
        },
        {
          "metadata": {
            "tags": null
          },
          "name": "stdout",
          "output_type": "stream",
          "text": [
            "Error processing https://en.wikipedia.org/wiki/Defamation_(film): 'NoneType' object has no attribute 'find_parent'\n"
          ]
        },
        {
          "metadata": {
            "tags": null
          },
          "name": "stderr",
          "output_type": "stream",
          "text": [
            "1305it [05:59,  4.66it/s]"
          ]
        },
        {
          "metadata": {
            "tags": null
          },
          "name": "stdout",
          "output_type": "stream",
          "text": [
            "Error processing https://en.wikipedia.org/wiki/Transylmania: 'NoneType' object has no attribute 'find_parent'\n",
            "Error processing https://en.wikipedia.org/wiki/Until_the_Light_Takes_Us: 'NoneType' object has no attribute 'find_parent'\n"
          ]
        },
        {
          "metadata": {
            "tags": null
          },
          "name": "stderr",
          "output_type": "stream",
          "text": [
            "1313it [06:02,  3.31it/s]"
          ]
        },
        {
          "metadata": {
            "tags": null
          },
          "name": "stdout",
          "output_type": "stream",
          "text": [
            "Error processing https://en.wikipedia.org/wiki/The_Slammin%27_Salmon: 'NoneType' object has no attribute 'find_parent'\n"
          ]
        },
        {
          "metadata": {
            "tags": null
          },
          "name": "stderr",
          "output_type": "stream",
          "text": [
            "1318it [06:04,  2.83it/s]"
          ]
        },
        {
          "metadata": {
            "tags": null
          },
          "name": "stdout",
          "output_type": "stream",
          "text": [
            "Error processing https://en.wikipedia.org/wiki/Fall_Down_Dead: 'NoneType' object has no attribute 'find_parent'\n"
          ]
        },
        {
          "metadata": {
            "tags": null
          },
          "name": "stderr",
          "output_type": "stream",
          "text": [
            "1331it [06:08,  3.80it/s]"
          ]
        },
        {
          "metadata": {
            "tags": null
          },
          "name": "stdout",
          "output_type": "stream",
          "text": [
            "Error processing https://en.wikipedia.org/wiki/Garbage_Dreams: 'NoneType' object has no attribute 'find_parent'\n",
            "Error processing https://en.wikipedia.org/wiki/Sweetgrass_(film): 'NoneType' object has no attribute 'find_parent'\n"
          ]
        },
        {
          "metadata": {
            "tags": null
          },
          "name": "stderr",
          "output_type": "stream",
          "text": [
            "1337it [06:09,  4.87it/s]"
          ]
        },
        {
          "metadata": {
            "tags": null
          },
          "name": "stdout",
          "output_type": "stream",
          "text": [
            "Error processing https://en.wikipedia.org/wiki/Waiting_for_Armageddon: 'NoneType' object has no attribute 'find_parent'\n"
          ]
        },
        {
          "metadata": {
            "tags": null
          },
          "name": "stderr",
          "output_type": "stream",
          "text": [
            "1343it [06:11,  3.83it/s]"
          ]
        },
        {
          "metadata": {
            "tags": null
          },
          "name": "stdout",
          "output_type": "stream",
          "text": [
            "Error processing https://en.wikipedia.org/wiki/House_of_Numbers:_Anatomy_of_an_Epidemic: 'NoneType' object has no attribute 'find_parent'\n"
          ]
        },
        {
          "metadata": {
            "tags": null
          },
          "name": "stderr",
          "output_type": "stream",
          "text": [
            "1349it [06:12,  4.66it/s]"
          ]
        },
        {
          "metadata": {
            "tags": null
          },
          "name": "stdout",
          "output_type": "stream",
          "text": [
            "Error processing https://en.wikipedia.org/wiki/Soundtrack_for_a_Revolution: 'NoneType' object has no attribute 'find_parent'\n"
          ]
        },
        {
          "metadata": {
            "tags": null
          },
          "name": "stderr",
          "output_type": "stream",
          "text": [
            "1371it [06:18,  2.60it/s]"
          ]
        },
        {
          "metadata": {
            "tags": null
          },
          "name": "stdout",
          "output_type": "stream",
          "text": [
            "Error processing https://en.wikipedia.org/wiki/Celine:_Through_the_Eyes_of_the_World: 'NoneType' object has no attribute 'find_parent'\n"
          ]
        },
        {
          "metadata": {
            "tags": null
          },
          "name": "stderr",
          "output_type": "stream",
          "text": [
            "1380it [06:21,  4.26it/s]"
          ]
        },
        {
          "metadata": {
            "tags": null
          },
          "name": "stdout",
          "output_type": "stream",
          "text": [
            "Error processing https://en.wikipedia.org/wiki/The_Art_of_the_Steal_(2009_film): 'NoneType' object has no attribute 'find_parent'\n"
          ]
        },
        {
          "metadata": {
            "tags": null
          },
          "name": "stderr",
          "output_type": "stream",
          "text": [
            "1401it [06:26,  4.74it/s]"
          ]
        },
        {
          "metadata": {
            "tags": null
          },
          "name": "stdout",
          "output_type": "stream",
          "text": [
            "Error processing https://en.wikipedia.org/wiki/Kimjongilia_(film): 'NoneType' object has no attribute 'find_parent'\n"
          ]
        },
        {
          "metadata": {
            "tags": null
          },
          "name": "stderr",
          "output_type": "stream",
          "text": [
            "1406it [06:27,  3.68it/s]"
          ]
        },
        {
          "metadata": {
            "tags": null
          },
          "name": "stdout",
          "output_type": "stream",
          "text": [
            "Error processing https://en.wikipedia.org/wiki/Waking_Sleeping_Beauty: 'NoneType' object has no attribute 'find_parent'\n"
          ]
        },
        {
          "metadata": {
            "tags": null
          },
          "name": "stderr",
          "output_type": "stream",
          "text": [
            "1416it [06:30,  4.11it/s]"
          ]
        },
        {
          "metadata": {
            "tags": null
          },
          "name": "stdout",
          "output_type": "stream",
          "text": [
            "Error processing https://en.wikipedia.org/wiki/La_Mission_(film): 'NoneType' object has no attribute 'find_parent'\n"
          ]
        },
        {
          "metadata": {
            "tags": null
          },
          "name": "stderr",
          "output_type": "stream",
          "text": [
            "\r1417it [06:30,  3.90it/s]"
          ]
        },
        {
          "metadata": {
            "tags": null
          },
          "name": "stdout",
          "output_type": "stream",
          "text": [
            "Error processing https://en.wikipedia.org/wiki/When_You%27re_Strange: 'NoneType' object has no attribute 'find_parent'\n"
          ]
        },
        {
          "metadata": {
            "tags": null
          },
          "name": "stderr",
          "output_type": "stream",
          "text": [
            "1420it [06:31,  2.95it/s]"
          ]
        },
        {
          "metadata": {
            "tags": null
          },
          "name": "stdout",
          "output_type": "stream",
          "text": [
            "Error processing https://en.wikipedia.org/wiki/The_City_of_Your_Final_Destination: 'NoneType' object has no attribute 'find_parent'\n"
          ]
        },
        {
          "metadata": {
            "tags": null
          },
          "name": "stderr",
          "output_type": "stream",
          "text": [
            "1422it [06:32,  3.56it/s]"
          ]
        },
        {
          "metadata": {
            "tags": null
          },
          "name": "stdout",
          "output_type": "stream",
          "text": [
            "Error processing https://en.wikipedia.org/wiki/Exit_Through_the_Gift_Shop: 'NoneType' object has no attribute 'find_parent'\n"
          ]
        },
        {
          "metadata": {
            "tags": null
          },
          "name": "stderr",
          "output_type": "stream",
          "text": [
            "1428it [06:33,  4.49it/s]"
          ]
        },
        {
          "metadata": {
            "tags": null
          },
          "name": "stdout",
          "output_type": "stream",
          "text": [
            "Error processing https://en.wikipedia.org/wiki/Behind_the_Burly_Q: 'NoneType' object has no attribute 'find_parent'\n"
          ]
        },
        {
          "metadata": {
            "tags": null
          },
          "name": "stderr",
          "output_type": "stream",
          "text": [
            "1430it [06:34,  4.08it/s]"
          ]
        },
        {
          "metadata": {
            "tags": null
          },
          "name": "stdout",
          "output_type": "stream",
          "text": [
            "Error processing https://en.wikipedia.org/wiki/Breath_Made_Visible: 'NoneType' object has no attribute 'find_parent'\n"
          ]
        },
        {
          "metadata": {
            "tags": null
          },
          "name": "stderr",
          "output_type": "stream",
          "text": [
            "1435it [06:35,  4.32it/s]"
          ]
        },
        {
          "metadata": {
            "tags": null
          },
          "name": "stdout",
          "output_type": "stream",
          "text": [
            "Error processing https://en.wikipedia.org/wiki/Freakonomics_(film): 'NoneType' object has no attribute 'find_parent'\n"
          ]
        },
        {
          "metadata": {
            "tags": null
          },
          "name": "stderr",
          "output_type": "stream",
          "text": [
            "1438it [06:36,  4.66it/s]"
          ]
        },
        {
          "metadata": {
            "tags": null
          },
          "name": "stdout",
          "output_type": "stream",
          "text": [
            "Error processing https://en.wikipedia.org/wiki/Please_Give: 'NoneType' object has no attribute 'find_parent'\n"
          ]
        },
        {
          "metadata": {
            "tags": null
          },
          "name": "stderr",
          "output_type": "stream",
          "text": [
            "1440it [06:36,  4.16it/s]"
          ]
        },
        {
          "metadata": {
            "tags": null
          },
          "name": "stdout",
          "output_type": "stream",
          "text": [
            "Error processing https://en.wikipedia.org/wiki/Sex_%26_Drugs_%26_Rock_%26_Roll_(film): 'NoneType' object has no attribute 'find_parent'\n"
          ]
        },
        {
          "metadata": {
            "tags": null
          },
          "name": "stderr",
          "output_type": "stream",
          "text": [
            "1442it [06:37,  3.78it/s]"
          ]
        },
        {
          "metadata": {
            "tags": null
          },
          "name": "stdout",
          "output_type": "stream",
          "text": [
            "Error processing https://en.wikipedia.org/wiki/Babies_(film): 'NoneType' object has no attribute 'find_parent'\n",
            "Error processing https://en.wikipedia.org/wiki/Casino_Jack_and_the_United_States_of_Money: 'NoneType' object has no attribute 'find_parent'"
          ]
        },
        {
          "metadata": {
            "tags": null
          },
          "name": "stderr",
          "output_type": "stream",
          "text": [
            "1444it [06:37,  4.35it/s]"
          ]
        },
        {
          "metadata": {
            "tags": null
          },
          "name": "stdout",
          "output_type": "stream",
          "text": [
            "\n"
          ]
        },
        {
          "metadata": {
            "tags": null
          },
          "name": "stderr",
          "output_type": "stream",
          "text": [
            "1448it [06:38,  4.87it/s]"
          ]
        },
        {
          "metadata": {
            "tags": null
          },
          "name": "stdout",
          "output_type": "stream",
          "text": [
            "Error processing https://en.wikipedia.org/wiki/The_Oath_(2010_film): 'NoneType' object has no attribute 'find_parent'\n"
          ]
        },
        {
          "metadata": {
            "tags": null
          },
          "name": "stderr",
          "output_type": "stream",
          "text": [
            "1465it [06:42,  4.00it/s]"
          ]
        },
        {
          "metadata": {
            "tags": null
          },
          "name": "stdout",
          "output_type": "stream",
          "text": [
            "Error processing https://en.wikipedia.org/wiki/Racing_Dreams: 'NoneType' object has no attribute 'find_parent'\n"
          ]
        },
        {
          "metadata": {
            "tags": null
          },
          "name": "stderr",
          "output_type": "stream",
          "text": [
            "1473it [06:45,  3.50it/s]"
          ]
        },
        {
          "metadata": {
            "tags": null
          },
          "name": "stdout",
          "output_type": "stream",
          "text": [
            "Error processing https://en.wikipedia.org/wiki/The_Special_Relationship_(film): 'NoneType' object has no attribute 'find_parent'\n"
          ]
        },
        {
          "metadata": {
            "tags": null
          },
          "name": "stderr",
          "output_type": "stream",
          "text": [
            "1480it [06:46,  4.29it/s]"
          ]
        },
        {
          "metadata": {
            "tags": null
          },
          "name": "stdout",
          "output_type": "stream",
          "text": [
            "Error processing https://en.wikipedia.org/wiki/Living_in_Emergency: 'NoneType' object has no attribute 'find_parent'\n"
          ]
        },
        {
          "metadata": {
            "tags": null
          },
          "name": "stderr",
          "output_type": "stream",
          "text": [
            "1483it [06:47,  4.75it/s]"
          ]
        },
        {
          "metadata": {
            "tags": null
          },
          "name": "stdout",
          "output_type": "stream",
          "text": [
            "Error processing https://en.wikipedia.org/wiki/Rosencrantz_and_Guildenstern_Are_Undead: 'NoneType' object has no attribute 'find_parent'\n"
          ]
        },
        {
          "metadata": {
            "tags": null
          },
          "name": "stderr",
          "output_type": "stream",
          "text": [
            "1486it [06:48,  4.10it/s]"
          ]
        },
        {
          "metadata": {
            "tags": null
          },
          "name": "stdout",
          "output_type": "stream",
          "text": [
            "Error processing https://en.wikipedia.org/wiki/12th_%26_Delaware: 'NoneType' object has no attribute 'find_parent'\n"
          ]
        },
        {
          "metadata": {
            "tags": null
          },
          "name": "stderr",
          "output_type": "stream",
          "text": [
            "1489it [06:49,  4.02it/s]"
          ]
        },
        {
          "metadata": {
            "tags": null
          },
          "name": "stdout",
          "output_type": "stream",
          "text": [
            "Error processing https://en.wikipedia.org/wiki/Joan_Rivers:_A_Piece_of_Work: 'NoneType' object has no attribute 'find_parent'\n",
            "Error processing https://en.wikipedia.org/wiki/The_Lottery_(2010_film): 'NoneType' object has no attribute 'find_parent'\n"
          ]
        },
        {
          "metadata": {
            "tags": null
          },
          "name": "stderr",
          "output_type": "stream",
          "text": [
            "1493it [06:50,  3.05it/s]"
          ]
        },
        {
          "metadata": {
            "tags": null
          },
          "name": "stdout",
          "output_type": "stream",
          "text": [
            "Error processing https://en.wikipedia.org/wiki/45365: 'NoneType' object has no attribute 'find_parent'\n"
          ]
        },
        {
          "metadata": {
            "tags": null
          },
          "name": "stderr",
          "output_type": "stream",
          "text": [
            "\r1494it [06:50,  3.36it/s]"
          ]
        },
        {
          "metadata": {
            "tags": null
          },
          "name": "stdout",
          "output_type": "stream",
          "text": [
            "Error processing https://en.wikipedia.org/wiki/8:_The_Mormon_Proposition: 'NoneType' object has no attribute 'find_parent'\n"
          ]
        },
        {
          "metadata": {
            "tags": null
          },
          "name": "stderr",
          "output_type": "stream",
          "text": [
            "1499it [06:51,  4.25it/s]"
          ]
        },
        {
          "metadata": {
            "tags": null
          },
          "name": "stdout",
          "output_type": "stream",
          "text": [
            "Error processing https://en.wikipedia.org/wiki/Stonewall_Uprising: 'NoneType' object has no attribute 'find_parent'\n"
          ]
        },
        {
          "metadata": {
            "tags": null
          },
          "name": "stderr",
          "output_type": "stream",
          "text": [
            "1504it [06:53,  3.73it/s]"
          ]
        },
        {
          "metadata": {
            "tags": null
          },
          "name": "stdout",
          "output_type": "stream",
          "text": [
            "Error processing https://en.wikipedia.org/wiki/Restrepo_(film): 'NoneType' object has no attribute 'find_parent'\n"
          ]
        },
        {
          "metadata": {
            "tags": null
          },
          "name": "stderr",
          "output_type": "stream",
          "text": [
            "\r1505it [06:53,  3.88it/s]"
          ]
        },
        {
          "metadata": {
            "tags": null
          },
          "name": "stdout",
          "output_type": "stream",
          "text": [
            "Error processing https://en.wikipedia.org/wiki/South_of_the_Border_(2009_film): 'NoneType' object has no attribute 'find_parent'\n"
          ]
        },
        {
          "metadata": {
            "tags": null
          },
          "name": "stderr",
          "output_type": "stream",
          "text": [
            "1508it [06:54,  3.89it/s]"
          ]
        },
        {
          "metadata": {
            "tags": null
          },
          "name": "stdout",
          "output_type": "stream",
          "text": [
            "Error processing https://en.wikipedia.org/wiki/Love_Ranch: 'NoneType' object has no attribute 'find_parent'\n"
          ]
        },
        {
          "metadata": {
            "tags": null
          },
          "name": "stderr",
          "output_type": "stream",
          "text": [
            "1510it [06:55,  3.25it/s]"
          ]
        },
        {
          "metadata": {
            "tags": null
          },
          "name": "stdout",
          "output_type": "stream",
          "text": [
            "Error processing https://en.wikipedia.org/wiki/Great_Directors: 'NoneType' object has no attribute 'find_parent'\n",
            "Error processing https://en.wikipedia.org/wiki/Only_When_I_Dance: 'NoneType' object has no attribute 'find_parent'"
          ]
        },
        {
          "metadata": {
            "tags": null
          },
          "name": "stderr",
          "output_type": "stream",
          "text": [
            "\r1511it [06:55,  3.61it/s]"
          ]
        },
        {
          "metadata": {
            "tags": null
          },
          "name": "stdout",
          "output_type": "stream",
          "text": [
            "\n"
          ]
        },
        {
          "metadata": {
            "tags": null
          },
          "name": "stderr",
          "output_type": "stream",
          "text": [
            "1519it [06:58,  3.74it/s]"
          ]
        },
        {
          "metadata": {
            "tags": null
          },
          "name": "stdout",
          "output_type": "stream",
          "text": [
            "Error processing https://en.wikipedia.org/wiki/Winnebago_Man: 'NoneType' object has no attribute 'find_parent'\n"
          ]
        },
        {
          "metadata": {
            "tags": null
          },
          "name": "stderr",
          "output_type": "stream",
          "text": [
            "1527it [07:00,  3.87it/s]"
          ]
        },
        {
          "metadata": {
            "tags": null
          },
          "name": "stdout",
          "output_type": "stream",
          "text": [
            "Error processing https://en.wikipedia.org/wiki/Countdown_to_Zero: 'NoneType' object has no attribute 'find_parent'\n"
          ]
        },
        {
          "metadata": {
            "tags": null
          },
          "name": "stderr",
          "output_type": "stream",
          "text": [
            "1531it [07:01,  4.13it/s]"
          ]
        },
        {
          "metadata": {
            "tags": null
          },
          "name": "stdout",
          "output_type": "stream",
          "text": [
            "Error processing https://en.wikipedia.org/wiki/Mugabe_and_the_White_African: 'NoneType' object has no attribute 'find_parent'\n"
          ]
        },
        {
          "metadata": {
            "tags": null
          },
          "name": "stderr",
          "output_type": "stream",
          "text": [
            "1539it [07:02,  5.11it/s]"
          ]
        },
        {
          "metadata": {
            "tags": null
          },
          "name": "stdout",
          "output_type": "stream",
          "text": [
            "Error processing https://en.wikipedia.org/wiki/Hugh_Hefner:_Playboy,_Activist_and_Rebel: 'NoneType' object has no attribute 'find_parent'\n",
            "Error processing https://en.wikipedia.org/wiki/Smash_His_Camera: 'NoneType' object has no attribute 'find_parent'\n"
          ]
        },
        {
          "metadata": {
            "tags": null
          },
          "name": "stderr",
          "output_type": "stream",
          "text": [
            "\r1540it [07:03,  5.24it/s]"
          ]
        },
        {
          "metadata": {
            "tags": null
          },
          "name": "stdout",
          "output_type": "stream",
          "text": [
            "Error processing https://en.wikipedia.org/wiki/What%27s_the_Matter_with_Kansas%3F_(film): 'NoneType' object has no attribute 'find_parent'\n"
          ]
        },
        {
          "metadata": {
            "tags": null
          },
          "name": "stderr",
          "output_type": "stream",
          "text": [
            "1552it [07:05,  4.78it/s]"
          ]
        },
        {
          "metadata": {
            "tags": null
          },
          "name": "stdout",
          "output_type": "stream",
          "text": [
            "Error processing https://en.wikipedia.org/wiki/The_Wildest_Dream: 'NoneType' object has no attribute 'find_parent'\n"
          ]
        },
        {
          "metadata": {
            "tags": null
          },
          "name": "stderr",
          "output_type": "stream",
          "text": [
            "1558it [07:07,  3.94it/s]"
          ]
        },
        {
          "metadata": {
            "tags": null
          },
          "name": "stdout",
          "output_type": "stream",
          "text": [
            "Error processing https://en.wikipedia.org/wiki/Neshoba_(film): 'NoneType' object has no attribute 'find_parent'\n"
          ]
        },
        {
          "metadata": {
            "tags": null
          },
          "name": "stderr",
          "output_type": "stream",
          "text": [
            "1560it [07:08,  4.57it/s]"
          ]
        },
        {
          "metadata": {
            "tags": null
          },
          "name": "stdout",
          "output_type": "stream",
          "text": [
            "Error processing https://en.wikipedia.org/wiki/Salt_of_this_Sea: 'NoneType' object has no attribute 'find_parent'\n",
            "Error processing https://en.wikipedia.org/wiki/La_Soga: 'NoneType' object has no attribute 'find_parent'\n"
          ]
        },
        {
          "metadata": {
            "tags": null
          },
          "name": "stderr",
          "output_type": "stream",
          "text": [
            "1571it [07:11,  3.47it/s]"
          ]
        },
        {
          "metadata": {
            "tags": null
          },
          "name": "stdout",
          "output_type": "stream",
          "text": [
            "Error processing https://en.wikipedia.org/wiki/The_Tillman_Story: 'NoneType' object has no attribute 'find_parent'\n"
          ]
        },
        {
          "metadata": {
            "tags": null
          },
          "name": "stderr",
          "output_type": "stream",
          "text": [
            "1576it [07:12,  3.37it/s]"
          ]
        },
        {
          "metadata": {
            "tags": null
          },
          "name": "stdout",
          "output_type": "stream",
          "text": [
            "Error processing https://en.wikipedia.org/wiki/Make-out_with_Violence: 'NoneType' object has no attribute 'find_parent'\n"
          ]
        },
        {
          "metadata": {
            "tags": null
          },
          "name": "stderr",
          "output_type": "stream",
          "text": [
            "1589it [07:16,  3.75it/s]"
          ]
        },
        {
          "metadata": {
            "tags": null
          },
          "name": "stdout",
          "output_type": "stream",
          "text": [
            "Error processing https://en.wikipedia.org/wiki/Catfish_(film): 'NoneType' object has no attribute 'find_parent'\n"
          ]
        },
        {
          "metadata": {
            "tags": null
          },
          "name": "stderr",
          "output_type": "stream",
          "text": [
            "1608it [07:21,  3.37it/s]"
          ]
        },
        {
          "metadata": {
            "tags": null
          },
          "name": "stdout",
          "output_type": "stream",
          "text": [
            "Error processing https://en.wikipedia.org/wiki/Inside_Job_(2010_film): 'NoneType' object has no attribute 'find_parent'\n"
          ]
        },
        {
          "metadata": {
            "tags": null
          },
          "name": "stderr",
          "output_type": "stream",
          "text": [
            "1614it [07:23,  3.07it/s]"
          ]
        },
        {
          "metadata": {
            "tags": null
          },
          "name": "stdout",
          "output_type": "stream",
          "text": [
            "Error processing https://en.wikipedia.org/wiki/Jackass_3D: 'NoneType' object has no attribute 'find_parent'\n"
          ]
        },
        {
          "metadata": {
            "tags": null
          },
          "name": "stderr",
          "output_type": "stream",
          "text": [
            "1616it [07:24,  3.16it/s]"
          ]
        },
        {
          "metadata": {
            "tags": null
          },
          "name": "stdout",
          "output_type": "stream",
          "text": [
            "Error processing https://en.wikipedia.org/wiki/Carlos_(miniseries): 'NoneType' object has no attribute 'find_parent'\n"
          ]
        },
        {
          "metadata": {
            "tags": null
          },
          "name": "stderr",
          "output_type": "stream",
          "text": [
            "1623it [07:26,  3.99it/s]"
          ]
        },
        {
          "metadata": {
            "tags": null
          },
          "name": "stdout",
          "output_type": "stream",
          "text": [
            "Error processing https://en.wikipedia.org/wiki/Crayon_(film): 'NoneType' object has no attribute 'find_parent'\n"
          ]
        },
        {
          "metadata": {
            "tags": null
          },
          "name": "stderr",
          "output_type": "stream",
          "text": [
            "1626it [07:26,  4.04it/s]"
          ]
        },
        {
          "metadata": {
            "tags": null
          },
          "name": "stdout",
          "output_type": "stream",
          "text": [
            "Error processing https://en.wikipedia.org/wiki/For_Colored_Girls: 'NoneType' object has no attribute 'find_parent'\n"
          ]
        },
        {
          "metadata": {
            "tags": null
          },
          "name": "stderr",
          "output_type": "stream",
          "text": [
            "1649it [07:34,  2.15it/s]"
          ]
        },
        {
          "metadata": {
            "tags": null
          },
          "name": "stdout",
          "output_type": "stream",
          "text": [
            "Error processing https://en.wikipedia.org/wiki/The_Chronicles_of_Narnia:_The_Voyage_of_the_Dawn_Treader: 'NoneType' object has no attribute 'find_parent'\n"
          ]
        },
        {
          "metadata": {
            "tags": null
          },
          "name": "stderr",
          "output_type": "stream",
          "text": [
            "1668it [07:40,  4.02it/s]"
          ]
        },
        {
          "metadata": {
            "tags": null
          },
          "name": "stdout",
          "output_type": "stream",
          "text": [
            "Error processing https://en.wikipedia.org/wiki/Phil_Ochs:_There_but_for_Fortune: 'NoneType' object has no attribute 'find_parent'\n"
          ]
        },
        {
          "metadata": {
            "tags": null
          },
          "name": "stderr",
          "output_type": "stream",
          "text": [
            "1670it [07:40,  3.67it/s]"
          ]
        },
        {
          "metadata": {
            "tags": null
          },
          "name": "stdout",
          "output_type": "stream",
          "text": [
            "Error processing https://en.wikipedia.org/wiki/The_Time_That_Remains: 'NoneType' object has no attribute 'find_parent'\n"
          ]
        },
        {
          "metadata": {
            "tags": null
          },
          "name": "stderr",
          "output_type": "stream",
          "text": [
            "1684it [07:45,  3.49it/s]"
          ]
        },
        {
          "metadata": {
            "tags": null
          },
          "name": "stdout",
          "output_type": "stream",
          "text": [
            "Error processing https://en.wikipedia.org/wiki/Carbon_Nation: 'NoneType' object has no attribute 'find_parent'\n"
          ]
        },
        {
          "metadata": {
            "tags": null
          },
          "name": "stderr",
          "output_type": "stream",
          "text": [
            "1729it [07:57,  3.78it/s]"
          ]
        },
        {
          "metadata": {
            "tags": null
          },
          "name": "stdout",
          "output_type": "stream",
          "text": [
            "Error processing https://en.wikipedia.org/wiki/POM_Wonderful_Presents:_The_Greatest_Movie_Ever_Sold: 'NoneType' object has no attribute 'find_parent'\n"
          ]
        },
        {
          "metadata": {
            "tags": null
          },
          "name": "stderr",
          "output_type": "stream",
          "text": [
            "1731it [07:58,  4.02it/s]"
          ]
        },
        {
          "metadata": {
            "tags": null
          },
          "name": "stdout",
          "output_type": "stream",
          "text": [
            "Error processing https://en.wikipedia.org/wiki/Cinema_Verite_(2011_film): 'NoneType' object has no attribute 'find_parent'\n"
          ]
        },
        {
          "metadata": {
            "tags": null
          },
          "name": "stderr",
          "output_type": "stream",
          "text": [
            "1743it [08:02,  3.21it/s]"
          ]
        },
        {
          "metadata": {
            "tags": null
          },
          "name": "stdout",
          "output_type": "stream",
          "text": [
            "Error processing https://en.wikipedia.org/wiki/Departures_(2011_film): 'NoneType' object has no attribute 'find_parent'\n"
          ]
        },
        {
          "metadata": {
            "tags": null
          },
          "name": "stderr",
          "output_type": "stream",
          "text": [
            "1754it [08:05,  3.63it/s]"
          ]
        },
        {
          "metadata": {
            "tags": null
          },
          "name": "stdout",
          "output_type": "stream",
          "text": [
            "Error processing https://en.wikipedia.org/wiki/The_Lion_of_Judah: 'NoneType' object has no attribute 'find_parent'\n"
          ]
        },
        {
          "metadata": {
            "tags": null
          },
          "name": "stderr",
          "output_type": "stream",
          "text": [
            "1756it [08:06,  3.12it/s]"
          ]
        },
        {
          "metadata": {
            "tags": null
          },
          "name": "stdout",
          "output_type": "stream",
          "text": [
            "Error processing https://en.wikipedia.org/wiki/Road_to_Nowhere_(film): 'NoneType' object has no attribute 'find_parent'\n"
          ]
        },
        {
          "metadata": {
            "tags": null
          },
          "name": "stderr",
          "output_type": "stream",
          "text": [
            "1758it [08:07,  3.62it/s]"
          ]
        },
        {
          "metadata": {
            "tags": null
          },
          "name": "stdout",
          "output_type": "stream",
          "text": [
            "Error processing https://en.wikipedia.org/wiki/The_Trip_(2010_film): 'NoneType' object has no attribute 'find_parent'\n"
          ]
        },
        {
          "metadata": {
            "tags": null
          },
          "name": "stderr",
          "output_type": "stream",
          "text": [
            "1760it [08:07,  4.16it/s]"
          ]
        },
        {
          "metadata": {
            "tags": null
          },
          "name": "stdout",
          "output_type": "stream",
          "text": [
            "Error processing https://en.wikipedia.org/wiki/Buck_(film): 'NoneType' object has no attribute 'find_parent'\n"
          ]
        },
        {
          "metadata": {
            "tags": null
          },
          "name": "stderr",
          "output_type": "stream",
          "text": [
            "1766it [08:09,  3.67it/s]"
          ]
        },
        {
          "metadata": {
            "tags": null
          },
          "name": "stdout",
          "output_type": "stream",
          "text": [
            "Error processing https://en.wikipedia.org/wiki/Conan_O%27Brien_Can%27t_Stop: 'NoneType' object has no attribute 'find_parent'\n"
          ]
        },
        {
          "metadata": {
            "tags": null
          },
          "name": "stderr",
          "output_type": "stream",
          "text": [
            "1772it [08:11,  4.46it/s]"
          ]
        },
        {
          "metadata": {
            "tags": null
          },
          "name": "stdout",
          "output_type": "stream",
          "text": [
            "Error processing https://en.wikipedia.org/wiki/Septien: 'NoneType' object has no attribute 'find_parent'\n"
          ]
        },
        {
          "metadata": {
            "tags": null
          },
          "name": "stderr",
          "output_type": "stream",
          "text": [
            "\r1773it [08:11,  4.57it/s]"
          ]
        },
        {
          "metadata": {
            "tags": null
          },
          "name": "stdout",
          "output_type": "stream",
          "text": [
            "Error processing https://en.wikipedia.org/wiki/Beats,_Rhymes_%26_Life:_The_Travels_of_A_Tribe_Called_Quest: 'NoneType' object has no attribute 'find_parent'\n"
          ]
        },
        {
          "metadata": {
            "tags": null
          },
          "name": "stderr",
          "output_type": "stream",
          "text": [
            "1775it [08:11,  3.36it/s]"
          ]
        },
        {
          "metadata": {
            "tags": null
          },
          "name": "stdout",
          "output_type": "stream",
          "text": [
            "Error processing https://en.wikipedia.org/wiki/Project_Nim_(film): 'NoneType' object has no attribute 'find_parent'\n"
          ]
        },
        {
          "metadata": {
            "tags": null
          },
          "name": "stderr",
          "output_type": "stream",
          "text": [
            "1798it [08:19,  3.39it/s]"
          ]
        },
        {
          "metadata": {
            "tags": null
          },
          "name": "stdout",
          "output_type": "stream",
          "text": [
            "Error processing https://en.wikipedia.org/wiki/Glee:_The_3D_Concert_Movie: 'NoneType' object has no attribute 'find_parent'\n"
          ]
        },
        {
          "metadata": {
            "tags": null
          },
          "name": "stderr",
          "output_type": "stream",
          "text": [
            "1808it [08:22,  4.08it/s]"
          ]
        },
        {
          "metadata": {
            "tags": null
          },
          "name": "stdout",
          "output_type": "stream",
          "text": [
            "Error processing https://en.wikipedia.org/wiki/Seven_Days_in_Utopia: 'NoneType' object has no attribute 'find_parent'\n"
          ]
        },
        {
          "metadata": {
            "tags": null
          },
          "name": "stderr",
          "output_type": "stream",
          "text": [
            "1829it [08:28,  3.75it/s]"
          ]
        },
        {
          "metadata": {
            "tags": null
          },
          "name": "stdout",
          "output_type": "stream",
          "text": [
            "Error processing https://en.wikipedia.org/wiki/George_Harrison:_Living_in_the_Material_World: 'NoneType' object has no attribute 'find_parent'\n"
          ]
        },
        {
          "metadata": {
            "tags": null
          },
          "name": "stderr",
          "output_type": "stream",
          "text": [
            "1887it [08:47,  4.05it/s]"
          ]
        },
        {
          "metadata": {
            "tags": null
          },
          "name": "stdout",
          "output_type": "stream",
          "text": [
            "Error processing https://en.wikipedia.org/wiki/Freeloaders_(film): 'NoneType' object has no attribute 'find_parent'\n"
          ]
        },
        {
          "metadata": {
            "tags": null
          },
          "name": "stderr",
          "output_type": "stream",
          "text": [
            "1890it [08:48,  3.47it/s]"
          ]
        },
        {
          "metadata": {
            "tags": null
          },
          "name": "stdout",
          "output_type": "stream",
          "text": [
            "Error processing https://en.wikipedia.org/wiki/Struck_by_Lightning_(2012_film): 'NoneType' object has no attribute 'find_parent'\n"
          ]
        },
        {
          "metadata": {
            "tags": null
          },
          "name": "stderr",
          "output_type": "stream",
          "text": [
            "1898it [08:50,  4.07it/s]"
          ]
        },
        {
          "metadata": {
            "tags": null
          },
          "name": "stdout",
          "output_type": "stream",
          "text": [
            "Error processing https://en.wikipedia.org/wiki/Knife_Fight_(film): 'NoneType' object has no attribute 'find_parent'\n"
          ]
        },
        {
          "metadata": {
            "tags": null
          },
          "name": "stderr",
          "output_type": "stream",
          "text": [
            "1935it [09:00,  3.68it/s]"
          ]
        },
        {
          "metadata": {
            "tags": null
          },
          "name": "stdout",
          "output_type": "stream",
          "text": [
            "Error processing https://en.wikipedia.org/wiki/Phil_Spector_(film): 'NoneType' object has no attribute 'find_parent'\n"
          ]
        },
        {
          "metadata": {
            "tags": null
          },
          "name": "stderr",
          "output_type": "stream",
          "text": [
            "1942it [09:02,  4.30it/s]"
          ]
        },
        {
          "metadata": {
            "tags": null
          },
          "name": "stdout",
          "output_type": "stream",
          "text": [
            "Error processing https://en.wikipedia.org/wiki/Wrong_(film): 'NoneType' object has no attribute 'find_parent'\n",
            "Error processing https://en.wikipedia.org/wiki/The_Brass_Teapot: 'NoneType' object has no attribute 'find_parent'\n"
          ]
        },
        {
          "metadata": {
            "tags": null
          },
          "name": "stderr",
          "output_type": "stream",
          "text": [
            "1980it [09:14,  2.87it/s]"
          ]
        },
        {
          "metadata": {
            "tags": null
          },
          "name": "stdout",
          "output_type": "stream",
          "text": [
            "Error processing https://en.wikipedia.org/wiki/Byzantium_(film): 'NoneType' object has no attribute 'find_parent'\n"
          ]
        },
        {
          "metadata": {
            "tags": null
          },
          "name": "stderr",
          "output_type": "stream",
          "text": [
            "1986it [09:16,  3.65it/s]"
          ]
        },
        {
          "metadata": {
            "tags": null
          },
          "name": "stdout",
          "output_type": "stream",
          "text": [
            "Error processing https://en.wikipedia.org/wiki/Much_Ado_About_Nothing_(2012_film): 'NoneType' object has no attribute 'find_parent'\n"
          ]
        },
        {
          "metadata": {
            "tags": null
          },
          "name": "stderr",
          "output_type": "stream",
          "text": [
            "1998it [09:20,  2.62it/s]"
          ]
        },
        {
          "metadata": {
            "tags": null
          },
          "name": "stdout",
          "output_type": "stream",
          "text": [
            "Error processing https://en.wikipedia.org/wiki/How_to_Make_Money_Selling_Drugs: 'NoneType' object has no attribute 'find_parent'\n"
          ]
        },
        {
          "metadata": {
            "tags": null
          },
          "name": "stderr",
          "output_type": "stream",
          "text": [
            "2002it [09:21,  3.64it/s]"
          ]
        },
        {
          "metadata": {
            "tags": null
          },
          "name": "stdout",
          "output_type": "stream",
          "text": [
            "Error processing https://en.wikipedia.org/wiki/Some_Girl(s)_(film): 'NoneType' object has no attribute 'find_parent'\n"
          ]
        },
        {
          "metadata": {
            "tags": null
          },
          "name": "stderr",
          "output_type": "stream",
          "text": [
            "2010it [09:23,  4.04it/s]"
          ]
        },
        {
          "metadata": {
            "tags": null
          },
          "name": "stdout",
          "output_type": "stream",
          "text": [
            "Error processing https://en.wikipedia.org/wiki/Dealin%27_with_Idiots: 'NoneType' object has no attribute 'find_parent'\n"
          ]
        },
        {
          "metadata": {
            "tags": null
          },
          "name": "stderr",
          "output_type": "stream",
          "text": [
            "2065it [09:39,  3.52it/s]"
          ]
        },
        {
          "metadata": {
            "tags": null
          },
          "name": "stdout",
          "output_type": "stream",
          "text": [
            "Error processing https://en.wikipedia.org/wiki/1_(2013_film): 'NoneType' object has no attribute 'find_parent'\n"
          ]
        },
        {
          "metadata": {
            "tags": null
          },
          "name": "stderr",
          "output_type": "stream",
          "text": [
            "2069it [09:41,  3.07it/s]"
          ]
        },
        {
          "metadata": {
            "tags": null
          },
          "name": "stdout",
          "output_type": "stream",
          "text": [
            "Error processing https://en.wikipedia.org/wiki/Muhammad_Ali%27s_Greatest_Fight: 'NoneType' object has no attribute 'find_parent'\n"
          ]
        },
        {
          "metadata": {
            "tags": null
          },
          "name": "stderr",
          "output_type": "stream",
          "text": [
            "2087it [09:47,  2.76it/s]"
          ]
        },
        {
          "metadata": {
            "tags": null
          },
          "name": "stdout",
          "output_type": "stream",
          "text": [
            "Error processing https://en.wikipedia.org/wiki/The_Christmas_Candle: 'NoneType' object has no attribute 'find_parent'\n"
          ]
        },
        {
          "metadata": {
            "tags": null
          },
          "name": "stderr",
          "output_type": "stream",
          "text": [
            "2097it [09:50,  3.33it/s]"
          ]
        },
        {
          "metadata": {
            "tags": null
          },
          "name": "stdout",
          "output_type": "stream",
          "text": [
            "Error processing https://en.wikipedia.org/wiki/Crave_(film): 'NoneType' object has no attribute 'find_parent'\n"
          ]
        },
        {
          "metadata": {
            "tags": null
          },
          "name": "stderr",
          "output_type": "stream",
          "text": [
            "2116it [09:56,  4.11it/s]"
          ]
        },
        {
          "metadata": {
            "tags": null
          },
          "name": "stdout",
          "output_type": "stream",
          "text": [
            "Error processing https://en.wikipedia.org/wiki/Dumbbells_(film): 'NoneType' object has no attribute 'find_parent'\n"
          ]
        },
        {
          "metadata": {
            "tags": null
          },
          "name": "stderr",
          "output_type": "stream",
          "text": [
            "2119it [09:57,  4.66it/s]"
          ]
        },
        {
          "metadata": {
            "tags": null
          },
          "name": "stdout",
          "output_type": "stream",
          "text": [
            "Error processing https://en.wikipedia.org/wiki/Raze_(film): 'NoneType' object has no attribute 'find_parent'\n",
            "Error processing https://en.wikipedia.org/wiki/Back_in_the_Day_(2014_film): 'NoneType' object has no attribute 'find_parent'\n"
          ]
        },
        {
          "metadata": {
            "tags": null
          },
          "name": "stderr",
          "output_type": "stream",
          "text": [
            "2145it [10:04,  4.57it/s]"
          ]
        },
        {
          "metadata": {
            "tags": null
          },
          "name": "stdout",
          "output_type": "stream",
          "text": [
            "Error processing https://en.wikipedia.org/wiki/Someone_Marry_Barry: 'NoneType' object has no attribute 'find_parent'\n"
          ]
        },
        {
          "metadata": {
            "tags": null
          },
          "name": "stderr",
          "output_type": "stream",
          "text": [
            "2147it [10:04,  4.69it/s]"
          ]
        },
        {
          "metadata": {
            "tags": null
          },
          "name": "stdout",
          "output_type": "stream",
          "text": [
            "Error processing https://en.wikipedia.org/wiki/Apocalypse_Pompeii: 'NoneType' object has no attribute 'find_parent'\n"
          ]
        },
        {
          "metadata": {
            "tags": null
          },
          "name": "stderr",
          "output_type": "stream",
          "text": [
            "2155it [10:06,  4.21it/s]"
          ]
        },
        {
          "metadata": {
            "tags": null
          },
          "name": "stdout",
          "output_type": "stream",
          "text": [
            "Error processing https://en.wikipedia.org/wiki/Repentance_(2014_film): 'NoneType' object has no attribute 'find_parent'\n"
          ]
        },
        {
          "metadata": {
            "tags": null
          },
          "name": "stderr",
          "output_type": "stream",
          "text": [
            "2172it [10:11,  4.28it/s]"
          ]
        },
        {
          "metadata": {
            "tags": null
          },
          "name": "stdout",
          "output_type": "stream",
          "text": [
            "Error processing https://en.wikipedia.org/wiki/15_to_Life:_Kenneth%27s_Story: 'NoneType' object has no attribute 'find_parent'\n",
            "Error processing https://en.wikipedia.org/wiki/The_Ladies_of_the_House: 'NoneType' object has no attribute 'find_parent'\n"
          ]
        },
        {
          "metadata": {
            "tags": null
          },
          "name": "stderr",
          "output_type": "stream",
          "text": [
            "2182it [10:14,  3.88it/s]"
          ]
        },
        {
          "metadata": {
            "tags": null
          },
          "name": "stdout",
          "output_type": "stream",
          "text": [
            "Error processing https://en.wikipedia.org/wiki/Authors_Anonymous: 'NoneType' object has no attribute 'find_parent'\n"
          ]
        },
        {
          "metadata": {
            "tags": null
          },
          "name": "stderr",
          "output_type": "stream",
          "text": [
            "2210it [10:23,  2.93it/s]"
          ]
        },
        {
          "metadata": {
            "tags": null
          },
          "name": "stdout",
          "output_type": "stream",
          "text": [
            "Error processing https://en.wikipedia.org/wiki/Ping_Pong_Summer: 'NoneType' object has no attribute 'find_parent'\n"
          ]
        },
        {
          "metadata": {
            "tags": null
          },
          "name": "stderr",
          "output_type": "stream",
          "text": [
            "2214it [10:24,  2.93it/s]"
          ]
        },
        {
          "metadata": {
            "tags": null
          },
          "name": "stdout",
          "output_type": "stream",
          "text": [
            "Error processing https://en.wikipedia.org/wiki/Lullaby_(2014_film): 'NoneType' object has no attribute 'find_parent'\n"
          ]
        },
        {
          "metadata": {
            "tags": null
          },
          "name": "stderr",
          "output_type": "stream",
          "text": [
            "\r2215it [10:24,  3.32it/s]"
          ]
        },
        {
          "metadata": {
            "tags": null
          },
          "name": "stdout",
          "output_type": "stream",
          "text": [
            "Error processing https://en.wikipedia.org/wiki/Murder_101_(2014_film): 'NoneType' object has no attribute 'find_parent'\n"
          ]
        },
        {
          "metadata": {
            "tags": null
          },
          "name": "stderr",
          "output_type": "stream",
          "text": [
            "2220it [10:26,  3.25it/s]"
          ]
        },
        {
          "metadata": {
            "tags": null
          },
          "name": "stdout",
          "output_type": "stream",
          "text": [
            "Error processing https://en.wikipedia.org/wiki/America:_Imagine_the_World_Without_Her: 'NoneType' object has no attribute 'find_parent'\n"
          ]
        },
        {
          "metadata": {
            "tags": null
          },
          "name": "stderr",
          "output_type": "stream",
          "text": [
            "2233it [10:30,  3.28it/s]"
          ]
        },
        {
          "metadata": {
            "tags": null
          },
          "name": "stdout",
          "output_type": "stream",
          "text": [
            "Error processing https://en.wikipedia.org/wiki/Persecuted_(film): 'NoneType' object has no attribute 'find_parent'\n"
          ]
        },
        {
          "metadata": {
            "tags": null
          },
          "name": "stderr",
          "output_type": "stream",
          "text": [
            "2245it [10:33,  4.13it/s]"
          ]
        },
        {
          "metadata": {
            "tags": null
          },
          "name": "stdout",
          "output_type": "stream",
          "text": [
            "Error processing https://en.wikipedia.org/wiki/My_Man_Is_a_Loser: 'NoneType' object has no attribute 'find_parent'\n"
          ]
        },
        {
          "metadata": {
            "tags": null
          },
          "name": "stderr",
          "output_type": "stream",
          "text": [
            "2297it [10:48,  3.05it/s]"
          ]
        },
        {
          "metadata": {
            "tags": null
          },
          "name": "stdout",
          "output_type": "stream",
          "text": [
            "Error processing https://en.wikipedia.org/wiki/The_Czar_of_Black_Hollywood: 'NoneType' object has no attribute 'find_parent'\n"
          ]
        },
        {
          "metadata": {
            "tags": null
          },
          "name": "stderr",
          "output_type": "stream",
          "text": [
            "2303it [10:49,  4.21it/s]"
          ]
        },
        {
          "metadata": {
            "tags": null
          },
          "name": "stdout",
          "output_type": "stream",
          "text": [
            "Error processing https://en.wikipedia.org/wiki/Pernicious: 'NoneType' object has no attribute 'find_parent'\n"
          ]
        },
        {
          "metadata": {
            "tags": null
          },
          "name": "stderr",
          "output_type": "stream",
          "text": [
            "2310it [10:52,  2.86it/s]"
          ]
        },
        {
          "metadata": {
            "tags": null
          },
          "name": "stdout",
          "output_type": "stream",
          "text": [
            "Error processing https://en.wikipedia.org/wiki/The_Better_Angels_(film): 'NoneType' object has no attribute 'find_parent'\n"
          ]
        },
        {
          "metadata": {
            "tags": null
          },
          "name": "stderr",
          "output_type": "stream",
          "text": [
            "2330it [10:58,  3.74it/s]"
          ]
        },
        {
          "metadata": {
            "tags": null
          },
          "name": "stdout",
          "output_type": "stream",
          "text": [
            "Error processing https://en.wikipedia.org/wiki/Goodbye_To_All_That_(2014_film): 'NoneType' object has no attribute 'find_parent'\n"
          ]
        },
        {
          "metadata": {
            "tags": null
          },
          "name": "stderr",
          "output_type": "stream",
          "text": [
            "2356it [11:06,  3.86it/s]"
          ]
        },
        {
          "metadata": {
            "tags": null
          },
          "name": "stdout",
          "output_type": "stream",
          "text": [
            "Error processing https://en.wikipedia.org/wiki/Black_or_White_(film): 'NoneType' object has no attribute 'find_parent'\n"
          ]
        },
        {
          "metadata": {
            "tags": null
          },
          "name": "stderr",
          "output_type": "stream",
          "text": [
            "2361it [11:07,  4.22it/s]"
          ]
        },
        {
          "metadata": {
            "tags": null
          },
          "name": "stdout",
          "output_type": "stream",
          "text": [
            "Error processing https://en.wikipedia.org/wiki/3_Nights_in_the_Desert: 'NoneType' object has no attribute 'find_parent'\n",
            "Error processing https://en.wikipedia.org/wiki/Enter_the_Dangerous_Mind: 'NoneType' object has no attribute 'find_parent'\n"
          ]
        },
        {
          "metadata": {
            "tags": null
          },
          "name": "stderr",
          "output_type": "stream",
          "text": [
            "2378it [11:12,  4.13it/s]"
          ]
        },
        {
          "metadata": {
            "tags": null
          },
          "name": "stdout",
          "output_type": "stream",
          "text": [
            "Error processing https://en.wikipedia.org/wiki/Bad_Asses_on_the_Bayou: 'NoneType' object has no attribute 'find_parent'\n"
          ]
        },
        {
          "metadata": {
            "tags": null
          },
          "name": "stderr",
          "output_type": "stream",
          "text": [
            "2386it [11:14,  4.02it/s]"
          ]
        },
        {
          "metadata": {
            "tags": null
          },
          "name": "stdout",
          "output_type": "stream",
          "text": [
            "Error processing https://en.wikipedia.org/wiki/Cymbeline_(film): 'NoneType' object has no attribute 'find_parent'\n"
          ]
        },
        {
          "metadata": {
            "tags": null
          },
          "name": "stderr",
          "output_type": "stream",
          "text": [
            "2416it [11:23,  4.50it/s]"
          ]
        },
        {
          "metadata": {
            "tags": null
          },
          "name": "stdout",
          "output_type": "stream",
          "text": [
            "Error processing https://en.wikipedia.org/wiki/Adult_Beginners: 'NoneType' object has no attribute 'find_parent'\n",
            "Error processing https://en.wikipedia.org/wiki/Blackbird_(2014_film): 'NoneType' object has no attribute 'find_parent'\n"
          ]
        },
        {
          "metadata": {
            "tags": null
          },
          "name": "stderr",
          "output_type": "stream",
          "text": [
            "2423it [11:25,  3.04it/s]"
          ]
        },
        {
          "metadata": {
            "tags": null
          },
          "name": "stdout",
          "output_type": "stream",
          "text": [
            "Error processing https://en.wikipedia.org/wiki/The_D_Train: 'NoneType' object has no attribute 'find_parent'\n"
          ]
        },
        {
          "metadata": {
            "tags": null
          },
          "name": "stderr",
          "output_type": "stream",
          "text": [
            "2428it [11:26,  3.21it/s]"
          ]
        },
        {
          "metadata": {
            "tags": null
          },
          "name": "stdout",
          "output_type": "stream",
          "text": [
            "Error processing https://en.wikipedia.org/wiki/Bessie_(film): 'NoneType' object has no attribute 'find_parent'\n"
          ]
        },
        {
          "metadata": {
            "tags": null
          },
          "name": "stderr",
          "output_type": "stream",
          "text": [
            "2507it [11:51,  4.01it/s]"
          ]
        },
        {
          "metadata": {
            "tags": null
          },
          "name": "stdout",
          "output_type": "stream",
          "text": [
            "Error processing https://en.wikipedia.org/wiki/The_Leisure_Class: 'NoneType' object has no attribute 'find_parent'\n"
          ]
        },
        {
          "metadata": {
            "tags": null
          },
          "name": "stderr",
          "output_type": "stream",
          "text": [
            "2524it [11:58,  2.42it/s]"
          ]
        },
        {
          "metadata": {
            "tags": null
          },
          "name": "stdout",
          "output_type": "stream",
          "text": [
            "Error processing https://en.wikipedia.org/wiki/The_Big_Short_(film): 'NoneType' object has no attribute 'find_parent'\n"
          ]
        },
        {
          "metadata": {
            "tags": null
          },
          "name": "stderr",
          "output_type": "stream",
          "text": [
            "2537it [12:02,  3.11it/s]"
          ]
        },
        {
          "metadata": {
            "tags": null
          },
          "name": "stdout",
          "output_type": "stream",
          "text": [
            "Error processing https://en.wikipedia.org/wiki/Meet_the_Blacks: 'NoneType' object has no attribute 'find_parent'\n"
          ]
        },
        {
          "metadata": {
            "tags": null
          },
          "name": "stderr",
          "output_type": "stream",
          "text": [
            "2539it [12:03,  3.70it/s]"
          ]
        },
        {
          "metadata": {
            "tags": null
          },
          "name": "stdout",
          "output_type": "stream",
          "text": [
            "Error processing https://en.wikipedia.org/wiki/Miles_Ahead_(film): 'NoneType' object has no attribute 'find_parent'\n"
          ]
        },
        {
          "metadata": {
            "tags": null
          },
          "name": "stderr",
          "output_type": "stream",
          "text": [
            "\r2540it [12:03,  4.05it/s]"
          ]
        },
        {
          "metadata": {
            "tags": null
          },
          "name": "stdout",
          "output_type": "stream",
          "text": [
            "Error processing https://en.wikipedia.org/wiki/All_at_Once_(2016_film): 'NoneType' object has no attribute 'find_parent'\n"
          ]
        },
        {
          "metadata": {
            "tags": null
          },
          "name": "stderr",
          "output_type": "stream",
          "text": [
            "2570it [12:13,  3.32it/s]"
          ]
        },
        {
          "metadata": {
            "tags": null
          },
          "name": "stdout",
          "output_type": "stream",
          "text": [
            "Error processing https://en.wikipedia.org/wiki/2_Jennifer: 'NoneType' object has no attribute 'find_parent'\n"
          ]
        },
        {
          "metadata": {
            "tags": null
          },
          "name": "stderr",
          "output_type": "stream",
          "text": [
            "2610it [12:26,  3.71it/s]"
          ]
        },
        {
          "metadata": {
            "tags": null
          },
          "name": "stdout",
          "output_type": "stream",
          "text": [
            "Error processing https://en.wikipedia.org/wiki/Ace_the_Case: 'NoneType' object has no attribute 'find_parent'\n"
          ]
        },
        {
          "metadata": {
            "tags": null
          },
          "name": "stderr",
          "output_type": "stream",
          "text": [
            "2621it [12:29,  4.32it/s]"
          ]
        },
        {
          "metadata": {
            "tags": null
          },
          "name": "stdout",
          "output_type": "stream",
          "text": [
            "Error processing https://en.wikipedia.org/wiki/Hillsong:_Let_Hope_Rise: 'NoneType' object has no attribute 'find_parent'\n"
          ]
        },
        {
          "metadata": {
            "tags": null
          },
          "name": "stderr",
          "output_type": "stream",
          "text": [
            "2686it [12:50,  3.70it/s]"
          ]
        },
        {
          "metadata": {
            "tags": null
          },
          "name": "stdout",
          "output_type": "stream",
          "text": [
            "Error processing https://en.wikipedia.org/wiki/Lost_in_Florence: 'NoneType' object has no attribute 'find_parent'\n"
          ]
        },
        {
          "metadata": {
            "tags": null
          },
          "name": "stderr",
          "output_type": "stream",
          "text": [
            "\r2687it [12:50,  3.79it/s]"
          ]
        },
        {
          "metadata": {
            "tags": null
          },
          "name": "stdout",
          "output_type": "stream",
          "text": [
            "Error processing https://en.wikipedia.org/wiki/I_Am_Michael: 'NoneType' object has no attribute 'find_parent'\n"
          ]
        },
        {
          "metadata": {
            "tags": null
          },
          "name": "stderr",
          "output_type": "stream",
          "text": [
            "2691it [12:52,  3.55it/s]"
          ]
        },
        {
          "metadata": {
            "tags": null
          },
          "name": "stdout",
          "output_type": "stream",
          "text": [
            "Error processing https://en.wikipedia.org/wiki/Youth_in_Oregon: 'NoneType' object has no attribute 'find_parent'\n"
          ]
        },
        {
          "metadata": {
            "tags": null
          },
          "name": "stderr",
          "output_type": "stream",
          "text": [
            "2693it [12:52,  3.98it/s]"
          ]
        },
        {
          "metadata": {
            "tags": null
          },
          "name": "stdout",
          "output_type": "stream",
          "text": [
            "Error processing https://en.wikipedia.org/wiki/I_Am_Not_Your_Negro: 'NoneType' object has no attribute 'find_parent'\n"
          ]
        },
        {
          "metadata": {
            "tags": null
          },
          "name": "stderr",
          "output_type": "stream",
          "text": [
            "2708it [12:56,  4.47it/s]"
          ]
        },
        {
          "metadata": {
            "tags": null
          },
          "name": "stdout",
          "output_type": "stream",
          "text": [
            "Error processing https://en.wikipedia.org/wiki/Contemporary_Color_(film): 'NoneType' object has no attribute 'find_parent'\n"
          ]
        },
        {
          "metadata": {
            "tags": null
          },
          "name": "stderr",
          "output_type": "stream",
          "text": [
            "2723it [13:01,  4.17it/s]"
          ]
        },
        {
          "metadata": {
            "tags": null
          },
          "name": "stdout",
          "output_type": "stream",
          "text": [
            "Error processing https://en.wikipedia.org/wiki/All_Nighter_(film): 'NoneType' object has no attribute 'find_parent'\n"
          ]
        },
        {
          "metadata": {
            "tags": null
          },
          "name": "stderr",
          "output_type": "stream",
          "text": [
            "2728it [13:02,  3.52it/s]"
          ]
        },
        {
          "metadata": {
            "tags": null
          },
          "name": "stdout",
          "output_type": "stream",
          "text": [
            "Error processing https://en.wikipedia.org/wiki/Car_Dogs: 'NoneType' object has no attribute 'find_parent'\n"
          ]
        },
        {
          "metadata": {
            "tags": null
          },
          "name": "stderr",
          "output_type": "stream",
          "text": [
            "2751it [13:09,  4.59it/s]"
          ]
        },
        {
          "metadata": {
            "tags": null
          },
          "name": "stdout",
          "output_type": "stream",
          "text": [
            "Error processing https://en.wikipedia.org/wiki/The_Immortal_Life_of_Henrietta_Lacks_(film): 'NoneType' object has no attribute 'find_parent'\n",
            "Error processing https://en.wikipedia.org/wiki/After_the_Reality: 'NoneType' object has no attribute 'find_parent'\n"
          ]
        },
        {
          "metadata": {
            "tags": null
          },
          "name": "stderr",
          "output_type": "stream",
          "text": [
            "2771it [13:15,  3.12it/s]"
          ]
        },
        {
          "metadata": {
            "tags": null
          },
          "name": "stdout",
          "output_type": "stream",
          "text": [
            "Error processing https://en.wikipedia.org/wiki/Buena_Vista_Social_Club:_Adios: 'NoneType' object has no attribute 'find_parent'\n"
          ]
        },
        {
          "metadata": {
            "tags": null
          },
          "name": "stderr",
          "output_type": "stream",
          "text": [
            "2808it [13:27,  3.17it/s]"
          ]
        },
        {
          "metadata": {
            "tags": null
          },
          "name": "stdout",
          "output_type": "stream",
          "text": [
            "Error processing https://en.wikipedia.org/wiki/An_Inconvenient_Sequel:_Truth_to_Power: 'NoneType' object has no attribute 'find_parent'\n"
          ]
        },
        {
          "metadata": {
            "tags": null
          },
          "name": "stderr",
          "output_type": "stream",
          "text": [
            "2814it [13:29,  3.15it/s]"
          ]
        },
        {
          "metadata": {
            "tags": null
          },
          "name": "stdout",
          "output_type": "stream",
          "text": [
            "Error processing https://en.wikipedia.org/wiki/Step_(film): 'NoneType' object has no attribute 'find_parent'\n"
          ]
        },
        {
          "metadata": {
            "tags": null
          },
          "name": "stderr",
          "output_type": "stream",
          "text": [
            "2828it [13:33,  4.78it/s]"
          ]
        },
        {
          "metadata": {
            "tags": null
          },
          "name": "stdout",
          "output_type": "stream",
          "text": [
            "Error processing https://en.wikipedia.org/wiki/All_Saints_(film): 'NoneType' object has no attribute 'find_parent'\n",
            "Error processing https://en.wikipedia.org/wiki/Served_Like_a_Girl: 'NoneType' object has no attribute 'find_parent'\n"
          ]
        },
        {
          "metadata": {
            "tags": null
          },
          "name": "stderr",
          "output_type": "stream",
          "text": [
            "2831it [13:33,  3.40it/s]"
          ]
        },
        {
          "metadata": {
            "tags": null
          },
          "name": "stdout",
          "output_type": "stream",
          "text": [
            "Error processing https://en.wikipedia.org/wiki/Film_Stars_Don%27t_Die_in_Liverpool: 'NoneType' object has no attribute 'find_parent'\n"
          ]
        },
        {
          "metadata": {
            "tags": null
          },
          "name": "stderr",
          "output_type": "stream",
          "text": [
            "2871it [13:45,  3.84it/s]"
          ]
        },
        {
          "metadata": {
            "tags": null
          },
          "name": "stdout",
          "output_type": "stream",
          "text": [
            "Error processing https://en.wikipedia.org/wiki/Wonderstruck_(film): 'NoneType' object has no attribute 'find_parent'\n"
          ]
        },
        {
          "metadata": {
            "tags": null
          },
          "name": "stderr",
          "output_type": "stream",
          "text": [
            "2891it [13:51,  3.72it/s]"
          ]
        },
        {
          "metadata": {
            "tags": null
          },
          "name": "stdout",
          "output_type": "stream",
          "text": [
            "Error processing https://en.wikipedia.org/wiki/Cook_Off!: 'NoneType' object has no attribute 'find_parent'\n"
          ]
        },
        {
          "metadata": {
            "tags": null
          },
          "name": "stderr",
          "output_type": "stream",
          "text": [
            "2930it [14:04,  4.35it/s]"
          ]
        },
        {
          "metadata": {
            "tags": null
          },
          "name": "stdout",
          "output_type": "stream",
          "text": [
            "Error processing https://en.wikipedia.org/wiki/Armed_(film): 'NoneType' object has no attribute 'find_parent'\n"
          ]
        },
        {
          "metadata": {
            "tags": null
          },
          "name": "stderr",
          "output_type": "stream",
          "text": [
            "2937it [14:05,  4.06it/s]"
          ]
        },
        {
          "metadata": {
            "tags": null
          },
          "name": "stdout",
          "output_type": "stream",
          "text": [
            "Error processing https://en.wikipedia.org/wiki/Permission_(film): 'NoneType' object has no attribute 'find_parent'\n"
          ]
        },
        {
          "metadata": {
            "tags": null
          },
          "name": "stderr",
          "output_type": "stream",
          "text": [
            "2949it [14:09,  3.75it/s]"
          ]
        },
        {
          "metadata": {
            "tags": null
          },
          "name": "stdout",
          "output_type": "stream",
          "text": [
            "Error processing https://en.wikipedia.org/wiki/Pickings_(film): 'NoneType' object has no attribute 'find_parent'\n"
          ]
        },
        {
          "metadata": {
            "tags": null
          },
          "name": "stderr",
          "output_type": "stream",
          "text": [
            "3000it [14:24,  4.49it/s]"
          ]
        },
        {
          "metadata": {
            "tags": null
          },
          "name": "stdout",
          "output_type": "stream",
          "text": [
            "Error processing https://en.wikipedia.org/wiki/The_Seagull_(2018_film): 'NoneType' object has no attribute 'find_parent'\n"
          ]
        },
        {
          "metadata": {
            "tags": null
          },
          "name": "stderr",
          "output_type": "stream",
          "text": [
            "3008it [14:27,  3.15it/s]"
          ]
        },
        {
          "metadata": {
            "tags": null
          },
          "name": "stdout",
          "output_type": "stream",
          "text": [
            "Error processing https://en.wikipedia.org/wiki/How_to_Talk_to_Girls_at_Parties_(film): 'NoneType' object has no attribute 'find_parent'\n"
          ]
        },
        {
          "output_type": "stream",
          "name": "stderr",
          "text": [
            "3018it [14:29,  3.75it/s]"
          ]
        },
        {
          "output_type": "stream",
          "name": "stdout",
          "text": [
            "Error processing https://en.wikipedia.org/wiki/Won%27t_You_Be_My_Neighbor%3F_(film): 'NoneType' object has no attribute 'find_parent'\n"
          ]
        },
        {
          "output_type": "stream",
          "name": "stderr",
          "text": [
            "3033it [14:34,  2.93it/s]"
          ]
        },
        {
          "output_type": "stream",
          "name": "stdout",
          "text": [
            "Error processing https://en.wikipedia.org/wiki/Woman_Walks_Ahead: 'NoneType' object has no attribute 'find_parent'\n"
          ]
        },
        {
          "output_type": "stream",
          "name": "stderr",
          "text": [
            "3038it [14:36,  2.97it/s]"
          ]
        },
        {
          "output_type": "stream",
          "name": "stdout",
          "text": [
            "Error processing https://en.wikipedia.org/wiki/Whitney_(2018_film): 'NoneType' object has no attribute 'find_parent'\n"
          ]
        },
        {
          "output_type": "stream",
          "name": "stderr",
          "text": [
            "3043it [14:37,  3.48it/s]"
          ]
        },
        {
          "output_type": "stream",
          "name": "stdout",
          "text": [
            "Error processing https://en.wikipedia.org/wiki/Shock_and_Awe_(film): 'NoneType' object has no attribute 'find_parent'\n"
          ]
        },
        {
          "output_type": "stream",
          "name": "stderr",
          "text": [
            "3079it [14:47,  4.24it/s]"
          ]
        },
        {
          "output_type": "stream",
          "name": "stdout",
          "text": [
            "Error processing https://en.wikipedia.org/wiki/Reprisal_(film): 'NoneType' object has no attribute 'find_parent'\n"
          ]
        },
        {
          "output_type": "stream",
          "name": "stderr",
          "text": [
            "3088it [14:50,  4.47it/s]"
          ]
        },
        {
          "output_type": "stream",
          "name": "stdout",
          "text": [
            "Error processing https://en.wikipedia.org/wiki/Unbroken:_Path_to_Redemption: 'NoneType' object has no attribute 'find_parent'\n"
          ]
        },
        {
          "output_type": "stream",
          "name": "stderr",
          "text": [
            "3095it [14:52,  3.91it/s]"
          ]
        },
        {
          "output_type": "stream",
          "name": "stdout",
          "text": [
            "Error processing https://en.wikipedia.org/wiki/Fahrenheit_11/9: 'NoneType' object has no attribute 'find_parent'\n"
          ]
        },
        {
          "output_type": "stream",
          "name": "stderr",
          "text": [
            "3103it [14:54,  3.07it/s]"
          ]
        },
        {
          "output_type": "stream",
          "name": "stdout",
          "text": [
            "Error processing https://en.wikipedia.org/wiki/Love,_Gilda: 'NoneType' object has no attribute 'find_parent'\n",
            "Error processing https://en.wikipedia.org/wiki/The_Great_Buster:_A_Celebration: 'NoneType' object has no attribute 'find_parent'\n"
          ]
        },
        {
          "output_type": "stream",
          "name": "stderr",
          "text": [
            "3121it [15:00,  2.92it/s]"
          ]
        },
        {
          "output_type": "stream",
          "name": "stdout",
          "text": [
            "Error processing https://en.wikipedia.org/wiki/Indivisible_(2018_film): 'NoneType' object has no attribute 'find_parent'\n"
          ]
        },
        {
          "output_type": "stream",
          "name": "stderr",
          "text": [
            "3164it [15:14,  3.53it/s]"
          ]
        },
        {
          "output_type": "stream",
          "name": "stdout",
          "text": [
            "Error processing https://en.wikipedia.org/wiki/American_Hangman: 'NoneType' object has no attribute 'find_parent'\n"
          ]
        },
        {
          "output_type": "stream",
          "name": "stderr",
          "text": [
            "3202it [15:24,  4.10it/s]"
          ]
        },
        {
          "output_type": "stream",
          "name": "stdout",
          "text": [
            "Error processing https://en.wikipedia.org/wiki/Red_11: 'NoneType' object has no attribute 'find_parent'\n"
          ]
        },
        {
          "output_type": "stream",
          "name": "stderr",
          "text": [
            "3235it [15:34,  3.91it/s]"
          ]
        },
        {
          "output_type": "stream",
          "name": "stdout",
          "text": [
            "Error processing https://en.wikipedia.org/wiki/Body_at_Brighton_Rock: 'NoneType' object has no attribute 'find_parent'\n"
          ]
        },
        {
          "output_type": "stream",
          "name": "stderr",
          "text": [
            "3321it [15:59,  4.76it/s]"
          ]
        },
        {
          "output_type": "stream",
          "name": "stdout",
          "text": [
            "Error processing https://en.wikipedia.org/wiki/The_Obituary_of_Tunde_Johnson: 'NoneType' object has no attribute 'find_parent'\n"
          ]
        },
        {
          "output_type": "stream",
          "name": "stderr",
          "text": [
            "3324it [15:59,  3.77it/s]"
          ]
        },
        {
          "output_type": "stream",
          "name": "stdout",
          "text": [
            "Error processing https://en.wikipedia.org/wiki/The_Sound_of_Silence_(2019_film): 'NoneType' object has no attribute 'find_parent'\n"
          ]
        },
        {
          "output_type": "stream",
          "name": "stderr",
          "text": [
            "3343it [16:05,  3.11it/s]"
          ]
        },
        {
          "output_type": "stream",
          "name": "stdout",
          "text": [
            "Error processing https://en.wikipedia.org/wiki/Wrinkles_the_Clown_(film): 'NoneType' object has no attribute 'find_parent'\n"
          ]
        },
        {
          "output_type": "stream",
          "name": "stderr",
          "text": [
            "3391it [16:21,  3.34it/s]"
          ]
        },
        {
          "output_type": "stream",
          "name": "stdout",
          "text": [
            "Error processing https://en.wikipedia.org/wiki/A_Million_Little_Pieces_(film): 'NoneType' object has no attribute 'find_parent'\n"
          ]
        },
        {
          "output_type": "stream",
          "name": "stderr",
          "text": [
            "\r3392it [16:21,  3.75it/s]"
          ]
        },
        {
          "output_type": "stream",
          "name": "stdout",
          "text": [
            "Error processing https://en.wikipedia.org/wiki/Trauma_Center_(film): 'NoneType' object has no attribute 'find_parent'\n"
          ]
        },
        {
          "output_type": "stream",
          "name": "stderr",
          "text": [
            "3416it [16:28,  4.81it/s]"
          ]
        },
        {
          "output_type": "stream",
          "name": "stdout",
          "text": [
            "Error processing https://en.wikipedia.org/wiki/The_Murder_of_Nicole_Brown_Simpson: 'NoneType' object has no attribute 'find_parent'\n"
          ]
        },
        {
          "output_type": "stream",
          "name": "stderr",
          "text": [
            "3452it [16:38,  3.63it/s]"
          ]
        },
        {
          "output_type": "stream",
          "name": "stdout",
          "text": [
            "Error processing https://en.wikipedia.org/wiki/The_Burnt_Orange_Heresy: 'NoneType' object has no attribute 'find_parent'\n"
          ]
        },
        {
          "output_type": "stream",
          "name": "stderr",
          "text": [
            "3458it [16:40,  4.09it/s]"
          ]
        },
        {
          "output_type": "stream",
          "name": "stdout",
          "text": [
            "Error processing https://en.wikipedia.org/wiki/Lost_Girls_(film): 'NoneType' object has no attribute 'find_parent'\n"
          ]
        },
        {
          "output_type": "stream",
          "name": "stderr",
          "text": [
            "3464it [16:42,  2.45it/s]"
          ]
        },
        {
          "output_type": "stream",
          "name": "stdout",
          "text": [
            "Error processing https://en.wikipedia.org/wiki/Impact_of_the_COVID-19_pandemic_on_cinema: 'NoneType' object has no attribute 'find_parent'\n"
          ]
        },
        {
          "output_type": "stream",
          "name": "stderr",
          "text": [
            "3478it [16:46,  4.05it/s]"
          ]
        },
        {
          "output_type": "stream",
          "name": "stdout",
          "text": [
            "Error processing https://en.wikipedia.org/wiki/Braking_for_Whales: 'NoneType' object has no attribute 'find_parent'\n"
          ]
        },
        {
          "output_type": "stream",
          "name": "stderr",
          "text": [
            "3510it [16:53,  4.54it/s]"
          ]
        },
        {
          "output_type": "stream",
          "name": "stdout",
          "text": [
            "Error processing https://en.wikipedia.org/wiki/Athlete_A: 'NoneType' object has no attribute 'find_parent'\n"
          ]
        },
        {
          "output_type": "stream",
          "name": "stderr",
          "text": [
            "3515it [16:55,  3.07it/s]"
          ]
        },
        {
          "output_type": "stream",
          "name": "stdout",
          "text": [
            "Error processing https://en.wikipedia.org/wiki/Hamilton_(2020_film): 'NoneType' object has no attribute 'find_parent'\n"
          ]
        },
        {
          "output_type": "stream",
          "name": "stderr",
          "text": [
            "3540it [17:02,  3.89it/s]"
          ]
        },
        {
          "output_type": "stream",
          "name": "stdout",
          "text": [
            "Error processing https://en.wikipedia.org/wiki/Boys_State_(film): 'NoneType' object has no attribute 'find_parent'\n"
          ]
        },
        {
          "output_type": "stream",
          "name": "stderr",
          "text": [
            "3567it [17:10,  3.94it/s]"
          ]
        },
        {
          "output_type": "stream",
          "name": "stdout",
          "text": [
            "Error processing https://en.wikipedia.org/wiki/I_Met_a_Girl_(film): 'NoneType' object has no attribute 'find_parent'\n"
          ]
        },
        {
          "output_type": "stream",
          "name": "stderr",
          "text": [
            "3579it [17:13,  4.22it/s]"
          ]
        },
        {
          "output_type": "stream",
          "name": "stdout",
          "text": [
            "Error processing https://en.wikipedia.org/wiki/The_Last_Shift: 'NoneType' object has no attribute 'find_parent'\n"
          ]
        },
        {
          "output_type": "stream",
          "name": "stderr",
          "text": [
            "3589it [17:15,  4.43it/s]"
          ]
        },
        {
          "output_type": "stream",
          "name": "stdout",
          "text": [
            "Error processing https://en.wikipedia.org/wiki/Death_of_Me_(film): 'NoneType' object has no attribute 'find_parent'\n"
          ]
        },
        {
          "output_type": "stream",
          "name": "stderr",
          "text": [
            "3591it [17:15,  4.64it/s]"
          ]
        },
        {
          "output_type": "stream",
          "name": "stdout",
          "text": [
            "Error processing https://en.wikipedia.org/wiki/The_Call_(2020_American_film): 'NoneType' object has no attribute 'find_parent'\n"
          ]
        },
        {
          "output_type": "stream",
          "name": "stderr",
          "text": [
            "3595it [17:16,  3.62it/s]"
          ]
        },
        {
          "output_type": "stream",
          "name": "stdout",
          "text": [
            "Error processing https://en.wikipedia.org/wiki/Books_of_Blood_(film): 'NoneType' object has no attribute 'find_parent'\n"
          ]
        },
        {
          "output_type": "stream",
          "name": "stderr",
          "text": [
            "3599it [17:17,  4.21it/s]"
          ]
        },
        {
          "output_type": "stream",
          "name": "stdout",
          "text": [
            "Error processing https://en.wikipedia.org/wiki/Yellow_Rose_(2019_film): 'NoneType' object has no attribute 'find_parent'\n"
          ]
        },
        {
          "output_type": "stream",
          "name": "stderr",
          "text": [
            "3611it [17:20,  4.94it/s]"
          ]
        },
        {
          "output_type": "stream",
          "name": "stdout",
          "text": [
            "Error processing https://en.wikipedia.org/wiki/The_Opening_Act: 'NoneType' object has no attribute 'find_parent'\n"
          ]
        },
        {
          "output_type": "stream",
          "name": "stderr",
          "text": [
            "3650it [17:31,  3.37it/s]"
          ]
        },
        {
          "output_type": "stream",
          "name": "stdout",
          "text": [
            "Error processing https://en.wikipedia.org/wiki/Folklore:_The_Long_Pond_Studio_Sessions: 'NoneType' object has no attribute 'find_parent'\n"
          ]
        },
        {
          "output_type": "stream",
          "name": "stderr",
          "text": [
            "3667it [17:35,  3.58it/s]"
          ]
        },
        {
          "output_type": "stream",
          "name": "stdout",
          "text": [
            "Error processing https://en.wikipedia.org/wiki/Archenemy_(film): 'NoneType' object has no attribute 'find_parent'\n"
          ]
        },
        {
          "output_type": "stream",
          "name": "stderr",
          "text": [
            "3675it [17:37,  4.57it/s]"
          ]
        },
        {
          "output_type": "stream",
          "name": "stdout",
          "text": [
            "Error processing https://en.wikipedia.org/wiki/Ariana_Grande:_Excuse_Me,_I_Love_You: 'NoneType' object has no attribute 'find_parent'\n"
          ]
        },
        {
          "output_type": "stream",
          "name": "stderr",
          "text": [
            "3686it [17:41,  3.37it/s]"
          ]
        },
        {
          "output_type": "stream",
          "name": "stdout",
          "text": [
            "Error processing https://en.wikipedia.org/wiki/Dr._Bird%27s_Advice_for_Sad_Poets: 'NoneType' object has no attribute 'find_parent'\n"
          ]
        },
        {
          "output_type": "stream",
          "name": "stderr",
          "text": [
            "3706it [17:46,  4.02it/s]"
          ]
        },
        {
          "output_type": "stream",
          "name": "stdout",
          "text": [
            "Error processing https://en.wikipedia.org/wiki/Falling_(2020_film): 'NoneType' object has no attribute 'find_parent'\n"
          ]
        },
        {
          "output_type": "stream",
          "name": "stderr",
          "text": [
            "\r3707it [17:46,  4.29it/s]"
          ]
        },
        {
          "output_type": "stream",
          "name": "stdout",
          "text": [
            "Error processing https://en.wikipedia.org/wiki/Little_Fish_(2021_film): 'NoneType' object has no attribute 'find_parent'\n"
          ]
        },
        {
          "output_type": "stream",
          "name": "stderr",
          "text": [
            "3730it [17:53,  3.51it/s]"
          ]
        },
        {
          "output_type": "stream",
          "name": "stdout",
          "text": [
            "Error processing https://en.wikipedia.org/wiki/Billie_Eilish:_The_World%27s_a_Little_Blurry: 'NoneType' object has no attribute 'find_parent'\n"
          ]
        },
        {
          "output_type": "stream",
          "name": "stderr",
          "text": [
            "3738it [17:55,  3.65it/s]"
          ]
        },
        {
          "output_type": "stream",
          "name": "stdout",
          "text": [
            "Error processing https://en.wikipedia.org/wiki/Boogie_(2021_film): 'NoneType' object has no attribute 'find_parent'\n"
          ]
        },
        {
          "output_type": "stream",
          "name": "stderr",
          "text": [
            "3746it [17:58,  3.41it/s]"
          ]
        },
        {
          "output_type": "stream",
          "name": "stdout",
          "text": [
            "Error processing https://en.wikipedia.org/wiki/Happily_(film): 'NoneType' object has no attribute 'find_parent'\n"
          ]
        },
        {
          "output_type": "stream",
          "name": "stderr",
          "text": [
            "3750it [17:58,  4.42it/s]"
          ]
        },
        {
          "output_type": "stream",
          "name": "stdout",
          "text": [
            "Error processing https://en.wikipedia.org/wiki/The_Seventh_Day_(2021_film): 'NoneType' object has no attribute 'find_parent'\n"
          ]
        },
        {
          "output_type": "stream",
          "name": "stderr",
          "text": [
            "3759it [18:01,  4.12it/s]"
          ]
        },
        {
          "output_type": "stream",
          "name": "stdout",
          "text": [
            "Error processing https://en.wikipedia.org/wiki/Dawn_of_the_Beast: 'NoneType' object has no attribute 'find_parent'\n"
          ]
        },
        {
          "output_type": "stream",
          "name": "stderr",
          "text": [
            "3771it [18:04,  4.72it/s]"
          ]
        },
        {
          "output_type": "stream",
          "name": "stdout",
          "text": [
            "Error processing https://en.wikipedia.org/wiki/The_Deep_Ones: 'NoneType' object has no attribute 'find_parent'\n"
          ]
        },
        {
          "output_type": "stream",
          "name": "stderr",
          "text": [
            "3774it [18:05,  3.64it/s]"
          ]
        },
        {
          "output_type": "stream",
          "name": "stdout",
          "text": [
            "Error processing https://en.wikipedia.org/wiki/The_Virtuoso_(film): 'NoneType' object has no attribute 'find_parent'\n"
          ]
        },
        {
          "output_type": "stream",
          "name": "stderr",
          "text": [
            "3779it [18:06,  4.57it/s]"
          ]
        },
        {
          "output_type": "stream",
          "name": "stdout",
          "text": [
            "Error processing https://en.wikipedia.org/wiki/Monster_(2018_film): 'NoneType' object has no attribute 'find_parent'\n"
          ]
        },
        {
          "output_type": "stream",
          "name": "stderr",
          "text": [
            "\r3780it [18:06,  4.41it/s]"
          ]
        },
        {
          "output_type": "stream",
          "name": "stdout",
          "text": [
            "Error processing https://en.wikipedia.org/wiki/The_Paper_Tigers: 'NoneType' object has no attribute 'find_parent'\n"
          ]
        },
        {
          "output_type": "stream",
          "name": "stderr",
          "text": [
            "3795it [18:10,  4.65it/s]"
          ]
        },
        {
          "output_type": "stream",
          "name": "stdout",
          "text": [
            "Error processing https://en.wikipedia.org/wiki/616_Wilford_Lane: 'NoneType' object has no attribute 'find_parent'\n"
          ]
        },
        {
          "output_type": "stream",
          "name": "stderr",
          "text": [
            "3798it [18:11,  5.00it/s]"
          ]
        },
        {
          "output_type": "stream",
          "name": "stdout",
          "text": [
            "Error processing https://en.wikipedia.org/wiki/Blast_Beat_(film): 'NoneType' object has no attribute 'find_parent'\n"
          ]
        },
        {
          "output_type": "stream",
          "name": "stderr",
          "text": [
            "3806it [18:13,  4.09it/s]"
          ]
        },
        {
          "output_type": "stream",
          "name": "stdout",
          "text": [
            "Error processing https://en.wikipedia.org/wiki/Under_the_Stadium_Lights: 'NoneType' object has no attribute 'find_parent'\n"
          ]
        },
        {
          "output_type": "stream",
          "name": "stderr",
          "text": [
            "3820it [18:17,  4.31it/s]"
          ]
        },
        {
          "output_type": "stream",
          "name": "stdout",
          "text": [
            "Error processing https://en.wikipedia.org/wiki/The_Birthday_Cake_(film): 'NoneType' object has no attribute 'find_parent'\n",
            "Error processing https://en.wikipedia.org/wiki/Rita_Moreno:_Just_a_Girl_Who_Decided_to_Go_for_It: 'NoneType' object has no attribute 'find_parent'\n"
          ]
        },
        {
          "output_type": "stream",
          "name": "stderr",
          "text": [
            "3822it [18:18,  3.83it/s]"
          ]
        },
        {
          "output_type": "stream",
          "name": "stdout",
          "text": [
            "Error processing https://en.wikipedia.org/wiki/The_Sparks_Brothers: 'NoneType' object has no attribute 'find_parent'\n",
            "Error processing https://en.wikipedia.org/wiki/Love_Spreads_(film): 'NoneType' object has no attribute 'find_parent'\n"
          ]
        },
        {
          "output_type": "stream",
          "name": "stderr",
          "text": [
            "3824it [18:18,  4.46it/s]"
          ]
        },
        {
          "output_type": "stream",
          "name": "stdout",
          "text": [
            "Error processing https://en.wikipedia.org/wiki/A_Crime_on_the_Bayou: 'NoneType' object has no attribute 'find_parent'\n"
          ]
        },
        {
          "output_type": "stream",
          "name": "stderr",
          "text": [
            "3830it [18:20,  4.36it/s]"
          ]
        },
        {
          "output_type": "stream",
          "name": "stdout",
          "text": [
            "Error processing https://en.wikipedia.org/wiki/I_Carry_You_with_Me: 'NoneType' object has no attribute 'find_parent'\n"
          ]
        },
        {
          "output_type": "stream",
          "name": "stderr",
          "text": [
            "\r3831it [18:20,  4.51it/s]"
          ]
        },
        {
          "output_type": "stream",
          "name": "stdout",
          "text": [
            "Error processing https://en.wikipedia.org/wiki/Mary_J._Blige%27s_My_Life: 'NoneType' object has no attribute 'find_parent'\n"
          ]
        },
        {
          "output_type": "stream",
          "name": "stderr",
          "text": [
            "\r3832it [18:20,  3.54it/s]"
          ]
        },
        {
          "output_type": "stream",
          "name": "stdout",
          "text": [
            "Error processing https://en.wikipedia.org/wiki/Fathom_(2021_film): 'NoneType' object has no attribute 'find_parent'\n"
          ]
        },
        {
          "output_type": "stream",
          "name": "stderr",
          "text": [
            "3840it [18:23,  2.92it/s]"
          ]
        },
        {
          "output_type": "stream",
          "name": "stdout",
          "text": [
            "Error processing https://en.wikipedia.org/wiki/Summer_of_Soul: 'NoneType' object has no attribute 'find_parent'\n"
          ]
        },
        {
          "output_type": "stream",
          "name": "stderr",
          "text": [
            "3845it [18:24,  3.25it/s]"
          ]
        },
        {
          "output_type": "stream",
          "name": "stdout",
          "text": [
            "Error processing https://en.wikipedia.org/wiki/Summertime_(2020_film): 'NoneType' object has no attribute 'find_parent'\n"
          ]
        },
        {
          "output_type": "stream",
          "name": "stderr",
          "text": [
            "3853it [18:27,  3.00it/s]"
          ]
        },
        {
          "output_type": "stream",
          "name": "stdout",
          "text": [
            "Error processing https://en.wikipedia.org/wiki/Roadrunner:_A_Film_About_Anthony_Bourdain: 'NoneType' object has no attribute 'find_parent'\n"
          ]
        },
        {
          "output_type": "stream",
          "name": "stderr",
          "text": [
            "\r3854it [18:28,  3.31it/s]"
          ]
        },
        {
          "output_type": "stream",
          "name": "stdout",
          "text": [
            "Error processing https://en.wikipedia.org/wiki/How_It_Ends_(2021_film): 'NoneType' object has no attribute 'find_parent'\n"
          ]
        },
        {
          "output_type": "stream",
          "name": "stderr",
          "text": [
            "3862it [18:30,  4.39it/s]"
          ]
        },
        {
          "output_type": "stream",
          "name": "stdout",
          "text": [
            "Error processing https://en.wikipedia.org/wiki/Broken_Diamonds: 'NoneType' object has no attribute 'find_parent'\n",
            "Error processing https://en.wikipedia.org/wiki/Val_(film): 'NoneType' object has no attribute 'find_parent'\n"
          ]
        },
        {
          "output_type": "stream",
          "name": "stderr",
          "text": [
            "\r3863it [18:30,  4.59it/s]"
          ]
        },
        {
          "output_type": "stream",
          "name": "stdout",
          "text": [
            "Error processing https://en.wikipedia.org/wiki/Ailey_(film): 'NoneType' object has no attribute 'find_parent'\n"
          ]
        },
        {
          "output_type": "stream",
          "name": "stderr",
          "text": [
            "3871it [18:32,  4.56it/s]"
          ]
        },
        {
          "output_type": "stream",
          "name": "stdout",
          "text": [
            "Error processing https://en.wikipedia.org/wiki/Lorelei_(film): 'NoneType' object has no attribute 'find_parent'\n",
            "Error processing https://en.wikipedia.org/wiki/Enemies_of_the_State: 'NoneType' object has no attribute 'find_parent'\n"
          ]
        },
        {
          "output_type": "stream",
          "name": "stderr",
          "text": [
            "3877it [18:34,  4.10it/s]"
          ]
        },
        {
          "output_type": "stream",
          "name": "stdout",
          "text": [
            "Error processing https://en.wikipedia.org/wiki/Playing_God_(2021_film): 'NoneType' object has no attribute 'find_parent'\n"
          ]
        },
        {
          "output_type": "stream",
          "name": "stderr",
          "text": [
            "3879it [18:34,  4.56it/s]"
          ]
        },
        {
          "output_type": "stream",
          "name": "stdout",
          "text": [
            "Error processing https://en.wikipedia.org/wiki/Homeroom_(2021_film): 'NoneType' object has no attribute 'find_parent'\n"
          ]
        },
        {
          "output_type": "stream",
          "name": "stderr",
          "text": [
            "3885it [18:36,  3.81it/s]"
          ]
        },
        {
          "output_type": "stream",
          "name": "stdout",
          "text": [
            "Error processing https://en.wikipedia.org/wiki/Not_Going_Quietly: 'NoneType' object has no attribute 'find_parent'\n"
          ]
        },
        {
          "output_type": "stream",
          "name": "stderr",
          "text": [
            "3892it [18:38,  4.06it/s]"
          ]
        },
        {
          "output_type": "stream",
          "name": "stdout",
          "text": [
            "Error processing https://en.wikipedia.org/wiki/Flag_Day_(film): 'NoneType' object has no attribute 'find_parent'\n"
          ]
        },
        {
          "output_type": "stream",
          "name": "stderr",
          "text": [
            "\r3893it [18:38,  4.27it/s]"
          ]
        },
        {
          "output_type": "stream",
          "name": "stdout",
          "text": [
            "Error processing https://en.wikipedia.org/wiki/Habit_(2021_film): 'NoneType' object has no attribute 'find_parent'\n"
          ]
        },
        {
          "output_type": "stream",
          "name": "stderr",
          "text": [
            "3921it [18:45,  5.10it/s]"
          ]
        },
        {
          "output_type": "stream",
          "name": "stdout",
          "text": [
            "Error processing https://en.wikipedia.org/wiki/Dating_and_New_York: 'NoneType' object has no attribute 'find_parent'\n"
          ]
        },
        {
          "output_type": "stream",
          "name": "stderr",
          "text": [
            "3933it [18:48,  4.78it/s]"
          ]
        },
        {
          "output_type": "stream",
          "name": "stdout",
          "text": [
            "Error processing https://en.wikipedia.org/wiki/My_Name_is_Pauli_Murray: 'NoneType' object has no attribute 'find_parent'\n"
          ]
        },
        {
          "output_type": "stream",
          "name": "stderr",
          "text": [
            "3935it [18:49,  4.93it/s]"
          ]
        },
        {
          "output_type": "stream",
          "name": "stdout",
          "text": [
            "Error processing https://en.wikipedia.org/wiki/The_Killing_of_Kenneth_Chamberlain: 'NoneType' object has no attribute 'find_parent'\n"
          ]
        },
        {
          "output_type": "stream",
          "name": "stderr",
          "text": [
            "3947it [18:52,  4.15it/s]"
          ]
        },
        {
          "output_type": "stream",
          "name": "stdout",
          "text": [
            "Error processing https://en.wikipedia.org/wiki/The_Jesus_Music: 'NoneType' object has no attribute 'find_parent'\n"
          ]
        },
        {
          "output_type": "stream",
          "name": "stderr",
          "text": [
            "3957it [18:55,  4.51it/s]"
          ]
        },
        {
          "output_type": "stream",
          "name": "stdout",
          "text": [
            "Error processing https://en.wikipedia.org/wiki/Justin_Bieber:_Our_World: 'NoneType' object has no attribute 'find_parent'\n"
          ]
        },
        {
          "output_type": "stream",
          "name": "stderr",
          "text": [
            "3962it [18:56,  4.44it/s]"
          ]
        },
        {
          "output_type": "stream",
          "name": "stdout",
          "text": [
            "Error processing https://en.wikipedia.org/wiki/Hard_Luck_Love_Song: 'NoneType' object has no attribute 'find_parent'\n",
            "Error processing https://en.wikipedia.org/wiki/Introducing,_Selma_Blair: 'NoneType' object has no attribute 'find_parent'\n"
          ]
        },
        {
          "output_type": "stream",
          "name": "stderr",
          "text": [
            "3964it [18:57,  4.40it/s]"
          ]
        },
        {
          "output_type": "stream",
          "name": "stdout",
          "text": [
            "Error processing https://en.wikipedia.org/wiki/The_Velvet_Underground_(film): 'NoneType' object has no attribute 'find_parent'\n"
          ]
        },
        {
          "output_type": "stream",
          "name": "stderr",
          "text": [
            "3970it [18:59,  3.36it/s]"
          ]
        },
        {
          "output_type": "stream",
          "name": "stdout",
          "text": [
            "Error processing https://en.wikipedia.org/wiki/Warning_(2021_film): 'NoneType' object has no attribute 'find_parent'\n"
          ]
        },
        {
          "output_type": "stream",
          "name": "stderr",
          "text": [
            "3980it [19:01,  4.27it/s]"
          ]
        },
        {
          "output_type": "stream",
          "name": "stdout",
          "text": [
            "Error processing https://en.wikipedia.org/wiki/Heart_of_Champions: 'NoneType' object has no attribute 'find_parent'\n"
          ]
        },
        {
          "output_type": "stream",
          "name": "stderr",
          "text": [
            "4015it [19:12,  4.23it/s]"
          ]
        },
        {
          "output_type": "stream",
          "name": "stdout",
          "text": [
            "Error processing https://en.wikipedia.org/wiki/Deadlock_(2021_film): 'NoneType' object has no attribute 'find_parent'\n"
          ]
        },
        {
          "output_type": "stream",
          "name": "stderr",
          "text": [
            "4037it [19:20,  3.48it/s]"
          ]
        },
        {
          "output_type": "stream",
          "name": "stdout",
          "text": [
            "3503\n"
          ]
        },
        {
          "output_type": "stream",
          "name": "stderr",
          "text": [
            "\n"
          ]
        }
      ]
    },
    {
      "cell_type": "code",
      "source": [
        "from google.colab import drive\n",
        "drive.mount('/content/drive')"
      ],
      "metadata": {
        "colab": {
          "base_uri": "https://localhost:8080/"
        },
        "id": "CiBgpUz7hMqR",
        "outputId": "c221cdfa-55ce-456a-a733-2504e47c3862"
      },
      "execution_count": null,
      "outputs": [
        {
          "output_type": "stream",
          "name": "stdout",
          "text": [
            "Drive already mounted at /content/drive; to attempt to forcibly remount, call drive.mount(\"/content/drive\", force_remount=True).\n"
          ]
        }
      ]
    },
    {
      "cell_type": "code",
      "source": [
        "movie_plot_paths = \"/content/drive/MyDrive/NLP/American_movie_plots_2005_2021_v1.csv\""
      ],
      "metadata": {
        "id": "N_wRhiudpRuG"
      },
      "execution_count": null,
      "outputs": []
    },
    {
      "cell_type": "code",
      "source": [
        "import pandas as pd\n",
        "df = pd.DataFrame(final_data, columns= [\"Movie Name\", \"Wiki link\", \"Plot\"])\n",
        "df.head(10)"
      ],
      "metadata": {
        "colab": {
          "base_uri": "https://localhost:8080/",
          "height": 363
        },
        "id": "CIyG1g3zhXdV",
        "outputId": "87f5eb4c-0dfc-434d-d802-384f19a33b32"
      },
      "execution_count": null,
      "outputs": [
        {
          "output_type": "execute_result",
          "data": {
            "text/plain": [
              "                         Movie Name  \\\n",
              "0                       White Noise   \n",
              "1                      Coach Carter   \n",
              "2                           Elektra   \n",
              "3                    Racing Stripes   \n",
              "4  Tom and Jerry: Blast Off to Mars   \n",
              "5                 Are We There Yet?   \n",
              "6          The Phantom of the Opera   \n",
              "7                 Alone in the Dark   \n",
              "8                     Hide and Seek   \n",
              "9                          Mulan II   \n",
              "\n",
              "                                           Wiki link  \\\n",
              "0  https://en.wikipedia.org/wiki/White_Noise_(200...   \n",
              "1         https://en.wikipedia.org/wiki/Coach_Carter   \n",
              "2  https://en.wikipedia.org/wiki/Elektra_(2005_film)   \n",
              "3       https://en.wikipedia.org/wiki/Racing_Stripes   \n",
              "4  https://en.wikipedia.org/wiki/Tom_and_Jerry:_B...   \n",
              "5  https://en.wikipedia.org/wiki/Are_We_There_Yet...   \n",
              "6  https://en.wikipedia.org/wiki/The_Phantom_of_t...   \n",
              "7  https://en.wikipedia.org/wiki/Alone_in_the_Dar...   \n",
              "8  https://en.wikipedia.org/wiki/Hide_and_Seek_(2...   \n",
              "9             https://en.wikipedia.org/wiki/Mulan_II   \n",
              "\n",
              "                                                Plot  \n",
              "0  Jonathan Rivers is an architect, married to hi...  \n",
              "1  In Richmond, California, Ken Carter becomes th...  \n",
              "2  After being killed,[a] Elektra Natchios is rev...  \n",
              "3  During a thunderstorm, a traveling circus, Cir...  \n",
              "4  Tom chases Jerry as usual from their house and...  \n",
              "5  In Portland, Lindsey and Kevin Kingston are tw...  \n",
              "6  In 1919, a public auction is held to clear a d...  \n",
              "7  Edward Carnby, a paranormal investigator, has ...  \n",
              "8  Following his discovery of the body of his wif...  \n",
              "9  One month after defeating the Huns,[b] Mushu e...  "
            ],
            "text/html": [
              "\n",
              "  <div id=\"df-601c324d-d4e2-43f7-9767-5cc9e7f05992\" class=\"colab-df-container\">\n",
              "    <div>\n",
              "<style scoped>\n",
              "    .dataframe tbody tr th:only-of-type {\n",
              "        vertical-align: middle;\n",
              "    }\n",
              "\n",
              "    .dataframe tbody tr th {\n",
              "        vertical-align: top;\n",
              "    }\n",
              "\n",
              "    .dataframe thead th {\n",
              "        text-align: right;\n",
              "    }\n",
              "</style>\n",
              "<table border=\"1\" class=\"dataframe\">\n",
              "  <thead>\n",
              "    <tr style=\"text-align: right;\">\n",
              "      <th></th>\n",
              "      <th>Movie Name</th>\n",
              "      <th>Wiki link</th>\n",
              "      <th>Plot</th>\n",
              "    </tr>\n",
              "  </thead>\n",
              "  <tbody>\n",
              "    <tr>\n",
              "      <th>0</th>\n",
              "      <td>White Noise</td>\n",
              "      <td>https://en.wikipedia.org/wiki/White_Noise_(200...</td>\n",
              "      <td>Jonathan Rivers is an architect, married to hi...</td>\n",
              "    </tr>\n",
              "    <tr>\n",
              "      <th>1</th>\n",
              "      <td>Coach Carter</td>\n",
              "      <td>https://en.wikipedia.org/wiki/Coach_Carter</td>\n",
              "      <td>In Richmond, California, Ken Carter becomes th...</td>\n",
              "    </tr>\n",
              "    <tr>\n",
              "      <th>2</th>\n",
              "      <td>Elektra</td>\n",
              "      <td>https://en.wikipedia.org/wiki/Elektra_(2005_film)</td>\n",
              "      <td>After being killed,[a] Elektra Natchios is rev...</td>\n",
              "    </tr>\n",
              "    <tr>\n",
              "      <th>3</th>\n",
              "      <td>Racing Stripes</td>\n",
              "      <td>https://en.wikipedia.org/wiki/Racing_Stripes</td>\n",
              "      <td>During a thunderstorm, a traveling circus, Cir...</td>\n",
              "    </tr>\n",
              "    <tr>\n",
              "      <th>4</th>\n",
              "      <td>Tom and Jerry: Blast Off to Mars</td>\n",
              "      <td>https://en.wikipedia.org/wiki/Tom_and_Jerry:_B...</td>\n",
              "      <td>Tom chases Jerry as usual from their house and...</td>\n",
              "    </tr>\n",
              "    <tr>\n",
              "      <th>5</th>\n",
              "      <td>Are We There Yet?</td>\n",
              "      <td>https://en.wikipedia.org/wiki/Are_We_There_Yet...</td>\n",
              "      <td>In Portland, Lindsey and Kevin Kingston are tw...</td>\n",
              "    </tr>\n",
              "    <tr>\n",
              "      <th>6</th>\n",
              "      <td>The Phantom of the Opera</td>\n",
              "      <td>https://en.wikipedia.org/wiki/The_Phantom_of_t...</td>\n",
              "      <td>In 1919, a public auction is held to clear a d...</td>\n",
              "    </tr>\n",
              "    <tr>\n",
              "      <th>7</th>\n",
              "      <td>Alone in the Dark</td>\n",
              "      <td>https://en.wikipedia.org/wiki/Alone_in_the_Dar...</td>\n",
              "      <td>Edward Carnby, a paranormal investigator, has ...</td>\n",
              "    </tr>\n",
              "    <tr>\n",
              "      <th>8</th>\n",
              "      <td>Hide and Seek</td>\n",
              "      <td>https://en.wikipedia.org/wiki/Hide_and_Seek_(2...</td>\n",
              "      <td>Following his discovery of the body of his wif...</td>\n",
              "    </tr>\n",
              "    <tr>\n",
              "      <th>9</th>\n",
              "      <td>Mulan II</td>\n",
              "      <td>https://en.wikipedia.org/wiki/Mulan_II</td>\n",
              "      <td>One month after defeating the Huns,[b] Mushu e...</td>\n",
              "    </tr>\n",
              "  </tbody>\n",
              "</table>\n",
              "</div>\n",
              "    <div class=\"colab-df-buttons\">\n",
              "\n",
              "  <div class=\"colab-df-container\">\n",
              "    <button class=\"colab-df-convert\" onclick=\"convertToInteractive('df-601c324d-d4e2-43f7-9767-5cc9e7f05992')\"\n",
              "            title=\"Convert this dataframe to an interactive table.\"\n",
              "            style=\"display:none;\">\n",
              "\n",
              "  <svg xmlns=\"http://www.w3.org/2000/svg\" height=\"24px\" viewBox=\"0 -960 960 960\">\n",
              "    <path d=\"M120-120v-720h720v720H120Zm60-500h600v-160H180v160Zm220 220h160v-160H400v160Zm0 220h160v-160H400v160ZM180-400h160v-160H180v160Zm440 0h160v-160H620v160ZM180-180h160v-160H180v160Zm440 0h160v-160H620v160Z\"/>\n",
              "  </svg>\n",
              "    </button>\n",
              "\n",
              "  <style>\n",
              "    .colab-df-container {\n",
              "      display:flex;\n",
              "      gap: 12px;\n",
              "    }\n",
              "\n",
              "    .colab-df-convert {\n",
              "      background-color: #E8F0FE;\n",
              "      border: none;\n",
              "      border-radius: 50%;\n",
              "      cursor: pointer;\n",
              "      display: none;\n",
              "      fill: #1967D2;\n",
              "      height: 32px;\n",
              "      padding: 0 0 0 0;\n",
              "      width: 32px;\n",
              "    }\n",
              "\n",
              "    .colab-df-convert:hover {\n",
              "      background-color: #E2EBFA;\n",
              "      box-shadow: 0px 1px 2px rgba(60, 64, 67, 0.3), 0px 1px 3px 1px rgba(60, 64, 67, 0.15);\n",
              "      fill: #174EA6;\n",
              "    }\n",
              "\n",
              "    .colab-df-buttons div {\n",
              "      margin-bottom: 4px;\n",
              "    }\n",
              "\n",
              "    [theme=dark] .colab-df-convert {\n",
              "      background-color: #3B4455;\n",
              "      fill: #D2E3FC;\n",
              "    }\n",
              "\n",
              "    [theme=dark] .colab-df-convert:hover {\n",
              "      background-color: #434B5C;\n",
              "      box-shadow: 0px 1px 3px 1px rgba(0, 0, 0, 0.15);\n",
              "      filter: drop-shadow(0px 1px 2px rgba(0, 0, 0, 0.3));\n",
              "      fill: #FFFFFF;\n",
              "    }\n",
              "  </style>\n",
              "\n",
              "    <script>\n",
              "      const buttonEl =\n",
              "        document.querySelector('#df-601c324d-d4e2-43f7-9767-5cc9e7f05992 button.colab-df-convert');\n",
              "      buttonEl.style.display =\n",
              "        google.colab.kernel.accessAllowed ? 'block' : 'none';\n",
              "\n",
              "      async function convertToInteractive(key) {\n",
              "        const element = document.querySelector('#df-601c324d-d4e2-43f7-9767-5cc9e7f05992');\n",
              "        const dataTable =\n",
              "          await google.colab.kernel.invokeFunction('convertToInteractive',\n",
              "                                                    [key], {});\n",
              "        if (!dataTable) return;\n",
              "\n",
              "        const docLinkHtml = 'Like what you see? Visit the ' +\n",
              "          '<a target=\"_blank\" href=https://colab.research.google.com/notebooks/data_table.ipynb>data table notebook</a>'\n",
              "          + ' to learn more about interactive tables.';\n",
              "        element.innerHTML = '';\n",
              "        dataTable['output_type'] = 'display_data';\n",
              "        await google.colab.output.renderOutput(dataTable, element);\n",
              "        const docLink = document.createElement('div');\n",
              "        docLink.innerHTML = docLinkHtml;\n",
              "        element.appendChild(docLink);\n",
              "      }\n",
              "    </script>\n",
              "  </div>\n",
              "\n",
              "\n",
              "<div id=\"df-9d728e80-2814-4bf5-9a09-07c59bd4cce4\">\n",
              "  <button class=\"colab-df-quickchart\" onclick=\"quickchart('df-9d728e80-2814-4bf5-9a09-07c59bd4cce4')\"\n",
              "            title=\"Suggest charts\"\n",
              "            style=\"display:none;\">\n",
              "\n",
              "<svg xmlns=\"http://www.w3.org/2000/svg\" height=\"24px\"viewBox=\"0 0 24 24\"\n",
              "     width=\"24px\">\n",
              "    <g>\n",
              "        <path d=\"M19 3H5c-1.1 0-2 .9-2 2v14c0 1.1.9 2 2 2h14c1.1 0 2-.9 2-2V5c0-1.1-.9-2-2-2zM9 17H7v-7h2v7zm4 0h-2V7h2v10zm4 0h-2v-4h2v4z\"/>\n",
              "    </g>\n",
              "</svg>\n",
              "  </button>\n",
              "\n",
              "<style>\n",
              "  .colab-df-quickchart {\n",
              "      --bg-color: #E8F0FE;\n",
              "      --fill-color: #1967D2;\n",
              "      --hover-bg-color: #E2EBFA;\n",
              "      --hover-fill-color: #174EA6;\n",
              "      --disabled-fill-color: #AAA;\n",
              "      --disabled-bg-color: #DDD;\n",
              "  }\n",
              "\n",
              "  [theme=dark] .colab-df-quickchart {\n",
              "      --bg-color: #3B4455;\n",
              "      --fill-color: #D2E3FC;\n",
              "      --hover-bg-color: #434B5C;\n",
              "      --hover-fill-color: #FFFFFF;\n",
              "      --disabled-bg-color: #3B4455;\n",
              "      --disabled-fill-color: #666;\n",
              "  }\n",
              "\n",
              "  .colab-df-quickchart {\n",
              "    background-color: var(--bg-color);\n",
              "    border: none;\n",
              "    border-radius: 50%;\n",
              "    cursor: pointer;\n",
              "    display: none;\n",
              "    fill: var(--fill-color);\n",
              "    height: 32px;\n",
              "    padding: 0;\n",
              "    width: 32px;\n",
              "  }\n",
              "\n",
              "  .colab-df-quickchart:hover {\n",
              "    background-color: var(--hover-bg-color);\n",
              "    box-shadow: 0 1px 2px rgba(60, 64, 67, 0.3), 0 1px 3px 1px rgba(60, 64, 67, 0.15);\n",
              "    fill: var(--button-hover-fill-color);\n",
              "  }\n",
              "\n",
              "  .colab-df-quickchart-complete:disabled,\n",
              "  .colab-df-quickchart-complete:disabled:hover {\n",
              "    background-color: var(--disabled-bg-color);\n",
              "    fill: var(--disabled-fill-color);\n",
              "    box-shadow: none;\n",
              "  }\n",
              "\n",
              "  .colab-df-spinner {\n",
              "    border: 2px solid var(--fill-color);\n",
              "    border-color: transparent;\n",
              "    border-bottom-color: var(--fill-color);\n",
              "    animation:\n",
              "      spin 1s steps(1) infinite;\n",
              "  }\n",
              "\n",
              "  @keyframes spin {\n",
              "    0% {\n",
              "      border-color: transparent;\n",
              "      border-bottom-color: var(--fill-color);\n",
              "      border-left-color: var(--fill-color);\n",
              "    }\n",
              "    20% {\n",
              "      border-color: transparent;\n",
              "      border-left-color: var(--fill-color);\n",
              "      border-top-color: var(--fill-color);\n",
              "    }\n",
              "    30% {\n",
              "      border-color: transparent;\n",
              "      border-left-color: var(--fill-color);\n",
              "      border-top-color: var(--fill-color);\n",
              "      border-right-color: var(--fill-color);\n",
              "    }\n",
              "    40% {\n",
              "      border-color: transparent;\n",
              "      border-right-color: var(--fill-color);\n",
              "      border-top-color: var(--fill-color);\n",
              "    }\n",
              "    60% {\n",
              "      border-color: transparent;\n",
              "      border-right-color: var(--fill-color);\n",
              "    }\n",
              "    80% {\n",
              "      border-color: transparent;\n",
              "      border-right-color: var(--fill-color);\n",
              "      border-bottom-color: var(--fill-color);\n",
              "    }\n",
              "    90% {\n",
              "      border-color: transparent;\n",
              "      border-bottom-color: var(--fill-color);\n",
              "    }\n",
              "  }\n",
              "</style>\n",
              "\n",
              "  <script>\n",
              "    async function quickchart(key) {\n",
              "      const quickchartButtonEl =\n",
              "        document.querySelector('#' + key + ' button');\n",
              "      quickchartButtonEl.disabled = true;  // To prevent multiple clicks.\n",
              "      quickchartButtonEl.classList.add('colab-df-spinner');\n",
              "      try {\n",
              "        const charts = await google.colab.kernel.invokeFunction(\n",
              "            'suggestCharts', [key], {});\n",
              "      } catch (error) {\n",
              "        console.error('Error during call to suggestCharts:', error);\n",
              "      }\n",
              "      quickchartButtonEl.classList.remove('colab-df-spinner');\n",
              "      quickchartButtonEl.classList.add('colab-df-quickchart-complete');\n",
              "    }\n",
              "    (() => {\n",
              "      let quickchartButtonEl =\n",
              "        document.querySelector('#df-9d728e80-2814-4bf5-9a09-07c59bd4cce4 button');\n",
              "      quickchartButtonEl.style.display =\n",
              "        google.colab.kernel.accessAllowed ? 'block' : 'none';\n",
              "    })();\n",
              "  </script>\n",
              "</div>\n",
              "\n",
              "    </div>\n",
              "  </div>\n"
            ],
            "application/vnd.google.colaboratory.intrinsic+json": {
              "type": "dataframe",
              "variable_name": "df",
              "summary": "{\n  \"name\": \"df\",\n  \"rows\": 3503,\n  \"fields\": [\n    {\n      \"column\": \"Movie Name\",\n      \"properties\": {\n        \"dtype\": \"string\",\n        \"num_unique_values\": 3471,\n        \"samples\": [\n          \"Bless Me, Ultima\",\n          \"The Aeronauts\",\n          \"Jessabelle\"\n        ],\n        \"semantic_type\": \"\",\n        \"description\": \"\"\n      }\n    },\n    {\n      \"column\": \"Wiki link\",\n      \"properties\": {\n        \"dtype\": \"string\",\n        \"num_unique_values\": 3493,\n        \"samples\": [\n          \"https://en.wikipedia.org/wiki/Camp_X-Ray_(film)\",\n          \"https://en.wikipedia.org/wiki/The_Loud_House_Movie\",\n          \"https://en.wikipedia.org/wiki/Papillon_(2017_film)\"\n        ],\n        \"semantic_type\": \"\",\n        \"description\": \"\"\n      }\n    },\n    {\n      \"column\": \"Plot\",\n      \"properties\": {\n        \"dtype\": \"string\",\n        \"num_unique_values\": 3492,\n        \"samples\": [\n          \"The Namesake depicts the struggles of Ashoke and Ashima Ganguli, first-generation immigrants from the state of West Bengal to the United States, and their American-born children Gogol and Sonia. The film takes place primarily in Kolkata, New York City, and suburbs of New York City.\\n\\nThe story begins as Ashoke and Ashima leave Calcutta and settle in New York City. Through a series of miscues, their son's nickname, Gogol (named after Russian author Nikolai Gogol), becomes his official birth name, an event which will shape many aspects of his life. The story chronicles Gogol's cross-cultural experiences[6] and his exploration of his Bengali heritage, as the story primarily shifts between the United States and Kolkata.\\n\\nGogol becomes a lazy, pot-smoking teenager who is indifferent to his cultural background. He resents many of the customs and traditions his family upholds and doesn't understand his parents. After an eight month long trip to India before starting college at Yale, Gogol starts opening up to his culture and becomes more accepting of it.\\n\\nShortly after his eighteenth birthday, much to his parents' annoyance, Gogol legally changes his name to \\\"Nikhil\\\", (the name he had supposedly refused to be addressed by when he was in kindergarten). In college, Gogol uses his \\\"good name\\\" Nikhil (later shortened to Nick). He works as an architect and dates Maxine, a white American woman from a wealthy background, who is clueless about their cultural differences. Gogol introduces her to his parents, who struggle to understand his modern, American perspectives on dating, marriage and love. They are hesitant and guarded when meeting her. Gogol gets along with Maxine's family and feels closer to them than he does his own family.\\n\\nBefore he goes to Ohio for a teaching apprenticeship, Ashoke tells Gogol the story of a nearly fatal train accident that he had suffered years ago back in India and how he came up with his name. Shortly after, while Gogol is on vacation with Maxine's family, Ashoke dies. Grieving, Gogol tries to be more like what he thinks his parents want him to be and begins following cultural customs more closely. He grows distant from Maxine and eventually breaks up with her.\\n\\nGogol rekindles a friendship with Moushumi, the daughter of family friends. They begin dating and soon after get married. However, the marriage is short-lived as Moushumi, bored with being a wife, starts having an affair with an old boyfriend from Paris. Gogol divorces her, while Ashima blames herself for pressuring Gogol to marry a fellow Bengali. Gogol returns home to help Ashima pack the house when he finds the book (a collection of short stories by Nikolai Gogol) which Ashoke had gifted him on his fourteenth birthday. Searching for comfort, and accepting his new life alone, Gogol finally reads the stories written by his namesake on the train home.\\n\\nAs well as depicting Gogol/Nikhil's experiences, the film describes the courtship and marriage of Ashima and Ashoke, and the effect on the family from Ashoke's early death from a massive heart attack. Through experiencing his father's funeral rites on the banks of the Ganges, Gogol begins to appreciate Indian culture. Ashima's decision to move on with her life, selling the suburban family home and returning to Calcutta for part of each year, unifies and ends the story.\\n\\n\",\n          \"In New York City's Central Park, people begin committing mass suicide. The event is believed to be caused by a bio-terrorist attack using an airborne neurotoxin. The behavior quickly spreads across the Northeastern United States. High school science teacher Elliot Moore and his wife Alma are persuaded by Elliot's mathematician colleague Julian to accompany him and his daughter Jess on a train out of Philadelphia. During the trip, the group learns that Boston and Philadelphia have been affected. The train loses all radio contact and stops at a small town. When Julian learns that his wife has left Boston for Princeton, he decides to look for her and entrusts Jess to the Moores. However, Julian arrives to find Princeton has been affected, causing the driver of the car in which he is riding to ram into a tree. He survives but commits suicide by slitting his wrist with a glass shard.\\n\\nElliot, Alma, and Jess hitch a ride with a nurseryman and his wife. The nurseryman theorizes that plant life has developed a defense mechanism against humans consisting of an airborne toxin that stimulates neurotransmitters and causes humans to kill themselves. The group is later joined by other survivors coming from various directions, and the small crowd chooses to avoid roads and populated areas. When the larger part of the group is affected by the toxin, Elliot suggests the nurseryman was right and that the plants are targeting only large groups of people. He splits their group into smaller pockets and they walk along. The trio ends up with a pair of teenage boys, Josh and Jared, who are later shot and killed by the armed residents of a barricaded house.\\n\\nElliot, Alma and Jess wander the countryside and come upon the home of Mrs. Jones, an eccentric and paranoid elder. Jones initially agrees to house the group for the night but is suspicious of them having bad intentions; the next morning, she decides to expel them. In a fury, she leaves the house alone and is affected by the toxin. The shaken Elliot realizes that the plants are now targeting individuals. Left with no option when Mrs. Jones strikes her head into several windows, the trio chooses to die and embraces in the yard only to find themselves unaffected by the toxin. The outbreak has abated as quickly as it began.\\n\\nThree months later, Elliot and Alma have adjusted to their new life with Jess as their adopted daughter. Alma learns she is pregnant and surprises Elliot with the news. On television, an expert compares the natural event to a red tide and warns that the epidemic may have only been a harbinger of an impending global disaster. In Paris's Tuileries Gardens, people begin committing mass suicide.\\n\\n\",\n          \"Maya Dolittle thinks she doesn't have to spend 7 years in college to be a vet because she can talk to animals. While taking a walk with Lucky, she helps a cat on a tree by talking to it. She gets discovered and Tiffany Monaco, a Hollywood star, brings her to L.A. to help her little puppy, who turns out to be a male. Soon, Maya and Tiffany began creating their own show, The Animal Talkers. Maya also meets Brandon Booker who is her love interest. Maya soon finds out the show isn't about helping animals and goes back home to study being a vet. She also finds out Brandon is at her school too. Meanwhile, Monkey is out in L.A. searching for his big break but quits because he wants to help Maya.\\n\\n\"\n        ],\n        \"semantic_type\": \"\",\n        \"description\": \"\"\n      }\n    }\n  ]\n}"
            }
          },
          "metadata": {},
          "execution_count": 57
        }
      ]
    },
    {
      "cell_type": "code",
      "source": [
        "df.shape"
      ],
      "metadata": {
        "colab": {
          "base_uri": "https://localhost:8080/"
        },
        "id": "DnEhK-Xc2Dss",
        "outputId": "34ea0859-6ba1-4ea9-faeb-a1693ce6bce4"
      },
      "execution_count": null,
      "outputs": [
        {
          "output_type": "execute_result",
          "data": {
            "text/plain": [
              "(3503, 3)"
            ]
          },
          "metadata": {},
          "execution_count": 59
        }
      ]
    },
    {
      "cell_type": "code",
      "source": [
        "df.to_csv(movie_plot_paths)"
      ],
      "metadata": {
        "id": "71Pbuhukp0iM"
      },
      "execution_count": null,
      "outputs": []
    },
    {
      "cell_type": "code",
      "source": [],
      "metadata": {
        "id": "JEmnQ30H1Oxs"
      },
      "execution_count": null,
      "outputs": []
    }
  ]
}